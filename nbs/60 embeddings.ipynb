{
 "cells": [
  {
   "cell_type": "code",
   "execution_count": 65,
   "id": "1d58e6d6",
   "metadata": {},
   "outputs": [
    {
     "name": "stderr",
     "output_type": "stream",
     "text": [
      "[defaultlog:22:INFO]:logging started from /mnt/c/users/simon/onedrive/documents/py/live/pyutils/defaultlog.py (time=Jul-06 11:37 MainProcess)\n"
     ]
    },
    {
     "data": {
      "text/html": [
       "<style>audio{display:none}</style>"
      ],
      "text/plain": [
       "<IPython.core.display.HTML object>"
      ]
     },
     "metadata": {},
     "output_type": "display_data"
    },
    {
     "name": "stderr",
     "output_type": "stream",
     "text": [
      "Some weights of the model checkpoint at nbroad/ESG-BERT were not used when initializing BertModel: ['classifier.bias', 'classifier.weight']\n",
      "- This IS expected if you are initializing BertModel from the checkpoint of a model trained on another task or with another architecture (e.g. initializing a BertForSequenceClassification model from a BertForPreTraining model).\n",
      "- This IS NOT expected if you are initializing BertModel from the checkpoint of a model that you expect to be exactly identical (initializing a BertForSequenceClassification model from a BertForSequenceClassification model).\n"
     ]
    }
   ],
   "source": [
    "from ipstartup import *\n",
    "croot = \"c:\" if os.name==\"nt\" else \"/mnt/c\"\n",
    "droot = \"d:\" if os.name==\"nt\" else \"/mnt/d\"\n",
    "os.chdir(f\"{droot}/data1\")\n",
    "sys.path.append(f\"{croot}/Users/simon/OneDrive/Documents/py/live/slab\")\n",
    "############################################################################\n",
    "from transformers import pipeline\n",
    "import numpy as np\n",
    "import pandas as pd\n",
    "from sklearn.metrics.pairwise import cosine_similarity\n",
    "model = \"nbroad/ESG-BERT\"\n",
    "feature_extraction = pipeline('feature-extraction', model=model)"
   ]
  },
  {
   "cell_type": "code",
   "execution_count": 66,
   "id": "b10e7994",
   "metadata": {},
   "outputs": [
    {
     "name": "stderr",
     "output_type": "stream",
     "text": [
      "[cellevents:43:INFO]:starting (time=Jul-06 11:38 MainProcess)\n"
     ]
    },
    {
     "name": "stdout",
     "output_type": "stream",
     "text": [
      "time: 1.05 s\n"
     ]
    }
   ],
   "source": [
    "sents = pd.read_csv(\"Clean_sentences.csv\")\n",
    "sents = sents.Sentences.tolist()\n",
    "kpis = pd.read_excel(\"GRI KPI list.xlsx\", sheet_name=\"Generic KPI List\").KPI.tolist()"
   ]
  },
  {
   "cell_type": "code",
   "execution_count": 69,
   "id": "e119d1a9",
   "metadata": {},
   "outputs": [
    {
     "name": "stderr",
     "output_type": "stream",
     "text": [
      "[cellevents:43:INFO]:starting (time=Jul-06 11:39 MainProcess)\n"
     ]
    },
    {
     "name": "stdout",
     "output_type": "stream",
     "text": [
      "time: 2.91 ms\n"
     ]
    }
   ],
   "source": [
    "import re\n",
    "\n",
    "def get_ngrams(s, maxn=999):\n",
    "    s = s.lower()\n",
    "    s = re.sub(r'[^a-zA-Z0-9\\s]', ' ', s)\n",
    "    tokens = [token for token in s.split(\" \") if token != \"\"]\n",
    "    ngrams = []\n",
    "    for start in range(len(tokens)):\n",
    "        for end in range(start, len(tokens)):\n",
    "            if end+1-start > maxn:\n",
    "                break\n",
    "            ngram = \" \".join(tokens[start:end+1])\n",
    "            ngrams.append(ngram)\n",
    "    return list(set(ngrams))\n",
    "\n",
    "def get_feat(sents):\n",
    "    \"\"\" return list of sent*features\"\"\"\n",
    "    word_features = feature_extraction(sents)\n",
    "    sent_features = [np.array(x).mean(axis=1) for x in word_features]\n",
    "    features = [x[0] for x in sent_features]\n",
    "    return features"
   ]
  },
  {
   "cell_type": "code",
   "execution_count": 119,
   "id": "94d1b33c",
   "metadata": {},
   "outputs": [
    {
     "name": "stderr",
     "output_type": "stream",
     "text": [
      "[cellevents:43:INFO]:starting (time=Jul-06 12:05 MainProcess)\n"
     ]
    },
    {
     "name": "stdout",
     "output_type": "stream",
     "text": [
      "time: 4.05 s\n"
     ]
    }
   ],
   "source": [
    "kpi_feat = get_feat(kpis)"
   ]
  },
  {
   "cell_type": "markdown",
   "id": "aa5d85d0",
   "metadata": {},
   "source": [
    "# sentence embedding (mean)"
   ]
  },
  {
   "cell_type": "code",
   "execution_count": 155,
   "id": "c6f18c2d",
   "metadata": {},
   "outputs": [
    {
     "name": "stderr",
     "output_type": "stream",
     "text": [
      "[cellevents:43:INFO]:starting (time=Jul-06 15:59 MainProcess)\n"
     ]
    },
    {
     "data": {
      "application/vnd.jupyter.widget-view+json": {
       "model_id": "199ee9653d914e3baa63933f022c4e26",
       "version_major": 2,
       "version_minor": 0
      },
      "text/plain": [
       "  0%|          | 0/126 [00:00<?, ?it/s]"
      ]
     },
     "metadata": {},
     "output_type": "display_data"
    },
    {
     "name": "stdout",
     "output_type": "stream",
     "text": [
      "time: 20.5 s\n"
     ]
    }
   ],
   "source": [
    "best = []\n",
    "for i, sent in enumerate(tqdm(sents)):\n",
    "    sent_feat = get_feat([sent])\n",
    "    res = cosine_similarity(sent_feat, kpi_feat)\n",
    "    ix = np.unravel_index(res.argmax(), res.shape)\n",
    "    best.append([kpis[ix[1]], res.max()])\n",
    "sentdf = pd.DataFrame(best, index=sents, columns=[\"kpi\", \"score\"])\n",
    "sentdf.to_pickle(\"sentdf\")"
   ]
  },
  {
   "cell_type": "markdown",
   "id": "de607f96",
   "metadata": {},
   "source": [
    "# ngram embedding"
   ]
  },
  {
   "cell_type": "code",
   "execution_count": 135,
   "id": "dc09683d",
   "metadata": {},
   "outputs": [
    {
     "name": "stderr",
     "output_type": "stream",
     "text": [
      "[cellevents:43:INFO]:starting (time=Jul-06 12:36 MainProcess)\n"
     ]
    },
    {
     "data": {
      "application/vnd.jupyter.widget-view+json": {
       "model_id": "a69c295df5934fd983a25db34b025c16",
       "version_major": 2,
       "version_minor": 0
      },
      "text/plain": [
       "  0%|          | 0/126 [00:00<?, ?it/s]"
      ]
     },
     "metadata": {},
     "output_type": "display_data"
    },
    {
     "name": "stdout",
     "output_type": "stream",
     "text": [
      "time: 28min 23s\n"
     ]
    },
    {
     "data": {
      "text/html": [
       "\n",
       "                <audio  controls=\"controls\" autoplay=\"autoplay\">\n",
       "                    <source src=\"data:audio/wav;base64,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\" type=\"audio/wav\" />\n",
       "                    Your browser does not support the audio element.\n",
       "                </audio>\n",
       "              "
      ],
      "text/plain": [
       "<IPython.lib.display.Audio object>"
      ]
     },
     "metadata": {},
     "output_type": "display_data"
    },
    {
     "data": {
      "text/html": [
       "<style>audio{display:none}</style>"
      ],
      "text/plain": [
       "<IPython.core.display.HTML object>"
      ]
     },
     "metadata": {},
     "output_type": "display_data"
    }
   ],
   "source": [
    "best = []\n",
    "for i, sent in enumerate(tqdm(sents)):\n",
    "    ngrams = get_ngrams(sent, 5)\n",
    "    ngram_feat = get_feat(ngrams)\n",
    "    res = cosine_similarity(ngram_feat, kpi_feat)\n",
    "    ix = np.unravel_index(res.argmax(), res.shape)\n",
    "    best.append([ngrams[ix[0]], kpis[ix[1]], res.max()])"
   ]
  },
  {
   "cell_type": "code",
   "execution_count": 136,
   "id": "7ec9c59b",
   "metadata": {},
   "outputs": [
    {
     "name": "stderr",
     "output_type": "stream",
     "text": [
      "[cellevents:43:INFO]:starting (time=Jul-06 13:05 MainProcess)\n"
     ]
    },
    {
     "name": "stdout",
     "output_type": "stream",
     "text": [
      "time: 135 ms\n"
     ]
    }
   ],
   "source": [
    "ngramdf = pd.DataFrame(best, index=sents, columns=[\"ngram\", \"kpi\", \"score\"])\n",
    "ngramdf.to_pickle(\"ngramdf\")"
   ]
  },
  {
   "cell_type": "code",
   "execution_count": 140,
   "id": "95c37921",
   "metadata": {},
   "outputs": [
    {
     "name": "stderr",
     "output_type": "stream",
     "text": [
      "[cellevents:43:INFO]:starting (time=Jul-06 13:06 MainProcess)\n"
     ]
    },
    {
     "data": {
      "text/plain": [
       "<AxesSubplot:>"
      ]
     },
     "execution_count": 140,
     "metadata": {},
     "output_type": "execute_result"
    },
    {
     "data": {
      "image/png": "[encoded data removed]",
      "text/plain": [
       "<Figure size 432x288 with 1 Axes>"
      ]
     },
     "metadata": {
      "needs_background": "light"
     },
     "output_type": "display_data"
    },
    {
     "name": "stdout",
     "output_type": "stream",
     "text": [
      "time: 970 ms\n"
     ]
    }
   ],
   "source": [
    "ngramdf.score.hist()"
   ]
  },
  {
   "cell_type": "code",
   "execution_count": 144,
   "id": "6085a545",
   "metadata": {},
   "outputs": [
    {
     "name": "stderr",
     "output_type": "stream",
     "text": [
      "[cellevents:43:INFO]:starting (time=Jul-06 13:08 MainProcess)\n"
     ]
    },
    {
     "data": {
      "text/html": [
       "<div>\n",
       "<style scoped>\n",
       "    .dataframe tbody tr th:only-of-type {\n",
       "        vertical-align: middle;\n",
       "    }\n",
       "\n",
       "    .dataframe tbody tr th {\n",
       "        vertical-align: top;\n",
       "    }\n",
       "\n",
       "    .dataframe thead th {\n",
       "        text-align: right;\n",
       "    }\n",
       "</style>\n",
       "<table border=\"1\" class=\"dataframe\">\n",
       "  <thead>\n",
       "    <tr style=\"text-align: right;\">\n",
       "      <th></th>\n",
       "      <th>ngram</th>\n",
       "      <th>kpi</th>\n",
       "      <th>score</th>\n",
       "    </tr>\n",
       "  </thead>\n",
       "  <tbody>\n",
       "    <tr>\n",
       "      <th>to reduce our environmental footprint, we utilise 7d virtual design construction (vdc), system formwork and industrialised building system (ibs), all of which help to reduce construction waste**.</th>\n",
       "      <td>and industrialised building system</td>\n",
       "      <td>non-renewable materials</td>\n",
       "      <td>0.613924</td>\n",
       "    </tr>\n",
       "    <tr>\n",
       "      <th>taken together, these measures help us reduce the carbon_footprint of our glazed balconies by 30 percent -from 5,000 kg co, to 3,500 kg co,e-while also reducing the repayment period on the climate debt.</th>\n",
       "      <td>these measures help us reduce</td>\n",
       "      <td>community investments</td>\n",
       "      <td>0.633973</td>\n",
       "    </tr>\n",
       "    <tr>\n",
       "      <th>taking the tolerance values of the measuring system as a reference, it is estimated that they have managed to reduce the emission between 50% and 60%, which would be equivalent to more than 4,000 tonnes of co2.</th>\n",
       "      <td>a reference it is estimated</td>\n",
       "      <td>Corporate income tax</td>\n",
       "      <td>0.672083</td>\n",
       "    </tr>\n",
       "    <tr>\n",
       "      <th>tree planting can help cool down cities by as much as 15c depending on the latitude-a small tree of not more than four meters tall is able to provide about 6 kw of cooling.</th>\n",
       "      <td>about 6 kw of cooling</td>\n",
       "      <td>energy consumption</td>\n",
       "      <td>0.694526</td>\n",
       "    </tr>\n",
       "    <tr>\n",
       "      <th>instead of disposing of the oil after first use, we filter the used oil and use it for topping up, a:: transforming our portfolios to low-carbon sustainable cities which reduces the amount of new oil required.</th>\n",
       "      <td>and use it for topping</td>\n",
       "      <td>products purchased locally</td>\n",
       "      <td>0.697055</td>\n",
       "    </tr>\n",
       "    <tr>\n",
       "      <th>in fye 2020, it reduced steam use by 44%, equivalent to 1,089 metric tons of co,.</th>\n",
       "      <td>2020 it reduced steam use</td>\n",
       "      <td>energy consumption</td>\n",
       "      <td>0.751916</td>\n",
       "    </tr>\n",
       "    <tr>\n",
       "      <th>the initiative also demands footprint and yn sd th decentralises farming by ensuring every urban farm is within 5 km of the local_communities, reducing the food miles higher yield distance from farm to plate and eventually lowering consumers carbon_footprint.</th>\n",
       "      <td>local communities</td>\n",
       "      <td>human rights policies</td>\n",
       "      <td>0.752320</td>\n",
       "    </tr>\n",
       "    <tr>\n",
       "      <th>for the 2020-2024 period, the company has set itself the new challenge of increasing its installed capacity by nearly 50%, adding 5,000 renewable mw to its current figures.</th>\n",
       "      <td>renewable</td>\n",
       "      <td>renewable materials</td>\n",
       "      <td>0.764430</td>\n",
       "    </tr>\n",
       "    <tr>\n",
       "      <th>the amount of fossil-based electricity has been reduced by 91 percent since 2015.</th>\n",
       "      <td>amount of fossil based electricity</td>\n",
       "      <td>energy consumption</td>\n",
       "      <td>0.803722</td>\n",
       "    </tr>\n",
       "    <tr>\n",
       "      <th>our strategic partnership with goodfuels/wartsila led to our boskalis on bio program, which delivered a world first for us when our willem van oranje became the first dredging vessel in the world to operate on 100% bio-fuel oil, allowing a 90% carbon reduction.</th>\n",
       "      <td>fuel oil allowing a 90</td>\n",
       "      <td>fuel consumption</td>\n",
       "      <td>0.812367</td>\n",
       "    </tr>\n",
       "    <tr>\n",
       "      <th>saved 380k of fuel, which can be used by 8,640 dump trucks effectiveness reduced coz emission by 980t transporting earth dug out from the site and other materials resulted in significant decrease along with greater effective- ness in safety due to the decline in the number of rounds made by vehicles.</th>\n",
       "      <td>of fuel</td>\n",
       "      <td>fuel consumption</td>\n",
       "      <td>0.817711</td>\n",
       "    </tr>\n",
       "    <tr>\n",
       "      <th>electrolux science based target (sbt) scope_3 emission decreased by over 20% compared to_emissions in 2015.</th>\n",
       "      <td>emissions in 2015</td>\n",
       "      <td>GHG emissions</td>\n",
       "      <td>0.821043</td>\n",
       "    </tr>\n",
       "    <tr>\n",
       "      <th>key priorities and progress 2020 in 2020, electrolux launched the 'for the better 2030' sustainability framework, including the objective to make our business circular and climate neutral by 2030. this new target complements our science-based target to reduce our scope land 2_emissions by 80% between 2015 and 2025. read more about our climate targets.</th>\n",
       "      <td>our scope land 2 emissions</td>\n",
       "      <td>GHG emissions</td>\n",
       "      <td>0.828584</td>\n",
       "    </tr>\n",
       "    <tr>\n",
       "      <th>our performance to the end of 2019/20 as of 2019/20 absolute carbon_emissions were 8% lower than our 2010/11 baseline and despite significant growth in our business our carbon intensity/employee also reduced by 46%.</th>\n",
       "      <td>20 absolute carbon emissions</td>\n",
       "      <td>GHG emissions</td>\n",
       "      <td>0.835565</td>\n",
       "    </tr>\n",
       "    <tr>\n",
       "      <th>our zero landfill program has the objective to reduce the amount of waste sent to landfll or incinerated without energy recovery.</th>\n",
       "      <td>energy recovery</td>\n",
       "      <td>energy consumption</td>\n",
       "      <td>0.839029</td>\n",
       "    </tr>\n",
       "    <tr>\n",
       "      <th>we also converted to 100% renewable_energy at the lixil headquarters, kyoto showroom, and inax museums, achieving an annual carbon reduction of 2,000 metric tons.</th>\n",
       "      <td>converted to 100 renewable energy</td>\n",
       "      <td>energy consumption</td>\n",
       "      <td>0.840135</td>\n",
       "    </tr>\n",
       "    <tr>\n",
       "      <th>a forest plantation managed by new forests in australia our company-owned forests, mitsuis forests, absorb and fixate 160,000 tons of carbon dioxide annually it is estimated that the carbon dioxide absorbed and fixated by mitsuis forests amounts to approximately 160,000 tons per year, and co2 accumulation has reached approximately 10 million tons*'.</th>\n",
       "      <td>owned forests mitsuis forests</td>\n",
       "      <td>protected habitat areas</td>\n",
       "      <td>0.842291</td>\n",
       "    </tr>\n",
       "    <tr>\n",
       "      <th>340 locomotives hydroelectric power, accounted for approximately 14% of mitsuis total power generating capacity of locomotive leasing busirress europe 11.1gw, and we are aiming to increase the share held by renewable_energy to 30% by 2030. freight wagon transportation business brazil operating a railway network of approx.</th>\n",
       "      <td>energy to</td>\n",
       "      <td>energy consumption</td>\n",
       "      <td>0.858902</td>\n",
       "    </tr>\n",
       "    <tr>\n",
       "      <th>we also trialed selective catalytic reduction (scr); in 2021, partly as a result of this trial, we expect to be able to reduce nitrogen_emissions by nearly 90% by installing scr technology on two of our trailing suction hopper dredgers.</th>\n",
       "      <td>nitrogen emissions by</td>\n",
       "      <td>GHG emissions</td>\n",
       "      <td>0.865017</td>\n",
       "    </tr>\n",
       "    <tr>\n",
       "      <th>this helped reduce combined driving distance with partner companies by 55,200 kilometers annually, a 22.7% reduction in co,_emissions intensity per tonne-km.</th>\n",
       "      <td>co emissions</td>\n",
       "      <td>GHG emissions</td>\n",
       "      <td>0.865677</td>\n",
       "    </tr>\n",
       "    <tr>\n",
       "      <th>our grohe production plant in lahr, southwest germany, has replaced two inefficient boilers with a cogeneration system,* contributing to an annual co,_emissions reduction of 2,550 metric tons.</th>\n",
       "      <td>annual co emissions</td>\n",
       "      <td>GHG emissions</td>\n",
       "      <td>0.867491</td>\n",
       "    </tr>\n",
       "    <tr>\n",
       "      <th>this includes materials such as autoclaved aerated concrete, which is a lightweight, precast, foam concrete building material that helps reduce at least 30% in industrial waste, 50% in greenhouse radiation and over 60% of integrated energy on the surface of bricks.</th>\n",
       "      <td>in greenhouse radiation and over</td>\n",
       "      <td>GHG emissions</td>\n",
       "      <td>0.871584</td>\n",
       "    </tr>\n",
       "    <tr>\n",
       "      <th>our carbon_emissions across our fleet we saw co,_emissions reduce by 12% in 2020 compared to 2019. the total scope_1 and 2 co,_emissions of the group amounted to 0.97 million mt compared to 1.11 million mt in 2019 and 1.18 million mt in 2018.</th>\n",
       "      <td>co emissions of the</td>\n",
       "      <td>GHG emissions</td>\n",
       "      <td>0.872170</td>\n",
       "    </tr>\n",
       "    <tr>\n",
       "      <th>waste_reduction: 71,670 tons/year sugar cane residue (bagasse) from a sugar manufacturing business operated jointly by mitsui and mitsui sugar co. in thailand is used as fuel for biomass power generation, and the electric power is used for the operation of its plants with surplus electric power being sold, contributing to an increase in the use of renewable_energy in thailand.</th>\n",
       "      <td>use of renewable energy in</td>\n",
       "      <td>energy consumption</td>\n",
       "      <td>0.872657</td>\n",
       "    </tr>\n",
       "    <tr>\n",
       "      <th>in stages, we intend to lower coal-fired thermal power as a percentage of our equity share of power generation capacity and increase the percentage of renewable_energy, including hydropower, to 30% by 2030.</th>\n",
       "      <td>thermal power as a percentage</td>\n",
       "      <td>energy consumption</td>\n",
       "      <td>0.873793</td>\n",
       "    </tr>\n",
       "  </tbody>\n",
       "</table>\n",
       "</div>"
      ],
      "text/plain": [
       "                                                                                 ngram  \\\n",
       "to reduce our environmental footprint, we utili...  and industrialised building system   \n",
       "taken together, these measures help us reduce t...       these measures help us reduce   \n",
       "taking the tolerance values of the measuring sy...         a reference it is estimated   \n",
       "tree planting can help cool down cities by as m...               about 6 kw of cooling   \n",
       "instead of disposing of the oil after first use...              and use it for topping   \n",
       "in fye 2020, it reduced steam use by 44%, equiv...           2020 it reduced steam use   \n",
       "the initiative also demands footprint and yn sd...                   local communities   \n",
       "for the 2020-2024 period, the company has set i...                           renewable   \n",
       "the amount of fossil-based electricity has been...  amount of fossil based electricity   \n",
       "our strategic partnership with goodfuels/wartsi...              fuel oil allowing a 90   \n",
       "saved 380k of fuel, which can be used by 8,640 ...                             of fuel   \n",
       "electrolux science based target (sbt) scope_3 e...                   emissions in 2015   \n",
       "key priorities and progress 2020 in 2020, elect...          our scope land 2 emissions   \n",
       "our performance to the end of 2019/20 as of 201...        20 absolute carbon emissions   \n",
       "our zero landfill program has the objective to ...                     energy recovery   \n",
       "we also converted to 100% renewable_energy at t...   converted to 100 renewable energy   \n",
       "a forest plantation managed by new forests in a...       owned forests mitsuis forests   \n",
       "340 locomotives hydroelectric power, accounted ...                           energy to   \n",
       "we also trialed selective catalytic reduction (...               nitrogen emissions by   \n",
       "this helped reduce combined driving distance wi...                        co emissions   \n",
       "our grohe production plant in lahr, southwest g...                 annual co emissions   \n",
       "this includes materials such as autoclaved aera...    in greenhouse radiation and over   \n",
       "our carbon_emissions across our fleet we saw co...                 co emissions of the   \n",
       "waste_reduction: 71,670 tons/year sugar cane re...          use of renewable energy in   \n",
       "in stages, we intend to lower coal-fired therma...       thermal power as a percentage   \n",
       "\n",
       "                                                                           kpi  \\\n",
       "to reduce our environmental footprint, we utili...     non-renewable materials   \n",
       "taken together, these measures help us reduce t...       community investments   \n",
       "taking the tolerance values of the measuring sy...        Corporate income tax   \n",
       "tree planting can help cool down cities by as m...          energy consumption   \n",
       "instead of disposing of the oil after first use...  products purchased locally   \n",
       "in fye 2020, it reduced steam use by 44%, equiv...          energy consumption   \n",
       "the initiative also demands footprint and yn sd...       human rights policies   \n",
       "for the 2020-2024 period, the company has set i...         renewable materials   \n",
       "the amount of fossil-based electricity has been...          energy consumption   \n",
       "our strategic partnership with goodfuels/wartsi...            fuel consumption   \n",
       "saved 380k of fuel, which can be used by 8,640 ...            fuel consumption   \n",
       "electrolux science based target (sbt) scope_3 e...               GHG emissions   \n",
       "key priorities and progress 2020 in 2020, elect...               GHG emissions   \n",
       "our performance to the end of 2019/20 as of 201...               GHG emissions   \n",
       "our zero landfill program has the objective to ...          energy consumption   \n",
       "we also converted to 100% renewable_energy at t...          energy consumption   \n",
       "a forest plantation managed by new forests in a...     protected habitat areas   \n",
       "340 locomotives hydroelectric power, accounted ...          energy consumption   \n",
       "we also trialed selective catalytic reduction (...               GHG emissions   \n",
       "this helped reduce combined driving distance wi...               GHG emissions   \n",
       "our grohe production plant in lahr, southwest g...               GHG emissions   \n",
       "this includes materials such as autoclaved aera...               GHG emissions   \n",
       "our carbon_emissions across our fleet we saw co...               GHG emissions   \n",
       "waste_reduction: 71,670 tons/year sugar cane re...          energy consumption   \n",
       "in stages, we intend to lower coal-fired therma...          energy consumption   \n",
       "\n",
       "                                                       score  \n",
       "to reduce our environmental footprint, we utili...  0.613924  \n",
       "taken together, these measures help us reduce t...  0.633973  \n",
       "taking the tolerance values of the measuring sy...  0.672083  \n",
       "tree planting can help cool down cities by as m...  0.694526  \n",
       "instead of disposing of the oil after first use...  0.697055  \n",
       "in fye 2020, it reduced steam use by 44%, equiv...  0.751916  \n",
       "the initiative also demands footprint and yn sd...  0.752320  \n",
       "for the 2020-2024 period, the company has set i...  0.764430  \n",
       "the amount of fossil-based electricity has been...  0.803722  \n",
       "our strategic partnership with goodfuels/wartsi...  0.812367  \n",
       "saved 380k of fuel, which can be used by 8,640 ...  0.817711  \n",
       "electrolux science based target (sbt) scope_3 e...  0.821043  \n",
       "key priorities and progress 2020 in 2020, elect...  0.828584  \n",
       "our performance to the end of 2019/20 as of 201...  0.835565  \n",
       "our zero landfill program has the objective to ...  0.839029  \n",
       "we also converted to 100% renewable_energy at t...  0.840135  \n",
       "a forest plantation managed by new forests in a...  0.842291  \n",
       "340 locomotives hydroelectric power, accounted ...  0.858902  \n",
       "we also trialed selective catalytic reduction (...  0.865017  \n",
       "this helped reduce combined driving distance wi...  0.865677  \n",
       "our grohe production plant in lahr, southwest g...  0.867491  \n",
       "this includes materials such as autoclaved aera...  0.871584  \n",
       "our carbon_emissions across our fleet we saw co...  0.872170  \n",
       "waste_reduction: 71,670 tons/year sugar cane re...  0.872657  \n",
       "in stages, we intend to lower coal-fired therma...  0.873793  "
      ]
     },
     "execution_count": 144,
     "metadata": {},
     "output_type": "execute_result"
    },
    {
     "name": "stdout",
     "output_type": "stream",
     "text": [
      "time: 27.4 ms\n"
     ]
    }
   ],
   "source": [
    "ngramdf.sort_values(\"score\")[:25]"
   ]
  },
  {
   "cell_type": "code",
   "execution_count": 166,
   "id": "a6cf7e85",
   "metadata": {},
   "outputs": [
    {
     "name": "stderr",
     "output_type": "stream",
     "text": [
      "[cellevents:43:INFO]:starting (time=Jul-06 16:08 MainProcess)\n"
     ]
    },
    {
     "data": {
      "text/html": [
       "<div>\n",
       "<style scoped>\n",
       "    .dataframe tbody tr th:only-of-type {\n",
       "        vertical-align: middle;\n",
       "    }\n",
       "\n",
       "    .dataframe tbody tr th {\n",
       "        vertical-align: top;\n",
       "    }\n",
       "\n",
       "    .dataframe thead th {\n",
       "        text-align: right;\n",
       "    }\n",
       "</style>\n",
       "<table border=\"1\" class=\"dataframe\">\n",
       "  <thead>\n",
       "    <tr style=\"text-align: right;\">\n",
       "      <th></th>\n",
       "      <th>ngram</th>\n",
       "      <th>kpi</th>\n",
       "      <th>kpi_sent</th>\n",
       "      <th>score</th>\n",
       "      <th>score_sent</th>\n",
       "    </tr>\n",
       "  </thead>\n",
       "  <tbody>\n",
       "    <tr>\n",
       "      <th>62.2% use of electricity from renewable_sources achieved and total energy consumption from fossil fuel sources reduced by 86% compared to 2017.</th>\n",
       "      <td>energy consumption</td>\n",
       "      <td>energy consumption</td>\n",
       "      <td>energy consumption</td>\n",
       "      <td>1.000000</td>\n",
       "      <td>0.896014</td>\n",
       "    </tr>\n",
       "    <tr>\n",
       "      <th>at present, the energy expenditure has been reduced by 15%.</th>\n",
       "      <td>energy expenditure has been reduced</td>\n",
       "      <td>energy consumption</td>\n",
       "      <td>energy consumption</td>\n",
       "      <td>0.886369</td>\n",
       "      <td>0.820542</td>\n",
       "    </tr>\n",
       "    <tr>\n",
       "      <th>170 business leaders call on eu decision-makers to support a greenhouse gas (ghg) emissions reduction target of at least 55% by 2030.</th>\n",
       "      <td>ghg emissions</td>\n",
       "      <td>GHG emissions</td>\n",
       "      <td>GHG emissions</td>\n",
       "      <td>1.000000</td>\n",
       "      <td>0.911156</td>\n",
       "    </tr>\n",
       "    <tr>\n",
       "      <th>taking the tolerance values of the measuring system as a reference, it is estimated that they have managed to reduce the emission between 50% and 60%, which would be equivalent to more than 4,000 tonnes of co2.</th>\n",
       "      <td>a reference it is estimated</td>\n",
       "      <td>Corporate income tax</td>\n",
       "      <td>GHG emissions</td>\n",
       "      <td>0.672083</td>\n",
       "      <td>0.450366</td>\n",
       "    </tr>\n",
       "    <tr>\n",
       "      <th>with the help of energy management, the division aims to reduce energy consumption by 1000 mwh compared to the 2020 financial year.</th>\n",
       "      <td>energy consumption</td>\n",
       "      <td>energy consumption</td>\n",
       "      <td>energy consumption</td>\n",
       "      <td>1.000000</td>\n",
       "      <td>0.891604</td>\n",
       "    </tr>\n",
       "    <tr>\n",
       "      <th>...</th>\n",
       "      <td>...</td>\n",
       "      <td>...</td>\n",
       "      <td>...</td>\n",
       "      <td>...</td>\n",
       "      <td>...</td>\n",
       "    </tr>\n",
       "    <tr>\n",
       "      <th>a forest plantation managed by new forests in australia our company-owned forests, mitsuis forests, absorb and fixate 160,000 tons of carbon dioxide annually it is estimated that the carbon dioxide absorbed and fixated by mitsuis forests amounts to approximately 160,000 tons per year, and co2 accumulation has reached approximately 10 million tons*'.</th>\n",
       "      <td>owned forests mitsuis forests</td>\n",
       "      <td>protected habitat areas</td>\n",
       "      <td>GHG emissions</td>\n",
       "      <td>0.842291</td>\n",
       "      <td>0.602311</td>\n",
       "    </tr>\n",
       "    <tr>\n",
       "      <th>waste_reduction, recycling business initiatives relating to a circular economy 3r design, reduce our partner gestamp automocidn s.a. contributes to energy_efficiency improvement of vehicles on a global basis by designing and supplying light weight parts that are 100% recyclable.</th>\n",
       "      <td>energy efficiency</td>\n",
       "      <td>energy consumption</td>\n",
       "      <td>non-renewable materials</td>\n",
       "      <td>0.942913</td>\n",
       "      <td>0.660365</td>\n",
       "    </tr>\n",
       "    <tr>\n",
       "      <th>waste_reduction: 71,670 tons/year sugar cane residue (bagasse) from a sugar manufacturing business operated jointly by mitsui and mitsui sugar co. in thailand is used as fuel for biomass power generation, and the electric power is used for the operation of its plants with surplus electric power being sold, contributing to an increase in the use of renewable_energy in thailand.</th>\n",
       "      <td>use of renewable energy in</td>\n",
       "      <td>energy consumption</td>\n",
       "      <td>energy consumption</td>\n",
       "      <td>0.872657</td>\n",
       "      <td>0.667060</td>\n",
       "    </tr>\n",
       "    <tr>\n",
       "      <th>the amount of fossil-based electricity has been reduced by 91 percent since 2015.</th>\n",
       "      <td>amount of fossil based electricity</td>\n",
       "      <td>energy consumption</td>\n",
       "      <td>energy consumption</td>\n",
       "      <td>0.803722</td>\n",
       "      <td>0.765618</td>\n",
       "    </tr>\n",
       "    <tr>\n",
       "      <th>since 2015, use has been reduced by 26 percent, due largely to the continued conversion to biofuels in th ghg_emissions from nccs operations e swedish asphalt plants.</th>\n",
       "      <td>ghg emissions</td>\n",
       "      <td>GHG emissions</td>\n",
       "      <td>GHG emissions</td>\n",
       "      <td>1.000000</td>\n",
       "      <td>0.898126</td>\n",
       "    </tr>\n",
       "  </tbody>\n",
       "</table>\n",
       "<p>126 rows × 5 columns</p>\n",
       "</div>"
      ],
      "text/plain": [
       "                                                                                  ngram  \\\n",
       "62.2% use of electricity from renewable_sources...                   energy consumption   \n",
       "at present, the energy expenditure has been red...  energy expenditure has been reduced   \n",
       "170 business leaders call on eu decision-makers...                        ghg emissions   \n",
       "taking the tolerance values of the measuring sy...          a reference it is estimated   \n",
       "with the help of energy management, the divisio...                   energy consumption   \n",
       "...                                                                                 ...   \n",
       "a forest plantation managed by new forests in a...        owned forests mitsuis forests   \n",
       "waste_reduction, recycling business initiatives...                    energy efficiency   \n",
       "waste_reduction: 71,670 tons/year sugar cane re...           use of renewable energy in   \n",
       "the amount of fossil-based electricity has been...   amount of fossil based electricity   \n",
       "since 2015, use has been reduced by 26 percent,...                        ghg emissions   \n",
       "\n",
       "                                                                        kpi  \\\n",
       "62.2% use of electricity from renewable_sources...       energy consumption   \n",
       "at present, the energy expenditure has been red...       energy consumption   \n",
       "170 business leaders call on eu decision-makers...            GHG emissions   \n",
       "taking the tolerance values of the measuring sy...     Corporate income tax   \n",
       "with the help of energy management, the divisio...       energy consumption   \n",
       "...                                                                     ...   \n",
       "a forest plantation managed by new forests in a...  protected habitat areas   \n",
       "waste_reduction, recycling business initiatives...       energy consumption   \n",
       "waste_reduction: 71,670 tons/year sugar cane re...       energy consumption   \n",
       "the amount of fossil-based electricity has been...       energy consumption   \n",
       "since 2015, use has been reduced by 26 percent,...            GHG emissions   \n",
       "\n",
       "                                                                   kpi_sent  \\\n",
       "62.2% use of electricity from renewable_sources...       energy consumption   \n",
       "at present, the energy expenditure has been red...       energy consumption   \n",
       "170 business leaders call on eu decision-makers...            GHG emissions   \n",
       "taking the tolerance values of the measuring sy...            GHG emissions   \n",
       "with the help of energy management, the divisio...       energy consumption   \n",
       "...                                                                     ...   \n",
       "a forest plantation managed by new forests in a...            GHG emissions   \n",
       "waste_reduction, recycling business initiatives...  non-renewable materials   \n",
       "waste_reduction: 71,670 tons/year sugar cane re...       energy consumption   \n",
       "the amount of fossil-based electricity has been...       energy consumption   \n",
       "since 2015, use has been reduced by 26 percent,...            GHG emissions   \n",
       "\n",
       "                                                       score  score_sent  \n",
       "62.2% use of electricity from renewable_sources...  1.000000    0.896014  \n",
       "at present, the energy expenditure has been red...  0.886369    0.820542  \n",
       "170 business leaders call on eu decision-makers...  1.000000    0.911156  \n",
       "taking the tolerance values of the measuring sy...  0.672083    0.450366  \n",
       "with the help of energy management, the divisio...  1.000000    0.891604  \n",
       "...                                                      ...         ...  \n",
       "a forest plantation managed by new forests in a...  0.842291    0.602311  \n",
       "waste_reduction, recycling business initiatives...  0.942913    0.660365  \n",
       "waste_reduction: 71,670 tons/year sugar cane re...  0.872657    0.667060  \n",
       "the amount of fossil-based electricity has been...  0.803722    0.765618  \n",
       "since 2015, use has been reduced by 26 percent,...  1.000000    0.898126  \n",
       "\n",
       "[126 rows x 5 columns]"
      ]
     },
     "execution_count": 166,
     "metadata": {},
     "output_type": "execute_result"
    },
    {
     "name": "stdout",
     "output_type": "stream",
     "text": [
      "time: 98.9 ms\n"
     ]
    }
   ],
   "source": [
    "out = ngramdf.join(sentdf, rsuffix=\"_sent\")[[\"ngram\", \"kpi\", \"kpi_sent\", \"score\", \"score_sent\"]]\n",
    "out.to_excel(\"sent_ngram.xlsx\")\n",
    "out"
   ]
  },
  {
   "cell_type": "markdown",
   "id": "cd95b873",
   "metadata": {},
   "source": [
    "# multi-kpi per sentence"
   ]
  },
  {
   "cell_type": "code",
   "execution_count": 147,
   "id": "6cb93c1c",
   "metadata": {},
   "outputs": [
    {
     "name": "stderr",
     "output_type": "stream",
     "text": [
      "[cellevents:43:INFO]:starting (time=Jul-06 15:52 MainProcess)\n"
     ]
    },
    {
     "name": "stdout",
     "output_type": "stream",
     "text": [
      "time: 30.7 s\n"
     ]
    },
    {
     "data": {
      "text/html": [
       "\n",
       "                <audio  controls=\"controls\" autoplay=\"autoplay\">\n",
       "                    <source src=\"data:audio/wav;base64,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\" type=\"audio/wav\" />\n",
       "                    Your browser does not support the audio element.\n",
       "                </audio>\n",
       "              "
      ],
      "text/plain": [
       "<IPython.lib.display.Audio object>"
      ]
     },
     "metadata": {},
     "output_type": "display_data"
    },
    {
     "data": {
      "text/html": [
       "<style>audio{display:none}</style>"
      ],
      "text/plain": [
       "<IPython.core.display.HTML object>"
      ]
     },
     "metadata": {},
     "output_type": "display_data"
    }
   ],
   "source": [
    "res = cosine_similarity(get_feat(sents), get_feat(kpis))\n",
    "df = pd.DataFrame(res, index=sents, columns=kpis)"
   ]
  },
  {
   "cell_type": "code",
   "execution_count": null,
   "id": "bb935334",
   "metadata": {},
   "outputs": [],
   "source": [
    "df.index.name = \"sent\"\n",
    "df2 = sentdf.melt(ignore_index=False).reset_index()\n",
    "df2 = df2.sort_values(\"value\", ascending=False)\n",
    "df2 = df2.groupby(\"sent\").head(1)\n",
    "df2 = df2[df2.value>.5]\n",
    "df2 = df2.sort_values([\"sent\", \"value\"], ascending=False)\n",
    "df2 = df2.set_index(\"sent\")\n",
    "df2.columns = [\"kpi\", \"score\"]\n",
    "df2"
   ]
  },
  {
   "cell_type": "markdown",
   "id": "9e5cad85",
   "metadata": {},
   "source": [
    "# speed check"
   ]
  },
  {
   "cell_type": "code",
   "execution_count": null,
   "id": "e295631e",
   "metadata": {},
   "outputs": [],
   "source": [
    "### batching makes little difference to time. maybe does on gpu?"
   ]
  },
  {
   "cell_type": "code",
   "execution_count": 116,
   "id": "e2acd8fb",
   "metadata": {},
   "outputs": [
    {
     "name": "stderr",
     "output_type": "stream",
     "text": [
      "[cellevents:43:INFO]:starting (time=Jul-06 12:02 MainProcess)\n"
     ]
    },
    {
     "name": "stdout",
     "output_type": "stream",
     "text": [
      "time: 20.7 s\n"
     ]
    }
   ],
   "source": [
    "sent_feats = get_feat(sents)"
   ]
  },
  {
   "cell_type": "code",
   "execution_count": 118,
   "id": "e13656f9",
   "metadata": {},
   "outputs": [
    {
     "name": "stderr",
     "output_type": "stream",
     "text": [
      "[cellevents:43:INFO]:starting (time=Jul-06 12:03 MainProcess)\n"
     ]
    },
    {
     "name": "stdout",
     "output_type": "stream",
     "text": [
      "time: 18.4 s\n"
     ]
    }
   ],
   "source": [
    "sent_feats = []\n",
    "for sent in sents:\n",
    "    sent_feat = get_feat(sent)\n",
    "    sent_feats.append(sent_feat)"
   ]
  }
 ],
 "metadata": {
  "kernelspec": {
   "display_name": "Python 3",
   "language": "python",
   "name": "python3"
  },
  "language_info": {
   "codemirror_mode": {
    "name": "ipython",
    "version": 3
   },
   "file_extension": ".py",
   "mimetype": "text/x-python",
   "name": "python",
   "nbconvert_exporter": "python",
   "pygments_lexer": "ipython3",
   "version": "3.9.12"
  }
 },
 "nbformat": 4,
 "nbformat_minor": 5
}
