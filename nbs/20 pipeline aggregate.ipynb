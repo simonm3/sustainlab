{
 "cells": [
  {
   "cell_type": "code",
   "execution_count": 1,
   "id": "2b3b0b21",
   "metadata": {},
   "outputs": [
    {
     "name": "stderr",
     "output_type": "stream",
     "text": [
      "[defaultlog:22:INFO]:logging started from c:\\users\\simon\\onedrive\\documents\\py\\live\\pyutils\\defaultlog.py (time=Jun-29 16:53 MainProcess)\n"
     ]
    },
    {
     "data": {
      "text/html": [
       "<style>audio{display:none}</style>"
      ],
      "text/plain": [
       "<IPython.core.display.HTML object>"
      ]
     },
     "metadata": {},
     "output_type": "display_data"
    },
    {
     "name": "stderr",
     "output_type": "stream",
     "text": [
      "[__init__:19:WARNING]:prefect is disabled as PREFECT_DISABLED environment variable exists (time=Jun-29 16:53 MainProcess)\n"
     ]
    }
   ],
   "source": [
    "from ipstartup import *\n",
    "croot = \"c:\" if os.name==\"nt\" else \"/mnt/c\"\n",
    "droot = \"d:\" if os.name==\"nt\" else \"/mnt/d\"\n",
    "slab = f\"{croot}/Users/simon/OneDrive/Documents/py/live/slab\"\n",
    "data = f\"{droot}/data1\"\n",
    "sys.path.append(slab)\n",
    "os.makedirs(data, exist_ok=True)\n",
    "os.chdir(data)\n",
    "\n",
    "os.environ[\"PREFECT_DISABLED\"] = \"1\"\n",
    "from pipeline.tasks import *\n",
    "from pipeline.utils import *\n",
    "import spacy\n",
    "from spacy import displacy\n",
    "#log.setLevel(logging.DEBUG)"
   ]
  },
  {
   "cell_type": "code",
   "execution_count": 2,
   "id": "0fb28f16",
   "metadata": {},
   "outputs": [
    {
     "name": "stderr",
     "output_type": "stream",
     "text": [
      "[cellevents:43:INFO]:starting (time=Jun-29 16:53 MainProcess)\n"
     ]
    },
    {
     "name": "stdout",
     "output_type": "stream",
     "text": [
      "time: 1.94 s\n"
     ]
    }
   ],
   "source": [
    "# aggregate. save to hdf as colab won't read pickle\n",
    "files = glob(\"working/get_topics/*\")\n",
    "kwtopics = pd.concat([pd.read_pickle(f) for f in files])\n",
    "pickle.HIGHEST_PROTOCOL = 4\n",
    "kwtopics.to_hdf('working/kwtopics', 'df')"
   ]
  },
  {
   "cell_type": "code",
   "execution_count": 3,
   "id": "77618cc3",
   "metadata": {},
   "outputs": [
    {
     "name": "stderr",
     "output_type": "stream",
     "text": [
      "[cellevents:43:INFO]:starting (time=Jun-29 16:53 MainProcess)\n"
     ]
    },
    {
     "name": "stdout",
     "output_type": "stream",
     "text": [
      "time: 61.3 ms\n"
     ]
    }
   ],
   "source": [
    "# esg bert predictions\n",
    "df = pd.read_hdf('working/kwtopics')\n",
    "res = esg(df)"
   ]
  },
  {
   "cell_type": "code",
   "execution_count": null,
   "id": "effade0e",
   "metadata": {},
   "outputs": [],
   "source": []
  }
 ],
 "metadata": {
  "kernelspec": {
   "display_name": "Python 3",
   "language": "python",
   "name": "python3"
  },
  "language_info": {
   "codemirror_mode": {
    "name": "ipython",
    "version": 3
   },
   "file_extension": ".py",
   "mimetype": "text/x-python",
   "name": "python",
   "nbconvert_exporter": "python",
   "pygments_lexer": "ipython3",
   "version": "3.8.8"
  }
 },
 "nbformat": 4,
 "nbformat_minor": 5
}
