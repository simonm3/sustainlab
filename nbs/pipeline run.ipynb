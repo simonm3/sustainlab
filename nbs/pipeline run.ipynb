{
 "cells": [
  {
   "cell_type": "code",
   "execution_count": 4,
   "id": "6947baca",
   "metadata": {},
   "outputs": [
    {
     "name": "stderr",
     "output_type": "stream",
     "text": [
      "[cellevents:43:INFO]:starting (time=Jun-25 20:43 MainProcess)\n"
     ]
    },
    {
     "name": "stdout",
     "output_type": "stream",
     "text": [
      "time: 10.2 s\n"
     ]
    }
   ],
   "source": [
    "from ipstartup import *\n",
    "import logging\n",
    "import sys\n",
    "import os\n",
    "from glob import glob\n",
    "slab = \"/mnt/c/Users/simon/OneDrive/Documents/py/live/slab\"\n",
    "sys.path.append(slab)\n",
    "from pipeline.flows import *\n",
    "from pipeline.utils import decrypt_all\n",
    "\n",
    "path = \"/mnt/d/data1\"\n",
    "os.makedirs(path, exist_ok=True)\n",
    "os.chdir(path)"
   ]
  },
  {
   "cell_type": "code",
   "execution_count": 5,
   "id": "2b3b0b21",
   "metadata": {
    "scrolled": false
   },
   "outputs": [
    {
     "name": "stderr",
     "output_type": "stream",
     "text": [
      "[cellevents:43:INFO]:starting (time=Jun-25 20:43 MainProcess)\n"
     ]
    },
    {
     "name": "stdout",
     "output_type": "stream",
     "text": [
      "time: 1.58 ms\n"
     ]
    }
   ],
   "source": [
    "#decrypt_all()"
   ]
  },
  {
   "cell_type": "code",
   "execution_count": 6,
   "id": "af55ba1c",
   "metadata": {},
   "outputs": [
    {
     "name": "stderr",
     "output_type": "stream",
     "text": [
      "[cellevents:43:INFO]:starting (time=Jun-25 20:43 MainProcess)\n"
     ]
    },
    {
     "data": {
      "text/plain": [
       "506"
      ]
     },
     "execution_count": 6,
     "metadata": {},
     "output_type": "execute_result"
    },
    {
     "name": "stdout",
     "output_type": "stream",
     "text": [
      "time: 1.49 s\n"
     ]
    }
   ],
   "source": [
    "files = [f\"reports/{f}\" for f in os.listdir(\"reports\") if f.endswith(\".pdf\") and not os.path.exists(f\"working/decrypt/{f}\")] \\\n",
    "        + glob(\"working/decrypt/*\")\n",
    "len(files)"
   ]
  },
  {
   "cell_type": "code",
   "execution_count": 7,
   "id": "a6bde15d",
   "metadata": {},
   "outputs": [
    {
     "name": "stderr",
     "output_type": "stream",
     "text": [
      "[cellevents:43:INFO]:starting (time=Jun-25 20:43 MainProcess)\n",
      "20:43:51.123 | INFO    | prefect.engine - Created flow run 'macho-boobook' for flow 'testflow'\n",
      "20:43:51.127 | INFO    | Flow run 'macho-boobook' - Using task runner 'DaskTaskRunner'\n",
      "20:43:51.136 | INFO    | prefect.task_runner.dask - Creating a new Dask cluster with `distributed.deploy.local.LocalCluster`\n",
      "20:43:58.304 | INFO    | prefect.task_runner.dask - The Dask dashboard is available at http://127.0.0.1:8787/status\n",
      "20:43:58.354 | WARNING | Flow run 'macho-boobook' - No default storage is configured on the server. Results from this flow run will be stored in a temporary directory in its runtime environment.\n",
      "20:44:00.069 | INFO    | Flow run 'macho-boobook' - Finished in state Completed()\n"
     ]
    },
    {
     "data": {
      "text/plain": [
       "Completed(message=None, type=COMPLETED, result=None, flow_run_id=573a4037-88dd-477e-820a-5ab14595aedc)"
      ]
     },
     "execution_count": 7,
     "metadata": {},
     "output_type": "execute_result"
    },
    {
     "name": "stdout",
     "output_type": "stream",
     "text": [
      "time: 9.45 s\n"
     ]
    }
   ],
   "source": [
    "testflow(files[:1])"
   ]
  },
  {
   "cell_type": "code",
   "execution_count": 9,
   "id": "43847f45",
   "metadata": {},
   "outputs": [
    {
     "name": "stderr",
     "output_type": "stream",
     "text": [
      "20:44:21.695 | INFO    | cellevents - starting\n"
     ]
    },
    {
     "name": "stdout",
     "output_type": "stream",
     "text": [
      "time: 78.2 ms\n"
     ]
    }
   ],
   "source": [
    "df = pd.read_pickle(\"working/quant_filter/010c3e42-f753-47e8-bf0a-e9ed383a215b\")\n",
    "df[df.accepted].text.to_excel(\"temp.xlsx\", index=False)"
   ]
  },
  {
   "cell_type": "code",
   "execution_count": null,
   "id": "47c66cea",
   "metadata": {},
   "outputs": [],
   "source": []
  }
 ],
 "metadata": {
  "kernelspec": {
   "display_name": "Python 3",
   "language": "python",
   "name": "python3"
  },
  "language_info": {
   "codemirror_mode": {
    "name": "ipython",
    "version": 3
   },
   "file_extension": ".py",
   "mimetype": "text/x-python",
   "name": "python",
   "nbconvert_exporter": "python",
   "pygments_lexer": "ipython3",
   "version": "3.9.12"
  }
 },
 "nbformat": 4,
 "nbformat_minor": 5
}
