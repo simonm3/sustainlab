{
 "cells": [
  {
   "cell_type": "code",
   "execution_count": 1,
   "id": "6947baca",
   "metadata": {},
   "outputs": [
    {
     "name": "stderr",
     "output_type": "stream",
     "text": [
      "[defaultlog:22:INFO]:logging started from /mnt/c/users/simon/onedrive/documents/py/live/pyutils/defaultlog.py (time=Jun-26 11:29 MainProcess)\n"
     ]
    },
    {
     "data": {
      "text/html": [
       "<style>audio{display:none}</style>"
      ],
      "text/plain": [
       "<IPython.core.display.HTML object>"
      ]
     },
     "metadata": {},
     "output_type": "display_data"
    },
    {
     "name": "stderr",
     "output_type": "stream",
     "text": [
      "[__init__:37:WARNING]:prefect is disabled as PREFECT_DISABLED environment variable exists (time=Jun-26 11:29 MainProcess)\n"
     ]
    }
   ],
   "source": [
    "from ipstartup import *\n",
    "import logging\n",
    "import sys\n",
    "import os\n",
    "from glob import glob\n",
    "os.environ[\"PREFECT_DISABLED\"] = \"1\"\n",
    "slab = \"/mnt/c/Users/simon/OneDrive/Documents/py/live/slab\"\n",
    "sys.path.append(slab)\n",
    "from pipeline.flows import *\n",
    "from pipeline.utils import decrypt_all\n",
    "\n",
    "path = \"/mnt/d/data1\"\n",
    "os.makedirs(path, exist_ok=True)\n",
    "os.chdir(path)"
   ]
  },
  {
   "cell_type": "code",
   "execution_count": 3,
   "id": "2b3b0b21",
   "metadata": {
    "scrolled": false
   },
   "outputs": [
    {
     "name": "stderr",
     "output_type": "stream",
     "text": [
      "[cellevents:43:INFO]:starting (time=Jun-26 10:56 MainProcess)\n"
     ]
    },
    {
     "name": "stdout",
     "output_type": "stream",
     "text": [
      "time: 1.76 ms\n"
     ]
    }
   ],
   "source": [
    "#decrypt_all()"
   ]
  },
  {
   "cell_type": "code",
   "execution_count": 3,
   "id": "af55ba1c",
   "metadata": {},
   "outputs": [
    {
     "name": "stderr",
     "output_type": "stream",
     "text": [
      "[cellevents:43:INFO]:starting (time=Jun-26 10:16 MainProcess)\n"
     ]
    },
    {
     "data": {
      "text/plain": [
       "506"
      ]
     },
     "execution_count": 3,
     "metadata": {},
     "output_type": "execute_result"
    },
    {
     "name": "stdout",
     "output_type": "stream",
     "text": [
      "time: 1.74 s\n"
     ]
    }
   ],
   "source": [
    "files = [f\"reports/{f}\" for f in os.listdir(\"reports\") if f.endswith(\".pdf\") and not os.path.exists(f\"working/decrypt/{f}\")] \\\n",
    "        + glob(\"working/decrypt/*\")\n",
    "len(files)"
   ]
  },
  {
   "cell_type": "code",
   "execution_count": 7,
   "id": "a6bde15d",
   "metadata": {},
   "outputs": [
    {
     "name": "stderr",
     "output_type": "stream",
     "text": [
      "[cellevents:43:INFO]:starting (time=Jun-25 20:43 MainProcess)\n",
      "20:43:51.123 | INFO    | prefect.engine - Created flow run 'macho-boobook' for flow 'testflow'\n",
      "20:43:51.127 | INFO    | Flow run 'macho-boobook' - Using task runner 'DaskTaskRunner'\n",
      "20:43:51.136 | INFO    | prefect.task_runner.dask - Creating a new Dask cluster with `distributed.deploy.local.LocalCluster`\n",
      "20:43:58.304 | INFO    | prefect.task_runner.dask - The Dask dashboard is available at http://127.0.0.1:8787/status\n",
      "20:43:58.354 | WARNING | Flow run 'macho-boobook' - No default storage is configured on the server. Results from this flow run will be stored in a temporary directory in its runtime environment.\n",
      "20:44:00.069 | INFO    | Flow run 'macho-boobook' - Finished in state Completed()\n"
     ]
    },
    {
     "data": {
      "text/plain": [
       "Completed(message=None, type=COMPLETED, result=None, flow_run_id=573a4037-88dd-477e-820a-5ab14595aedc)"
      ]
     },
     "execution_count": 7,
     "metadata": {},
     "output_type": "execute_result"
    },
    {
     "name": "stdout",
     "output_type": "stream",
     "text": [
      "time: 9.45 s\n"
     ]
    }
   ],
   "source": [
    "testflow(files[:1])"
   ]
  },
  {
   "cell_type": "code",
   "execution_count": 9,
   "id": "43847f45",
   "metadata": {},
   "outputs": [
    {
     "name": "stderr",
     "output_type": "stream",
     "text": [
      "20:44:21.695 | INFO    | cellevents - starting\n"
     ]
    },
    {
     "name": "stdout",
     "output_type": "stream",
     "text": [
      "time: 78.2 ms\n"
     ]
    }
   ],
   "source": [
    "df = pd.read_pickle(\"working/quant_filter/010c3e42-f753-47e8-bf0a-e9ed383a215b\")\n",
    "df[df.accepted].text.to_excel(\"temp.xlsx\", index=False)"
   ]
  },
  {
   "cell_type": "code",
   "execution_count": 4,
   "id": "47c66cea",
   "metadata": {},
   "outputs": [
    {
     "name": "stderr",
     "output_type": "stream",
     "text": [
      "[cellevents:43:INFO]:starting (time=Jun-26 10:16 MainProcess)\n"
     ]
    },
    {
     "data": {
      "text/html": [
       "<div>\n",
       "<style scoped>\n",
       "    .dataframe tbody tr th:only-of-type {\n",
       "        vertical-align: middle;\n",
       "    }\n",
       "\n",
       "    .dataframe tbody tr th {\n",
       "        vertical-align: top;\n",
       "    }\n",
       "\n",
       "    .dataframe thead th {\n",
       "        text-align: right;\n",
       "    }\n",
       "</style>\n",
       "<table border=\"1\" class=\"dataframe\">\n",
       "  <thead>\n",
       "    <tr style=\"text-align: right;\">\n",
       "      <th></th>\n",
       "      <th>sent</th>\n",
       "      <th>ntopics</th>\n",
       "      <th>topic1</th>\n",
       "      <th>keywords1</th>\n",
       "      <th>topic2</th>\n",
       "      <th>keywords2</th>\n",
       "    </tr>\n",
       "  </thead>\n",
       "  <tbody>\n",
       "    <tr>\n",
       "      <th>0</th>\n",
       "      <td>In doing so, we are guided by established and ...</td>\n",
       "      <td>0</td>\n",
       "      <td>NaN</td>\n",
       "      <td>NaN</td>\n",
       "      <td>NaN</td>\n",
       "      <td>NaN</td>\n",
       "    </tr>\n",
       "    <tr>\n",
       "      <th>1</th>\n",
       "      <td>In 2020, we achieved a new commitment volume o...</td>\n",
       "      <td>0</td>\n",
       "      <td>NaN</td>\n",
       "      <td>NaN</td>\n",
       "      <td>NaN</td>\n",
       "      <td>NaN</td>\n",
       "    </tr>\n",
       "    <tr>\n",
       "      <th>2</th>\n",
       "      <td>Of this total, € 3.9 billion was coronavirus- ...</td>\n",
       "      <td>0</td>\n",
       "      <td>NaN</td>\n",
       "      <td>NaN</td>\n",
       "      <td>NaN</td>\n",
       "      <td>NaN</td>\n",
       "    </tr>\n",
       "    <tr>\n",
       "      <th>3</th>\n",
       "      <td>Once again, we were voted among the top ten be...</td>\n",
       "      <td>2</td>\n",
       "      <td>Employee Engagement &amp; Diversity &amp; Inclusion</td>\n",
       "      <td>[training]</td>\n",
       "      <td>Labor Practices</td>\n",
       "      <td>[training]</td>\n",
       "    </tr>\n",
       "    <tr>\n",
       "      <th>4</th>\n",
       "      <td>All aspects of our sustainable activities come...</td>\n",
       "      <td>0</td>\n",
       "      <td>NaN</td>\n",
       "      <td>NaN</td>\n",
       "      <td>NaN</td>\n",
       "      <td>NaN</td>\n",
       "    </tr>\n",
       "    <tr>\n",
       "      <th>...</th>\n",
       "      <td>...</td>\n",
       "      <td>...</td>\n",
       "      <td>...</td>\n",
       "      <td>...</td>\n",
       "      <td>...</td>\n",
       "      <td>...</td>\n",
       "    </tr>\n",
       "    <tr>\n",
       "      <th>302</th>\n",
       "      <td>The Bank thus donated an amount of € 8,240 eac...</td>\n",
       "      <td>0</td>\n",
       "      <td>NaN</td>\n",
       "      <td>NaN</td>\n",
       "      <td>NaN</td>\n",
       "      <td>NaN</td>\n",
       "    </tr>\n",
       "    <tr>\n",
       "      <th>303</th>\n",
       "      <td>In 2020, the donation helped to fund more than...</td>\n",
       "      <td>0</td>\n",
       "      <td>NaN</td>\n",
       "      <td>NaN</td>\n",
       "      <td>NaN</td>\n",
       "      <td>NaN</td>\n",
       "    </tr>\n",
       "    <tr>\n",
       "      <th>304</th>\n",
       "      <td>Additionally, in 2020 and 2021, the Bank funde...</td>\n",
       "      <td>0</td>\n",
       "      <td>NaN</td>\n",
       "      <td>NaN</td>\n",
       "      <td>NaN</td>\n",
       "      <td>NaN</td>\n",
       "    </tr>\n",
       "    <tr>\n",
       "      <th>305</th>\n",
       "      <td>Since 2017, NRW.BANK has made available a tota...</td>\n",
       "      <td>0</td>\n",
       "      <td>NaN</td>\n",
       "      <td>NaN</td>\n",
       "      <td>NaN</td>\n",
       "      <td>NaN</td>\n",
       "    </tr>\n",
       "    <tr>\n",
       "      <th>306</th>\n",
       "      <td>In 2020, the Bank donated € 4,000 each to: Get...</td>\n",
       "      <td>0</td>\n",
       "      <td>NaN</td>\n",
       "      <td>NaN</td>\n",
       "      <td>NaN</td>\n",
       "      <td>NaN</td>\n",
       "    </tr>\n",
       "  </tbody>\n",
       "</table>\n",
       "<p>307 rows × 6 columns</p>\n",
       "</div>"
      ],
      "text/plain": [
       "                                                  sent  ntopics  \\\n",
       "0    In doing so, we are guided by established and ...        0   \n",
       "1    In 2020, we achieved a new commitment volume o...        0   \n",
       "2    Of this total, € 3.9 billion was coronavirus- ...        0   \n",
       "3    Once again, we were voted among the top ten be...        2   \n",
       "4    All aspects of our sustainable activities come...        0   \n",
       "..                                                 ...      ...   \n",
       "302  The Bank thus donated an amount of € 8,240 eac...        0   \n",
       "303  In 2020, the donation helped to fund more than...        0   \n",
       "304  Additionally, in 2020 and 2021, the Bank funde...        0   \n",
       "305  Since 2017, NRW.BANK has made available a tota...        0   \n",
       "306  In 2020, the Bank donated € 4,000 each to: Get...        0   \n",
       "\n",
       "                                          topic1   keywords1           topic2  \\\n",
       "0                                            NaN         NaN              NaN   \n",
       "1                                            NaN         NaN              NaN   \n",
       "2                                            NaN         NaN              NaN   \n",
       "3    Employee Engagement & Diversity & Inclusion  [training]  Labor Practices   \n",
       "4                                            NaN         NaN              NaN   \n",
       "..                                           ...         ...              ...   \n",
       "302                                          NaN         NaN              NaN   \n",
       "303                                          NaN         NaN              NaN   \n",
       "304                                          NaN         NaN              NaN   \n",
       "305                                          NaN         NaN              NaN   \n",
       "306                                          NaN         NaN              NaN   \n",
       "\n",
       "      keywords2  \n",
       "0           NaN  \n",
       "1           NaN  \n",
       "2           NaN  \n",
       "3    [training]  \n",
       "4           NaN  \n",
       "..          ...  \n",
       "302         NaN  \n",
       "303         NaN  \n",
       "304         NaN  \n",
       "305         NaN  \n",
       "306         NaN  \n",
       "\n",
       "[307 rows x 6 columns]"
      ]
     },
     "execution_count": 4,
     "metadata": {},
     "output_type": "execute_result"
    },
    {
     "name": "stdout",
     "output_type": "stream",
     "text": [
      "time: 59.8 ms\n"
     ]
    }
   ],
   "source": [
    "pd.read_pickle(\"working/get_topics/010c3e42-f753-47e8-bf0a-e9ed383a215b\")"
   ]
  }
 ],
 "metadata": {
  "kernelspec": {
   "display_name": "Python 3",
   "language": "python",
   "name": "python3"
  },
  "language_info": {
   "codemirror_mode": {
    "name": "ipython",
    "version": 3
   },
   "file_extension": ".py",
   "mimetype": "text/x-python",
   "name": "python",
   "nbconvert_exporter": "python",
   "pygments_lexer": "ipython3",
   "version": "3.9.12"
  }
 },
 "nbformat": 4,
 "nbformat_minor": 5
}
