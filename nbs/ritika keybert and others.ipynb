{
 "cells": [
  {
   "cell_type": "markdown",
   "metadata": {
    "id": "AD2eD_KzJFCp"
   },
   "source": [
    "## Extract KeyPhrases From Sentences\n",
    "\n"
   ]
  },
  {
   "cell_type": "code",
   "execution_count": 6,
   "metadata": {
    "collapsed": true,
    "id": "NMfgWFj0GH2D"
   },
   "outputs": [
    {
     "name": "stderr",
     "output_type": "stream",
     "text": [
      "[cellevents:43:INFO]:starting (time=Jul-05 15:06 MainProcess)\n"
     ]
    },
    {
     "name": "stdout",
     "output_type": "stream",
     "text": [
      "Collecting keybert\n",
      "  Downloading keybert-0.5.1.tar.gz (19 kB)\n",
      "Collecting sentence-transformers>=0.3.8\n",
      "  Downloading sentence-transformers-2.2.2.tar.gz (85 kB)\n",
      "\u001b[K     |████████████████████████████████| 85 kB 1.1 MB/s eta 0:00:01\n",
      "\u001b[?25hRequirement already satisfied: scikit-learn>=0.22.2 in /home/simon/anaconda3/lib/python3.9/site-packages (from keybert) (1.0.2)\n",
      "Requirement already satisfied: numpy>=1.18.5 in /home/simon/anaconda3/lib/python3.9/site-packages (from keybert) (1.21.5)\n",
      "Requirement already satisfied: rich>=10.4.0 in /home/simon/anaconda3/lib/python3.9/site-packages (from keybert) (12.4.4)\n",
      "Requirement already satisfied: pygments<3.0.0,>=2.6.0 in /home/simon/anaconda3/lib/python3.9/site-packages (from rich>=10.4.0->keybert) (2.11.2)\n",
      "Requirement already satisfied: commonmark<0.10.0,>=0.9.0 in /home/simon/anaconda3/lib/python3.9/site-packages (from rich>=10.4.0->keybert) (0.9.1)\n",
      "Requirement already satisfied: threadpoolctl>=2.0.0 in /home/simon/anaconda3/lib/python3.9/site-packages (from scikit-learn>=0.22.2->keybert) (2.2.0)\n",
      "Requirement already satisfied: joblib>=0.11 in /home/simon/anaconda3/lib/python3.9/site-packages (from scikit-learn>=0.22.2->keybert) (1.1.0)\n",
      "Requirement already satisfied: scipy>=1.1.0 in /home/simon/anaconda3/lib/python3.9/site-packages (from scikit-learn>=0.22.2->keybert) (1.7.3)\n",
      "Requirement already satisfied: transformers<5.0.0,>=4.6.0 in /home/simon/anaconda3/lib/python3.9/site-packages (from sentence-transformers>=0.3.8->keybert) (4.20.0)\n",
      "Requirement already satisfied: tqdm in /home/simon/anaconda3/lib/python3.9/site-packages (from sentence-transformers>=0.3.8->keybert) (4.64.0)\n",
      "Requirement already satisfied: torch>=1.6.0 in /home/simon/anaconda3/lib/python3.9/site-packages (from sentence-transformers>=0.3.8->keybert) (1.11.0)\n",
      "Collecting torchvision\n",
      "  Downloading torchvision-0.13.0-cp39-cp39-manylinux1_x86_64.whl (19.1 MB)\n",
      "\u001b[K     |████████████████████████████████| 19.1 MB 2.4 MB/s eta 0:00:01    |██████████████▊                 | 8.8 MB 2.4 MB/s eta 0:00:05\n",
      "\u001b[?25hRequirement already satisfied: nltk in /home/simon/anaconda3/lib/python3.9/site-packages (from sentence-transformers>=0.3.8->keybert) (3.7)\n",
      "Collecting sentencepiece\n",
      "  Downloading sentencepiece-0.1.96-cp39-cp39-manylinux_2_17_x86_64.manylinux2014_x86_64.whl (1.2 MB)\n",
      "\u001b[K     |████████████████████████████████| 1.2 MB 2.5 MB/s eta 0:00:01\n",
      "\u001b[?25hRequirement already satisfied: huggingface-hub>=0.4.0 in /home/simon/anaconda3/lib/python3.9/site-packages (from sentence-transformers>=0.3.8->keybert) (0.7.0)\n",
      "Requirement already satisfied: filelock in /home/simon/anaconda3/lib/python3.9/site-packages (from huggingface-hub>=0.4.0->sentence-transformers>=0.3.8->keybert) (3.6.0)\n",
      "Requirement already satisfied: packaging>=20.9 in /home/simon/anaconda3/lib/python3.9/site-packages (from huggingface-hub>=0.4.0->sentence-transformers>=0.3.8->keybert) (21.3)\n",
      "Requirement already satisfied: pyyaml>=5.1 in /home/simon/anaconda3/lib/python3.9/site-packages (from huggingface-hub>=0.4.0->sentence-transformers>=0.3.8->keybert) (6.0)\n",
      "Requirement already satisfied: requests in /home/simon/anaconda3/lib/python3.9/site-packages (from huggingface-hub>=0.4.0->sentence-transformers>=0.3.8->keybert) (2.27.1)\n",
      "Requirement already satisfied: typing-extensions>=3.7.4.3 in /home/simon/anaconda3/lib/python3.9/site-packages (from huggingface-hub>=0.4.0->sentence-transformers>=0.3.8->keybert) (4.1.1)\n",
      "Requirement already satisfied: pyparsing!=3.0.5,>=2.0.2 in /home/simon/anaconda3/lib/python3.9/site-packages (from packaging>=20.9->huggingface-hub>=0.4.0->sentence-transformers>=0.3.8->keybert) (3.0.4)\n",
      "Requirement already satisfied: tokenizers!=0.11.3,<0.13,>=0.11.1 in /home/simon/anaconda3/lib/python3.9/site-packages (from transformers<5.0.0,>=4.6.0->sentence-transformers>=0.3.8->keybert) (0.12.1)\n",
      "Requirement already satisfied: regex!=2019.12.17 in /home/simon/anaconda3/lib/python3.9/site-packages (from transformers<5.0.0,>=4.6.0->sentence-transformers>=0.3.8->keybert) (2022.3.15)\n",
      "Requirement already satisfied: click in /home/simon/anaconda3/lib/python3.9/site-packages (from nltk->sentence-transformers>=0.3.8->keybert) (8.0.4)\n",
      "Requirement already satisfied: charset-normalizer~=2.0.0 in /home/simon/anaconda3/lib/python3.9/site-packages (from requests->huggingface-hub>=0.4.0->sentence-transformers>=0.3.8->keybert) (2.0.4)\n",
      "Requirement already satisfied: certifi>=2017.4.17 in /home/simon/anaconda3/lib/python3.9/site-packages (from requests->huggingface-hub>=0.4.0->sentence-transformers>=0.3.8->keybert) (2021.10.8)\n",
      "Requirement already satisfied: idna<4,>=2.5 in /home/simon/anaconda3/lib/python3.9/site-packages (from requests->huggingface-hub>=0.4.0->sentence-transformers>=0.3.8->keybert) (3.3)\n",
      "Requirement already satisfied: urllib3<1.27,>=1.21.1 in /home/simon/anaconda3/lib/python3.9/site-packages (from requests->huggingface-hub>=0.4.0->sentence-transformers>=0.3.8->keybert) (1.26.9)\n",
      "Requirement already satisfied: pillow!=8.3.*,>=5.3.0 in /home/simon/anaconda3/lib/python3.9/site-packages (from torchvision->sentence-transformers>=0.3.8->keybert) (9.1.1)\n",
      "Collecting torch>=1.6.0\n",
      "  Downloading torch-1.12.0-cp39-cp39-manylinux1_x86_64.whl (776.3 MB)\n",
      "\u001b[K     |████████████████████████████████| 776.3 MB 1.1 kB/s eta 0:00:013   |▌                               | 12.1 MB 2.7 MB/s eta 0:04:43     |▋                               | 15.3 MB 835 kB/s eta 0:15:12     |██▌                             | 59.3 MB 3.1 MB/s eta 0:03:48     |█████                           | 119.9 MB 2.7 MB/s eta 0:04:02     |█████▏                          | 126.4 MB 2.3 MB/s eta 0:04:48     |███████▏                        | 173.3 MB 2.3 MB/s eta 0:04:20     |█████████                       | 221.0 MB 2.7 MB/s eta 0:03:23     |██████████                      | 241.3 MB 2.8 MB/s eta 0:03:13     |█████████████                   | 315.1 MB 2.7 MB/s eta 0:02:52    |███████████████▍                | 372.8 MB 2.4 MB/s eta 0:02:50███████████████▍                | 373.0 MB 2.4 MB/s eta 0:02:50�█████████████▍                | 373.2 MB 2.4 MB/s eta 0:02:50     |███████████████▊                | 380.6 MB 2.4 MB/s eta 0:02:48    |████████████████                | 387.3 MB 2.3 MB/s eta 0:02:46  | 392.3 MB 2.4 MB/s eta 0:02:43��█████▏               | 392.5 MB 2.4 MB/s eta 0:02:43     |█████████████████               | 410.8 MB 2.4 MB/s eta 0:02:35   | 477.6 MB 2.7 MB/s eta 0:01:50     |████████████████████▌           | 497.6 MB 2.7 MB/s eta 0:01:44     |███████████████████████▏        | 562.0 MB 2.3 MB/s eta 0:01:32     |██████████████████████████▌     | 642.9 MB 2.4 MB/s eta 0:00:55     |███████████████████████████     | 655.5 MB 2.7 MB/s eta 0:00:45     |███████████████████████████▏    | 659.8 MB 2.9 MB/s eta 0:00:41�███████▏    | 660.0 MB 2.9 MB/s eta 0:00:41     |███████████████████████████▉    | 675.5 MB 2.3 MB/s eta 0:00:43��████████▉    | 676.3 MB 2.3 MB/s eta 0:00:43     |████████████████████████████▊   | 697.5 MB 2.7 MB/s eta 0:00:304 MB 2.6 MB/s eta 0:00:17     |██████████████████████████████▊ | 746.2 MB 2.7 MB/s eta 0:00:12███████▊| 770.3 MB 2.3 MB/s eta 0:00:03\n",
      "\u001b[?25hBuilding wheels for collected packages: keybert, sentence-transformers\n",
      "  Building wheel for keybert (setup.py) ... \u001b[?25ldone\n",
      "\u001b[?25h  Created wheel for keybert: filename=keybert-0.5.1-py3-none-any.whl size=21332 sha256=a3a378a15aed3a506d2675885c5417e3263fe963381336afd98e08191afabe2b\n",
      "  Stored in directory: /home/simon/.cache/pip/wheels/94/18/2a/f26bbcd25924aab452bb4bcc2345a55c07160823d196a264c7\n",
      "  Building wheel for sentence-transformers (setup.py) ... \u001b[?25ldone\n",
      "\u001b[?25h  Created wheel for sentence-transformers: filename=sentence_transformers-2.2.2-py3-none-any.whl size=125940 sha256=ae821543fe82f9599446cce096b06178eac1c9d98109536cde9446ac16dc0f8a\n",
      "  Stored in directory: /home/simon/.cache/pip/wheels/71/67/06/162a3760c40d74dd40bc855d527008d26341c2b0ecf3e8e11f\n",
      "Successfully built keybert sentence-transformers\n",
      "Installing collected packages: torch, torchvision, sentencepiece, sentence-transformers, keybert\n",
      "  Attempting uninstall: torch\n",
      "    Found existing installation: torch 1.11.0\n",
      "    Uninstalling torch-1.11.0:\n",
      "      Successfully uninstalled torch-1.11.0\n",
      "Successfully installed keybert-0.5.1 sentence-transformers-2.2.2 sentencepiece-0.1.96 torch-1.12.0 torchvision-0.13.0\n"
     ]
    },
    {
     "name": "stdout",
     "output_type": "stream",
     "text": [
      "Requirement already satisfied: sentence-transformers in /home/simon/anaconda3/lib/python3.9/site-packages (2.2.2)\n",
      "Requirement already satisfied: transformers<5.0.0,>=4.6.0 in /home/simon/anaconda3/lib/python3.9/site-packages (from sentence-transformers) (4.20.0)\n",
      "Requirement already satisfied: numpy in /home/simon/anaconda3/lib/python3.9/site-packages (from sentence-transformers) (1.21.5)\n",
      "Requirement already satisfied: torchvision in /home/simon/anaconda3/lib/python3.9/site-packages (from sentence-transformers) (0.13.0)\n",
      "Requirement already satisfied: tqdm in /home/simon/anaconda3/lib/python3.9/site-packages (from sentence-transformers) (4.64.0)\n",
      "Requirement already satisfied: scikit-learn in /home/simon/anaconda3/lib/python3.9/site-packages (from sentence-transformers) (1.0.2)\n",
      "Requirement already satisfied: sentencepiece in /home/simon/anaconda3/lib/python3.9/site-packages (from sentence-transformers) (0.1.96)\n",
      "Requirement already satisfied: torch>=1.6.0 in /home/simon/anaconda3/lib/python3.9/site-packages (from sentence-transformers) (1.12.0)\n",
      "Requirement already satisfied: nltk in /home/simon/anaconda3/lib/python3.9/site-packages (from sentence-transformers) (3.7)\n",
      "Requirement already satisfied: scipy in /home/simon/anaconda3/lib/python3.9/site-packages (from sentence-transformers) (1.7.3)\n",
      "Requirement already satisfied: huggingface-hub>=0.4.0 in /home/simon/anaconda3/lib/python3.9/site-packages (from sentence-transformers) (0.7.0)\n",
      "Requirement already satisfied: requests in /home/simon/anaconda3/lib/python3.9/site-packages (from huggingface-hub>=0.4.0->sentence-transformers) (2.27.1)\n",
      "Requirement already satisfied: typing-extensions>=3.7.4.3 in /home/simon/anaconda3/lib/python3.9/site-packages (from huggingface-hub>=0.4.0->sentence-transformers) (4.1.1)\n",
      "Requirement already satisfied: packaging>=20.9 in /home/simon/anaconda3/lib/python3.9/site-packages (from huggingface-hub>=0.4.0->sentence-transformers) (21.3)\n",
      "Requirement already satisfied: pyyaml>=5.1 in /home/simon/anaconda3/lib/python3.9/site-packages (from huggingface-hub>=0.4.0->sentence-transformers) (6.0)\n",
      "Requirement already satisfied: filelock in /home/simon/anaconda3/lib/python3.9/site-packages (from huggingface-hub>=0.4.0->sentence-transformers) (3.6.0)\n",
      "Requirement already satisfied: pyparsing!=3.0.5,>=2.0.2 in /home/simon/anaconda3/lib/python3.9/site-packages (from packaging>=20.9->huggingface-hub>=0.4.0->sentence-transformers) (3.0.4)\n",
      "Requirement already satisfied: regex!=2019.12.17 in /home/simon/anaconda3/lib/python3.9/site-packages (from transformers<5.0.0,>=4.6.0->sentence-transformers) (2022.3.15)\n",
      "Requirement already satisfied: tokenizers!=0.11.3,<0.13,>=0.11.1 in /home/simon/anaconda3/lib/python3.9/site-packages (from transformers<5.0.0,>=4.6.0->sentence-transformers) (0.12.1)\n",
      "Requirement already satisfied: joblib in /home/simon/anaconda3/lib/python3.9/site-packages (from nltk->sentence-transformers) (1.1.0)\n",
      "Requirement already satisfied: click in /home/simon/anaconda3/lib/python3.9/site-packages (from nltk->sentence-transformers) (8.0.4)\n",
      "Requirement already satisfied: certifi>=2017.4.17 in /home/simon/anaconda3/lib/python3.9/site-packages (from requests->huggingface-hub>=0.4.0->sentence-transformers) (2021.10.8)\n",
      "Requirement already satisfied: urllib3<1.27,>=1.21.1 in /home/simon/anaconda3/lib/python3.9/site-packages (from requests->huggingface-hub>=0.4.0->sentence-transformers) (1.26.9)\n",
      "Requirement already satisfied: idna<4,>=2.5 in /home/simon/anaconda3/lib/python3.9/site-packages (from requests->huggingface-hub>=0.4.0->sentence-transformers) (3.3)\n",
      "Requirement already satisfied: charset-normalizer~=2.0.0 in /home/simon/anaconda3/lib/python3.9/site-packages (from requests->huggingface-hub>=0.4.0->sentence-transformers) (2.0.4)\n",
      "Requirement already satisfied: threadpoolctl>=2.0.0 in /home/simon/anaconda3/lib/python3.9/site-packages (from scikit-learn->sentence-transformers) (2.2.0)\n",
      "Requirement already satisfied: pillow!=8.3.*,>=5.3.0 in /home/simon/anaconda3/lib/python3.9/site-packages (from torchvision->sentence-transformers) (9.1.1)\n",
      "time: 8min 18s\n"
     ]
    },
    {
     "data": {
      "text/html": [
       "\n",
       "                <audio  controls=\"controls\" autoplay=\"autoplay\">\n",
       "                    <source src=\"data:audio/wav;base64,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\" type=\"audio/wav\" />\n",
       "                    Your browser does not support the audio element.\n",
       "                </audio>\n",
       "              "
      ],
      "text/plain": [
       "<IPython.lib.display.Audio object>"
      ]
     },
     "metadata": {},
     "output_type": "display_data"
    },
    {
     "data": {
      "text/html": [
       "<style>audio{display:none}</style>"
      ],
      "text/plain": [
       "<IPython.core.display.HTML object>"
      ]
     },
     "metadata": {},
     "output_type": "display_data"
    }
   ],
   "source": [
    "#install Keybert for keyphrase/keyword extraction \n",
    "!pip install keybert\n",
    "#using sentence transformer model in keybert\n",
    "!pip install -U sentence-transformers"
   ]
  },
  {
   "cell_type": "code",
   "execution_count": 8,
   "metadata": {
    "id": "rNfYKMj1Lqx0"
   },
   "outputs": [
    {
     "name": "stderr",
     "output_type": "stream",
     "text": [
      "[cellevents:43:INFO]:starting (time=Jul-05 15:16 MainProcess)\n"
     ]
    },
    {
     "name": "stdout",
     "output_type": "stream",
     "text": [
      "time: 16.1 s\n"
     ]
    }
   ],
   "source": [
    "from keybert import KeyBERT\n",
    "from sentence_transformers import SentenceTransformer"
   ]
  },
  {
   "cell_type": "code",
   "execution_count": 164,
   "metadata": {
    "id": "FyTU1HhmJknX"
   },
   "outputs": [],
   "source": [
    "\n",
    "class KeyPhraseExtraction:\n",
    "  ''' Custom Class for KeyPhrase extraction '''\n",
    "  def __init__(self,model_name = 'nbroad/ESG-BERT', initialize_sent_transformer = True):\n",
    "    if initialize_sent_transformer:\n",
    "      sent_trans_model = SentenceTransformer('nbroad/ESG-BERT')\n",
    "      self.model = KeyBERT(model = sent_trans_model)\n",
    "    else:\n",
    "      self.model = KeyBERT(model = model_name)\n",
    "\n",
    "  def extract_keyphrases_mmr(self,sent,keyphrase_ngram_range=(2,5),diversity = 0.7, top_n=5, stop_words='english'):\n",
    "    return self.model.extract_keywords(sent,use_mmr=True,keyphrase_ngram_range=keyphrase_ngram_range, diversity=diversity, top_n=top_n, stop_words=stop_words)\n",
    "  \n",
    "  def extract_keyphrases_maxsum(self,sent,keyphrase_ngram_range=(2,5),nr_candidates = 15, top_n=5, stop_words='english'):\n",
    "    return self.model.extract_keywords(sent,use_maxsum=True, keyphrase_ngram_range=keyphrase_ngram_range, nr_candidates=nr_candidates, top_n=top_n, stop_words=stop_words)\n",
    "  "
   ]
  },
  {
   "cell_type": "code",
   "execution_count": 165,
   "metadata": {
    "id": "f0p2SR3Qw9Dj"
   },
   "outputs": [],
   "source": [
    "#Extract Key Phrases\n",
    "clean_sentences_df['Key_Phrases'] = clean_sentences_df['Sentences'].apply(lambda sent: [kpe[0] for kpe in kpe_instance.extract_keyphrases_mmr(sent=sent)])"
   ]
  },
  {
   "cell_type": "code",
   "execution_count": 166,
   "metadata": {
    "id": "cZoGeuALTeDK"
   },
   "outputs": [],
   "source": [
    "clean_sentences_df.to_pickle('clean_sentences_KPE.pkl')"
   ]
  },
  {
   "cell_type": "code",
   "execution_count": 6,
   "metadata": {
    "colab": {
     "base_uri": "https://localhost:8080/",
     "height": 424
    },
    "id": "I2-xYgvKVBU4",
    "outputId": "9f3706f2-d437-4a95-99ce-607eb0b498e0"
   },
   "outputs": [
    {
     "data": {
      "text/html": [
       "\n",
       "  <div id=\"df-2bfd9b02-25fb-421a-9cfa-480cf69862cb\">\n",
       "    <div class=\"colab-df-container\">\n",
       "      <div>\n",
       "<style scoped>\n",
       "    .dataframe tbody tr th:only-of-type {\n",
       "        vertical-align: middle;\n",
       "    }\n",
       "\n",
       "    .dataframe tbody tr th {\n",
       "        vertical-align: top;\n",
       "    }\n",
       "\n",
       "    .dataframe thead th {\n",
       "        text-align: right;\n",
       "    }\n",
       "</style>\n",
       "<table border=\"1\" class=\"dataframe\">\n",
       "  <thead>\n",
       "    <tr style=\"text-align: right;\">\n",
       "      <th></th>\n",
       "      <th>Sentences</th>\n",
       "      <th>Key_Phrases</th>\n",
       "    </tr>\n",
       "  </thead>\n",
       "  <tbody>\n",
       "    <tr>\n",
       "      <th>0</th>\n",
       "      <td>62.2% use of electricity from renewable_source...</td>\n",
       "      <td>[electricity renewable_sources achieved total ...</td>\n",
       "    </tr>\n",
       "    <tr>\n",
       "      <th>1</th>\n",
       "      <td>at present, the energy expenditure has been re...</td>\n",
       "      <td>[present energy expenditure reduced 15, expend...</td>\n",
       "    </tr>\n",
       "    <tr>\n",
       "      <th>2</th>\n",
       "      <td>170 business leaders call on eu decision-maker...</td>\n",
       "      <td>[support greenhouse gas ghg emissions, reducti...</td>\n",
       "    </tr>\n",
       "    <tr>\n",
       "      <th>3</th>\n",
       "      <td>taking the tolerance values of the measuring s...</td>\n",
       "      <td>[reference estimated managed reduce emission, ...</td>\n",
       "    </tr>\n",
       "    <tr>\n",
       "      <th>4</th>\n",
       "      <td>with the help of energy management, the divisi...</td>\n",
       "      <td>[reduce energy consumption 1000 mwh, compared ...</td>\n",
       "    </tr>\n",
       "    <tr>\n",
       "      <th>...</th>\n",
       "      <td>...</td>\n",
       "      <td>...</td>\n",
       "    </tr>\n",
       "    <tr>\n",
       "      <th>121</th>\n",
       "      <td>a forest plantation managed by new forests in ...</td>\n",
       "      <td>[carbon dioxide annually estimated carbon, pla...</td>\n",
       "    </tr>\n",
       "    <tr>\n",
       "      <th>122</th>\n",
       "      <td>waste_reduction, recycling business initiative...</td>\n",
       "      <td>[waste_reduction recycling business initiative...</td>\n",
       "    </tr>\n",
       "    <tr>\n",
       "      <th>123</th>\n",
       "      <td>waste_reduction: 71,670 tons/year sugar cane r...</td>\n",
       "      <td>[biomass power generation, waste_reduction 71 ...</td>\n",
       "    </tr>\n",
       "    <tr>\n",
       "      <th>124</th>\n",
       "      <td>the amount of fossil-based electricity has bee...</td>\n",
       "      <td>[fossil based electricity reduced 91, percent ...</td>\n",
       "    </tr>\n",
       "    <tr>\n",
       "      <th>125</th>\n",
       "      <td>since 2015, use has been reduced by 26 percent...</td>\n",
       "      <td>[biofuels th ghg_emissions nccs operations, op...</td>\n",
       "    </tr>\n",
       "  </tbody>\n",
       "</table>\n",
       "<p>126 rows × 2 columns</p>\n",
       "</div>\n",
       "      <button class=\"colab-df-convert\" onclick=\"convertToInteractive('df-2bfd9b02-25fb-421a-9cfa-480cf69862cb')\"\n",
       "              title=\"Convert this dataframe to an interactive table.\"\n",
       "              style=\"display:none;\">\n",
       "        \n",
       "  <svg xmlns=\"http://www.w3.org/2000/svg\" height=\"24px\"viewBox=\"0 0 24 24\"\n",
       "       width=\"24px\">\n",
       "    <path d=\"M0 0h24v24H0V0z\" fill=\"none\"/>\n",
       "    <path d=\"M18.56 5.44l.94 2.06.94-2.06 2.06-.94-2.06-.94-.94-2.06-.94 2.06-2.06.94zm-11 1L8.5 8.5l.94-2.06 2.06-.94-2.06-.94L8.5 2.5l-.94 2.06-2.06.94zm10 10l.94 2.06.94-2.06 2.06-.94-2.06-.94-.94-2.06-.94 2.06-2.06.94z\"/><path d=\"M17.41 7.96l-1.37-1.37c-.4-.4-.92-.59-1.43-.59-.52 0-1.04.2-1.43.59L10.3 9.45l-7.72 7.72c-.78.78-.78 2.05 0 2.83L4 21.41c.39.39.9.59 1.41.59.51 0 1.02-.2 1.41-.59l7.78-7.78 2.81-2.81c.8-.78.8-2.07 0-2.86zM5.41 20L4 18.59l7.72-7.72 1.47 1.35L5.41 20z\"/>\n",
       "  </svg>\n",
       "      </button>\n",
       "      \n",
       "  <style>\n",
       "    .colab-df-container {\n",
       "      display:flex;\n",
       "      flex-wrap:wrap;\n",
       "      gap: 12px;\n",
       "    }\n",
       "\n",
       "    .colab-df-convert {\n",
       "      background-color: #E8F0FE;\n",
       "      border: none;\n",
       "      border-radius: 50%;\n",
       "      cursor: pointer;\n",
       "      display: none;\n",
       "      fill: #1967D2;\n",
       "      height: 32px;\n",
       "      padding: 0 0 0 0;\n",
       "      width: 32px;\n",
       "    }\n",
       "\n",
       "    .colab-df-convert:hover {\n",
       "      background-color: #E2EBFA;\n",
       "      box-shadow: 0px 1px 2px rgba(60, 64, 67, 0.3), 0px 1px 3px 1px rgba(60, 64, 67, 0.15);\n",
       "      fill: #174EA6;\n",
       "    }\n",
       "\n",
       "    [theme=dark] .colab-df-convert {\n",
       "      background-color: #3B4455;\n",
       "      fill: #D2E3FC;\n",
       "    }\n",
       "\n",
       "    [theme=dark] .colab-df-convert:hover {\n",
       "      background-color: #434B5C;\n",
       "      box-shadow: 0px 1px 3px 1px rgba(0, 0, 0, 0.15);\n",
       "      filter: drop-shadow(0px 1px 2px rgba(0, 0, 0, 0.3));\n",
       "      fill: #FFFFFF;\n",
       "    }\n",
       "  </style>\n",
       "\n",
       "      <script>\n",
       "        const buttonEl =\n",
       "          document.querySelector('#df-2bfd9b02-25fb-421a-9cfa-480cf69862cb button.colab-df-convert');\n",
       "        buttonEl.style.display =\n",
       "          google.colab.kernel.accessAllowed ? 'block' : 'none';\n",
       "\n",
       "        async function convertToInteractive(key) {\n",
       "          const element = document.querySelector('#df-2bfd9b02-25fb-421a-9cfa-480cf69862cb');\n",
       "          const dataTable =\n",
       "            await google.colab.kernel.invokeFunction('convertToInteractive',\n",
       "                                                     [key], {});\n",
       "          if (!dataTable) return;\n",
       "\n",
       "          const docLinkHtml = 'Like what you see? Visit the ' +\n",
       "            '<a target=\"_blank\" href=https://colab.research.google.com/notebooks/data_table.ipynb>data table notebook</a>'\n",
       "            + ' to learn more about interactive tables.';\n",
       "          element.innerHTML = '';\n",
       "          dataTable['output_type'] = 'display_data';\n",
       "          await google.colab.output.renderOutput(dataTable, element);\n",
       "          const docLink = document.createElement('div');\n",
       "          docLink.innerHTML = docLinkHtml;\n",
       "          element.appendChild(docLink);\n",
       "        }\n",
       "      </script>\n",
       "    </div>\n",
       "  </div>\n",
       "  "
      ],
      "text/plain": [
       "                                             Sentences  \\\n",
       "0    62.2% use of electricity from renewable_source...   \n",
       "1    at present, the energy expenditure has been re...   \n",
       "2    170 business leaders call on eu decision-maker...   \n",
       "3    taking the tolerance values of the measuring s...   \n",
       "4    with the help of energy management, the divisi...   \n",
       "..                                                 ...   \n",
       "121  a forest plantation managed by new forests in ...   \n",
       "122  waste_reduction, recycling business initiative...   \n",
       "123  waste_reduction: 71,670 tons/year sugar cane r...   \n",
       "124  the amount of fossil-based electricity has bee...   \n",
       "125  since 2015, use has been reduced by 26 percent...   \n",
       "\n",
       "                                           Key_Phrases  \n",
       "0    [electricity renewable_sources achieved total ...  \n",
       "1    [present energy expenditure reduced 15, expend...  \n",
       "2    [support greenhouse gas ghg emissions, reducti...  \n",
       "3    [reference estimated managed reduce emission, ...  \n",
       "4    [reduce energy consumption 1000 mwh, compared ...  \n",
       "..                                                 ...  \n",
       "121  [carbon dioxide annually estimated carbon, pla...  \n",
       "122  [waste_reduction recycling business initiative...  \n",
       "123  [biomass power generation, waste_reduction 71 ...  \n",
       "124  [fossil based electricity reduced 91, percent ...  \n",
       "125  [biofuels th ghg_emissions nccs operations, op...  \n",
       "\n",
       "[126 rows x 2 columns]"
      ]
     },
     "execution_count": 6,
     "metadata": {},
     "output_type": "execute_result"
    }
   ],
   "source": [
    "clean_sentences_df"
   ]
  },
  {
   "cell_type": "code",
   "execution_count": 6,
   "metadata": {
    "id": "BETE_X_mVzdc"
   },
   "outputs": [],
   "source": [
    "#clean_sentences_df = pd.read_pickle('/content/clean_sentences_KPE (1).pkl')"
   ]
  },
  {
   "cell_type": "markdown",
   "metadata": {
    "id": "WVAUbkMqTFqh"
   },
   "source": [
    "## KPI Mapping Using ESG_BERT Embedding Similarity"
   ]
  },
  {
   "cell_type": "code",
   "execution_count": null,
   "metadata": {
    "id": "lxAOcJiATaiU"
   },
   "outputs": [],
   "source": [
    "!pip install simpletransformers"
   ]
  },
  {
   "cell_type": "code",
   "execution_count": 9,
   "metadata": {
    "id": "U80NZZ7FS9TP"
   },
   "outputs": [],
   "source": [
    "import numpy as np\n",
    "from sklearn.metrics.pairwise import cosine_similarity\n",
    "from simpletransformers.language_representation import RepresentationModel\n"
   ]
  },
  {
   "cell_type": "code",
   "execution_count": 10,
   "metadata": {
    "id": "pReL95tlRH4d"
   },
   "outputs": [],
   "source": [
    "class BertSim:\n",
    "    \n",
    "    def __init__(self, model_type = \"bert\", model_name = \"nbroad/ESG-BERT\"):\n",
    "        self.model = RepresentationModel(\n",
    "                        model_type = model_type,\n",
    "                        model_name = model_name,\n",
    "                        use_cuda = True\n",
    "                    )\n",
    "    \n",
    "    def get_model(self):\n",
    "        return self.model\n",
    "\n",
    "    def get_sentence_embeddings(self, sentences):\n",
    "        return self.model.encode_sentences(sentences, combine_strategy = \"mean\")\n",
    "\n",
    "    def get_similarity_matrix(self, sentences_1, sentences_2):\n",
    "        return cosine_similarity(\n",
    "            self.get_sentence_embeddings(sentences_1),\n",
    "            self.get_sentence_embeddings(sentences_2)\n",
    "        )"
   ]
  },
  {
   "cell_type": "code",
   "execution_count": 177,
   "metadata": {
    "id": "ag1ukhSUZWhT"
   },
   "outputs": [],
   "source": [
    "def get_sentences_kpi(model_class, sentence,kpi_df):\n",
    "    sim_matrix = model_class.get_similarity_matrix([sentence], kpi_df[\"combined_kpi\"])\n",
    "    sim_index = sim_matrix.argmax()\n",
    "    sim_score = sim_matrix.max()\n",
    "    kpi = kpi_df[\"KPI\"].iloc[sim_index]\n",
    "    category = kpi_df['ESG category'].iloc[sim_index]\n",
    "    return kpi, sim_score, category"
   ]
  },
  {
   "cell_type": "code",
   "execution_count": null,
   "metadata": {
    "id": "Dq1NlhizoJGK"
   },
   "outputs": [],
   "source": [
    "#Generate KPI , Similarity Scores , ESG Category Mappings\n",
    "key_phrase_list = clean_sentences_df['Key_Phrases']\n",
    "\n",
    "kpi_df = pd.DataFrame(columns=['ESG_Category','Mapped_KPI','Similarity_Score'])\n",
    "for ind, key_phrases in enumerate(key_phrase_list):\n",
    "  kpi_list = []\n",
    "  category_list = []\n",
    "  score_list = []\n",
    "  for key_phrase in key_phrases:\n",
    "    kpi, sim_score, category = get_sentences_kpi(model_class, key_phrase)\n",
    "    kpi_list.append(kpi)\n",
    "    score_list.append(sim_score)\n",
    "    category_list.append(category)\n",
    "  # print(kpi_list)\n",
    "  # print(score_list)\n",
    "  #kpi_df = kpi_df.astype('object')\n",
    "  kpi_df.at[ind, 'ESG_Category'] = category_list\n",
    "  kpi_df.at[ind, 'Mapped_KPI'] = kpi_list\n",
    "  kpi_df.at[ind, 'Similarity_Score'] = score_list"
   ]
  },
  {
   "cell_type": "code",
   "execution_count": 141,
   "metadata": {
    "id": "JbzeIzuRwQZi"
   },
   "outputs": [],
   "source": [
    "# Combining KPI if only one distinct KPI present in a row\n",
    "kpi_df['Combined_KPI'] = kpi_df['Mapped_KPI'].apply(lambda kpis: list(set(kpis)) if len(set(kpis))==1 else kpis)\n",
    "kpi_df['Combined_Category'] = kpi_df['ESG_Category'].apply(lambda cats: list(set(cats)) if len(set(cats))==1 else cats)"
   ]
  },
  {
   "cell_type": "code",
   "execution_count": 143,
   "metadata": {
    "id": "qbMvcs5Cxp6Y"
   },
   "outputs": [],
   "source": [
    "clean_sent_kpi = pd.concat([clean_sentences_df,kpi_df],axis=1)\n",
    "clean_sent_kpi.to_excel('CLEAN_SENT_GENERIC_KPI_MAPPING.xlsx')"
   ]
  },
  {
   "cell_type": "code",
   "execution_count": 148,
   "metadata": {
    "colab": {
     "base_uri": "https://localhost:8080/",
     "height": 1000
    },
    "id": "An5KW-0v0ESF",
    "outputId": "c1c3d609-ef97-4bbe-e9cc-ebeedd54bf8b"
   },
   "outputs": [
    {
     "data": {
      "text/html": [
       "\n",
       "  <div id=\"df-1a78877d-e15e-4d5f-b5be-f8f3fbd161d2\">\n",
       "    <div class=\"colab-df-container\">\n",
       "      <div>\n",
       "<style scoped>\n",
       "    .dataframe tbody tr th:only-of-type {\n",
       "        vertical-align: middle;\n",
       "    }\n",
       "\n",
       "    .dataframe tbody tr th {\n",
       "        vertical-align: top;\n",
       "    }\n",
       "\n",
       "    .dataframe thead th {\n",
       "        text-align: right;\n",
       "    }\n",
       "</style>\n",
       "<table border=\"1\" class=\"dataframe\">\n",
       "  <thead>\n",
       "    <tr style=\"text-align: right;\">\n",
       "      <th></th>\n",
       "      <th>Sentences</th>\n",
       "      <th>Key_Phrases</th>\n",
       "      <th>ESG_Category</th>\n",
       "      <th>Mapped_KPI</th>\n",
       "      <th>Similarity_Score</th>\n",
       "      <th>Combined_KPI</th>\n",
       "      <th>Combined_Category</th>\n",
       "    </tr>\n",
       "  </thead>\n",
       "  <tbody>\n",
       "    <tr>\n",
       "      <th>0</th>\n",
       "      <td>62.2% use of electricity from renewable_source...</td>\n",
       "      <td>[electricity renewable_sources achieved total ...</td>\n",
       "      <td>[Environmental, Environmental, Environmental, ...</td>\n",
       "      <td>[energy consumption, energy consumption, energ...</td>\n",
       "      <td>[0.91401374, 0.90717655, 0.836861, 0.97449636,...</td>\n",
       "      <td>[energy consumption]</td>\n",
       "      <td>[Environmental]</td>\n",
       "    </tr>\n",
       "    <tr>\n",
       "      <th>1</th>\n",
       "      <td>at present, the energy expenditure has been re...</td>\n",
       "      <td>[present energy expenditure reduced 15, expend...</td>\n",
       "      <td>[Environmental, Economic, Environmental, Envir...</td>\n",
       "      <td>[energy consumption, Corporate income tax, ene...</td>\n",
       "      <td>[0.8970034, 0.51539993, 0.8052012, 0.8965416, ...</td>\n",
       "      <td>[energy consumption, Corporate income tax, ene...</td>\n",
       "      <td>[Environmental, Economic, Environmental, Envir...</td>\n",
       "    </tr>\n",
       "    <tr>\n",
       "      <th>2</th>\n",
       "      <td>170 business leaders call on eu decision-maker...</td>\n",
       "      <td>[support greenhouse gas ghg emissions, reducti...</td>\n",
       "      <td>[Environmental, Governance, Environmental, Env...</td>\n",
       "      <td>[GHG emissions, net revenues, GHG emissions, G...</td>\n",
       "      <td>[0.69169486, 0.4378304, 0.77837104, 0.6697927,...</td>\n",
       "      <td>[GHG emissions, net revenues, GHG emissions, G...</td>\n",
       "      <td>[Environmental, Governance, Environmental, Env...</td>\n",
       "    </tr>\n",
       "    <tr>\n",
       "      <th>3</th>\n",
       "      <td>taking the tolerance values of the measuring s...</td>\n",
       "      <td>[reference estimated managed reduce emission, ...</td>\n",
       "      <td>[Environmental, Environmental, Economic, Envir...</td>\n",
       "      <td>[GHG emissions, GHG emissions, Corporate incom...</td>\n",
       "      <td>[0.6032284, 0.6493584, 0.53069377, 0.63353264,...</td>\n",
       "      <td>[GHG emissions, GHG emissions, Corporate incom...</td>\n",
       "      <td>[Environmental, Environmental, Economic, Envir...</td>\n",
       "    </tr>\n",
       "    <tr>\n",
       "      <th>4</th>\n",
       "      <td>with the help of energy management, the divisi...</td>\n",
       "      <td>[reduce energy consumption 1000 mwh, compared ...</td>\n",
       "      <td>[Environmental, Economic, Environmental, Envir...</td>\n",
       "      <td>[energy consumption, community investments, en...</td>\n",
       "      <td>[0.9421796, 0.5854432, 0.72099483, 0.7198863, ...</td>\n",
       "      <td>[energy consumption, community investments, en...</td>\n",
       "      <td>[Environmental, Economic, Environmental, Envir...</td>\n",
       "    </tr>\n",
       "    <tr>\n",
       "      <th>...</th>\n",
       "      <td>...</td>\n",
       "      <td>...</td>\n",
       "      <td>...</td>\n",
       "      <td>...</td>\n",
       "      <td>...</td>\n",
       "      <td>...</td>\n",
       "      <td>...</td>\n",
       "    </tr>\n",
       "    <tr>\n",
       "      <th>121</th>\n",
       "      <td>a forest plantation managed by new forests in ...</td>\n",
       "      <td>[carbon dioxide annually estimated carbon, pla...</td>\n",
       "      <td>[Environmental, Environmental, Environmental, ...</td>\n",
       "      <td>[GHG emissions, restored habitat areas, recycl...</td>\n",
       "      <td>[0.6681555, 0.6665286, 0.43836945, 0.56134325,...</td>\n",
       "      <td>[GHG emissions, restored habitat areas, recycl...</td>\n",
       "      <td>[Environmental]</td>\n",
       "    </tr>\n",
       "    <tr>\n",
       "      <th>122</th>\n",
       "      <td>waste_reduction, recycling business initiative...</td>\n",
       "      <td>[waste_reduction recycling business initiative...</td>\n",
       "      <td>[Environmental, Environmental, Environmental, ...</td>\n",
       "      <td>[recycled materials, non-renewable materials, ...</td>\n",
       "      <td>[0.61960626, 0.7124392, 0.6900979, 0.70979166,...</td>\n",
       "      <td>[recycled materials, non-renewable materials, ...</td>\n",
       "      <td>[Environmental, Environmental, Environmental, ...</td>\n",
       "    </tr>\n",
       "    <tr>\n",
       "      <th>123</th>\n",
       "      <td>waste_reduction: 71,670 tons/year sugar cane r...</td>\n",
       "      <td>[biomass power generation, waste_reduction 71 ...</td>\n",
       "      <td>[Environmental, Environmental, Environmental, ...</td>\n",
       "      <td>[energy consumption, organic pollutants, recyc...</td>\n",
       "      <td>[0.7994809, 0.47750506, 0.42381394, 0.46169093...</td>\n",
       "      <td>[energy consumption, organic pollutants, recyc...</td>\n",
       "      <td>[Environmental, Environmental, Environmental, ...</td>\n",
       "    </tr>\n",
       "    <tr>\n",
       "      <th>124</th>\n",
       "      <td>the amount of fossil-based electricity has bee...</td>\n",
       "      <td>[fossil based electricity reduced 91, percent ...</td>\n",
       "      <td>[Environmental, Economic, Environmental, Envir...</td>\n",
       "      <td>[energy consumption, third-party sales, energy...</td>\n",
       "      <td>[0.78861237, 0.47423828, 0.7629609, 0.76556104...</td>\n",
       "      <td>[energy consumption, third-party sales, energy...</td>\n",
       "      <td>[Environmental, Economic, Environmental, Envir...</td>\n",
       "    </tr>\n",
       "    <tr>\n",
       "      <th>125</th>\n",
       "      <td>since 2015, use has been reduced by 26 percent...</td>\n",
       "      <td>[biofuels th ghg_emissions nccs operations, op...</td>\n",
       "      <td>[Environmental, Economic, Economic, Environmen...</td>\n",
       "      <td>[GHG emissions, operation costs, Corporate inc...</td>\n",
       "      <td>[0.8240893, 0.4197875, 0.3660173, 0.78465533, ...</td>\n",
       "      <td>[GHG emissions, operation costs, Corporate inc...</td>\n",
       "      <td>[Environmental, Economic, Economic, Environmen...</td>\n",
       "    </tr>\n",
       "  </tbody>\n",
       "</table>\n",
       "<p>126 rows × 7 columns</p>\n",
       "</div>\n",
       "      <button class=\"colab-df-convert\" onclick=\"convertToInteractive('df-1a78877d-e15e-4d5f-b5be-f8f3fbd161d2')\"\n",
       "              title=\"Convert this dataframe to an interactive table.\"\n",
       "              style=\"display:none;\">\n",
       "        \n",
       "  <svg xmlns=\"http://www.w3.org/2000/svg\" height=\"24px\"viewBox=\"0 0 24 24\"\n",
       "       width=\"24px\">\n",
       "    <path d=\"M0 0h24v24H0V0z\" fill=\"none\"/>\n",
       "    <path d=\"M18.56 5.44l.94 2.06.94-2.06 2.06-.94-2.06-.94-.94-2.06-.94 2.06-2.06.94zm-11 1L8.5 8.5l.94-2.06 2.06-.94-2.06-.94L8.5 2.5l-.94 2.06-2.06.94zm10 10l.94 2.06.94-2.06 2.06-.94-2.06-.94-.94-2.06-.94 2.06-2.06.94z\"/><path d=\"M17.41 7.96l-1.37-1.37c-.4-.4-.92-.59-1.43-.59-.52 0-1.04.2-1.43.59L10.3 9.45l-7.72 7.72c-.78.78-.78 2.05 0 2.83L4 21.41c.39.39.9.59 1.41.59.51 0 1.02-.2 1.41-.59l7.78-7.78 2.81-2.81c.8-.78.8-2.07 0-2.86zM5.41 20L4 18.59l7.72-7.72 1.47 1.35L5.41 20z\"/>\n",
       "  </svg>\n",
       "      </button>\n",
       "      \n",
       "  <style>\n",
       "    .colab-df-container {\n",
       "      display:flex;\n",
       "      flex-wrap:wrap;\n",
       "      gap: 12px;\n",
       "    }\n",
       "\n",
       "    .colab-df-convert {\n",
       "      background-color: #E8F0FE;\n",
       "      border: none;\n",
       "      border-radius: 50%;\n",
       "      cursor: pointer;\n",
       "      display: none;\n",
       "      fill: #1967D2;\n",
       "      height: 32px;\n",
       "      padding: 0 0 0 0;\n",
       "      width: 32px;\n",
       "    }\n",
       "\n",
       "    .colab-df-convert:hover {\n",
       "      background-color: #E2EBFA;\n",
       "      box-shadow: 0px 1px 2px rgba(60, 64, 67, 0.3), 0px 1px 3px 1px rgba(60, 64, 67, 0.15);\n",
       "      fill: #174EA6;\n",
       "    }\n",
       "\n",
       "    [theme=dark] .colab-df-convert {\n",
       "      background-color: #3B4455;\n",
       "      fill: #D2E3FC;\n",
       "    }\n",
       "\n",
       "    [theme=dark] .colab-df-convert:hover {\n",
       "      background-color: #434B5C;\n",
       "      box-shadow: 0px 1px 3px 1px rgba(0, 0, 0, 0.15);\n",
       "      filter: drop-shadow(0px 1px 2px rgba(0, 0, 0, 0.3));\n",
       "      fill: #FFFFFF;\n",
       "    }\n",
       "  </style>\n",
       "\n",
       "      <script>\n",
       "        const buttonEl =\n",
       "          document.querySelector('#df-1a78877d-e15e-4d5f-b5be-f8f3fbd161d2 button.colab-df-convert');\n",
       "        buttonEl.style.display =\n",
       "          google.colab.kernel.accessAllowed ? 'block' : 'none';\n",
       "\n",
       "        async function convertToInteractive(key) {\n",
       "          const element = document.querySelector('#df-1a78877d-e15e-4d5f-b5be-f8f3fbd161d2');\n",
       "          const dataTable =\n",
       "            await google.colab.kernel.invokeFunction('convertToInteractive',\n",
       "                                                     [key], {});\n",
       "          if (!dataTable) return;\n",
       "\n",
       "          const docLinkHtml = 'Like what you see? Visit the ' +\n",
       "            '<a target=\"_blank\" href=https://colab.research.google.com/notebooks/data_table.ipynb>data table notebook</a>'\n",
       "            + ' to learn more about interactive tables.';\n",
       "          element.innerHTML = '';\n",
       "          dataTable['output_type'] = 'display_data';\n",
       "          await google.colab.output.renderOutput(dataTable, element);\n",
       "          const docLink = document.createElement('div');\n",
       "          docLink.innerHTML = docLinkHtml;\n",
       "          element.appendChild(docLink);\n",
       "        }\n",
       "      </script>\n",
       "    </div>\n",
       "  </div>\n",
       "  "
      ],
      "text/plain": [
       "                                             Sentences  \\\n",
       "0    62.2% use of electricity from renewable_source...   \n",
       "1    at present, the energy expenditure has been re...   \n",
       "2    170 business leaders call on eu decision-maker...   \n",
       "3    taking the tolerance values of the measuring s...   \n",
       "4    with the help of energy management, the divisi...   \n",
       "..                                                 ...   \n",
       "121  a forest plantation managed by new forests in ...   \n",
       "122  waste_reduction, recycling business initiative...   \n",
       "123  waste_reduction: 71,670 tons/year sugar cane r...   \n",
       "124  the amount of fossil-based electricity has bee...   \n",
       "125  since 2015, use has been reduced by 26 percent...   \n",
       "\n",
       "                                           Key_Phrases  \\\n",
       "0    [electricity renewable_sources achieved total ...   \n",
       "1    [present energy expenditure reduced 15, expend...   \n",
       "2    [support greenhouse gas ghg emissions, reducti...   \n",
       "3    [reference estimated managed reduce emission, ...   \n",
       "4    [reduce energy consumption 1000 mwh, compared ...   \n",
       "..                                                 ...   \n",
       "121  [carbon dioxide annually estimated carbon, pla...   \n",
       "122  [waste_reduction recycling business initiative...   \n",
       "123  [biomass power generation, waste_reduction 71 ...   \n",
       "124  [fossil based electricity reduced 91, percent ...   \n",
       "125  [biofuels th ghg_emissions nccs operations, op...   \n",
       "\n",
       "                                          ESG_Category  \\\n",
       "0    [Environmental, Environmental, Environmental, ...   \n",
       "1    [Environmental, Economic, Environmental, Envir...   \n",
       "2    [Environmental, Governance, Environmental, Env...   \n",
       "3    [Environmental, Environmental, Economic, Envir...   \n",
       "4    [Environmental, Economic, Environmental, Envir...   \n",
       "..                                                 ...   \n",
       "121  [Environmental, Environmental, Environmental, ...   \n",
       "122  [Environmental, Environmental, Environmental, ...   \n",
       "123  [Environmental, Environmental, Environmental, ...   \n",
       "124  [Environmental, Economic, Environmental, Envir...   \n",
       "125  [Environmental, Economic, Economic, Environmen...   \n",
       "\n",
       "                                            Mapped_KPI  \\\n",
       "0    [energy consumption, energy consumption, energ...   \n",
       "1    [energy consumption, Corporate income tax, ene...   \n",
       "2    [GHG emissions, net revenues, GHG emissions, G...   \n",
       "3    [GHG emissions, GHG emissions, Corporate incom...   \n",
       "4    [energy consumption, community investments, en...   \n",
       "..                                                 ...   \n",
       "121  [GHG emissions, restored habitat areas, recycl...   \n",
       "122  [recycled materials, non-renewable materials, ...   \n",
       "123  [energy consumption, organic pollutants, recyc...   \n",
       "124  [energy consumption, third-party sales, energy...   \n",
       "125  [GHG emissions, operation costs, Corporate inc...   \n",
       "\n",
       "                                      Similarity_Score  \\\n",
       "0    [0.91401374, 0.90717655, 0.836861, 0.97449636,...   \n",
       "1    [0.8970034, 0.51539993, 0.8052012, 0.8965416, ...   \n",
       "2    [0.69169486, 0.4378304, 0.77837104, 0.6697927,...   \n",
       "3    [0.6032284, 0.6493584, 0.53069377, 0.63353264,...   \n",
       "4    [0.9421796, 0.5854432, 0.72099483, 0.7198863, ...   \n",
       "..                                                 ...   \n",
       "121  [0.6681555, 0.6665286, 0.43836945, 0.56134325,...   \n",
       "122  [0.61960626, 0.7124392, 0.6900979, 0.70979166,...   \n",
       "123  [0.7994809, 0.47750506, 0.42381394, 0.46169093...   \n",
       "124  [0.78861237, 0.47423828, 0.7629609, 0.76556104...   \n",
       "125  [0.8240893, 0.4197875, 0.3660173, 0.78465533, ...   \n",
       "\n",
       "                                          Combined_KPI  \\\n",
       "0                                 [energy consumption]   \n",
       "1    [energy consumption, Corporate income tax, ene...   \n",
       "2    [GHG emissions, net revenues, GHG emissions, G...   \n",
       "3    [GHG emissions, GHG emissions, Corporate incom...   \n",
       "4    [energy consumption, community investments, en...   \n",
       "..                                                 ...   \n",
       "121  [GHG emissions, restored habitat areas, recycl...   \n",
       "122  [recycled materials, non-renewable materials, ...   \n",
       "123  [energy consumption, organic pollutants, recyc...   \n",
       "124  [energy consumption, third-party sales, energy...   \n",
       "125  [GHG emissions, operation costs, Corporate inc...   \n",
       "\n",
       "                                     Combined_Category  \n",
       "0                                      [Environmental]  \n",
       "1    [Environmental, Economic, Environmental, Envir...  \n",
       "2    [Environmental, Governance, Environmental, Env...  \n",
       "3    [Environmental, Environmental, Economic, Envir...  \n",
       "4    [Environmental, Economic, Environmental, Envir...  \n",
       "..                                                 ...  \n",
       "121                                    [Environmental]  \n",
       "122  [Environmental, Environmental, Environmental, ...  \n",
       "123  [Environmental, Environmental, Environmental, ...  \n",
       "124  [Environmental, Economic, Environmental, Envir...  \n",
       "125  [Environmental, Economic, Economic, Environmen...  \n",
       "\n",
       "[126 rows x 7 columns]"
      ]
     },
     "execution_count": 148,
     "metadata": {},
     "output_type": "execute_result"
    }
   ],
   "source": [
    "clean_sent_kpi"
   ]
  },
  {
   "cell_type": "markdown",
   "metadata": {
    "id": "0w5hw_6U1uno"
   },
   "source": [
    "## Map Granular KPI Using Mapped ESG Category"
   ]
  },
  {
   "cell_type": "code",
   "execution_count": 183,
   "metadata": {
    "colab": {
     "base_uri": "https://localhost:8080/"
    },
    "id": "vFB7HUB11eGy",
    "outputId": "d7f7f73b-9f74-4fc9-dc3d-a50bbd493d4d"
   },
   "outputs": [
    {
     "data": {
      "text/plain": [
       "Index(['Description of KPI', 'KPI', 'ESG category', 'category',\n",
       "       'gri_disclosure_sub_code', 'combined_kpi'],\n",
       "      dtype='object')"
      ]
     },
     "execution_count": 183,
     "metadata": {},
     "output_type": "execute_result"
    }
   ],
   "source": [
    "# CURATED KPI LIST\n",
    "\n",
    "granular_kpi_df = pd.read_csv('/content/drive/MyDrive/Colab Notebooks/ESG_KPI_Omdena/Data/Granular KPI list.csv')\n",
    "granular_kpi_df.fillna(' ',inplace=True)\n",
    "granular_kpi_df['combined_kpi'] = granular_kpi_df['KPI']+\" \"+ granular_kpi_df['Description of KPI']\n",
    "granular_kpi_df.rename(columns = {'ESG':\"ESG category\"},inplace=True)\n",
    "granular_kpi_df.columns"
   ]
  },
  {
   "cell_type": "code",
   "execution_count": 185,
   "metadata": {
    "id": "I_DN-yf845Lf"
   },
   "outputs": [],
   "source": [
    "#Generate KPI , Similarity Scores , ESG Category Mappings\n",
    "key_phrase_list = clean_sent_kpi['Key_Phrases']\n",
    "\n",
    "kpi_df = pd.DataFrame(columns=['Granular_KPI','Granular_Similarity_Score'])\n",
    "for ind, key_phrases in enumerate(key_phrase_list):\n",
    "  kpi_list = []\n",
    "  score_list = []\n",
    "  esg_cat_list = clean_sent_kpi['Combined_Category'].iloc[ind]\n",
    "  if len(esg_cat_list) == 1:\n",
    "    key_phrase = \" \".join(key_phrases[:3])\n",
    "    category_kpi_df = granular_kpi_df[granular_kpi_df['ESG category']==esg_cat_list[0]]\n",
    "    kpi, sim_score, _ = get_sentences_kpi(model_class, key_phrase, category_kpi_df)\n",
    "    kpi_list.append(kpi)\n",
    "    score_list.append(sim_score)\n",
    "  else:\n",
    "    for j,key_phrase in enumerate(key_phrases):\n",
    "      category_kpi_df = granular_kpi_df[granular_kpi_df['ESG category']==esg_cat_list[j]]\n",
    "      kpi, sim_score, category = get_sentences_kpi(model_class, key_phrase,category_kpi_df)\n",
    "      kpi_list.append(kpi)\n",
    "      score_list.append(sim_score)\n",
    "  kpi_df.at[ind, 'Granular_KPI'] = kpi_list\n",
    "  kpi_df.at[ind, 'Granular_Similarity_Score'] = score_list"
   ]
  },
  {
   "cell_type": "code",
   "execution_count": 191,
   "metadata": {
    "id": "I-FT6UnE7-qt"
   },
   "outputs": [],
   "source": [
    "clean_sent_gen_gran_kpi = pd.concat([clean_sent_kpi,kpi_df],axis=1)\n",
    "clean_sent_gen_gran_kpi.to_excel('Clean_Sentences_Generic_Granular_KPI.xlsx')\n",
    "clean_sent_gen_gran_kpi"
   ]
  },
  {
   "cell_type": "code",
   "execution_count": 140,
   "metadata": {
    "id": "TH1bayZl92KB"
   },
   "outputs": [],
   "source": [
    "# #MAX SUM\n",
    "# kw_model = KeyBERT(model= model)\n",
    "# keywords = kw_model.extract_keywords(doc, keyphrase_ngram_range=(2, 4), stop_words='english',\n",
    "#                               use_maxsum=True, nr_candidates=15, top_n=5)"
   ]
  }
 ],
 "metadata": {
  "accelerator": "GPU",
  "colab": {
   "collapsed_sections": [],
   "name": "ESG_BERT_TOPIC_ KPI.ipynb",
   "provenance": [],
   "toc_visible": true
  },
  "gpuClass": "standard",
  "kernelspec": {
   "display_name": "Python 3",
   "language": "python",
   "name": "python3"
  },
  "language_info": {
   "codemirror_mode": {
    "name": "ipython",
    "version": 3
   },
   "file_extension": ".py",
   "mimetype": "text/x-python",
   "name": "python",
   "nbconvert_exporter": "python",
   "pygments_lexer": "ipython3",
   "version": "3.9.12"
  }
 },
 "nbformat": 4,
 "nbformat_minor": 1
}
