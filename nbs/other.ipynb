{
 "cells": [
  {
   "cell_type": "code",
   "execution_count": 119,
   "id": "2b3b0b21",
   "metadata": {},
   "outputs": [
    {
     "name": "stderr",
     "output_type": "stream",
     "text": [
      "[cellevents:43:INFO]:starting (time=Jun-19 18:51 MainProcess)\n"
     ]
    },
    {
     "name": "stdout",
     "output_type": "stream",
     "text": [
      "time: 1.08 s\n"
     ]
    }
   ],
   "source": [
    "from ipstartup import *\n",
    "from pipe import *\n",
    "import spacy\n",
    "from spacy import displacy\n",
    "#log.setLevel(logging.DEBUG)\n",
    "os.chdir(\"/mnt/d/data1/reports\")\n",
    "nlp = spacy.load(\"en_core_web_sm\")\n",
    "\n",
    "# TEXT. poor OCR in some places including dates\n",
    "f1 = \"0a4b2b4d-8131-446f-acda-e4c2ec109663.pdf\"\n",
    "# IMAGE. OCRed in chat\n",
    "f2 = \"c588477d-366b-4613-abfc-c4c052e49c74.pdf\"\n",
    "# TEXT\n",
    "f3 = \"0a5351eb-6061-49cb-8d3a-2ad75a924ff7.pdf\"\n",
    "# text only includes the sustainability part of the report\n",
    "f4 = \"0dbd0328-6b3f-46fd-86dd-5dd09923adb4.pdf\""
   ]
  },
  {
   "cell_type": "markdown",
   "id": "84bacc09",
   "metadata": {
    "heading_collapsed": true
   },
   "source": [
    "# load text pdftotext"
   ]
  },
  {
   "cell_type": "code",
   "execution_count": null,
   "id": "0f2a4b67",
   "metadata": {
    "hidden": true
   },
   "outputs": [],
   "source": [
    "# FAILS WITH COLUMN BLENDING"
   ]
  },
  {
   "cell_type": "code",
   "execution_count": 17,
   "id": "e60c0623",
   "metadata": {
    "hidden": true
   },
   "outputs": [
    {
     "name": "stdout",
     "output_type": "stream",
     "text": [
      "283\n"
     ]
    }
   ],
   "source": [
    "\n",
    "with open(f\"/mnt/d/data1/reports/{f}\", \"rb\") as f:\n",
    "    pdf = pdftotext.PDF(f)\n",
    "print(len(pdf))\n",
    "text = \"\\n\".join(pdf)"
   ]
  },
  {
   "cell_type": "code",
   "execution_count": 18,
   "id": "40d40001",
   "metadata": {
    "hidden": true
   },
   "outputs": [
    {
     "name": "stdout",
     "output_type": "stream",
     "text": [
      "130\n"
     ]
    }
   ],
   "source": [
    "print(text.find(\"the\"))"
   ]
  },
  {
   "cell_type": "code",
   "execution_count": 8,
   "id": "309f152b",
   "metadata": {
    "hidden": true
   },
   "outputs": [
    {
     "data": {
      "text/plain": [
       "1340715"
      ]
     },
     "execution_count": 8,
     "metadata": {},
     "output_type": "execute_result"
    }
   ],
   "source": [
    "len(text)"
   ]
  },
  {
   "cell_type": "code",
   "execution_count": 29,
   "id": "c5f8050a",
   "metadata": {
    "hidden": true
   },
   "outputs": [
    {
     "data": {
      "text/plain": [
       "'project work, HOCHTIEF therefore adopts\\n outcomes of the policies, or         a 360-degree, solution-driven approach, taking the en-    In our project activities, we make the best possible al-\\n risks) relating to BICC, as no\\n policy for the non-financial as-     tire project life cycle into account. As part of this ap- lowance for social and environmental impacts from an\\n pects has been or is pursued\\n for this part of the Group. No       proach, we also seek to balance economic, environ-        early stage. Wherever practicable, aspects such as en-\\n non-financial information has        mental, and social dimensions (see chart). This calls for vironmental protection as well as occupational safety\\n been reported to HOCHTIEF.\\n                                      dialog with the various stakeholders, which we con-       and health are integrated right from the planning\\n                                     duct openly and in a spirit of partnership. It is our ap-  stage.2) During the reporting year, we carried out a re-\\n2)\\n    For further information on the\\nregulations, please see the Oc-\\n                                     proach to combine economical, ecological and social        search project with Zeppelin University (Frie-\\ncupational Safety and Health         aspects. In this way, we are able to take on board their   drichshafen, Germany). Its aim was to develop a pro-\\nsection and the Environmental\\nProtection section.                  diverse expectations and requirements in the planning      cess to render project sustainability performance\\n                                     and execution phase while minimizing risks. A range of     measurable. Based on two transportation infrastructure\\n 1)\\n    See glossary.                    different contracting models, including the PreFair        projects in Germany, the exemplary research involved\\n                                     model1) developed by HOCHTIEF, foster dialog with cli-     tracking and linking indicator'"
      ]
     },
     "execution_count": 29,
     "metadata": {},
     "output_type": "execute_result"
    }
   ],
   "source": [
    "text[start:start+2000]"
   ]
  },
  {
   "cell_type": "markdown",
   "id": "3fdbfbf7",
   "metadata": {},
   "source": [
    "# ghostscript"
   ]
  },
  {
   "cell_type": "code",
   "execution_count": 58,
   "id": "b34e806d",
   "metadata": {},
   "outputs": [
    {
     "data": {
      "text/plain": [
       "'gs -q -dLastPage=3 -dNODISPLAY -dSAFER -dDELAYBIND -dWRITESYSTEMDICT -dSIMPLE -c save -f ps2ascii.ps /mnt/d/data1/reports/0dbd0328-6b3f-46fd-86dd-5dd09923adb4.pdf -c quit >temp.txt'"
      ]
     },
     "execution_count": 58,
     "metadata": {},
     "output_type": "execute_result"
    }
   ],
   "source": [
    "f = f\"/mnt/d/data1/reports/{f}\"\n",
    "cmd = f\"gs -q -dLastPage=3 -dNODISPLAY -dSAFER -dDELAYBIND -dWRITESYSTEMDICT -dSIMPLE -c save -f ps2ascii.ps {f} -c quit >temp.txt\"\n",
    "cmd"
   ]
  },
  {
   "cell_type": "markdown",
   "id": "148979fc",
   "metadata": {},
   "source": [
    "# spacy"
   ]
  },
  {
   "cell_type": "code",
   "execution_count": 9,
   "id": "26dd9062",
   "metadata": {},
   "outputs": [],
   "source": [
    "# python -m spacy download en_core_web_sm\n",
    "import spacy\n",
    "nlp = spacy.load(\"en_core_web_sm\")"
   ]
  },
  {
   "cell_type": "code",
   "execution_count": 34,
   "id": "69d7dd49",
   "metadata": {},
   "outputs": [
    {
     "name": "stdout",
     "output_type": "stream",
     "text": [
      "[('xyz', 'GPE', 3, 4), ('10%', 'PERCENT', 5, 7), ('2025', 'DATE', 8, 9)]\n"
     ]
    }
   ],
   "source": [
    "text = 'reduce emissions in xyz division 10% by 2025'\n",
    "doc = nlp(text)\n",
    "print([(ent.text, ent.label_, ent.start, ent.end) for ent in doc.ents])"
   ]
  },
  {
   "cell_type": "code",
   "execution_count": 27,
   "id": "3d5a10e1",
   "metadata": {},
   "outputs": [
    {
     "name": "stdout",
     "output_type": "stream",
     "text": [
      "[('300km', 'QUANTITY', 2, 4), ('3rd June', 'DATE', 5, 7)]\n"
     ]
    }
   ],
   "source": [
    "text = 'he walked 300km on 3rd June'\n",
    "doc = nlp(text)\n",
    "print([(ent.text, ent.label_, ent.start, ent.end) for ent in doc.ents])"
   ]
  },
  {
   "cell_type": "code",
   "execution_count": null,
   "id": "f4e44cb7",
   "metadata": {},
   "outputs": [],
   "source": [
    "\"\"\"            SPACY                 DUCKLING\n",
    "start/end      words                 characters\n",
    "quantity/units together              separate\n",
    "percentage     entity                number\n",
    "time           raw text              plus datetime, from/to\n",
    "org            yes                   no\n",
    "\"\"\""
   ]
  },
  {
   "cell_type": "code",
   "execution_count": null,
   "id": "b0a9d49b",
   "metadata": {},
   "outputs": [],
   "source": [
    "sbd = nlp.add_pipe('sentencizer')\n",
    "doc = nlp(text)\n",
    "sents = list(doc.sents)\n",
    "print(sents)"
   ]
  },
  {
   "cell_type": "markdown",
   "id": "c9cabbbd",
   "metadata": {},
   "source": [
    "# duckling"
   ]
  },
  {
   "cell_type": "code",
   "execution_count": 14,
   "id": "d3218851",
   "metadata": {},
   "outputs": [],
   "source": [
    "# docker run -d --name duckling --restart=always --port 8000:8000 rasa/duckling\n",
    "import requests\n",
    "def duck(text):\n",
    "    return requests.post(\"http://localhost:8000/parse\", data=dict(text=text)).json()"
   ]
  },
  {
   "cell_type": "code",
   "execution_count": 18,
   "id": "faa4c1af",
   "metadata": {},
   "outputs": [
    {
     "data": {
      "text/plain": [
       "[{'body': '300km',\n",
       "  'start': 0,\n",
       "  'value': {'value': 300, 'type': 'value', 'unit': 'kilometre'},\n",
       "  'end': 5,\n",
       "  'dim': 'distance',\n",
       "  'latent': False}]"
      ]
     },
     "execution_count": 18,
     "metadata": {},
     "output_type": "execute_result"
    }
   ],
   "source": [
    "duck(\"300km\")"
   ]
  },
  {
   "cell_type": "code",
   "execution_count": 26,
   "id": "dc0175ad",
   "metadata": {},
   "outputs": [
    {
     "data": {
      "text/plain": [
       "[{'body': '10',\n",
       "  'start': 33,\n",
       "  'value': {'value': 10, 'type': 'value'},\n",
       "  'end': 35,\n",
       "  'dim': 'number',\n",
       "  'latent': False},\n",
       " {'body': 'by 2025',\n",
       "  'start': 37,\n",
       "  'value': {'values': [{'to': {'value': '2025-01-01T00:00:00.000-08:00',\n",
       "      'grain': 'second'},\n",
       "     'from': {'value': '2022-06-17T06:36:45.599-07:00', 'grain': 'second'},\n",
       "     'type': 'interval'}],\n",
       "   'to': {'value': '2025-01-01T00:00:00.000-08:00', 'grain': 'second'},\n",
       "   'from': {'value': '2022-06-17T06:36:45.599-07:00', 'grain': 'second'},\n",
       "   'type': 'interval'},\n",
       "  'end': 44,\n",
       "  'dim': 'time',\n",
       "  'latent': False}]"
      ]
     },
     "execution_count": 26,
     "metadata": {},
     "output_type": "execute_result"
    }
   ],
   "source": [
    "text = 'reduce emissions in xyz division 10% by 2025'\n",
    "doc = duck(text)\n",
    "doc"
   ]
  }
 ],
 "metadata": {
  "kernelspec": {
   "display_name": "Python 3",
   "language": "python",
   "name": "python3"
  },
  "language_info": {
   "codemirror_mode": {
    "name": "ipython",
    "version": 3
   },
   "file_extension": ".py",
   "mimetype": "text/x-python",
   "name": "python",
   "nbconvert_exporter": "python",
   "pygments_lexer": "ipython3",
   "version": "3.9.12"
  }
 },
 "nbformat": 4,
 "nbformat_minor": 5
}
