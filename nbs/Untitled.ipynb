{
 "cells": [
  {
   "cell_type": "code",
   "execution_count": 5,
   "id": "f9ea5380",
   "metadata": {},
   "outputs": [
    {
     "name": "stderr",
     "output_type": "stream",
     "text": [
      "[cellevents:43:INFO]:starting (time=Jun-24 15:50 MainProcess)\n",
      "[668089148:14:INFO]:finished pike (time=Jun-24 15:50 MainProcess)\n"
     ]
    },
    {
     "name": "stdout",
     "output_type": "stream",
     "text": [
      "time: 13.2 s\n"
     ]
    }
   ],
   "source": [
    "from ipstartup import *\n",
    "import PyPDF2, pikepdf\n",
    "slab = \"/mnt/c/Users/simon/OneDrive/Documents/py/live/slab\"\n",
    "sys.path.append(slab)\n",
    "path = \"/mnt/d/data1\"\n",
    "os.makedirs(path, exist_ok=True)\n",
    "os.chdir(path)\n",
    "\n",
    "from pipeline.test1 import testflow\n",
    "f1 = \"reports/0a4b2b4d-8131-446f-acda-e4c2ec109663.pdf\"\n",
    "\n",
    "pdf = PyPDF2.PdfFileReader(f1)\n",
    "pikepdf.Pdf.open(f1).save(\"temp\")\n",
    "log.info(\"finished pike\")"
   ]
  }
 ],
 "metadata": {
  "kernelspec": {
   "display_name": "Python 3",
   "language": "python",
   "name": "python3"
  },
  "language_info": {
   "codemirror_mode": {
    "name": "ipython",
    "version": 3
   },
   "file_extension": ".py",
   "mimetype": "text/x-python",
   "name": "python",
   "nbconvert_exporter": "python",
   "pygments_lexer": "ipython3",
   "version": "3.9.12"
  }
 },
 "nbformat": 4,
 "nbformat_minor": 5
}
