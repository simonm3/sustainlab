{
 "cells": [
  {
   "cell_type": "code",
   "execution_count": 1,
   "id": "2b3b0b21",
   "metadata": {},
   "outputs": [
    {
     "name": "stderr",
     "output_type": "stream",
     "text": [
      "[defaultlog:22:INFO]:logging started from /mnt/c/users/simon/onedrive/documents/py/live/pyutils/defaultlog.py (time=Jun-19 20:03 MainProcess)\n"
     ]
    },
    {
     "data": {
      "text/html": [
       "<style>audio{display:none}</style>"
      ],
      "text/plain": [
       "<IPython.core.display.HTML object>"
      ]
     },
     "metadata": {},
     "output_type": "display_data"
    }
   ],
   "source": [
    "from ipstartup import *\n",
    "from pipe import *\n",
    "import pandas as pd\n",
    "#log.setLevel(logging.DEBUG)\n",
    "os.chdir(\"/mnt/d/data1/reports\")"
   ]
  },
  {
   "cell_type": "code",
   "execution_count": 2,
   "id": "3e327a80",
   "metadata": {},
   "outputs": [
    {
     "name": "stderr",
     "output_type": "stream",
     "text": [
      "[cellevents:43:INFO]:starting (time=Jun-19 20:03 MainProcess)\n"
     ]
    },
    {
     "data": {
      "text/plain": [
       "102     at its first meeting on j anuary 27, 2020, the...\n",
       "170     the group controller updated the audit and ris...\n",
       "222     as there is no control and / or profit and los...\n",
       "247     hereinafter the committee reports, pursuant to...\n",
       "261     cumulative shareholder r eturn in 960 in 2020 ...\n",
       "                              ...                        \n",
       "4811    on j anuary 31, 2019, the executive board set ...\n",
       "4814    implementing g erman gender quota legislation ...\n",
       "4827    also in light of the legal requirements to be ...\n",
       "4832    for the election proposals to the general meet...\n",
       "4917    target for status as of status as of female pe...\n",
       "Name: sentences, Length: 64, dtype: object"
      ]
     },
     "execution_count": 2,
     "metadata": {},
     "output_type": "execute_result"
    },
    {
     "name": "stdout",
     "output_type": "stream",
     "text": [
      "time: 218 ms\n"
     ]
    }
   ],
   "source": [
    "f = \"/mnt/d/data1/reports/0a4b2b4d-8131-446f-acda-e4c2ec109663_topics.csv\"\n",
    "df = pd.read_csv(f)\n",
    "df[df.sentences.str.find(\"anuary\")>=0].sentences"
   ]
  },
  {
   "cell_type": "code",
   "execution_count": 14,
   "id": "0610d12c",
   "metadata": {},
   "outputs": [
    {
     "name": "stderr",
     "output_type": "stream",
     "text": [
      "[cellevents:43:INFO]:starting (time=Jun-19 20:08 MainProcess)\n"
     ]
    },
    {
     "data": {
      "text/plain": [
       "(1294, 4955)"
      ]
     },
     "execution_count": 14,
     "metadata": {},
     "output_type": "execute_result"
    },
    {
     "name": "stdout",
     "output_type": "stream",
     "text": [
      "time: 7.72 ms\n"
     ]
    }
   ],
   "source": [
    "sum(df.subtopics>=1), len(df)"
   ]
  },
  {
   "cell_type": "code",
   "execution_count": 11,
   "id": "28d6b53f",
   "metadata": {},
   "outputs": [
    {
     "name": "stderr",
     "output_type": "stream",
     "text": [
      "[cellevents:43:INFO]:starting (time=Jun-19 20:06 MainProcess)\n"
     ]
    },
    {
     "data": {
      "text/plain": [
       "4955"
      ]
     },
     "metadata": {},
     "output_type": "display_data"
    },
    {
     "data": {
      "text/plain": [
       "0.0    73\n",
       "1.0    21\n",
       "2.0     3\n",
       "3.0     0\n",
       "5.0     0\n",
       "4.0     0\n",
       "6.0     0\n",
       "8.0     0\n",
       "9.0     0\n",
       "Name: subtopics, dtype: int64"
      ]
     },
     "execution_count": 11,
     "metadata": {},
     "output_type": "execute_result"
    },
    {
     "name": "stdout",
     "output_type": "stream",
     "text": [
      "time: 30.4 ms\n"
     ]
    }
   ],
   "source": [
    "# value counts for unique subtopics\n",
    "df[\"subtopics\"] = df[df.Sub_Topics.notnull()].Sub_Topics.str.split(\",\").apply(set).apply(list).apply(len)\n",
    "df.subtopics = df.subtopics.fillna(0)\n",
    "vc = df.subtopics.value_counts()\n",
    "d(vc.sum())\n",
    "(vc/vc.sum()*100).astype(int)"
   ]
  },
  {
   "cell_type": "code",
   "execution_count": 12,
   "id": "269588d8",
   "metadata": {},
   "outputs": [
    {
     "name": "stderr",
     "output_type": "stream",
     "text": [
      "[cellevents:43:INFO]:starting (time=Jun-19 19:42 MainProcess)\n"
     ]
    },
    {
     "name": "stdout",
     "output_type": "stream",
     "text": [
      "internal audit prepares written reports on each audit with submission to the responsible senior management the reports include the audit subject, results evaluation, findings and remedial actions or recommendations for the findings.\n",
      "Sustainable Economic Performance,Employee Engagement & Diversity & Inclusion\n",
      "*****************\n",
      "deferred tax assets: unused tax losses deductible temporary differences: employee_benefits, including equity settled share based payments trading activities, including derivatives leases intangible assets accrued interest expense other assets total deferred tax assets pre offsetting deferred tax liabilities: taxable temporary differences: employee_benefits, including equity settled share based payments trading activities, including derivatives leases intangible assets fair value oci (ifrs 9) other assets total deferred tax liabilities pre offsetting deferred tax assets and liabilities, after offsetting inem.\n",
      "Employee Engagement & Diversity & Inclusion,Sustainable Economic Performance\n",
      "*****************\n",
      "#NAME?\n",
      "Materials,Waste\n",
      "*****************\n",
      "finally, the audit and risk committee and the executive board provide senior oversight and governance of the financial reporting process including sign off of the consolidated financial statements for the group.\n",
      "Sustainable Economic Performance,Employee Engagement & Diversity & Inclusion\n",
      "*****************\n",
      "a robust and consistent client complaint handling and reporting process helps facilitate improvement in client satisfaction by identifying, and remediating poor client outcomes, learning from and, thereby assisting with the reduction of dws 1-summarized management report [responsibility around our fiduciary value chain] annual report 2020 sustainable_finance, esg products and responsible investing mistakes and attributable costs, risk ttansparency enhancement and management information.\n",
      "Sustainable Economic Performance,Materials\n",
      "*****************\n",
      "time: 10.7 ms\n"
     ]
    }
   ],
   "source": [
    "# 1/2 wrong; 2/2 wrong non-sentence; 2/2 wrong non-sentence; 1/2 wrong; 1/2 wrong\n",
    "np.random.seed(0)\n",
    "sample = df[df.subtopics==2].sample(5)\n",
    "for i,row in sample.iterrows():\n",
    "    print(row.sentences)\n",
    "    print(row.Sub_Topics)\n",
    "    print(\"*****************\")"
   ]
  }
 ],
 "metadata": {
  "kernelspec": {
   "display_name": "Python 3",
   "language": "python",
   "name": "python3"
  },
  "language_info": {
   "codemirror_mode": {
    "name": "ipython",
    "version": 3
   },
   "file_extension": ".py",
   "mimetype": "text/x-python",
   "name": "python",
   "nbconvert_exporter": "python",
   "pygments_lexer": "ipython3",
   "version": "3.9.12"
  }
 },
 "nbformat": 4,
 "nbformat_minor": 5
}
