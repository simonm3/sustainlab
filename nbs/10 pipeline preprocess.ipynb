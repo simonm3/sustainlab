{
 "cells": [
  {
   "cell_type": "code",
   "execution_count": 1,
   "id": "bc68293e",
   "metadata": {},
   "outputs": [
    {
     "name": "stderr",
     "output_type": "stream",
     "text": [
      "[defaultlog:22:INFO]:logging started from /mnt/c/users/simon/onedrive/documents/py/live/pyutils/defaultlog.py (time=Jul-04 14:08 MainProcess)\n"
     ]
    },
    {
     "data": {
      "text/html": [
       "<style>audio{display:none}</style>"
      ],
      "text/plain": [
       "<IPython.core.display.HTML object>"
      ]
     },
     "metadata": {},
     "output_type": "display_data"
    },
    {
     "name": "stderr",
     "output_type": "stream",
     "text": [
      "[__init__:115:INFO]:prefect.skiptask will be used to control task flows (time=Jul-04 14:08 MainProcess)\n"
     ]
    }
   ],
   "source": [
    "from ipstartup import *\n",
    "croot = \"c:\" if os.name==\"nt\" else \"/mnt/c\"\n",
    "droot = \"d:\" if os.name==\"nt\" else \"/mnt/d\"\n",
    "slab = f\"{croot}/Users/simon/OneDrive/Documents/py/live/slab\"\n",
    "data = f\"{droot}/data1\"\n",
    "sys.path.append(slab)\n",
    "os.chdir(data)\n",
    "\n",
    "#os.environ[\"PREFECTX\"] = \"cache\"\n",
    "from pipeline.tasks import *\n",
    "from pipeline.flows import *\n",
    "from glob import glob\n",
    "#log.setLevel(logging.DEBUG)\n",
    "limit = 10"
   ]
  },
  {
   "cell_type": "code",
   "execution_count": 2,
   "id": "af55ba1c",
   "metadata": {},
   "outputs": [
    {
     "name": "stderr",
     "output_type": "stream",
     "text": [
      "[cellevents:43:INFO]:starting (time=Jul-04 14:08 MainProcess)\n"
     ]
    },
    {
     "name": "stdout",
     "output_type": "stream",
     "text": [
      "time: 1.86 ms\n"
     ]
    }
   ],
   "source": [
    "# for f in glob(\"reports/*.pdf\"):\n",
    "#     decrypt(f)"
   ]
  },
  {
   "cell_type": "code",
   "execution_count": 3,
   "id": "1d2c4cf9",
   "metadata": {},
   "outputs": [
    {
     "name": "stderr",
     "output_type": "stream",
     "text": [
      "[cellevents:43:INFO]:starting (time=Jul-04 14:08 MainProcess)\n",
      "14:08 | INFO    prefect.engine | Created flow run 'stereotyped-shark' for flow 'extract' [engine/180]\n",
      "14:08 | INFO    Flow run | 'stereotyped-shark' - Using task runner 'DaskTaskRunner'\n",
      "14:08 | INFO    prefect.task_runner.dask | Creating a new Dask cluster with `distributed.deploy.local.LocalCluster` [task_runners/460]\n",
      "14:08 | WARNING bokeh.server.util | Host wildcard '*' will allow connections originating from multiple (or possibly all) hostnames or IPs. Use non-wildcard values to restrict access explicitly [util/145]\n",
      "14:09 | INFO    prefect.task_runner.dask | The Dask dashboard is available at http://127.0.0.1:8787/status [task_runners/476]\n",
      "14:09 | WARNING Flow run | 'stereotyped-shark' - No default storage is configured on the server. Results from this flow run will be stored in a temporary directory in its runtime environment.\n",
      "14:09 | INFO    Flow run | 'stereotyped-shark' - Created task run 'pdf2text-c2485e47-0' for task 'pdf2text'\n",
      "14:09 | INFO    pipeline.tasks | HELLO****************************** [tasks/35]\n",
      "14:09 | WARNING pipeline.tasks | HELLO****************************** 20 [tasks/36]\n",
      "/home/simon/anaconda3/lib/python3.9/site-packages/PyPDF2/_reader.py:1351: PdfReadWarning: Xref table not zero-indexed. ID numbers for objects will be corrected.\n",
      "  warnings.warn(\n",
      "14:09 | INFO    Task run | 'pdf2text-c2485e47-0' - Finished in state Completed()\n",
      "14:09 | INFO    Flow run | 'stereotyped-shark' - Finished in state Completed('All states completed.')\n"
     ]
    },
    {
     "data": {
      "text/plain": [
       "Completed(message='All states completed.', type=COMPLETED, result=[Completed(message=None, type=COMPLETED, result=Filestore(working/pdf2text/6aadd6ef-5367-4f99-a2b1-634ae72b54b0), task_run_id=100c01d8-b258-44c4-a4b4-e62355480913)], flow_run_id=a893e9d3-a44a-4aef-b4ff-013dc8d70288)"
      ]
     },
     "execution_count": 3,
     "metadata": {},
     "output_type": "execute_result"
    },
    {
     "name": "stdout",
     "output_type": "stream",
     "text": [
      "time: 14.8 s\n"
     ]
    }
   ],
   "source": [
    "limit = 1\n",
    "files = glob(\"reports_decrypted/*\")\n",
    "np.random.seed(0)\n",
    "files = np.random.choice(files, limit).tolist()\n",
    "extract(files)"
   ]
  }
 ],
 "metadata": {
  "kernelspec": {
   "display_name": "Python 3",
   "language": "python",
   "name": "python3"
  },
  "language_info": {
   "codemirror_mode": {
    "name": "ipython",
    "version": 3
   },
   "file_extension": ".py",
   "mimetype": "text/x-python",
   "name": "python",
   "nbconvert_exporter": "python",
   "pygments_lexer": "ipython3",
   "version": "3.9.12"
  }
 },
 "nbformat": 4,
 "nbformat_minor": 5
}
