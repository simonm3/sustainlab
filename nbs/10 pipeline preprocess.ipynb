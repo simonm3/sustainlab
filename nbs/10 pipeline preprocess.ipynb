{
 "cells": [
  {
   "cell_type": "code",
   "execution_count": 1,
   "id": "f48a481b",
   "metadata": {},
   "outputs": [
    {
     "name": "stderr",
     "output_type": "stream",
     "text": [
      "[defaultlog:22:INFO]:logging started from /mnt/c/users/simon/onedrive/documents/py/live/pyutils/defaultlog.py (time=Jul-05 21:29 MainProcess)\n"
     ]
    },
    {
     "data": {
      "text/html": [
       "<style>audio{display:none}</style>"
      ],
      "text/plain": [
       "<IPython.core.display.HTML object>"
      ]
     },
     "metadata": {},
     "output_type": "display_data"
    },
    {
     "name": "stderr",
     "output_type": "stream",
     "text": [
      "[__init__:106:INFO]:cache will be used to control task flows (time=Jul-05 21:29 MainProcess)\n"
     ]
    }
   ],
   "source": [
    "from ipstartup import *\n",
    "croot = \"c:\" if os.name==\"nt\" else \"/mnt/c\"\n",
    "droot = \"d:\" if os.name==\"nt\" else \"/mnt/d\"\n",
    "slab = f\"{croot}/Users/simon/OneDrive/Documents/py/live/slab\"\n",
    "data = f\"{droot}/data1\"\n",
    "sys.path.append(slab)\n",
    "os.chdir(data)\n",
    "\n",
    "os.environ[\"PREFECTX\"] = \"cache\"\n",
    "from pipeline.tasks import *\n",
    "from pipeline.flows import *\n",
    "from glob import glob\n",
    "#log.setLevel(logging.DEBUG)\n",
    "limit = 5"
   ]
  },
  {
   "cell_type": "code",
   "execution_count": 2,
   "id": "d79314ee",
   "metadata": {},
   "outputs": [
    {
     "name": "stderr",
     "output_type": "stream",
     "text": [
      "[cellevents:43:INFO]:starting (time=Jul-05 21:22 MainProcess)\n"
     ]
    },
    {
     "name": "stdout",
     "output_type": "stream",
     "text": [
      "time: 5.22 ms\n"
     ]
    }
   ],
   "source": [
    "from prefect.client import get_client\n",
    "if os.environ.get(\"PREFECTX\", \"prefect.skiptask\").startswith(\"prefect\"):\n",
    "    try:\n",
    "        async with get_client() as client:\n",
    "            res = await client.delete_concurrency_limit_by_tag(\"sentence\")\n",
    "    except:\n",
    "        pass\n",
    "    async with get_client() as client:\n",
    "        limit_id = await client.create_concurrency_limit(tag=\"sentence\", concurrency_limit=1)\n",
    "    async with get_client() as client:\n",
    "        res = await client.read_concurrency_limits(100, 0)\n",
    "    res"
   ]
  },
  {
   "cell_type": "code",
   "execution_count": 3,
   "id": "af55ba1c",
   "metadata": {},
   "outputs": [
    {
     "name": "stderr",
     "output_type": "stream",
     "text": [
      "[cellevents:43:INFO]:starting (time=Jul-05 21:22 MainProcess)\n"
     ]
    },
    {
     "name": "stdout",
     "output_type": "stream",
     "text": [
      "time: 232 ms\n"
     ]
    }
   ],
   "source": [
    "for f in glob(\"reports/*.pdf\"):\n",
    "    decrypt(f)"
   ]
  },
  {
   "cell_type": "code",
   "execution_count": 4,
   "id": "1d2c4cf9",
   "metadata": {},
   "outputs": [
    {
     "name": "stderr",
     "output_type": "stream",
     "text": [
      "[cellevents:43:INFO]:starting (time=Jul-05 21:22 MainProcess)\n"
     ]
    },
    {
     "name": "stdout",
     "output_type": "stream",
     "text": [
      "time: 109 ms\n"
     ]
    }
   ],
   "source": [
    "files = glob(\"reports_decrypted/*\")\n",
    "np.random.seed(0)\n",
    "files = np.random.choice(files, limit).tolist()\n",
    "extract(files)\n",
    "extract_sl(files)"
   ]
  }
 ],
 "metadata": {
  "kernelspec": {
   "display_name": "Python 3",
   "language": "python",
   "name": "python3"
  },
  "language_info": {
   "codemirror_mode": {
    "name": "ipython",
    "version": 3
   },
   "file_extension": ".py",
   "mimetype": "text/x-python",
   "name": "python",
   "nbconvert_exporter": "python",
   "pygments_lexer": "ipython3",
   "version": "3.9.12"
  }
 },
 "nbformat": 4,
 "nbformat_minor": 5
}
