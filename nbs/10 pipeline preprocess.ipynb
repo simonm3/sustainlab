{
 "cells": [
  {
   "cell_type": "code",
   "execution_count": 1,
   "id": "2b3b0b21",
   "metadata": {},
   "outputs": [
    {
     "name": "stderr",
     "output_type": "stream",
     "text": [
      "[defaultlog:22:INFO]:logging started from c:\\users\\simon\\onedrive\\documents\\py\\live\\pyutils\\defaultlog.py (time=Jun-29 16:47 MainProcess)\n"
     ]
    },
    {
     "data": {
      "text/html": [
       "<style>audio{display:none}</style>"
      ],
      "text/plain": [
       "<IPython.core.display.HTML object>"
      ]
     },
     "metadata": {},
     "output_type": "display_data"
    },
    {
     "name": "stderr",
     "output_type": "stream",
     "text": [
      "[__init__:19:WARNING]:prefect is disabled as PREFECT_DISABLED environment variable exists (time=Jun-29 16:47 MainProcess)\n"
     ]
    }
   ],
   "source": [
    "from ipstartup import *\n",
    "croot = \"c:\" if os.name==\"nt\" else \"/mnt/c\"\n",
    "droot = \"d:\" if os.name==\"nt\" else \"/mnt/d\"\n",
    "slab = f\"{croot}/Users/simon/OneDrive/Documents/py/live/slab\"\n",
    "data = f\"{droot}/data1\"\n",
    "sys.path.append(slab)\n",
    "os.makedirs(data, exist_ok=True)\n",
    "os.chdir(data)\n",
    "\n",
    "os.environ[\"PREFECT_DISABLED\"] = \"1\"\n",
    "from pipeline.tasks import *\n",
    "from prefectx.filetask import Filetask\n",
    "import spacy\n",
    "from spacy import displacy\n",
    "#log.setLevel(logging.DEBUG)\n",
    "limit = 10"
   ]
  },
  {
   "cell_type": "code",
   "execution_count": 4,
   "id": "af55ba1c",
   "metadata": {},
   "outputs": [
    {
     "name": "stderr",
     "output_type": "stream",
     "text": [
      "[cellevents:43:INFO]:starting (time=Jun-29 16:49 MainProcess)\n"
     ]
    },
    {
     "name": "stdout",
     "output_type": "stream",
     "text": [
      "time: 25.8 ms\n"
     ]
    }
   ],
   "source": [
    "for f in glob(\"reports/*.pdf\"):\n",
    "    decrypt(f)"
   ]
  },
  {
   "cell_type": "code",
   "execution_count": 5,
   "id": "1d2c4cf9",
   "metadata": {},
   "outputs": [
    {
     "name": "stderr",
     "output_type": "stream",
     "text": [
      "[cellevents:43:INFO]:starting (time=Jun-29 16:49 MainProcess)\n"
     ]
    },
    {
     "data": {
      "application/vnd.jupyter.widget-view+json": {
       "model_id": "8aa9f004867043799e187afabdf0e971",
       "version_major": 2,
       "version_minor": 0
      },
      "text/plain": [
       "  0%|          | 0/10 [00:00<?, ?it/s]"
      ]
     },
     "metadata": {},
     "output_type": "display_data"
    },
    {
     "name": "stdout",
     "output_type": "stream",
     "text": [
      "time: 78.2 ms\n"
     ]
    }
   ],
   "source": [
    "np.random.seed(0)\n",
    "files = np.random.choice(glob(\"reports_decrypted/*.pdf\"), limit).tolist()\n",
    "topic2kw_ = topic2kw()\n",
    "for f in tqdm(files):\n",
    "    try:\n",
    "        Filetask.context[\"base\"] = os.path.basename(os.path.splitext(f)[0])\n",
    "        text = pdf2text(f)\n",
    "        rows = row_filter(text)\n",
    "        sents = sentence_filter(rows)\n",
    "        kwtopics = get_topics(sents, topic2kw_)\n",
    "    except:\n",
    "        log.exception(f)"
   ]
  },
  {
   "cell_type": "code",
   "execution_count": null,
   "id": "2676ea44",
   "metadata": {},
   "outputs": [],
   "source": []
  }
 ],
 "metadata": {
  "kernelspec": {
   "display_name": "Python 3",
   "language": "python",
   "name": "python3"
  },
  "language_info": {
   "codemirror_mode": {
    "name": "ipython",
    "version": 3
   },
   "file_extension": ".py",
   "mimetype": "text/x-python",
   "name": "python",
   "nbconvert_exporter": "python",
   "pygments_lexer": "ipython3",
   "version": "3.8.8"
  }
 },
 "nbformat": 4,
 "nbformat_minor": 5
}
