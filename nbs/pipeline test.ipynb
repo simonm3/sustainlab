{
 "cells": [
  {
   "cell_type": "code",
   "execution_count": 45,
   "id": "2b3b0b21",
   "metadata": {},
   "outputs": [
    {
     "name": "stderr",
     "output_type": "stream",
     "text": [
      "[cellevents:43:INFO]:starting (time=Jun-22 18:21 MainProcess)\n"
     ]
    },
    {
     "name": "stdout",
     "output_type": "stream",
     "text": [
      "time: 5.24 ms\n"
     ]
    }
   ],
   "source": [
    "from ipstartup import *\n",
    "from pipe import *\n",
    "from utils import *\n",
    "import spacy\n",
    "from spacy import displacy\n",
    "#log.setLevel(logging.DEBUG)\n",
    "os.chdir(\"/mnt/d/data1/reports\")\n",
    "\n",
    "# TEXT. poor OCR in some places including dates\n",
    "f1 = \"0a4b2b4d-8131-446f-acda-e4c2ec109663.pdf\"\n",
    "# IMAGE. OCRed in chat\n",
    "f2 = \"c588477d-366b-4613-abfc-c4c052e49c74.pdf\"\n",
    "# TEXT\n",
    "f3 = \"0a5351eb-6061-49cb-8d3a-2ad75a924ff7.pdf\"\n",
    "# text only includes the sustainability part of the report\n",
    "f4 = \"0dbd0328-6b3f-46fd-86dd-5dd09923adb4.pdf\""
   ]
  },
  {
   "cell_type": "code",
   "execution_count": 2,
   "id": "af55ba1c",
   "metadata": {},
   "outputs": [
    {
     "name": "stderr",
     "output_type": "stream",
     "text": [
      "[cellevents:43:INFO]:starting (time=Jun-22 17:50 MainProcess)\n"
     ]
    },
    {
     "name": "stdout",
     "output_type": "stream",
     "text": [
      "time: 669 ms\n"
     ]
    }
   ],
   "source": [
    "path = f1\n",
    "base = os.path.splitext(os.path.basename(path))[0]\n",
    "path = decrypt(path)"
   ]
  },
  {
   "cell_type": "code",
   "execution_count": 55,
   "id": "a6bde15d",
   "metadata": {},
   "outputs": [
    {
     "name": "stderr",
     "output_type": "stream",
     "text": [
      "[cellevents:43:INFO]:starting (time=Jun-22 18:28 MainProcess)\n",
      "[utils:16:INFO]:saving (time=Jun-22 18:28 MainProcess)\n"
     ]
    },
    {
     "name": "stdout",
     "output_type": "stream",
     "text": [
      "time: 67.1 ms\n"
     ]
    }
   ],
   "source": [
    "text = pdf2text(path)\n",
    "save(text, \"text\", base)"
   ]
  },
  {
   "cell_type": "code",
   "execution_count": 4,
   "id": "d74c89d3",
   "metadata": {},
   "outputs": [
    {
     "name": "stderr",
     "output_type": "stream",
     "text": [
      "[cellevents:43:INFO]:starting (time=Jun-22 17:52 MainProcess)\n"
     ]
    },
    {
     "name": "stdout",
     "output_type": "stream",
     "text": [
      "time: 82.6 ms\n"
     ]
    }
   ],
   "source": [
    "rows, droppedrows = row_filter(text)"
   ]
  },
  {
   "cell_type": "code",
   "execution_count": 8,
   "id": "4503c96d",
   "metadata": {},
   "outputs": [
    {
     "name": "stderr",
     "output_type": "stream",
     "text": [
      "[cellevents:43:INFO]:starting (time=Jun-22 17:53 MainProcess)\n"
     ]
    },
    {
     "name": "stdout",
     "output_type": "stream",
     "text": [
      "certified green-labelled buildings and € 889 million infrastructure investments in renewable assets. We managed assets with a  \n",
      "\n",
      "components\n",
      "\n",
      "age remaining \n",
      "\n",
      "2  Without fringe benefits and pension service costs. \n",
      "\n",
      "Of which, exercisable\n",
      "\n",
      "*************************\n",
      " \n",
      "\n",
      "Weighted\n",
      "\n",
      "303\n",
      "\n",
      " Executive Board\n",
      "\n",
      "Client Satisfaction Surveys \n",
      "\n",
      "time: 35.3 ms\n"
     ]
    }
   ],
   "source": [
    "sample(rows, droppedrows)"
   ]
  },
  {
   "cell_type": "code",
   "execution_count": 54,
   "id": "a020757d",
   "metadata": {},
   "outputs": [
    {
     "name": "stderr",
     "output_type": "stream",
     "text": [
      "[cellevents:43:INFO]:starting (time=Jun-22 18:27 MainProcess)\n",
      "[utils:16:INFO]:saving (time=Jun-22 18:27 MainProcess)\n",
      "[utils:16:INFO]:saving (time=Jun-22 18:27 MainProcess)\n"
     ]
    },
    {
     "name": "stdout",
     "output_type": "stream",
     "text": [
      "time: 79.5 ms\n"
     ]
    }
   ],
   "source": [
    "sents, droppedsents = sentence_filter(rows)\n",
    "sents = [s.text for s in sents]\n",
    "droppedsents = [s.text for s in droppedsents]\n",
    "save(sents, \"sents\", base)\n",
    "save(droppedsents, \"droppedsents\", base)"
   ]
  },
  {
   "cell_type": "code",
   "execution_count": 10,
   "id": "880d2b24",
   "metadata": {},
   "outputs": [
    {
     "name": "stderr",
     "output_type": "stream",
     "text": [
      "[cellevents:43:INFO]:starting (time=Jun-22 17:54 MainProcess)\n"
     ]
    },
    {
     "name": "stdout",
     "output_type": "stream",
     "text": [
      "Profit carried forward from the previous year 63.\n",
      "\n",
      "the third quarter of 2021, six months before the scheduled expiry for the Pandemic Emergency .\n",
      "\n",
      "During the second quarter of 2020, the Group acquired long term German sub- sovereign bonds of € 196 million in order to manage the interest-rate exposure resulting from guaranteed retirement products.\n",
      "\n",
      "We also foll ow the standards of DB Group´s Gifts, Entertainment and Business Event Policy, our global Marketing Material Policy and for some regions additional marketing policies that have been defined based on local requirements.\n",
      "\n",
      "Applying SDGs, the Financing Principles, economic activities as well as certain investment requirements could give a guidance how to select investable industries/ sectors.\n",
      "\n",
      "*************************\n",
      "Responsibility around our .\n",
      "\n",
      "Regulatory capital:.\n",
      "\n",
      "Compensation in accordance with the German Accounting Standard\n",
      "\n",
      "Cash and cash equivalents at beginning of period 1,987.\n",
      "\n",
      "–.\n",
      "\n",
      "time: 51.1 ms\n"
     ]
    }
   ],
   "source": [
    "sample(sents, droppedsents)"
   ]
  },
  {
   "cell_type": "code",
   "execution_count": 48,
   "id": "4d9265e4",
   "metadata": {},
   "outputs": [
    {
     "name": "stderr",
     "output_type": "stream",
     "text": [
      "[cellevents:43:INFO]:starting (time=Jun-22 18:22 MainProcess)\n",
      "[utils:16:INFO]:saving (time=Jun-22 18:22 MainProcess)\n"
     ]
    },
    {
     "name": "stdout",
     "output_type": "stream",
     "text": [
      "time: 73.6 ms\n"
     ]
    }
   ],
   "source": [
    "quant = quant_filter(sents)\n",
    "quant = [q.text for q in quant]\n",
    "save(quant, \"quant\", base)"
   ]
  },
  {
   "cell_type": "code",
   "execution_count": 12,
   "id": "6bbe27b3",
   "metadata": {},
   "outputs": [
    {
     "name": "stderr",
     "output_type": "stream",
     "text": [
      "[cellevents:43:INFO]:starting (time=Jun-22 17:56 MainProcess)\n"
     ]
    },
    {
     "data": {
      "text/html": [
       "<span class=\"tex2jax_ignore\"><!DOCTYPE html>\n",
       "<html lang=\"en\">\n",
       "    <head>\n",
       "        <title>displaCy</title>\n",
       "    </head>\n",
       "\n",
       "    <body style=\"font-size: 16px; font-family: -apple-system, BlinkMacSystemFont, 'Segoe UI', Helvetica, Arial, sans-serif, 'Apple Color Emoji', 'Segoe UI Emoji', 'Segoe UI Symbol'; padding: 4rem 2rem; direction: ltr\">\n",
       "<figure style=\"margin-bottom: 6rem\">\n",
       "<div class=\"entities\" style=\"line-height: 2.5; direction: ltr\">−Converted our DWS Invest Climate Tech into a dedicated ESG strategy, which exceeded \n",
       "<mark class=\"entity\" style=\"background: #e4e7d2; padding: 0.45em 0.6em; margin: 0 0.25em; line-height: 1; border-radius: 0.35em;\">\n",
       "    € 130 million\n",
       "    <span style=\"font-size: 0.8em; font-weight: bold; line-height: 1; border-radius: 0.35em; vertical-align: middle; margin-left: 0.5rem\">MONEY</span>\n",
       "</mark>\n",
       " in \n",
       "<mark class=\"entity\" style=\"background: #7aecec; padding: 0.45em 0.6em; margin: 0 0.25em; line-height: 1; border-radius: 0.35em;\">\n",
       "    AuM\n",
       "    <span style=\"font-size: 0.8em; font-weight: bold; line-height: 1; border-radius: 0.35em; vertical-align: middle; margin-left: 0.5rem\">ORG</span>\n",
       "</mark>\n",
       " and where the fund manager was awarded as “\n",
       "<mark class=\"entity\" style=\"background: #f0d0ff; padding: 0.45em 0.6em; margin: 0 0.25em; line-height: 1; border-radius: 0.35em;\">\n",
       "    Handelsblatt Top Fondsmanager 2020\n",
       "    <span style=\"font-size: 0.8em; font-weight: bold; line-height: 1; border-radius: 0.35em; vertical-align: middle; margin-left: 0.5rem\">WORK_OF_ART</span>\n",
       "</mark>\n",
       "” −Continued to develop the \n",
       "<mark class=\"entity\" style=\"background: #ff9561; padding: 0.45em 0.6em; margin: 0 0.25em; line-height: 1; border-radius: 0.35em;\">\n",
       "    Africa\n",
       "    <span style=\"font-size: 0.8em; font-weight: bold; line-height: 1; border-radius: 0.35em; vertical-align: middle; margin-left: 0.5rem\">LOC</span>\n",
       "</mark>\n",
       " clean energy strategy with \n",
       "<mark class=\"entity\" style=\"background: #7aecec; padding: 0.45em 0.6em; margin: 0 0.25em; line-height: 1; border-radius: 0.35em;\">\n",
       "    the UN Green Climate Fund\n",
       "    <span style=\"font-size: 0.8em; font-weight: bold; line-height: 1; border-radius: 0.35em; vertical-align: middle; margin-left: 0.5rem\">ORG</span>\n",
       "</mark>\n",
       ". </div>\n",
       "</figure>\n",
       "\n",
       "<figure style=\"margin-bottom: 6rem\">\n",
       "<div class=\"entities\" style=\"line-height: 2.5; direction: ltr\">\n",
       "<mark class=\"entity\" style=\"background: #e4e7d2; padding: 0.45em 0.6em; margin: 0 0.25em; line-height: 1; border-radius: 0.35em;\">\n",
       "    First\n",
       "    <span style=\"font-size: 0.8em; font-weight: bold; line-height: 1; border-radius: 0.35em; vertical-align: middle; margin-left: 0.5rem\">ORDINAL</span>\n",
       "</mark>\n",
       ", we will develop methods for measuring climate impact for our Active, Passive and Alternative investment areas. </div>\n",
       "</figure>\n",
       "\n",
       "<figure style=\"margin-bottom: 6rem\">\n",
       "<div class=\"entities\" style=\"line-height: 2.5; direction: ltr\">The composition of the \n",
       "<mark class=\"entity\" style=\"background: #7aecec; padding: 0.45em 0.6em; margin: 0 0.25em; line-height: 1; border-radius: 0.35em;\">\n",
       "    Nomination Committee\n",
       "    <span style=\"font-size: 0.8em; font-weight: bold; line-height: 1; border-radius: 0.35em; vertical-align: middle; margin-left: 0.5rem\">ORG</span>\n",
       "</mark>\n",
       " follows \n",
       "<mark class=\"entity\" style=\"background: #ff8197; padding: 0.45em 0.6em; margin: 0 0.25em; line-height: 1; border-radius: 0.35em;\">\n",
       "    Section 25d\n",
       "    <span style=\"font-size: 0.8em; font-weight: bold; line-height: 1; border-radius: 0.35em; vertical-align: middle; margin-left: 0.5rem\">LAW</span>\n",
       "</mark>\n",
       " (\n",
       "<mark class=\"entity\" style=\"background: #e4e7d2; padding: 0.45em 0.6em; margin: 0 0.25em; line-height: 1; border-radius: 0.35em;\">\n",
       "    11\n",
       "    <span style=\"font-size: 0.8em; font-weight: bold; line-height: 1; border-radius: 0.35em; vertical-align: middle; margin-left: 0.5rem\">CARDINAL</span>\n",
       "</mark>\n",
       ") of \n",
       "<mark class=\"entity\" style=\"background: #ff8197; padding: 0.45em 0.6em; margin: 0 0.25em; line-height: 1; border-radius: 0.35em;\">\n",
       "    the German Banking Act\n",
       "    <span style=\"font-size: 0.8em; font-weight: bold; line-height: 1; border-radius: 0.35em; vertical-align: middle; margin-left: 0.5rem\">LAW</span>\n",
       "</mark>\n",
       " (KWG), which stipulates that \n",
       "<mark class=\"entity\" style=\"background: #7aecec; padding: 0.45em 0.6em; margin: 0 0.25em; line-height: 1; border-radius: 0.35em;\">\n",
       "    the Nomination Committee\n",
       "    <span style=\"font-size: 0.8em; font-weight: bold; line-height: 1; border-radius: 0.35em; vertical-align: middle; margin-left: 0.5rem\">ORG</span>\n",
       "</mark>\n",
       " shall take on additional tasks that shall not be performed solely by the shareholders’ representatives on \n",
       "<mark class=\"entity\" style=\"background: #7aecec; padding: 0.45em 0.6em; margin: 0 0.25em; line-height: 1; border-radius: 0.35em;\">\n",
       "    the Supervisory Board\n",
       "    <span style=\"font-size: 0.8em; font-weight: bold; line-height: 1; border-radius: 0.35em; vertical-align: middle; margin-left: 0.5rem\">ORG</span>\n",
       "</mark>\n",
       ". </div>\n",
       "</figure>\n",
       "\n",
       "<figure style=\"margin-bottom: 6rem\">\n",
       "<div class=\"entities\" style=\"line-height: 2.5; direction: ltr\">\n",
       "<mark class=\"entity\" style=\"background: #e4e7d2; padding: 0.45em 0.6em; margin: 0 0.25em; line-height: 1; border-radius: 0.35em;\">\n",
       "    1/4\n",
       "    <span style=\"font-size: 0.8em; font-weight: bold; line-height: 1; border-radius: 0.35em; vertical-align: middle; margin-left: 0.5rem\">CARDINAL</span>\n",
       "</mark>\n",
       ": \n",
       "<mark class=\"entity\" style=\"background: #bfe1d9; padding: 0.45em 0.6em; margin: 0 0.25em; line-height: 1; border-radius: 0.35em;\">\n",
       "    48 months\n",
       "    <span style=\"font-size: 0.8em; font-weight: bold; line-height: 1; border-radius: 0.35em; vertical-align: middle; margin-left: 0.5rem\">DATE</span>\n",
       "</mark>\n",
       " Select employees as \n",
       "<mark class=\"entity\" style=\"background: #bfe1d9; padding: 0.45em 0.6em; margin: 0 0.25em; line-height: 1; border-radius: 0.35em;\">\n",
       "    annual\n",
       "    <span style=\"font-size: 0.8em; font-weight: bold; line-height: 1; border-radius: 0.35em; vertical-align: middle; margin-left: 0.5rem\">DATE</span>\n",
       "</mark>\n",
       " performance based. </div>\n",
       "</figure>\n",
       "\n",
       "<figure style=\"margin-bottom: 6rem\">\n",
       "<div class=\"entities\" style=\"line-height: 2.5; direction: ltr\">Pursuant to Section 2d (\n",
       "<mark class=\"entity\" style=\"background: #e4e7d2; padding: 0.45em 0.6em; margin: 0 0.25em; line-height: 1; border-radius: 0.35em;\">\n",
       "    2\n",
       "    <span style=\"font-size: 0.8em; font-weight: bold; line-height: 1; border-radius: 0.35em; vertical-align: middle; margin-left: 0.5rem\">CARDINAL</span>\n",
       "</mark>\n",
       ") of \n",
       "<mark class=\"entity\" style=\"background: #ff8197; padding: 0.45em 0.6em; margin: 0 0.25em; line-height: 1; border-radius: 0.35em;\">\n",
       "    the German Banking Act\n",
       "    <span style=\"font-size: 0.8em; font-weight: bold; line-height: 1; border-radius: 0.35em; vertical-align: middle; margin-left: 0.5rem\">LAW</span>\n",
       "</mark>\n",
       " (KWG), \n",
       "<mark class=\"entity\" style=\"background: #7aecec; padding: 0.45em 0.6em; margin: 0 0.25em; line-height: 1; border-radius: 0.35em;\">\n",
       "    BaFin\n",
       "    <span style=\"font-size: 0.8em; font-weight: bold; line-height: 1; border-radius: 0.35em; vertical-align: middle; margin-left: 0.5rem\">ORG</span>\n",
       "</mark>\n",
       " can demand that members of \n",
       "<mark class=\"entity\" style=\"background: #7aecec; padding: 0.45em 0.6em; margin: 0 0.25em; line-height: 1; border-radius: 0.35em;\">\n",
       "    the Executive Board\n",
       "    <span style=\"font-size: 0.8em; font-weight: bold; line-height: 1; border-radius: 0.35em; vertical-align: middle; margin-left: 0.5rem\">ORG</span>\n",
       "</mark>\n",
       " are dismissed and prohibit them from carrying out their activities if such members are not trustworthy or do not have the professional knowledge, skills and experience necessary to manage the company or do not commit sufficient time to the performance of their functions. </div>\n",
       "</figure>\n",
       "</body>\n",
       "</html></span>"
      ],
      "text/plain": [
       "<IPython.core.display.HTML object>"
      ]
     },
     "metadata": {},
     "output_type": "display_data"
    },
    {
     "name": "stdout",
     "output_type": "stream",
     "text": [
      "\n",
      "Using the 'ent' visualizer\n",
      "Serving on http://0.0.0.0:5000 ...\n",
      "\n",
      "Shutting down server on port 5000.\n",
      "time: 57 s\n"
     ]
    },
    {
     "data": {
      "text/html": [
       "\n",
       "                <audio  controls=\"controls\" autoplay=\"autoplay\">\n",
       "                    <source src=\"data:audio/wav;base64,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\" type=\"audio/wav\" />\n",
       "                    Your browser does not support the audio element.\n",
       "                </audio>\n",
       "              "
      ],
      "text/plain": [
       "<IPython.lib.display.Audio object>"
      ]
     },
     "metadata": {},
     "output_type": "display_data"
    },
    {
     "data": {
      "text/html": [
       "<style>audio{display:none}</style>"
      ],
      "text/plain": [
       "<IPython.core.display.HTML object>"
      ]
     },
     "metadata": {},
     "output_type": "display_data"
    }
   ],
   "source": [
    "displacy.serve(np.random.choice(quant,5), style=\"ent\")"
   ]
  },
  {
   "cell_type": "code",
   "execution_count": 20,
   "id": "59603370",
   "metadata": {},
   "outputs": [
    {
     "name": "stderr",
     "output_type": "stream",
     "text": [
      "[cellevents:43:INFO]:starting (time=Jun-22 18:01 MainProcess)\n"
     ]
    },
    {
     "name": "stdout",
     "output_type": "stream",
     "text": [
      "time: 7.04 ms\n"
     ]
    }
   ],
   "source": [
    "topic2kw = get_topic2kw()"
   ]
  },
  {
   "cell_type": "code",
   "execution_count": 24,
   "id": "e9711909",
   "metadata": {},
   "outputs": [
    {
     "name": "stderr",
     "output_type": "stream",
     "text": [
      "[cellevents:43:INFO]:starting (time=Jun-22 18:03 MainProcess)\n"
     ]
    },
    {
     "name": "stdout",
     "output_type": "stream",
     "text": [
      "time: 272 ms\n"
     ]
    }
   ],
   "source": [
    "kwtopics = get_topics(quant, topic2kw)"
   ]
  },
  {
   "cell_type": "code",
   "execution_count": 29,
   "id": "8f823f39",
   "metadata": {},
   "outputs": [
    {
     "name": "stderr",
     "output_type": "stream",
     "text": [
      "[cellevents:43:INFO]:starting (time=Jun-22 18:05 MainProcess)\n"
     ]
    },
    {
     "data": {
      "text/plain": [
       "0    957\n",
       "1    145\n",
       "2     10\n",
       "3      1\n",
       "Name: ntopics, dtype: int64"
      ]
     },
     "execution_count": 29,
     "metadata": {},
     "output_type": "execute_result"
    },
    {
     "name": "stdout",
     "output_type": "stream",
     "text": [
      "time: 22.1 ms\n"
     ]
    }
   ],
   "source": [
    "kwtopics.ntopics.value_counts()"
   ]
  },
  {
   "cell_type": "code",
   "execution_count": 41,
   "id": "56bc54e1",
   "metadata": {},
   "outputs": [
    {
     "name": "stderr",
     "output_type": "stream",
     "text": [
      "[cellevents:43:INFO]:starting (time=Jun-22 18:20 MainProcess)\n"
     ]
    },
    {
     "name": "stdout",
     "output_type": "stream",
     "text": [
      "time: 15.9 ms\n"
     ]
    }
   ],
   "source": [
    "save(kwtopics, \"kwtopics\", base)"
   ]
  }
 ],
 "metadata": {
  "kernelspec": {
   "display_name": "Python 3",
   "language": "python",
   "name": "python3"
  },
  "language_info": {
   "codemirror_mode": {
    "name": "ipython",
    "version": 3
   },
   "file_extension": ".py",
   "mimetype": "text/x-python",
   "name": "python",
   "nbconvert_exporter": "python",
   "pygments_lexer": "ipython3",
   "version": "3.9.12"
  }
 },
 "nbformat": 4,
 "nbformat_minor": 5
}
