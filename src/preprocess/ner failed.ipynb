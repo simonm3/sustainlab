{
 "cells": [
  {
   "cell_type": "code",
   "execution_count": 119,
   "id": "2b3b0b21",
   "metadata": {},
   "outputs": [
    {
     "name": "stderr",
     "output_type": "stream",
     "text": [
      "[cellevents:43:INFO]:starting (time=Jun-19 18:51 MainProcess)\n"
     ]
    },
    {
     "name": "stdout",
     "output_type": "stream",
     "text": [
      "time: 1.08 s\n"
     ]
    }
   ],
   "source": [
    "from ipstartup import *\n",
    "from pipe import *\n",
    "import spacy\n",
    "from spacy import displacy\n",
    "#log.setLevel(logging.DEBUG)\n",
    "os.chdir(\"/mnt/d/data1/reports\")\n",
    "nlp = spacy.load(\"en_core_web_sm\")\n",
    "\n",
    "# TEXT. poor OCR in some places including dates\n",
    "f1 = \"0a4b2b4d-8131-446f-acda-e4c2ec109663.pdf\"\n",
    "# IMAGE. OCRed in chat\n",
    "f2 = \"c588477d-366b-4613-abfc-c4c052e49c74.pdf\"\n",
    "# TEXT\n",
    "f3 = \"0a5351eb-6061-49cb-8d3a-2ad75a924ff7.pdf\"\n",
    "# text only includes the sustainability part of the report\n",
    "f4 = \"0dbd0328-6b3f-46fd-86dd-5dd09923adb4.pdf\""
   ]
  },
  {
   "cell_type": "markdown",
   "id": "84bacc09",
   "metadata": {},
   "source": [
    "# load text pdftotext"
   ]
  },
  {
   "cell_type": "code",
   "execution_count": null,
   "id": "0f2a4b67",
   "metadata": {},
   "outputs": [],
   "source": [
    "# FAILS WITH COLUMN BLENDING"
   ]
  },
  {
   "cell_type": "code",
   "execution_count": 17,
   "id": "e60c0623",
   "metadata": {},
   "outputs": [
    {
     "name": "stdout",
     "output_type": "stream",
     "text": [
      "283\n"
     ]
    }
   ],
   "source": [
    "\n",
    "with open(f\"/mnt/d/data1/reports/{f}\", \"rb\") as f:\n",
    "    pdf = pdftotext.PDF(f)\n",
    "print(len(pdf))\n",
    "text = \"\\n\".join(pdf)"
   ]
  },
  {
   "cell_type": "code",
   "execution_count": 18,
   "id": "40d40001",
   "metadata": {},
   "outputs": [
    {
     "name": "stdout",
     "output_type": "stream",
     "text": [
      "130\n"
     ]
    }
   ],
   "source": [
    "print(text.find(\"the\"))"
   ]
  },
  {
   "cell_type": "code",
   "execution_count": 8,
   "id": "309f152b",
   "metadata": {},
   "outputs": [
    {
     "data": {
      "text/plain": [
       "1340715"
      ]
     },
     "execution_count": 8,
     "metadata": {},
     "output_type": "execute_result"
    }
   ],
   "source": [
    "len(text)"
   ]
  },
  {
   "cell_type": "code",
   "execution_count": 29,
   "id": "c5f8050a",
   "metadata": {},
   "outputs": [
    {
     "data": {
      "text/plain": [
       "'project work, HOCHTIEF therefore adopts\\n outcomes of the policies, or         a 360-degree, solution-driven approach, taking the en-    In our project activities, we make the best possible al-\\n risks) relating to BICC, as no\\n policy for the non-financial as-     tire project life cycle into account. As part of this ap- lowance for social and environmental impacts from an\\n pects has been or is pursued\\n for this part of the Group. No       proach, we also seek to balance economic, environ-        early stage. Wherever practicable, aspects such as en-\\n non-financial information has        mental, and social dimensions (see chart). This calls for vironmental protection as well as occupational safety\\n been reported to HOCHTIEF.\\n                                      dialog with the various stakeholders, which we con-       and health are integrated right from the planning\\n                                     duct openly and in a spirit of partnership. It is our ap-  stage.2) During the reporting year, we carried out a re-\\n2)\\n    For further information on the\\nregulations, please see the Oc-\\n                                     proach to combine economical, ecological and social        search project with Zeppelin University (Frie-\\ncupational Safety and Health         aspects. In this way, we are able to take on board their   drichshafen, Germany). Its aim was to develop a pro-\\nsection and the Environmental\\nProtection section.                  diverse expectations and requirements in the planning      cess to render project sustainability performance\\n                                     and execution phase while minimizing risks. A range of     measurable. Based on two transportation infrastructure\\n 1)\\n    See glossary.                    different contracting models, including the PreFair        projects in Germany, the exemplary research involved\\n                                     model1) developed by HOCHTIEF, foster dialog with cli-     tracking and linking indicator'"
      ]
     },
     "execution_count": 29,
     "metadata": {},
     "output_type": "execute_result"
    }
   ],
   "source": [
    "text[start:start+2000]"
   ]
  },
  {
   "cell_type": "markdown",
   "id": "3fdbfbf7",
   "metadata": {},
   "source": [
    "# ghostscript"
   ]
  },
  {
   "cell_type": "code",
   "execution_count": 58,
   "id": "b34e806d",
   "metadata": {},
   "outputs": [
    {
     "data": {
      "text/plain": [
       "'gs -q -dLastPage=3 -dNODISPLAY -dSAFER -dDELAYBIND -dWRITESYSTEMDICT -dSIMPLE -c save -f ps2ascii.ps /mnt/d/data1/reports/0dbd0328-6b3f-46fd-86dd-5dd09923adb4.pdf -c quit >temp.txt'"
      ]
     },
     "execution_count": 58,
     "metadata": {},
     "output_type": "execute_result"
    }
   ],
   "source": [
    "f = f\"/mnt/d/data1/reports/{f}\"\n",
    "cmd = f\"gs -q -dLastPage=3 -dNODISPLAY -dSAFER -dDELAYBIND -dWRITESYSTEMDICT -dSIMPLE -c save -f ps2ascii.ps {f} -c quit >temp.txt\"\n",
    "cmd"
   ]
  }
 ],
 "metadata": {
  "kernelspec": {
   "display_name": "Python 3",
   "language": "python",
   "name": "python3"
  },
  "language_info": {
   "codemirror_mode": {
    "name": "ipython",
    "version": 3
   },
   "file_extension": ".py",
   "mimetype": "text/x-python",
   "name": "python",
   "nbconvert_exporter": "python",
   "pygments_lexer": "ipython3",
   "version": "3.9.12"
  }
 },
 "nbformat": 4,
 "nbformat_minor": 5
}
