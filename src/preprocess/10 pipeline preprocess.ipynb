{
 "cells": [
  {
   "cell_type": "code",
   "execution_count": 1,
   "id": "f48a481b",
   "metadata": {},
   "outputs": [
    {
     "name": "stderr",
     "output_type": "stream",
     "text": [
      "[defaultlog:22:INFO]:logging started from /mnt/c/users/simon/onedrive/documents/py/live/pyutils/defaultlog.py (time=Jul-09 20:22 MainProcess)\n"
     ]
    },
    {
     "data": {
      "text/html": [
       "<style>audio{display:none}</style>"
      ],
      "text/plain": [
       "<IPython.core.display.HTML object>"
      ]
     },
     "metadata": {},
     "output_type": "display_data"
    },
    {
     "name": "stderr",
     "output_type": "stream",
     "text": [
      "[__init__:47:INFO]:prefect.skip will be used to control task flows (time=Jul-09 20:22 MainProcess)\n"
     ]
    }
   ],
   "source": [
    "from ipstartup import *\n",
    "croot = \"c:\" if os.name==\"nt\" else \"/mnt/c\"\n",
    "droot = \"d:\" if os.name==\"nt\" else \"/mnt/d\"\n",
    "slab = f\"{croot}/Users/simon/OneDrive/Documents/py/live/slab/src\"\n",
    "data = f\"{droot}/data1\"\n",
    "sys.path.append(slab)\n",
    "os.chdir(data)\n",
    "\n",
    "os.environ[\"PREFECTX\"] = \"prefect.skip\"\n",
    "from preprocess.tasks import *\n",
    "from preprocess.flows import *\n",
    "from glob import glob\n",
    "#log.setLevel(logging.DEBUG)\n",
    "limit = 5"
   ]
  },
  {
   "cell_type": "code",
   "execution_count": 3,
   "id": "af55ba1c",
   "metadata": {},
   "outputs": [
    {
     "name": "stderr",
     "output_type": "stream",
     "text": [
      "[cellevents:43:INFO]:starting (time=Jul-05 21:22 MainProcess)\n"
     ]
    },
    {
     "name": "stdout",
     "output_type": "stream",
     "text": [
      "time: 232 ms\n"
     ]
    }
   ],
   "source": [
    "for f in glob(\"reports/*.pdf\"):\n",
    "    decrypt(f)"
   ]
  },
  {
   "cell_type": "code",
   "execution_count": null,
   "id": "1d2c4cf9",
   "metadata": {},
   "outputs": [
    {
     "name": "stderr",
     "output_type": "stream",
     "text": [
      "13:16 | INFO    cellevents | starting [cellevents/43]\n",
      "13:16:13.320 | INFO    | prefect.engine - Created flow run 'daring-crab' for flow 'extract'\n",
      "13:16:13.322 | INFO    | Flow run 'daring-crab' - Using task runner 'SequentialTaskRunner'\n",
      "13:16:13.372 | WARNING | Flow run 'daring-crab' - No default storage is configured on the server. Results from this flow run will be stored in a temporary directory in its runtime environment.\n",
      "13:16:13.568 | INFO    | Flow run 'daring-crab' - Created task run 'topic2kw-d9933192-0' for task 'topic2kw'\n",
      "13:16:19.754 | INFO    | Task run 'topic2kw-d9933192-0' - Finished in state Completed()\n",
      "13:16:19.844 | INFO    | Flow run 'daring-crab' - Created task run 'pdf2text_6aadd6ef-bd59368e-0' for task 'pdf2text_6aadd6ef'\n",
      "13:16:21.311 | INFO    | Task run 'pdf2text_6aadd6ef-bd59368e-0' - Finished in state Completed()\n",
      "13:16:21.406 | INFO    | Flow run 'daring-crab' - Created task run 'text_filter_6aadd6ef-053efa69-0' for task 'text_filter_6aadd6ef'\n",
      "13:16:21.647 | INFO    | Task run 'text_filter_6aadd6ef-053efa69-0' - Finished in state Completed()\n",
      "13:16:21.749 | INFO    | Flow run 'daring-crab' - Created task run 'sentence_filter_6aadd6ef-3336688c-0' for task 'sentence_filter_6aadd6ef'\n"
     ]
    },
    {
     "data": {
      "application/vnd.jupyter.widget-view+json": {
       "model_id": "cb55fb3aa93d42f2987c012b71858267",
       "version_major": 2,
       "version_minor": 0
      },
      "text/plain": [
       "sentence_filter:   0%|          | 0/515 [00:00<?, ?it/s]"
      ]
     },
     "metadata": {},
     "output_type": "display_data"
    },
    {
     "name": "stderr",
     "output_type": "stream",
     "text": [
      "13:16:26.618 | INFO    | Task run 'sentence_filter_6aadd6ef-3336688c-0' - Finished in state Completed()\n",
      "13:16:26.708 | INFO    | Flow run 'daring-crab' - Created task run 'get_topics_6aadd6ef-86c91f96-0' for task 'get_topics_6aadd6ef'\n",
      "13:16:26.962 | INFO    | Task run 'get_topics_6aadd6ef-86c91f96-0' - Finished in state Completed()\n",
      "13:16:27.054 | INFO    | Flow run 'daring-crab' - Created task run 'pdf2text_1ce271c5-bd59368e-1' for task 'pdf2text_1ce271c5'\n",
      "13:16:34.891 | INFO    | Task run 'pdf2text_1ce271c5-bd59368e-1' - Finished in state Completed()\n",
      "13:16:34.984 | INFO    | Flow run 'daring-crab' - Created task run 'text_filter_1ce271c5-053efa69-1' for task 'text_filter_1ce271c5'\n",
      "13:16:35.209 | INFO    | Task run 'text_filter_1ce271c5-053efa69-1' - Finished in state Completed()\n",
      "13:16:35.303 | INFO    | Flow run 'daring-crab' - Created task run 'sentence_filter_1ce271c5-3336688c-1' for task 'sentence_filter_1ce271c5'\n"
     ]
    },
    {
     "data": {
      "application/vnd.jupyter.widget-view+json": {
       "model_id": "9a9aa344cc654b91b156e808c4dbd835",
       "version_major": 2,
       "version_minor": 0
      },
      "text/plain": [
       "sentence_filter:   0%|          | 0/879 [00:00<?, ?it/s]"
      ]
     },
     "metadata": {},
     "output_type": "display_data"
    },
    {
     "name": "stderr",
     "output_type": "stream",
     "text": [
      "13:16:46.891 | INFO    | Task run 'sentence_filter_1ce271c5-3336688c-1' - Finished in state Completed()\n",
      "13:16:47.055 | INFO    | Flow run 'daring-crab' - Created task run 'get_topics_1ce271c5-86c91f96-1' for task 'get_topics_1ce271c5'\n",
      "13:16:47.547 | INFO    | Task run 'get_topics_1ce271c5-86c91f96-1' - Finished in state Completed()\n",
      "13:16:47.653 | INFO    | Flow run 'daring-crab' - Created task run 'pdf2text_4bdaf7e6-bd59368e-2' for task 'pdf2text_4bdaf7e6'\n",
      "13:16:49.103 | INFO    | Task run 'pdf2text_4bdaf7e6-bd59368e-2' - Finished in state Completed()\n",
      "13:16:49.198 | INFO    | Flow run 'daring-crab' - Created task run 'text_filter_4bdaf7e6-053efa69-2' for task 'text_filter_4bdaf7e6'\n",
      "13:16:49.407 | INFO    | Task run 'text_filter_4bdaf7e6-053efa69-2' - Finished in state Completed()\n",
      "13:16:49.502 | INFO    | Flow run 'daring-crab' - Created task run 'sentence_filter_4bdaf7e6-3336688c-2' for task 'sentence_filter_4bdaf7e6'\n"
     ]
    },
    {
     "data": {
      "application/vnd.jupyter.widget-view+json": {
       "model_id": "5ec4081ceee644c6bdabc9fcc334d125",
       "version_major": 2,
       "version_minor": 0
      },
      "text/plain": [
       "sentence_filter:   0%|          | 0/447 [00:00<?, ?it/s]"
      ]
     },
     "metadata": {},
     "output_type": "display_data"
    },
    {
     "name": "stderr",
     "output_type": "stream",
     "text": [
      "13:16:54.817 | INFO    | Task run 'sentence_filter_4bdaf7e6-3336688c-2' - Finished in state Completed()\n",
      "13:16:54.909 | INFO    | Flow run 'daring-crab' - Created task run 'get_topics_4bdaf7e6-86c91f96-2' for task 'get_topics_4bdaf7e6'\n",
      "13:16:55.153 | INFO    | Task run 'get_topics_4bdaf7e6-86c91f96-2' - Finished in state Completed()\n",
      "13:16:55.252 | INFO    | Flow run 'daring-crab' - Created task run 'pdf2text_73a37386-bd59368e-3' for task 'pdf2text_73a37386'\n",
      "13:16:59.847 | INFO    | Task run 'pdf2text_73a37386-bd59368e-3' - Finished in state Completed()\n",
      "13:16:59.939 | INFO    | Flow run 'daring-crab' - Created task run 'text_filter_73a37386-053efa69-3' for task 'text_filter_73a37386'\n",
      "13:17:00.164 | INFO    | Task run 'text_filter_73a37386-053efa69-3' - Finished in state Completed()\n",
      "13:17:00.266 | INFO    | Flow run 'daring-crab' - Created task run 'sentence_filter_73a37386-3336688c-3' for task 'sentence_filter_73a37386'\n",
      "Traceback (most recent call last):\n",
      "  File \"/home/simon/anaconda3/lib/python3.9/site-packages/anyio/_core/_sockets.py\", line 127, in try_connect\n",
      "    stream = await asynclib.connect_tcp(remote_host, remote_port, local_address)\n",
      "  File \"/home/simon/anaconda3/lib/python3.9/site-packages/anyio/_backends/_asyncio.py\", line 1518, in connect_tcp\n",
      "    await get_running_loop().create_connection(StreamProtocol, host, port,\n",
      "  File \"/home/simon/anaconda3/lib/python3.9/asyncio/base_events.py\", line 1065, in create_connection\n",
      "    raise exceptions[0]\n",
      "  File \"/home/simon/anaconda3/lib/python3.9/asyncio/base_events.py\", line 1050, in create_connection\n",
      "    sock = await self._connect_sock(\n",
      "  File \"/home/simon/anaconda3/lib/python3.9/asyncio/base_events.py\", line 961, in _connect_sock\n",
      "    await self.sock_connect(sock, address)\n",
      "  File \"/home/simon/anaconda3/lib/python3.9/asyncio/selector_events.py\", line 499, in sock_connect\n",
      "    return await fut\n",
      "  File \"/home/simon/anaconda3/lib/python3.9/asyncio/selector_events.py\", line 534, in _sock_connect_cb\n",
      "    raise OSError(err, f'Connect call failed {address}')\n",
      "ConnectionRefusedError: [Errno 111] Connect call failed ('127.0.0.1', 4200)\n",
      "\n",
      "The above exception was the direct cause of the following exception:\n",
      "\n",
      "Traceback (most recent call last):\n",
      "  File \"/home/simon/anaconda3/lib/python3.9/site-packages/httpcore/_exceptions.py\", line 8, in map_exceptions\n",
      "    yield\n",
      "  File \"/home/simon/anaconda3/lib/python3.9/site-packages/httpcore/backends/asyncio.py\", line 109, in connect_tcp\n",
      "    stream: anyio.abc.ByteStream = await anyio.connect_tcp(\n",
      "  File \"/home/simon/anaconda3/lib/python3.9/site-packages/anyio/_core/_sockets.py\", line 184, in connect_tcp\n",
      "    raise OSError('All connection attempts failed') from cause\n",
      "OSError: All connection attempts failed\n",
      "\n",
      "During handling of the above exception, another exception occurred:\n",
      "\n",
      "Traceback (most recent call last):\n",
      "  File \"/home/simon/anaconda3/lib/python3.9/site-packages/httpx/_transports/default.py\", line 60, in map_httpcore_exceptions\n",
      "    yield\n",
      "  File \"/home/simon/anaconda3/lib/python3.9/site-packages/httpx/_transports/default.py\", line 353, in handle_async_request\n",
      "    resp = await self._pool.handle_async_request(req)\n",
      "  File \"/home/simon/anaconda3/lib/python3.9/site-packages/httpcore/_async/connection_pool.py\", line 253, in handle_async_request\n",
      "    raise exc\n",
      "  File \"/home/simon/anaconda3/lib/python3.9/site-packages/httpcore/_async/connection_pool.py\", line 237, in handle_async_request\n",
      "    response = await connection.handle_async_request(request)\n",
      "  File \"/home/simon/anaconda3/lib/python3.9/site-packages/httpcore/_async/connection.py\", line 86, in handle_async_request\n",
      "    raise exc\n",
      "  File \"/home/simon/anaconda3/lib/python3.9/site-packages/httpcore/_async/connection.py\", line 63, in handle_async_request\n",
      "    stream = await self._connect(request)\n",
      "  File \"/home/simon/anaconda3/lib/python3.9/site-packages/httpcore/_async/connection.py\", line 111, in _connect\n",
      "    stream = await self._network_backend.connect_tcp(**kwargs)\n",
      "  File \"/home/simon/anaconda3/lib/python3.9/site-packages/httpcore/backends/auto.py\", line 29, in connect_tcp\n",
      "    return await self._backend.connect_tcp(\n",
      "  File \"/home/simon/anaconda3/lib/python3.9/site-packages/httpcore/backends/asyncio.py\", line 109, in connect_tcp\n",
      "    stream: anyio.abc.ByteStream = await anyio.connect_tcp(\n",
      "  File \"/home/simon/anaconda3/lib/python3.9/contextlib.py\", line 137, in __exit__\n",
      "    self.gen.throw(typ, value, traceback)\n",
      "  File \"/home/simon/anaconda3/lib/python3.9/site-packages/httpcore/_exceptions.py\", line 12, in map_exceptions\n",
      "    raise to_exc(exc)\n",
      "httpcore.ConnectError: All connection attempts failed\n",
      "\n",
      "The above exception was the direct cause of the following exception:\n",
      "\n",
      "Traceback (most recent call last):\n",
      "  File \"/home/simon/anaconda3/lib/python3.9/site-packages/prefect/cli/_utilities.py\", line 44, in wrapper\n",
      "    return fn(*args, **kwargs)\n",
      "  File \"/home/simon/anaconda3/lib/python3.9/site-packages/prefect/utilities/asyncio.py\", line 121, in wrapper\n",
      "    return run_async_in_new_loop(async_fn, *args, **kwargs)\n",
      "  File \"/home/simon/anaconda3/lib/python3.9/site-packages/prefect/utilities/asyncio.py\", line 68, in run_async_in_new_loop\n",
      "    return anyio.run(partial(__fn, *args, **kwargs))\n",
      "  File \"/home/simon/anaconda3/lib/python3.9/site-packages/anyio/_core/_eventloop.py\", line 56, in run\n",
      "    return asynclib.run(func, *args, **backend_options)\n",
      "  File \"/home/simon/anaconda3/lib/python3.9/site-packages/anyio/_backends/_asyncio.py\", line 233, in run\n",
      "    return native_run(wrapper(), debug=debug)\n",
      "  File \"/home/simon/anaconda3/lib/python3.9/asyncio/runners.py\", line 44, in run\n",
      "    return loop.run_until_complete(main)\n",
      "  File \"/home/simon/anaconda3/lib/python3.9/asyncio/base_events.py\", line 647, in run_until_complete\n",
      "    return future.result()\n",
      "  File \"/home/simon/anaconda3/lib/python3.9/site-packages/anyio/_backends/_asyncio.py\", line 228, in wrapper\n",
      "    return await func(*args)\n",
      "  File \"/home/simon/anaconda3/lib/python3.9/site-packages/prefect/cli/storage.py\", line 192, in ls\n",
      "    block_documents = await client.read_block_documents(block_schema_type=\"STORAGE\")\n",
      "  File \"/home/simon/anaconda3/lib/python3.9/site-packages/prefect/client.py\", line 1146, in read_block_documents\n",
      "    response = await self._client.post(\n",
      "  File \"/home/simon/anaconda3/lib/python3.9/site-packages/httpx/_client.py\", line 1842, in post\n",
      "    return await self.request(\n",
      "  File \"/home/simon/anaconda3/lib/python3.9/site-packages/httpx/_client.py\", line 1527, in request\n",
      "    return await self.send(request, auth=auth, follow_redirects=follow_redirects)\n",
      "  File \"/home/simon/anaconda3/lib/python3.9/site-packages/prefect/client.py\", line 256, in send\n",
      "    await super().send(*args, **kwargs)\n",
      "  File \"/home/simon/anaconda3/lib/python3.9/site-packages/httpx/_client.py\", line 1614, in send\n",
      "    response = await self._send_handling_auth(\n",
      "  File \"/home/simon/anaconda3/lib/python3.9/site-packages/httpx/_client.py\", line 1642, in _send_handling_auth\n",
      "    response = await self._send_handling_redirects(\n",
      "  File \"/home/simon/anaconda3/lib/python3.9/site-packages/httpx/_client.py\", line 1679, in _send_handling_redirects\n",
      "    response = await self._send_single_request(request)\n",
      "  File \"/home/simon/anaconda3/lib/python3.9/site-packages/httpx/_client.py\", line 1716, in _send_single_request\n",
      "    response = await transport.handle_async_request(request)\n",
      "  File \"/home/simon/anaconda3/lib/python3.9/site-packages/httpx/_transports/default.py\", line 353, in handle_async_request\n",
      "    resp = await self._pool.handle_async_request(req)\n",
      "  File \"/home/simon/anaconda3/lib/python3.9/contextlib.py\", line 137, in __exit__\n",
      "    self.gen.throw(typ, value, traceback)\n",
      "  File \"/home/simon/anaconda3/lib/python3.9/site-packages/httpx/_transports/default.py\", line 77, in map_httpcore_exceptions\n",
      "    raise mapped_exc(message) from exc\n",
      "httpx.ConnectError: All connection attempts failed\n"
     ]
    },
    {
     "data": {
      "application/vnd.jupyter.widget-view+json": {
       "model_id": "f4a340cc1555431a8b96ebce860cdb6f",
       "version_major": 2,
       "version_minor": 0
      },
      "text/plain": [
       "sentence_filter:   0%|          | 0/1450 [00:00<?, ?it/s]"
      ]
     },
     "metadata": {},
     "output_type": "display_data"
    },
    {
     "name": "stderr",
     "output_type": "stream",
     "text": [
      "13:17:21.304 | INFO    | Task run 'sentence_filter_73a37386-3336688c-3' - Finished in state Completed()\n",
      "13:17:21.402 | INFO    | Flow run 'daring-crab' - Created task run 'get_topics_73a37386-86c91f96-3' for task 'get_topics_73a37386'\n",
      "13:17:21.687 | INFO    | Task run 'get_topics_73a37386-86c91f96-3' - Finished in state Completed()\n",
      "13:17:21.782 | INFO    | Flow run 'daring-crab' - Created task run 'pdf2text_bcbb4812-bd59368e-4' for task 'pdf2text_bcbb4812'\n",
      "Traceback (most recent call last):\n",
      "  File \"/home/simon/anaconda3/lib/python3.9/site-packages/anyio/_core/_sockets.py\", line 127, in try_connect\n",
      "    stream = await asynclib.connect_tcp(remote_host, remote_port, local_address)\n",
      "  File \"/home/simon/anaconda3/lib/python3.9/site-packages/anyio/_backends/_asyncio.py\", line 1518, in connect_tcp\n",
      "    await get_running_loop().create_connection(StreamProtocol, host, port,\n",
      "  File \"/home/simon/anaconda3/lib/python3.9/asyncio/base_events.py\", line 1065, in create_connection\n",
      "    raise exceptions[0]\n",
      "  File \"/home/simon/anaconda3/lib/python3.9/asyncio/base_events.py\", line 1050, in create_connection\n",
      "    sock = await self._connect_sock(\n",
      "  File \"/home/simon/anaconda3/lib/python3.9/asyncio/base_events.py\", line 961, in _connect_sock\n",
      "    await self.sock_connect(sock, address)\n",
      "  File \"/home/simon/anaconda3/lib/python3.9/asyncio/selector_events.py\", line 499, in sock_connect\n",
      "    return await fut\n",
      "  File \"/home/simon/anaconda3/lib/python3.9/asyncio/selector_events.py\", line 534, in _sock_connect_cb\n",
      "    raise OSError(err, f'Connect call failed {address}')\n",
      "ConnectionRefusedError: [Errno 111] Connect call failed ('127.0.0.1', 4200)\n",
      "\n",
      "The above exception was the direct cause of the following exception:\n",
      "\n",
      "Traceback (most recent call last):\n",
      "  File \"/home/simon/anaconda3/lib/python3.9/site-packages/httpcore/_exceptions.py\", line 8, in map_exceptions\n",
      "    yield\n",
      "  File \"/home/simon/anaconda3/lib/python3.9/site-packages/httpcore/backends/asyncio.py\", line 109, in connect_tcp\n",
      "    stream: anyio.abc.ByteStream = await anyio.connect_tcp(\n",
      "  File \"/home/simon/anaconda3/lib/python3.9/site-packages/anyio/_core/_sockets.py\", line 184, in connect_tcp\n",
      "    raise OSError('All connection attempts failed') from cause\n",
      "OSError: All connection attempts failed\n",
      "\n",
      "During handling of the above exception, another exception occurred:\n",
      "\n",
      "Traceback (most recent call last):\n",
      "  File \"/home/simon/anaconda3/lib/python3.9/site-packages/httpx/_transports/default.py\", line 60, in map_httpcore_exceptions\n",
      "    yield\n",
      "  File \"/home/simon/anaconda3/lib/python3.9/site-packages/httpx/_transports/default.py\", line 353, in handle_async_request\n",
      "    resp = await self._pool.handle_async_request(req)\n",
      "  File \"/home/simon/anaconda3/lib/python3.9/site-packages/httpcore/_async/connection_pool.py\", line 253, in handle_async_request\n",
      "    raise exc\n",
      "  File \"/home/simon/anaconda3/lib/python3.9/site-packages/httpcore/_async/connection_pool.py\", line 237, in handle_async_request\n",
      "    response = await connection.handle_async_request(request)\n",
      "  File \"/home/simon/anaconda3/lib/python3.9/site-packages/httpcore/_async/connection.py\", line 86, in handle_async_request\n",
      "    raise exc\n",
      "  File \"/home/simon/anaconda3/lib/python3.9/site-packages/httpcore/_async/connection.py\", line 63, in handle_async_request\n",
      "    stream = await self._connect(request)\n",
      "  File \"/home/simon/anaconda3/lib/python3.9/site-packages/httpcore/_async/connection.py\", line 111, in _connect\n",
      "    stream = await self._network_backend.connect_tcp(**kwargs)\n",
      "  File \"/home/simon/anaconda3/lib/python3.9/site-packages/httpcore/backends/auto.py\", line 29, in connect_tcp\n",
      "    return await self._backend.connect_tcp(\n",
      "  File \"/home/simon/anaconda3/lib/python3.9/site-packages/httpcore/backends/asyncio.py\", line 109, in connect_tcp\n",
      "    stream: anyio.abc.ByteStream = await anyio.connect_tcp(\n",
      "  File \"/home/simon/anaconda3/lib/python3.9/contextlib.py\", line 137, in __exit__\n",
      "    self.gen.throw(typ, value, traceback)\n",
      "  File \"/home/simon/anaconda3/lib/python3.9/site-packages/httpcore/_exceptions.py\", line 12, in map_exceptions\n",
      "    raise to_exc(exc)\n",
      "httpcore.ConnectError: All connection attempts failed\n",
      "\n",
      "The above exception was the direct cause of the following exception:\n",
      "\n",
      "Traceback (most recent call last):\n",
      "  File \"/home/simon/anaconda3/lib/python3.9/site-packages/prefect/cli/_utilities.py\", line 44, in wrapper\n",
      "    return fn(*args, **kwargs)\n",
      "  File \"/home/simon/anaconda3/lib/python3.9/site-packages/prefect/utilities/asyncio.py\", line 121, in wrapper\n",
      "    return run_async_in_new_loo"
     ]
    }
   ],
   "source": [
    "files = glob(\"reports_decrypted/*\")\n",
    "np.random.seed(0)\n",
    "files = np.random.choice(files, limit).tolist()\n",
    "extract(files)\n",
    "#extract_sl(files)"
   ]
  }
 ],
 "metadata": {
  "kernelspec": {
   "display_name": "Python 3",
   "language": "python",
   "name": "python3"
  },
  "language_info": {
   "codemirror_mode": {
    "name": "ipython",
    "version": 3
   },
   "file_extension": ".py",
   "mimetype": "text/x-python",
   "name": "python",
   "nbconvert_exporter": "python",
   "pygments_lexer": "ipython3",
   "version": "3.9.12"
  }
 },
 "nbformat": 4,
 "nbformat_minor": 5
}
