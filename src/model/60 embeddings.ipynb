{
 "cells": [
  {
   "cell_type": "code",
   "execution_count": 30,
   "id": "1d58e6d6",
   "metadata": {},
   "outputs": [
    {
     "name": "stderr",
     "output_type": "stream",
     "text": [
      "[cellevents:43:INFO]:starting (time=Jul-08 09:45 MainProcess)\n",
      "Some weights of the model checkpoint at nbroad/ESG-BERT were not used when initializing BertModel: ['classifier.bias', 'classifier.weight']\n",
      "- This IS expected if you are initializing BertModel from the checkpoint of a model trained on another task or with another architecture (e.g. initializing a BertForSequenceClassification model from a BertForPreTraining model).\n",
      "- This IS NOT expected if you are initializing BertModel from the checkpoint of a model that you expect to be exactly identical (initializing a BertForSequenceClassification model from a BertForSequenceClassification model).\n"
     ]
    },
    {
     "name": "stdout",
     "output_type": "stream",
     "text": [
      "time: 10.9 s\n"
     ]
    }
   ],
   "source": [
    "from ipstartup import *\n",
    "croot = \"c:\" if os.name==\"nt\" else \"/mnt/c\"\n",
    "droot = \"d:\" if os.name==\"nt\" else \"/mnt/d\"\n",
    "os.chdir(f\"{droot}/data1\")\n",
    "sys.path.append(f\"{croot}/Users/simon/OneDrive/Documents/py/live/slab/src\")\n",
    "############################################################################\n",
    "from transformers import pipeline\n",
    "import numpy as np\n",
    "import pandas as pd\n",
    "from model.utils import *\n",
    "\n",
    "# feature_extraction => sents,bs=1,tokens,features=768\n",
    "model = \"nbroad/ESG-BERT\"\n",
    "pipe = pipeline('feature-extraction', model=model)"
   ]
  },
  {
   "cell_type": "code",
   "execution_count": 31,
   "id": "b10e7994",
   "metadata": {},
   "outputs": [
    {
     "name": "stderr",
     "output_type": "stream",
     "text": [
      "[cellevents:43:INFO]:starting (time=Jul-08 09:45 MainProcess)\n"
     ]
    },
    {
     "name": "stdout",
     "output_type": "stream",
     "text": [
      "time: 179 ms\n"
     ]
    }
   ],
   "source": [
    "# load data\n",
    "sents = pd.read_csv(\"Clean_sentences.csv\").Sentences.tolist()\n",
    "sents = [s.replace(\"_\",\" \") for s in sents]\n",
    "sents = Document(sents, pipe)\n",
    "kpis = pd.read_excel(\"SustainLab_Generic_Granular_KPI list.xlsx\", sheet_name=\"Granular KPI list\").KPI.tolist()\n",
    "kpis = Document(kpis, pipe)"
   ]
  },
  {
   "cell_type": "code",
   "execution_count": 32,
   "id": "24a2ed45",
   "metadata": {},
   "outputs": [
    {
     "name": "stderr",
     "output_type": "stream",
     "text": [
      "[cellevents:43:INFO]:starting (time=Jul-08 09:45 MainProcess)\n"
     ]
    },
    {
     "data": {
      "application/vnd.jupyter.widget-view+json": {
       "model_id": "ab432387e9904b56960add0c2eb588fe",
       "version_major": 2,
       "version_minor": 0
      },
      "text/plain": [
       "  0%|          | 0/126 [00:00<?, ?it/s]"
      ]
     },
     "metadata": {},
     "output_type": "display_data"
    },
    {
     "data": {
      "application/vnd.jupyter.widget-view+json": {
       "model_id": "72c5fb740fd046e38a4c749574ae496b",
       "version_major": 2,
       "version_minor": 0
      },
      "text/plain": [
       "  0%|          | 0/162 [00:00<?, ?it/s]"
      ]
     },
     "metadata": {},
     "output_type": "display_data"
    },
    {
     "name": "stdout",
     "output_type": "stream",
     "text": [
      "time: 31.2 s\n"
     ]
    },
    {
     "data": {
      "text/html": [
       "\n",
       "                <audio  controls=\"controls\" autoplay=\"autoplay\">\n",
       "                    <source src=\"data:audio/wav;base64,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\" type=\"audio/wav\" />\n",
       "                    Your browser does not support the audio element.\n",
       "                </audio>\n",
       "              "
      ],
      "text/plain": [
       "<IPython.lib.display.Audio object>"
      ]
     },
     "metadata": {},
     "output_type": "display_data"
    },
    {
     "data": {
      "text/html": [
       "<style>audio{display:none}</style>"
      ],
      "text/plain": [
       "<IPython.core.display.HTML object>"
      ]
     },
     "metadata": {},
     "output_type": "display_data"
    }
   ],
   "source": [
    "# get features\n",
    "sents.get_feats()\n",
    "kpis.get_feats()"
   ]
  },
  {
   "cell_type": "markdown",
   "id": "eafb180d",
   "metadata": {},
   "source": [
    "# sentence embedding"
   ]
  },
  {
   "cell_type": "code",
   "execution_count": 33,
   "id": "219219e9",
   "metadata": {},
   "outputs": [
    {
     "name": "stderr",
     "output_type": "stream",
     "text": [
      "[cellevents:43:INFO]:starting (time=Jul-08 09:46 MainProcess)\n"
     ]
    },
    {
     "data": {
      "text/html": [
       "<div>\n",
       "<style scoped>\n",
       "    .dataframe tbody tr th:only-of-type {\n",
       "        vertical-align: middle;\n",
       "    }\n",
       "\n",
       "    .dataframe tbody tr th {\n",
       "        vertical-align: top;\n",
       "    }\n",
       "\n",
       "    .dataframe thead th {\n",
       "        text-align: right;\n",
       "    }\n",
       "</style>\n",
       "<table border=\"1\" class=\"dataframe\">\n",
       "  <thead>\n",
       "    <tr style=\"text-align: right;\">\n",
       "      <th></th>\n",
       "      <th>kpi</th>\n",
       "      <th>score</th>\n",
       "    </tr>\n",
       "    <tr>\n",
       "      <th>sent</th>\n",
       "      <th></th>\n",
       "      <th></th>\n",
       "    </tr>\n",
       "  </thead>\n",
       "  <tbody>\n",
       "    <tr>\n",
       "      <th>the timer lowers the indoor temperature when no one is present, eliminating wasteful use by floor, thereby achieving about a 30% reduction in energy consumption as compared to an ordinary central air conditioning system.</th>\n",
       "      <td>total heating energy sold</td>\n",
       "      <td>0.832714</td>\n",
       "    </tr>\n",
       "    <tr>\n",
       "      <th>in addition to these benefits, an lca we conducted determined that hp instant ink on average decreases the carbon footprint of ink purchase and distribution by 73%, while reducing energy use by 69% and lowering water use by 70%, compared with cartridge purchase and recycling through traditional 84 hp 2020 sustainable impact report footprint integrity and human rights retail channels.</th>\n",
       "      <td>total fuel consumption from renewable sources</td>\n",
       "      <td>0.702736</td>\n",
       "    </tr>\n",
       "    <tr>\n",
       "      <th>manufacturing although accounting for a small portion of our total lifecycle emissions, electrolux has reduced the energy use per product by 45% since 2005.</th>\n",
       "      <td>Total weight or volume of non-renewable materi...</td>\n",
       "      <td>0.732722</td>\n",
       "    </tr>\n",
       "  </tbody>\n",
       "</table>\n",
       "</div>"
      ],
      "text/plain": [
       "                                                                                                  kpi  \\\n",
       "sent                                                                                                    \n",
       "the timer lowers the indoor temperature when no...                          total heating energy sold   \n",
       "in addition to these benefits, an lca we conduc...      total fuel consumption from renewable sources   \n",
       "manufacturing although accounting for a small p...  Total weight or volume of non-renewable materi...   \n",
       "\n",
       "                                                       score  \n",
       "sent                                                          \n",
       "the timer lowers the indoor temperature when no...  0.832714  \n",
       "in addition to these benefits, an lca we conduc...  0.702736  \n",
       "manufacturing although accounting for a small p...  0.732722  "
      ]
     },
     "execution_count": 33,
     "metadata": {},
     "output_type": "execute_result"
    },
    {
     "name": "stdout",
     "output_type": "stream",
     "text": [
      "time: 16.5 ms\n"
     ]
    }
   ],
   "source": [
    "# sentence embedding\n",
    "sentdf = sents.compare_sents(kpis)\n",
    "sentdf.sample(3)"
   ]
  },
  {
   "cell_type": "markdown",
   "id": "c5297ef6",
   "metadata": {},
   "source": [
    "# ngram embedding"
   ]
  },
  {
   "cell_type": "code",
   "execution_count": 34,
   "id": "33af3ad3",
   "metadata": {},
   "outputs": [
    {
     "name": "stderr",
     "output_type": "stream",
     "text": [
      "[cellevents:43:INFO]:starting (time=Jul-08 09:46 MainProcess)\n"
     ]
    },
    {
     "name": "stdout",
     "output_type": "stream",
     "text": [
      "39 [CLS] in 2020, our solar energy consumption increased from 1 % to 3 %, helping us save 7, 408 mwh. [SEP]\n"
     ]
    },
    {
     "data": {
      "text/html": [
       "<div>\n",
       "<style scoped>\n",
       "    .dataframe tbody tr th:only-of-type {\n",
       "        vertical-align: middle;\n",
       "    }\n",
       "\n",
       "    .dataframe tbody tr th {\n",
       "        vertical-align: top;\n",
       "    }\n",
       "\n",
       "    .dataframe thead th {\n",
       "        text-align: right;\n",
       "    }\n",
       "</style>\n",
       "<table border=\"1\" class=\"dataframe\">\n",
       "  <thead>\n",
       "    <tr style=\"text-align: right;\">\n",
       "      <th></th>\n",
       "      <th>best</th>\n",
       "      <th>score</th>\n",
       "    </tr>\n",
       "    <tr>\n",
       "      <th>ngram</th>\n",
       "      <th></th>\n",
       "      <th></th>\n",
       "    </tr>\n",
       "  </thead>\n",
       "  <tbody>\n",
       "    <tr>\n",
       "      <th>our solar energy consumption increased</th>\n",
       "      <td>amount of energy consumption reduced</td>\n",
       "      <td>0.921617</td>\n",
       "    </tr>\n",
       "    <tr>\n",
       "      <th>mwh. [SEP]</th>\n",
       "      <td>amount of energy consumption reduced</td>\n",
       "      <td>0.920483</td>\n",
       "    </tr>\n",
       "    <tr>\n",
       "      <th>our solar energy consumption</th>\n",
       "      <td>amount of energy consumption reduced</td>\n",
       "      <td>0.920439</td>\n",
       "    </tr>\n",
       "    <tr>\n",
       "      <th>, our solar energy consumption</th>\n",
       "      <td>amount of energy consumption reduced</td>\n",
       "      <td>0.919891</td>\n",
       "    </tr>\n",
       "    <tr>\n",
       "      <th>solar energy consumption increased</th>\n",
       "      <td>amount of energy consumption reduced</td>\n",
       "      <td>0.919180</td>\n",
       "    </tr>\n",
       "    <tr>\n",
       "      <th>##h. [SEP]</th>\n",
       "      <td>amount of energy consumption reduced</td>\n",
       "      <td>0.918977</td>\n",
       "    </tr>\n",
       "    <tr>\n",
       "      <th>consumption</th>\n",
       "      <td>amount of energy consumption reduced</td>\n",
       "      <td>0.917295</td>\n",
       "    </tr>\n",
       "    <tr>\n",
       "      <th>solar energy consumption</th>\n",
       "      <td>amount of energy consumption reduced</td>\n",
       "      <td>0.917209</td>\n",
       "    </tr>\n",
       "    <tr>\n",
       "      <th>2020, our solar energy</th>\n",
       "      <td>amount of energy consumption reduced</td>\n",
       "      <td>0.916838</td>\n",
       "    </tr>\n",
       "    <tr>\n",
       "      <th>, our solar energy</th>\n",
       "      <td>amount of energy consumption reduced</td>\n",
       "      <td>0.915113</td>\n",
       "    </tr>\n",
       "  </tbody>\n",
       "</table>\n",
       "</div>"
      ],
      "text/plain": [
       "                                                                        best  \\\n",
       "ngram                                                                          \n",
       "our solar energy consumption increased  amount of energy consumption reduced   \n",
       "mwh. [SEP]                              amount of energy consumption reduced   \n",
       "our solar energy consumption            amount of energy consumption reduced   \n",
       ", our solar energy consumption          amount of energy consumption reduced   \n",
       "solar energy consumption increased      amount of energy consumption reduced   \n",
       "##h. [SEP]                              amount of energy consumption reduced   \n",
       "consumption                             amount of energy consumption reduced   \n",
       "solar energy consumption                amount of energy consumption reduced   \n",
       "2020, our solar energy                  amount of energy consumption reduced   \n",
       ", our solar energy                      amount of energy consumption reduced   \n",
       "\n",
       "                                           score  \n",
       "ngram                                             \n",
       "our solar energy consumption increased  0.921617  \n",
       "mwh. [SEP]                              0.920483  \n",
       "our solar energy consumption            0.920439  \n",
       ", our solar energy consumption          0.919891  \n",
       "solar energy consumption increased      0.919180  \n",
       "##h. [SEP]                              0.918977  \n",
       "consumption                             0.917295  \n",
       "solar energy consumption                0.917209  \n",
       "2020, our solar energy                  0.916838  \n",
       ", our solar energy                      0.915113  "
      ]
     },
     "execution_count": 34,
     "metadata": {},
     "output_type": "execute_result"
    },
    {
     "name": "stdout",
     "output_type": "stream",
     "text": [
      "time: 78.6 ms\n"
     ]
    }
   ],
   "source": [
    "# inspect ngram embedding dataframe on a sentence\n",
    "# note ngrams are within the context of the sentence. \"energy\" has different embeddings in different sentences.\n",
    "i = np.random.randint(len(sents.sents))\n",
    "ngram, kpi, score, ngramdf1 = sents.compare_ngrams(i, kpis, 5)\n",
    "sent = pipe.tokenizer.decode(pipe.tokenizer.encode(sents.sents[i]))\n",
    "print(i, sent)\n",
    "ngramdf1[:10]"
   ]
  },
  {
   "cell_type": "code",
   "execution_count": 35,
   "id": "1252d333",
   "metadata": {},
   "outputs": [
    {
     "name": "stderr",
     "output_type": "stream",
     "text": [
      "[cellevents:43:INFO]:starting (time=Jul-08 09:46 MainProcess)\n"
     ]
    },
    {
     "data": {
      "application/vnd.jupyter.widget-view+json": {
       "model_id": "cb0c46d57ca74eaf8328efb6a6d7b7eb",
       "version_major": 2,
       "version_minor": 0
      },
      "text/plain": [
       "  0%|          | 0/126 [00:00<?, ?it/s]"
      ]
     },
     "metadata": {},
     "output_type": "display_data"
    },
    {
     "name": "stdout",
     "output_type": "stream",
     "text": [
      "time: 52.9 s\n"
     ]
    },
    {
     "data": {
      "text/html": [
       "\n",
       "                <audio  controls=\"controls\" autoplay=\"autoplay\">\n",
       "                    <source src=\"data:audio/wav;base64,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\" type=\"audio/wav\" />\n",
       "                    Your browser does not support the audio element.\n",
       "                </audio>\n",
       "              "
      ],
      "text/plain": [
       "<IPython.lib.display.Audio object>"
      ]
     },
     "metadata": {},
     "output_type": "display_data"
    },
    {
     "data": {
      "text/html": [
       "<style>audio{display:none}</style>"
      ],
      "text/plain": [
       "<IPython.core.display.HTML object>"
      ]
     },
     "metadata": {},
     "output_type": "display_data"
    }
   ],
   "source": [
    "# ngrams for all sentences\n",
    "res = []\n",
    "for i, sent in enumerate(tqdm(sents.sents)):\n",
    "    ngram, kpi, score, _ = sents.compare_ngrams(i, kpis)\n",
    "    res.append([sent, ngram, kpi, score])\n",
    "ngramdf = pd.DataFrame(res, columns=[\"sent\", \"ngram\", \"kpi\", \"score\"])\n",
    "ngramdf = ngramdf.set_index(\"sent\")"
   ]
  },
  {
   "cell_type": "code",
   "execution_count": 36,
   "id": "5f062a91",
   "metadata": {},
   "outputs": [
    {
     "name": "stderr",
     "output_type": "stream",
     "text": [
      "[cellevents:43:INFO]:starting (time=Jul-08 09:47 MainProcess)\n"
     ]
    },
    {
     "data": {
      "text/plain": [
       "<AxesSubplot:>"
      ]
     },
     "execution_count": 36,
     "metadata": {},
     "output_type": "execute_result"
    },
    {
     "data": {
      "image/png": "[encoded data removed]",
      "text/plain": [
       "<Figure size 432x288 with 1 Axes>"
      ]
     },
     "metadata": {
      "needs_background": "light"
     },
     "output_type": "display_data"
    },
    {
     "name": "stdout",
     "output_type": "stream",
     "text": [
      "time: 344 ms\n"
     ]
    }
   ],
   "source": [
    "ngramdf.score.hist()"
   ]
  },
  {
   "cell_type": "code",
   "execution_count": 37,
   "id": "ce9d2246",
   "metadata": {},
   "outputs": [
    {
     "name": "stderr",
     "output_type": "stream",
     "text": [
      "[cellevents:43:INFO]:starting (time=Jul-08 09:47 MainProcess)\n"
     ]
    },
    {
     "name": "stdout",
     "output_type": "stream",
     "text": [
      "time: 67.2 ms\n"
     ]
    }
   ],
   "source": [
    "out = ngramdf.join(sentdf, rsuffix=\"_sent\")[[\"ngram\", \"kpi\", \"score\", \"kpi_sent\", \"score_sent\"]]\n",
    "out.to_excel(\"sent_ngram.xlsx\")"
   ]
  },
  {
   "cell_type": "code",
   "execution_count": 38,
   "id": "578852dc",
   "metadata": {},
   "outputs": [
    {
     "name": "stderr",
     "output_type": "stream",
     "text": [
      "[cellevents:43:INFO]:starting (time=Jul-08 09:47 MainProcess)\n"
     ]
    },
    {
     "data": {
      "text/html": [
       "<div>\n",
       "<style scoped>\n",
       "    .dataframe tbody tr th:only-of-type {\n",
       "        vertical-align: middle;\n",
       "    }\n",
       "\n",
       "    .dataframe tbody tr th {\n",
       "        vertical-align: top;\n",
       "    }\n",
       "\n",
       "    .dataframe thead th {\n",
       "        text-align: right;\n",
       "    }\n",
       "</style>\n",
       "<table border=\"1\" class=\"dataframe\">\n",
       "  <thead>\n",
       "    <tr style=\"text-align: right;\">\n",
       "      <th></th>\n",
       "      <th>ngram</th>\n",
       "      <th>kpi</th>\n",
       "      <th>score</th>\n",
       "      <th>kpi_sent</th>\n",
       "      <th>score_sent</th>\n",
       "    </tr>\n",
       "    <tr>\n",
       "      <th>sent</th>\n",
       "      <th></th>\n",
       "      <th></th>\n",
       "      <th></th>\n",
       "      <th></th>\n",
       "      <th></th>\n",
       "    </tr>\n",
       "  </thead>\n",
       "  <tbody>\n",
       "    <tr>\n",
       "      <th>products and solutions appendix water water withdrawal associated with our operations makes up 2% of our total water footprint.</th>\n",
       "      <td>[CLS] products and solutions appendix water wa...</td>\n",
       "      <td>total third-party water withdrawal with water ...</td>\n",
       "      <td>0.974464</td>\n",
       "      <td>total third-party water withdrawal with water ...</td>\n",
       "      <td>0.972459</td>\n",
       "    </tr>\n",
       "    <tr>\n",
       "      <th>reduce scope 1 and scope 2 ghg emissions hps global operations produced 171,000 13 from global operations by 60% by 2025, tonnes of scope 1 and scope 2 co.e compared to 2015.\"</th>\n",
       "      <td>[CLS] reduce scope 1 and scope 2 ghg emissions</td>\n",
       "      <td>Scope 2 GHG emissions of CO2 equivalent</td>\n",
       "      <td>0.964580</td>\n",
       "      <td>Scope 2 GHG emissions of CO2 equivalent</td>\n",
       "      <td>0.951864</td>\n",
       "    </tr>\n",
       "    <tr>\n",
       "      <th>while ghg emissions from our operations only represent 1% of our footprint, we work to demonstrate leadership in emissions management, reduction, and disclosure.</th>\n",
       "      <td>[CLS] while ghg emissions</td>\n",
       "      <td>co2 equivalent of GHG emissions reduced</td>\n",
       "      <td>0.958361</td>\n",
       "      <td>co2 equivalent of GHG emissions reduced</td>\n",
       "      <td>0.939852</td>\n",
       "    </tr>\n",
       "    <tr>\n",
       "      <th>water scarcity levels are rising-14 out of 20 of the worlds largest cities are already experiencing inadequate supplies and two-thirds of the worlds population are expected to live in water-stressed areas by 2025. still, the average daily water consumption per person is up to 500 liters in some developed countries and approximately 16% of energy consumption in the home is related to water usage.</th>\n",
       "      <td>water usage.</td>\n",
       "      <td>total water consumption with water stress</td>\n",
       "      <td>0.956143</td>\n",
       "      <td>total water withdrawal in megaliters</td>\n",
       "      <td>0.944818</td>\n",
       "    </tr>\n",
       "    <tr>\n",
       "      <th>after reducing ghg emissions by 77% through energy efficiency, the site offset the remaining 23% of ghg emissions plus an additional 20% of the original amount.</th>\n",
       "      <td>ghg emissions</td>\n",
       "      <td>co2 equivalent of GHG emissions reduced</td>\n",
       "      <td>0.955491</td>\n",
       "      <td>co2 equivalent of GHG emissions reduced</td>\n",
       "      <td>0.939440</td>\n",
       "    </tr>\n",
       "    <tr>\n",
       "      <th>greenhouse gas emissions were reduced by 242 tons of carbon dioxide equivalent per year.</th>\n",
       "      <td>[CLS] greenhouse</td>\n",
       "      <td>co2 equivalent of GHG emissions reduced</td>\n",
       "      <td>0.954785</td>\n",
       "      <td>co2 equivalent of GHG emissions reduced</td>\n",
       "      <td>0.941641</td>\n",
       "    </tr>\n",
       "    <tr>\n",
       "      <th>this action is estimated to bring a 30% (2.6 mwh/year) reduction in energy consumption.</th>\n",
       "      <td>in energy consumption. [SEP]</td>\n",
       "      <td>amount of energy consumption reduced</td>\n",
       "      <td>0.954194</td>\n",
       "      <td>amount of energy consumption reduced</td>\n",
       "      <td>0.936609</td>\n",
       "    </tr>\n",
       "    <tr>\n",
       "      <th>reduce first-tier production supplier through december 2019 (the most recent 13 and product transportation-related ghg year data is available), ghg emissions emissions intensity by 10% by 2025, intensity decreased 3%, compared to 2015.</th>\n",
       "      <td>, ghg emissions</td>\n",
       "      <td>co2 equivalent of GHG emissions reduced</td>\n",
       "      <td>0.954100</td>\n",
       "      <td>co2 equivalent of GHG emissions reduced</td>\n",
       "      <td>0.930434</td>\n",
       "    </tr>\n",
       "    <tr>\n",
       "      <th>170 business leaders call on eu decision-makers to support a greenhouse gas (ghg) emissions reduction target of at least 55% by 2030.</th>\n",
       "      <td>ghg ) emissions</td>\n",
       "      <td>co2 equivalent of GHG emissions reduced</td>\n",
       "      <td>0.952568</td>\n",
       "      <td>Scope 2 GHG emissions of CO2 equivalent</td>\n",
       "      <td>0.932535</td>\n",
       "    </tr>\n",
       "    <tr>\n",
       "      <th>main challenges 2021 reduce ghg emissions by 18.46% (scopes 1 and 2) and by 14.46% (scope 3) compared to 2017, in line with the sbt at 2030 of a 1.5c reduction, and maintain carbon neutrality in its direct operations.</th>\n",
       "      <td>reduce ghg emissions</td>\n",
       "      <td>co2 equivalent of GHG emissions reduced</td>\n",
       "      <td>0.952398</td>\n",
       "      <td>co2 equivalent of GHG emissions reduced</td>\n",
       "      <td>0.931523</td>\n",
       "    </tr>\n",
       "  </tbody>\n",
       "</table>\n",
       "</div>"
      ],
      "text/plain": [
       "                                                                                                ngram  \\\n",
       "sent                                                                                                    \n",
       "products and solutions appendix water water wit...  [CLS] products and solutions appendix water wa...   \n",
       "reduce scope 1 and scope 2 ghg emissions hps gl...     [CLS] reduce scope 1 and scope 2 ghg emissions   \n",
       "while ghg emissions from our operations only re...                          [CLS] while ghg emissions   \n",
       "water scarcity levels are rising-14 out of 20 o...                                       water usage.   \n",
       "after reducing ghg emissions by 77% through ene...                                      ghg emissions   \n",
       "greenhouse gas emissions were reduced by 242 to...                                   [CLS] greenhouse   \n",
       "this action is estimated to bring a 30% (2.6 mw...                       in energy consumption. [SEP]   \n",
       "reduce first-tier production supplier through d...                                    , ghg emissions   \n",
       "170 business leaders call on eu decision-makers...                                    ghg ) emissions   \n",
       "main challenges 2021 reduce ghg emissions by 18...                               reduce ghg emissions   \n",
       "\n",
       "                                                                                                  kpi  \\\n",
       "sent                                                                                                    \n",
       "products and solutions appendix water water wit...  total third-party water withdrawal with water ...   \n",
       "reduce scope 1 and scope 2 ghg emissions hps gl...            Scope 2 GHG emissions of CO2 equivalent   \n",
       "while ghg emissions from our operations only re...            co2 equivalent of GHG emissions reduced   \n",
       "water scarcity levels are rising-14 out of 20 o...          total water consumption with water stress   \n",
       "after reducing ghg emissions by 77% through ene...            co2 equivalent of GHG emissions reduced   \n",
       "greenhouse gas emissions were reduced by 242 to...            co2 equivalent of GHG emissions reduced   \n",
       "this action is estimated to bring a 30% (2.6 mw...               amount of energy consumption reduced   \n",
       "reduce first-tier production supplier through d...            co2 equivalent of GHG emissions reduced   \n",
       "170 business leaders call on eu decision-makers...            co2 equivalent of GHG emissions reduced   \n",
       "main challenges 2021 reduce ghg emissions by 18...            co2 equivalent of GHG emissions reduced   \n",
       "\n",
       "                                                       score  \\\n",
       "sent                                                           \n",
       "products and solutions appendix water water wit...  0.974464   \n",
       "reduce scope 1 and scope 2 ghg emissions hps gl...  0.964580   \n",
       "while ghg emissions from our operations only re...  0.958361   \n",
       "water scarcity levels are rising-14 out of 20 o...  0.956143   \n",
       "after reducing ghg emissions by 77% through ene...  0.955491   \n",
       "greenhouse gas emissions were reduced by 242 to...  0.954785   \n",
       "this action is estimated to bring a 30% (2.6 mw...  0.954194   \n",
       "reduce first-tier production supplier through d...  0.954100   \n",
       "170 business leaders call on eu decision-makers...  0.952568   \n",
       "main challenges 2021 reduce ghg emissions by 18...  0.952398   \n",
       "\n",
       "                                                                                             kpi_sent  \\\n",
       "sent                                                                                                    \n",
       "products and solutions appendix water water wit...  total third-party water withdrawal with water ...   \n",
       "reduce scope 1 and scope 2 ghg emissions hps gl...            Scope 2 GHG emissions of CO2 equivalent   \n",
       "while ghg emissions from our operations only re...            co2 equivalent of GHG emissions reduced   \n",
       "water scarcity levels are rising-14 out of 20 o...               total water withdrawal in megaliters   \n",
       "after reducing ghg emissions by 77% through ene...            co2 equivalent of GHG emissions reduced   \n",
       "greenhouse gas emissions were reduced by 242 to...            co2 equivalent of GHG emissions reduced   \n",
       "this action is estimated to bring a 30% (2.6 mw...               amount of energy consumption reduced   \n",
       "reduce first-tier production supplier through d...            co2 equivalent of GHG emissions reduced   \n",
       "170 business leaders call on eu decision-makers...            Scope 2 GHG emissions of CO2 equivalent   \n",
       "main challenges 2021 reduce ghg emissions by 18...            co2 equivalent of GHG emissions reduced   \n",
       "\n",
       "                                                    score_sent  \n",
       "sent                                                            \n",
       "products and solutions appendix water water wit...    0.972459  \n",
       "reduce scope 1 and scope 2 ghg emissions hps gl...    0.951864  \n",
       "while ghg emissions from our operations only re...    0.939852  \n",
       "water scarcity levels are rising-14 out of 20 o...    0.944818  \n",
       "after reducing ghg emissions by 77% through ene...    0.939440  \n",
       "greenhouse gas emissions were reduced by 242 to...    0.941641  \n",
       "this action is estimated to bring a 30% (2.6 mw...    0.936609  \n",
       "reduce first-tier production supplier through d...    0.930434  \n",
       "170 business leaders call on eu decision-makers...    0.932535  \n",
       "main challenges 2021 reduce ghg emissions by 18...    0.931523  "
      ]
     },
     "execution_count": 38,
     "metadata": {},
     "output_type": "execute_result"
    },
    {
     "name": "stdout",
     "output_type": "stream",
     "text": [
      "time: 16.2 ms\n"
     ]
    }
   ],
   "source": [
    "out.sort_values(\"score\", ascending=False)[:10]"
   ]
  },
  {
   "cell_type": "code",
   "execution_count": 39,
   "id": "29f112b7",
   "metadata": {},
   "outputs": [
    {
     "name": "stderr",
     "output_type": "stream",
     "text": [
      "[cellevents:43:INFO]:starting (time=Jul-08 09:47 MainProcess)\n"
     ]
    },
    {
     "data": {
      "text/html": [
       "<div>\n",
       "<style scoped>\n",
       "    .dataframe tbody tr th:only-of-type {\n",
       "        vertical-align: middle;\n",
       "    }\n",
       "\n",
       "    .dataframe tbody tr th {\n",
       "        vertical-align: top;\n",
       "    }\n",
       "\n",
       "    .dataframe thead th {\n",
       "        text-align: right;\n",
       "    }\n",
       "</style>\n",
       "<table border=\"1\" class=\"dataframe\">\n",
       "  <thead>\n",
       "    <tr style=\"text-align: right;\">\n",
       "      <th></th>\n",
       "      <th>ngram</th>\n",
       "      <th>kpi</th>\n",
       "      <th>score</th>\n",
       "      <th>kpi_sent</th>\n",
       "      <th>score_sent</th>\n",
       "    </tr>\n",
       "    <tr>\n",
       "      <th>sent</th>\n",
       "      <th></th>\n",
       "      <th></th>\n",
       "      <th></th>\n",
       "      <th></th>\n",
       "      <th></th>\n",
       "    </tr>\n",
       "  </thead>\n",
       "  <tbody>\n",
       "    <tr>\n",
       "      <th>this includes materials such as autoclaved aerated concrete, which is a lightweight, precast, foam concrete building material that helps reduce at least 30% in industrial waste, 50% in greenhouse radiation and over 60% of integrated energy on the surface of bricks.</th>\n",
       "      <td>waste,</td>\n",
       "      <td>particulate matter</td>\n",
       "      <td>0.607838</td>\n",
       "      <td>particulate matter</td>\n",
       "      <td>0.598814</td>\n",
       "    </tr>\n",
       "    <tr>\n",
       "      <th>the system also helps cut co, emissions by 61% compared to bottled water and reduce plastic waste.</th>\n",
       "      <td>emissions</td>\n",
       "      <td>persistent organic pollutants</td>\n",
       "      <td>0.597340</td>\n",
       "      <td>persistent organic pollutants</td>\n",
       "      <td>0.579199</td>\n",
       "    </tr>\n",
       "    <tr>\n",
       "      <th>research shows that extending the lifespan of clothing by an extra nine months by taking better care of clothes can reduce carbon, waste and water footprints by between 20% and 30%.</th>\n",
       "      <td>%. [SEP]</td>\n",
       "      <td>percentage of recycled materials used in manuf...</td>\n",
       "      <td>0.596580</td>\n",
       "      <td>percentage of recycled materials used in manuf...</td>\n",
       "      <td>0.584994</td>\n",
       "    </tr>\n",
       "    <tr>\n",
       "      <th>key priorities and progress 2020 in 2020, electrolux launched the 'for the better 2030' sustainability framework, including the objective to make our business circular and climate neutral by 2030. this new target complements our science-based target to reduce our scope land 2 emissions by 80% between 2015 and 2025. read more about our climate targets.</th>\n",
       "      <td>emissions</td>\n",
       "      <td>emissions in base year</td>\n",
       "      <td>0.595067</td>\n",
       "      <td>emissions in base year</td>\n",
       "      <td>0.518653</td>\n",
       "    </tr>\n",
       "    <tr>\n",
       "      <th>instead of disposing of the oil after first use, we filter the used oil and use it for topping up, a:: transforming our portfolios to low-carbon sustainable cities which reduces the amount of new oil required.</th>\n",
       "      <td>- carbon sustainable cities which reduces the ...</td>\n",
       "      <td>Total weight or volume of non-renewable materi...</td>\n",
       "      <td>0.568819</td>\n",
       "      <td>percentage of recycled materials used in manuf...</td>\n",
       "      <td>0.554812</td>\n",
       "    </tr>\n",
       "    <tr>\n",
       "      <th>our zero landfill program has the objective to reduce the amount of waste sent to landfll or incinerated without energy recovery.</th>\n",
       "      <td>recovery. [SEP]</td>\n",
       "      <td>persistent organic pollutants</td>\n",
       "      <td>0.545644</td>\n",
       "      <td>persistent organic pollutants</td>\n",
       "      <td>0.529074</td>\n",
       "    </tr>\n",
       "    <tr>\n",
       "      <th>se 00 ee 07 es 003 @ electricity consumption per kg of waste treated (kwh/kg) the increase observed in the average consumption per 100 km is due to the fact that in 2020, new and more de- manding routes were added for sterilisation s.a.</th>\n",
       "      <td>of waste treated (</td>\n",
       "      <td>particulate matter</td>\n",
       "      <td>0.543269</td>\n",
       "      <td>persistent organic pollutants</td>\n",
       "      <td>0.527370</td>\n",
       "    </tr>\n",
       "    <tr>\n",
       "      <th>the steamcare program for example uses steam-and up to 96% less water-to freshen clothes and remove wrinkles.</th>\n",
       "      <td>##inkles.</td>\n",
       "      <td>rate of fatalities due to work-related injury</td>\n",
       "      <td>0.530545</td>\n",
       "      <td>rate of fatalities due to work-related injury</td>\n",
       "      <td>0.474987</td>\n",
       "    </tr>\n",
       "    <tr>\n",
       "      <th>taken together, these measures help us reduce the carbon footprint of our glazed balconies by 30 percent -from 5,000 kg co, to 3,500 kg co,e-while also reducing the repayment period on the climate debt.</th>\n",
       "      <td>##ment</td>\n",
       "      <td>community investments</td>\n",
       "      <td>0.476228</td>\n",
       "      <td>community investments</td>\n",
       "      <td>0.432080</td>\n",
       "    </tr>\n",
       "    <tr>\n",
       "      <th>the initiative also demands footprint and yn sd th decentralises farming by ensuring every urban farm is within 5 km of the local communities, reducing the food miles higher yield distance from farm to plate and eventually lowering consumers carbon footprint.</th>\n",
       "      <td>yield</td>\n",
       "      <td>Percentage of new suppliers that were screened...</td>\n",
       "      <td>0.417257</td>\n",
       "      <td>Percentage of new suppliers that were screened...</td>\n",
       "      <td>0.390577</td>\n",
       "    </tr>\n",
       "  </tbody>\n",
       "</table>\n",
       "</div>"
      ],
      "text/plain": [
       "                                                                                                ngram  \\\n",
       "sent                                                                                                    \n",
       "this includes materials such as autoclaved aera...                                             waste,   \n",
       "the system also helps cut co, emissions by 61% ...                                          emissions   \n",
       "research shows that extending the lifespan of c...                                           %. [SEP]   \n",
       "key priorities and progress 2020 in 2020, elect...                                          emissions   \n",
       "instead of disposing of the oil after first use...  - carbon sustainable cities which reduces the ...   \n",
       "our zero landfill program has the objective to ...                                    recovery. [SEP]   \n",
       "se 00 ee 07 es 003 @ electricity consumption pe...                                 of waste treated (   \n",
       "the steamcare program for example uses steam-an...                                          ##inkles.   \n",
       "taken together, these measures help us reduce t...                                             ##ment   \n",
       "the initiative also demands footprint and yn sd...                                              yield   \n",
       "\n",
       "                                                                                                  kpi  \\\n",
       "sent                                                                                                    \n",
       "this includes materials such as autoclaved aera...                                 particulate matter   \n",
       "the system also helps cut co, emissions by 61% ...                     persistent organic pollutants    \n",
       "research shows that extending the lifespan of c...  percentage of recycled materials used in manuf...   \n",
       "key priorities and progress 2020 in 2020, elect...                             emissions in base year   \n",
       "instead of disposing of the oil after first use...  Total weight or volume of non-renewable materi...   \n",
       "our zero landfill program has the objective to ...                     persistent organic pollutants    \n",
       "se 00 ee 07 es 003 @ electricity consumption pe...                                 particulate matter   \n",
       "the steamcare program for example uses steam-an...      rate of fatalities due to work-related injury   \n",
       "taken together, these measures help us reduce t...                              community investments   \n",
       "the initiative also demands footprint and yn sd...  Percentage of new suppliers that were screened...   \n",
       "\n",
       "                                                       score  \\\n",
       "sent                                                           \n",
       "this includes materials such as autoclaved aera...  0.607838   \n",
       "the system also helps cut co, emissions by 61% ...  0.597340   \n",
       "research shows that extending the lifespan of c...  0.596580   \n",
       "key priorities and progress 2020 in 2020, elect...  0.595067   \n",
       "instead of disposing of the oil after first use...  0.568819   \n",
       "our zero landfill program has the objective to ...  0.545644   \n",
       "se 00 ee 07 es 003 @ electricity consumption pe...  0.543269   \n",
       "the steamcare program for example uses steam-an...  0.530545   \n",
       "taken together, these measures help us reduce t...  0.476228   \n",
       "the initiative also demands footprint and yn sd...  0.417257   \n",
       "\n",
       "                                                                                             kpi_sent  \\\n",
       "sent                                                                                                    \n",
       "this includes materials such as autoclaved aera...                                 particulate matter   \n",
       "the system also helps cut co, emissions by 61% ...                     persistent organic pollutants    \n",
       "research shows that extending the lifespan of c...  percentage of recycled materials used in manuf...   \n",
       "key priorities and progress 2020 in 2020, elect...                             emissions in base year   \n",
       "instead of disposing of the oil after first use...  percentage of recycled materials used in manuf...   \n",
       "our zero landfill program has the objective to ...                     persistent organic pollutants    \n",
       "se 00 ee 07 es 003 @ electricity consumption pe...                     persistent organic pollutants    \n",
       "the steamcare program for example uses steam-an...      rate of fatalities due to work-related injury   \n",
       "taken together, these measures help us reduce t...                              community investments   \n",
       "the initiative also demands footprint and yn sd...  Percentage of new suppliers that were screened...   \n",
       "\n",
       "                                                    score_sent  \n",
       "sent                                                            \n",
       "this includes materials such as autoclaved aera...    0.598814  \n",
       "the system also helps cut co, emissions by 61% ...    0.579199  \n",
       "research shows that extending the lifespan of c...    0.584994  \n",
       "key priorities and progress 2020 in 2020, elect...    0.518653  \n",
       "instead of disposing of the oil after first use...    0.554812  \n",
       "our zero landfill program has the objective to ...    0.529074  \n",
       "se 00 ee 07 es 003 @ electricity consumption pe...    0.527370  \n",
       "the steamcare program for example uses steam-an...    0.474987  \n",
       "taken together, these measures help us reduce t...    0.432080  \n",
       "the initiative also demands footprint and yn sd...    0.390577  "
      ]
     },
     "execution_count": 39,
     "metadata": {},
     "output_type": "execute_result"
    },
    {
     "name": "stdout",
     "output_type": "stream",
     "text": [
      "time: 22 ms\n"
     ]
    }
   ],
   "source": [
    "out.sort_values(\"score\", ascending=False)[-10:]"
   ]
  },
  {
   "cell_type": "code",
   "execution_count": 40,
   "id": "4039b7cd",
   "metadata": {},
   "outputs": [
    {
     "name": "stderr",
     "output_type": "stream",
     "text": [
      "[cellevents:43:INFO]:starting (time=Jul-08 09:47 MainProcess)\n"
     ]
    },
    {
     "data": {
      "text/html": [
       "<div>\n",
       "<style scoped>\n",
       "    .dataframe tbody tr th:only-of-type {\n",
       "        vertical-align: middle;\n",
       "    }\n",
       "\n",
       "    .dataframe tbody tr th {\n",
       "        vertical-align: top;\n",
       "    }\n",
       "\n",
       "    .dataframe thead th {\n",
       "        text-align: right;\n",
       "    }\n",
       "</style>\n",
       "<table border=\"1\" class=\"dataframe\">\n",
       "  <thead>\n",
       "    <tr style=\"text-align: right;\">\n",
       "      <th></th>\n",
       "      <th>ngram</th>\n",
       "      <th>kpi</th>\n",
       "      <th>score</th>\n",
       "      <th>kpi_sent</th>\n",
       "      <th>score_sent</th>\n",
       "    </tr>\n",
       "    <tr>\n",
       "      <th>sent</th>\n",
       "      <th></th>\n",
       "      <th></th>\n",
       "      <th></th>\n",
       "      <th></th>\n",
       "      <th></th>\n",
       "    </tr>\n",
       "  </thead>\n",
       "  <tbody>\n",
       "    <tr>\n",
       "      <th>instead of disposing of the oil after first use, we filter the used oil and use it for topping up, a:: transforming our portfolios to low-carbon sustainable cities which reduces the amount of new oil required.</th>\n",
       "      <td>- carbon sustainable cities which reduces the ...</td>\n",
       "      <td>Total weight or volume of non-renewable materi...</td>\n",
       "      <td>0.568819</td>\n",
       "      <td>percentage of recycled materials used in manuf...</td>\n",
       "      <td>0.554812</td>\n",
       "    </tr>\n",
       "    <tr>\n",
       "      <th>[sbt] e by further promoting energy saving for existing facilities and achieving zeb for facilities to be newly constructed, we aim to increase the groupwide energy efficiency (sales unit per consumed energy) by half by 2030 and double it by 2040 trom the fiscal 2015 levels.</th>\n",
       "      <td>##wide energy efficiency</td>\n",
       "      <td>total heating energy consumption</td>\n",
       "      <td>0.938987</td>\n",
       "      <td>energy consumption outside of the organization</td>\n",
       "      <td>0.934252</td>\n",
       "    </tr>\n",
       "    <tr>\n",
       "      <th>since 2015, use has been reduced by 26 percent, due largely to the continued conversion to biofuels in th ghg emissions from nccs operations e swedish asphalt plants.</th>\n",
       "      <td>ghg emissions from</td>\n",
       "      <td>co2 equivalent of GHG emissions reduced</td>\n",
       "      <td>0.947065</td>\n",
       "      <td>Scope 2 GHG emissions of CO2 equivalent</td>\n",
       "      <td>0.930576</td>\n",
       "    </tr>\n",
       "    <tr>\n",
       "      <th>the ultrawash cycle is the ideal balance of care and energy-efficiency for mixed loads-a 59-minute cycle at 350c saves up to 30% energy compared to a 40c cotton program.</th>\n",
       "      <td>[CLS] the ultrawash cycle</td>\n",
       "      <td>energy consumption outside of the organization</td>\n",
       "      <td>0.917525</td>\n",
       "      <td>amount of energy consumption reduced</td>\n",
       "      <td>0.897090</td>\n",
       "    </tr>\n",
       "    <tr>\n",
       "      <th>energy efficiency and greenhouse gas reduction approximately 85% of the energy consumed during the multi-decade lifecycle of a homeincluding the initial raw material extraction, manufacturing, and constructioncomes from the day-to-day living in it.</th>\n",
       "      <td>.</td>\n",
       "      <td>gross market GHG emissions of CO2 equivalent</td>\n",
       "      <td>0.750007</td>\n",
       "      <td>ratio of energy intensity of the organization</td>\n",
       "      <td>0.683441</td>\n",
       "    </tr>\n",
       "    <tr>\n",
       "      <th>we also converted to 100% renewable energy at the lixil headquarters, kyoto showroom, and inax museums, achieving an annual carbon reduction of 2,000 metric tons.</th>\n",
       "      <td>metric tons. [SEP]</td>\n",
       "      <td>energy consumption outside of the organization</td>\n",
       "      <td>0.862242</td>\n",
       "      <td>ratio of energy intensity of the organization</td>\n",
       "      <td>0.848135</td>\n",
       "    </tr>\n",
       "    <tr>\n",
       "      <th>in our group, ghg emissions derived from our business activities are as low as 1.3% for scopes 1 and 2 and our scope 3 emissions (indirect emissions from sources other than our company) account for the majority of 98.7%.</th>\n",
       "      <td>, ghg</td>\n",
       "      <td>Scope 1 GHG emissions of CO2 equivalent</td>\n",
       "      <td>0.951311</td>\n",
       "      <td>co2 equivalent of GHG emissions reduced</td>\n",
       "      <td>0.930687</td>\n",
       "    </tr>\n",
       "    <tr>\n",
       "      <th>in fye 2020, all grohe production sites achieved a shift to renewable energy, reducing co, emissions by 48,000 metric tons annually.</th>\n",
       "      <td>renewable energy</td>\n",
       "      <td>total fuel consumption from renewable sources</td>\n",
       "      <td>0.762515</td>\n",
       "      <td>ratio of energy intensity of the organization</td>\n",
       "      <td>0.721169</td>\n",
       "    </tr>\n",
       "    <tr>\n",
       "      <th>se 00 ee 07 es 003 @ electricity consumption per kg of waste treated (kwh/kg) the increase observed in the average consumption per 100 km is due to the fact that in 2020, new and more de- manding routes were added for sterilisation s.a.</th>\n",
       "      <td>of waste treated (</td>\n",
       "      <td>particulate matter</td>\n",
       "      <td>0.543269</td>\n",
       "      <td>persistent organic pollutants</td>\n",
       "      <td>0.527370</td>\n",
       "    </tr>\n",
       "    <tr>\n",
       "      <th>saved 26kl of fuel, which can be used by 360 dump trucks reduced co2 emission by 67t   efforts to reduce environmental impact in urban development and construction lifecycle zero energy building construction: from the institute of technology to new construction projects zeb renovation of our institute of technology was completed in march 2018. to achieve further energy saving, we enhanced the natural ventilation system and hot water tank, and reduced energy consumption by 78% in fy 2019, which is of the best level in japan in terms of standards.</th>\n",
       "      <td>further energy saving,</td>\n",
       "      <td>amount of energy consumption reduced</td>\n",
       "      <td>0.928212</td>\n",
       "      <td>energy consumption outside of the organization</td>\n",
       "      <td>0.902781</td>\n",
       "    </tr>\n",
       "  </tbody>\n",
       "</table>\n",
       "</div>"
      ],
      "text/plain": [
       "                                                                                                ngram  \\\n",
       "sent                                                                                                    \n",
       "instead of disposing of the oil after first use...  - carbon sustainable cities which reduces the ...   \n",
       "[sbt] e by further promoting energy saving for ...                           ##wide energy efficiency   \n",
       "since 2015, use has been reduced by 26 percent,...                                 ghg emissions from   \n",
       "the ultrawash cycle is the ideal balance of car...                          [CLS] the ultrawash cycle   \n",
       "energy efficiency and greenhouse gas reduction ...                                                  .   \n",
       "we also converted to 100% renewable energy at t...                                 metric tons. [SEP]   \n",
       "in our group, ghg emissions derived from our bu...                                              , ghg   \n",
       "in fye 2020, all grohe production sites achieve...                                   renewable energy   \n",
       "se 00 ee 07 es 003 @ electricity consumption pe...                                 of waste treated (   \n",
       "saved 26kl of fuel, which can be used by 360 du...                             further energy saving,   \n",
       "\n",
       "                                                                                                  kpi  \\\n",
       "sent                                                                                                    \n",
       "instead of disposing of the oil after first use...  Total weight or volume of non-renewable materi...   \n",
       "[sbt] e by further promoting energy saving for ...                   total heating energy consumption   \n",
       "since 2015, use has been reduced by 26 percent,...            co2 equivalent of GHG emissions reduced   \n",
       "the ultrawash cycle is the ideal balance of car...     energy consumption outside of the organization   \n",
       "energy efficiency and greenhouse gas reduction ...       gross market GHG emissions of CO2 equivalent   \n",
       "we also converted to 100% renewable energy at t...     energy consumption outside of the organization   \n",
       "in our group, ghg emissions derived from our bu...            Scope 1 GHG emissions of CO2 equivalent   \n",
       "in fye 2020, all grohe production sites achieve...      total fuel consumption from renewable sources   \n",
       "se 00 ee 07 es 003 @ electricity consumption pe...                                 particulate matter   \n",
       "saved 26kl of fuel, which can be used by 360 du...               amount of energy consumption reduced   \n",
       "\n",
       "                                                       score  \\\n",
       "sent                                                           \n",
       "instead of disposing of the oil after first use...  0.568819   \n",
       "[sbt] e by further promoting energy saving for ...  0.938987   \n",
       "since 2015, use has been reduced by 26 percent,...  0.947065   \n",
       "the ultrawash cycle is the ideal balance of car...  0.917525   \n",
       "energy efficiency and greenhouse gas reduction ...  0.750007   \n",
       "we also converted to 100% renewable energy at t...  0.862242   \n",
       "in our group, ghg emissions derived from our bu...  0.951311   \n",
       "in fye 2020, all grohe production sites achieve...  0.762515   \n",
       "se 00 ee 07 es 003 @ electricity consumption pe...  0.543269   \n",
       "saved 26kl of fuel, which can be used by 360 du...  0.928212   \n",
       "\n",
       "                                                                                             kpi_sent  \\\n",
       "sent                                                                                                    \n",
       "instead of disposing of the oil after first use...  percentage of recycled materials used in manuf...   \n",
       "[sbt] e by further promoting energy saving for ...     energy consumption outside of the organization   \n",
       "since 2015, use has been reduced by 26 percent,...            Scope 2 GHG emissions of CO2 equivalent   \n",
       "the ultrawash cycle is the ideal balance of car...               amount of energy consumption reduced   \n",
       "energy efficiency and greenhouse gas reduction ...      ratio of energy intensity of the organization   \n",
       "we also converted to 100% renewable energy at t...      ratio of energy intensity of the organization   \n",
       "in our group, ghg emissions derived from our bu...            co2 equivalent of GHG emissions reduced   \n",
       "in fye 2020, all grohe production sites achieve...      ratio of energy intensity of the organization   \n",
       "se 00 ee 07 es 003 @ electricity consumption pe...                     persistent organic pollutants    \n",
       "saved 26kl of fuel, which can be used by 360 du...     energy consumption outside of the organization   \n",
       "\n",
       "                                                    score_sent  \n",
       "sent                                                            \n",
       "instead of disposing of the oil after first use...    0.554812  \n",
       "[sbt] e by further promoting energy saving for ...    0.934252  \n",
       "since 2015, use has been reduced by 26 percent,...    0.930576  \n",
       "the ultrawash cycle is the ideal balance of car...    0.897090  \n",
       "energy efficiency and greenhouse gas reduction ...    0.683441  \n",
       "we also converted to 100% renewable energy at t...    0.848135  \n",
       "in our group, ghg emissions derived from our bu...    0.930687  \n",
       "in fye 2020, all grohe production sites achieve...    0.721169  \n",
       "se 00 ee 07 es 003 @ electricity consumption pe...    0.527370  \n",
       "saved 26kl of fuel, which can be used by 360 du...    0.902781  "
      ]
     },
     "execution_count": 40,
     "metadata": {},
     "output_type": "execute_result"
    },
    {
     "name": "stdout",
     "output_type": "stream",
     "text": [
      "time: 18.5 ms\n"
     ]
    }
   ],
   "source": [
    "out[out.kpi!=out.kpi_sent].sort_values(\"score\", ascending=False).sample(10)"
   ]
  },
  {
   "cell_type": "code",
   "execution_count": null,
   "id": "3a5afdd6",
   "metadata": {},
   "outputs": [],
   "source": []
  }
 ],
 "metadata": {
  "kernelspec": {
   "display_name": "Python 3",
   "language": "python",
   "name": "python3"
  },
  "language_info": {
   "codemirror_mode": {
    "name": "ipython",
    "version": 3
   },
   "file_extension": ".py",
   "mimetype": "text/x-python",
   "name": "python",
   "nbconvert_exporter": "python",
   "pygments_lexer": "ipython3",
   "version": "3.9.12"
  }
 },
 "nbformat": 4,
 "nbformat_minor": 5
}
