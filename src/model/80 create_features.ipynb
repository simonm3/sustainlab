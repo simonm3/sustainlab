{
 "cells": [
  {
   "cell_type": "code",
   "execution_count": 1,
   "id": "0dea0eb0",
   "metadata": {
    "scrolled": true
   },
   "outputs": [
    {
     "name": "stderr",
     "output_type": "stream",
     "text": [
      "[defaultlog:22:INFO]:logging started from /mnt/c/users/simon/onedrive/documents/py/live/pyutils/defaultlog.py (time=Jul-13 20:36 MainProcess)\n"
     ]
    },
    {
     "data": {
      "text/html": [
       "<style>audio{display:none}</style>"
      ],
      "text/plain": [
       "<IPython.core.display.HTML object>"
      ]
     },
     "metadata": {},
     "output_type": "display_data"
    },
    {
     "name": "stderr",
     "output_type": "stream",
     "text": [
      "[__init__:40:INFO]:prefect.skip will be used to control task flows (time=Jul-13 20:36 MainProcess)\n"
     ]
    }
   ],
   "source": [
    "from ipstartup import *\n",
    "croot = \"c:\" if os.name==\"nt\" else \"/mnt/c\"\n",
    "droot = \"d:\" if os.name==\"nt\" else \"/mnt/d\"\n",
    "slab = f\"{croot}/Users/simon/OneDrive/Documents/py/live/slab\"\n",
    "data = f\"{droot}/data1\"\n",
    "sys.path.append(slab)\n",
    "os.chdir(data)\n",
    "os.environ[\"PREFECTX\"] = \"prefect.skip\"\n",
    "from slab.flows import *"
   ]
  },
  {
   "cell_type": "code",
   "execution_count": 2,
   "id": "8587dc83",
   "metadata": {},
   "outputs": [
    {
     "name": "stderr",
     "output_type": "stream",
     "text": [
      "[cellevents:43:INFO]:starting (time=Jul-13 20:36 MainProcess)\n",
      "20:36 | INFO    prefect.engine | Created flow run 'outrageous-panda' for flow 'create-features' [engine/180]\n",
      "20:36 | INFO    Flow run | 'outrageous-panda' - Using task runner 'SequentialTaskRunner'\n",
      "20:36 | WARNING Flow run | 'outrageous-panda' - No default storage is configured on the server. Results from this flow run will be stored in a temporary directory in its runtime environment.\n",
      "20:36 | INFO    slab.pdftasks | 5 pdfs [flows/55]\n",
      "20:36 | INFO    slab.pdftasks | 6109 sentences [flows/61]\n",
      "20:36 | INFO    slab.pdftasks | 1000 sample sentences [flows/63]\n",
      "20:36 | INFO    slab.pdftasks | 247 accepted with number, verb, 2*nouns [flows/65]\n",
      "20:36 | INFO    slab.pdftasks | 168 inscope [flows/81]\n",
      "20:36 | INFO    Flow run | 'outrageous-panda' - Created task run 'ducks-6f791c8b-0' for task 'ducks'\n",
      "20:36 | INFO    Task run | 'ducks-6f791c8b-0' - Finished in state Completed()\n",
      "20:36 | INFO    Flow run | 'outrageous-panda' - Finished in state Completed()\n"
     ]
    },
    {
     "name": "stdout",
     "output_type": "stream",
     "text": [
      "time: 11.6 s\n"
     ]
    }
   ],
   "source": [
    "df = create_features()"
   ]
  }
 ],
 "metadata": {
  "kernelspec": {
   "display_name": "Python 3",
   "language": "python",
   "name": "python3"
  },
  "language_info": {
   "codemirror_mode": {
    "name": "ipython",
    "version": 3
   },
   "file_extension": ".py",
   "mimetype": "text/x-python",
   "name": "python",
   "nbconvert_exporter": "python",
   "pygments_lexer": "ipython3",
   "version": "3.9.12"
  }
 },
 "nbformat": 4,
 "nbformat_minor": 5
}
