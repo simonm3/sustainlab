{
 "cells": [
  {
   "cell_type": "code",
   "execution_count": 1,
   "id": "0dea0eb0",
   "metadata": {},
   "outputs": [
    {
     "name": "stderr",
     "output_type": "stream",
     "text": [
      "[defaultlog:22:INFO]:logging started from /mnt/c/users/simon/onedrive/documents/py/live/pyutils/defaultlog.py (time=Jul-12 09:49 MainProcess)\n"
     ]
    },
    {
     "data": {
      "text/html": [
       "<style>audio{display:none}</style>"
      ],
      "text/plain": [
       "<IPython.core.display.HTML object>"
      ]
     },
     "metadata": {},
     "output_type": "display_data"
    },
    {
     "name": "stderr",
     "output_type": "stream",
     "text": [
      "[__init__:45:INFO]:prefect.skip will be used to control task flows (time=Jul-12 09:50 MainProcess)\n",
      "Some weights of the model checkpoint at nbroad/ESG-BERT were not used when initializing BertModel: ['classifier.bias', 'classifier.weight']\n",
      "- This IS expected if you are initializing BertModel from the checkpoint of a model trained on another task or with another architecture (e.g. initializing a BertForSequenceClassification model from a BertForPreTraining model).\n",
      "- This IS NOT expected if you are initializing BertModel from the checkpoint of a model that you expect to be exactly identical (initializing a BertForSequenceClassification model from a BertForSequenceClassification model).\n"
     ]
    }
   ],
   "source": [
    "from ipstartup import *\n",
    "croot = \"c:\" if os.name==\"nt\" else \"/mnt/c\"\n",
    "droot = \"d:\" if os.name==\"nt\" else \"/mnt/d\"\n",
    "slab = f\"{croot}/Users/simon/OneDrive/Documents/py/live/slab\"\n",
    "data = f\"{droot}/data1\"\n",
    "sys.path.append(slab)\n",
    "os.makedirs(data, exist_ok=True)\n",
    "os.chdir(data)\n",
    "\n",
    "os.environ[\"PREFECTX\"] = \"prefect.skip\"\n",
    "from slab.preptasks import *\n",
    "from slab.flows import *\n",
    "#log.setLevel(logging.DEBUG)"
   ]
  },
  {
   "cell_type": "code",
   "execution_count": null,
   "id": "7ef80dec",
   "metadata": {},
   "outputs": [],
   "source": [
    "# document => functions that save. token_feats, sent_feats"
   ]
  },
  {
   "cell_type": "code",
   "execution_count": null,
   "id": "8587dc83",
   "metadata": {},
   "outputs": [],
   "source": [
    "create_features()"
   ]
  },
  {
   "cell_type": "code",
   "execution_count": 3,
   "id": "95a35440",
   "metadata": {},
   "outputs": [
    {
     "name": "stderr",
     "output_type": "stream",
     "text": [
      "09:58 | INFO    cellevents | starting [cellevents/43]\n"
     ]
    },
    {
     "data": {
      "text/html": [
       "<div>\n",
       "<style scoped>\n",
       "    .dataframe tbody tr th:only-of-type {\n",
       "        vertical-align: middle;\n",
       "    }\n",
       "\n",
       "    .dataframe tbody tr th {\n",
       "        vertical-align: top;\n",
       "    }\n",
       "\n",
       "    .dataframe thead th {\n",
       "        text-align: right;\n",
       "    }\n",
       "</style>\n",
       "<table border=\"1\" class=\"dataframe\">\n",
       "  <thead>\n",
       "    <tr style=\"text-align: right;\">\n",
       "      <th></th>\n",
       "      <th>sent</th>\n",
       "      <th>ntopics</th>\n",
       "      <th>topic1</th>\n",
       "      <th>keywords1</th>\n",
       "      <th>esg</th>\n",
       "      <th>score</th>\n",
       "    </tr>\n",
       "  </thead>\n",
       "  <tbody>\n",
       "    <tr>\n",
       "      <th>1</th>\n",
       "      <td>To date, 74% of Countdown Own Brand products m...</td>\n",
       "      <td>1</td>\n",
       "      <td>Materials</td>\n",
       "      <td>[product]</td>\n",
       "      <td>Product_Design_And_Lifecycle_Management</td>\n",
       "      <td>0.924955</td>\n",
       "    </tr>\n",
       "    <tr>\n",
       "      <th>2</th>\n",
       "      <td>The proportion of female managers increased to...</td>\n",
       "      <td>1</td>\n",
       "      <td>Employee Engagement &amp; Diversity &amp; Inclusion</td>\n",
       "      <td>[female]</td>\n",
       "      <td>Employee_Engagement_Inclusion_And_Diversity</td>\n",
       "      <td>0.744532</td>\n",
       "    </tr>\n",
       "    <tr>\n",
       "      <th>3</th>\n",
       "      <td>20 ENVIRONMENTAL RESPONSIBILITY 4    ENVIRONM...</td>\n",
       "      <td>1</td>\n",
       "      <td>Energy</td>\n",
       "      <td>[carbon, emission]</td>\n",
       "      <td>Human_Rights_And_Community_Relations</td>\n",
       "      <td>0.258432</td>\n",
       "    </tr>\n",
       "    <tr>\n",
       "      <th>4</th>\n",
       "      <td>We have also announced our first renewable pow...</td>\n",
       "      <td>1</td>\n",
       "      <td>Energy</td>\n",
       "      <td>[electricity, renewable]</td>\n",
       "      <td>Energy_Management</td>\n",
       "      <td>0.946754</td>\n",
       "    </tr>\n",
       "    <tr>\n",
       "      <th>6</th>\n",
       "      <td>Appraisal value as at 31 December 642,270  683...</td>\n",
       "      <td>0</td>\n",
       "      <td>outofscope</td>\n",
       "      <td>NaN</td>\n",
       "      <td>Systemic_Risk_Management</td>\n",
       "      <td>0.546442</td>\n",
       "    </tr>\n",
       "    <tr>\n",
       "      <th>...</th>\n",
       "      <td>...</td>\n",
       "      <td>...</td>\n",
       "      <td>...</td>\n",
       "      <td>...</td>\n",
       "      <td>...</td>\n",
       "      <td>...</td>\n",
       "    </tr>\n",
       "    <tr>\n",
       "      <th>232</th>\n",
       "      <td>102-53Contact point for questions regarding th...</td>\n",
       "      <td>0</td>\n",
       "      <td>outofscope</td>\n",
       "      <td>NaN</td>\n",
       "      <td>Management_Of_Legal_And_Regulatory_Framework</td>\n",
       "      <td>0.911969</td>\n",
       "    </tr>\n",
       "    <tr>\n",
       "      <th>233</th>\n",
       "      <td>Considering the environment, we are in an exce...</td>\n",
       "      <td>1</td>\n",
       "      <td>Energy</td>\n",
       "      <td>[carbon, emission]</td>\n",
       "      <td>GHG_Emissions</td>\n",
       "      <td>0.791586</td>\n",
       "    </tr>\n",
       "    <tr>\n",
       "      <th>234</th>\n",
       "      <td>Vastned has defined a diversity policy 1) that...</td>\n",
       "      <td>1</td>\n",
       "      <td>Employee Engagement &amp; Diversity &amp; Inclusion</td>\n",
       "      <td>[diversity, equal opportunity]</td>\n",
       "      <td>Employee_Engagement_Inclusion_And_Diversity</td>\n",
       "      <td>0.970132</td>\n",
       "    </tr>\n",
       "    <tr>\n",
       "      <th>235</th>\n",
       "      <td>2)   Annex 1 of the ‘Draft Delegated Act on th...</td>\n",
       "      <td>0</td>\n",
       "      <td>outofscope</td>\n",
       "      <td>NaN</td>\n",
       "      <td>Physical_Impacts_Of_Climate_Change</td>\n",
       "      <td>0.922847</td>\n",
       "    </tr>\n",
       "    <tr>\n",
       "      <th>238</th>\n",
       "      <td>• Support for KidsCan, which saw a 40% increas...</td>\n",
       "      <td>3</td>\n",
       "      <td>Employee Engagement &amp; Diversity &amp; Inclusion</td>\n",
       "      <td>[education]</td>\n",
       "      <td>Access_And_Affordability</td>\n",
       "      <td>0.868862</td>\n",
       "    </tr>\n",
       "  </tbody>\n",
       "</table>\n",
       "<p>151 rows × 6 columns</p>\n",
       "</div>"
      ],
      "text/plain": [
       "                                                  sent  ntopics  \\\n",
       "1    To date, 74% of Countdown Own Brand products m...        1   \n",
       "2    The proportion of female managers increased to...        1   \n",
       "3     20 ENVIRONMENTAL RESPONSIBILITY 4    ENVIRONM...        1   \n",
       "4    We have also announced our first renewable pow...        1   \n",
       "6    Appraisal value as at 31 December 642,270  683...        0   \n",
       "..                                                 ...      ...   \n",
       "232  102-53Contact point for questions regarding th...        0   \n",
       "233  Considering the environment, we are in an exce...        1   \n",
       "234  Vastned has defined a diversity policy 1) that...        1   \n",
       "235  2)   Annex 1 of the ‘Draft Delegated Act on th...        0   \n",
       "238  • Support for KidsCan, which saw a 40% increas...        3   \n",
       "\n",
       "                                          topic1  \\\n",
       "1                                      Materials   \n",
       "2    Employee Engagement & Diversity & Inclusion   \n",
       "3                                         Energy   \n",
       "4                                         Energy   \n",
       "6                                     outofscope   \n",
       "..                                           ...   \n",
       "232                                   outofscope   \n",
       "233                                       Energy   \n",
       "234  Employee Engagement & Diversity & Inclusion   \n",
       "235                                   outofscope   \n",
       "238  Employee Engagement & Diversity & Inclusion   \n",
       "\n",
       "                          keywords1  \\\n",
       "1                         [product]   \n",
       "2                          [female]   \n",
       "3                [carbon, emission]   \n",
       "4          [electricity, renewable]   \n",
       "6                               NaN   \n",
       "..                              ...   \n",
       "232                             NaN   \n",
       "233              [carbon, emission]   \n",
       "234  [diversity, equal opportunity]   \n",
       "235                             NaN   \n",
       "238                     [education]   \n",
       "\n",
       "                                              esg     score  \n",
       "1         Product_Design_And_Lifecycle_Management  0.924955  \n",
       "2     Employee_Engagement_Inclusion_And_Diversity  0.744532  \n",
       "3            Human_Rights_And_Community_Relations  0.258432  \n",
       "4                               Energy_Management  0.946754  \n",
       "6                        Systemic_Risk_Management  0.546442  \n",
       "..                                            ...       ...  \n",
       "232  Management_Of_Legal_And_Regulatory_Framework  0.911969  \n",
       "233                                 GHG_Emissions  0.791586  \n",
       "234   Employee_Engagement_Inclusion_And_Diversity  0.970132  \n",
       "235            Physical_Impacts_Of_Climate_Change  0.922847  \n",
       "238                      Access_And_Affordability  0.868862  \n",
       "\n",
       "[151 rows x 6 columns]"
      ]
     },
     "execution_count": 3,
     "metadata": {},
     "output_type": "execute_result"
    },
    {
     "name": "stdout",
     "output_type": "stream",
     "text": [
      "time: 442 ms\n"
     ]
    }
   ],
   "source": [
    "pd.read_pickle(\"inscope\")"
   ]
  },
  {
   "cell_type": "code",
   "execution_count": 4,
   "id": "5d39b953",
   "metadata": {},
   "outputs": [
    {
     "name": "stderr",
     "output_type": "stream",
     "text": [
      "09:58 | INFO    cellevents | starting [cellevents/43]\n"
     ]
    },
    {
     "ename": "NameError",
     "evalue": "name 'sents' is not defined",
     "output_type": "error",
     "traceback": [
      "\u001b[0;31m---------------------------------------------------------------------------\u001b[0m",
      "\u001b[0;31mNameError\u001b[0m                                 Traceback (most recent call last)",
      "Input \u001b[0;32mIn [4]\u001b[0m, in \u001b[0;36m<cell line: 2>\u001b[0;34m()\u001b[0m\n\u001b[1;32m      1\u001b[0m \u001b[38;5;66;03m# cache token feats 151 and kpi feats 162\u001b[39;00m\n\u001b[0;32m----> 2\u001b[0m \u001b[43msents\u001b[49m\u001b[38;5;241m.\u001b[39msents\n",
      "\u001b[0;31mNameError\u001b[0m: name 'sents' is not defined"
     ]
    },
    {
     "name": "stdout",
     "output_type": "stream",
     "text": [
      "time: 4.71 s\n"
     ]
    }
   ],
   "source": [
    "# cache token feats 151 and kpi feats 162\n",
    "sents.sents"
   ]
  }
 ],
 "metadata": {
  "kernelspec": {
   "display_name": "Python 3",
   "language": "python",
   "name": "python3"
  },
  "language_info": {
   "codemirror_mode": {
    "name": "ipython",
    "version": 3
   },
   "file_extension": ".py",
   "mimetype": "text/x-python",
   "name": "python",
   "nbconvert_exporter": "python",
   "pygments_lexer": "ipython3",
   "version": "3.9.12"
  }
 },
 "nbformat": 4,
 "nbformat_minor": 5
}
