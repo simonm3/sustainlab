{
 "cells": [
  {
   "cell_type": "code",
   "execution_count": 1,
   "id": "0dea0eb0",
   "metadata": {
    "scrolled": true
   },
   "outputs": [
    {
     "name": "stderr",
     "output_type": "stream",
     "text": [
      "[defaultlog:22:INFO]:logging started from /mnt/c/users/simon/onedrive/documents/py/live/pyutils/defaultlog.py (time=Jul-16 17:04 MainProcess)\n"
     ]
    },
    {
     "data": {
      "text/html": [
       "<style>audio{display:none}</style>"
      ],
      "text/plain": [
       "<IPython.core.display.HTML object>"
      ]
     },
     "metadata": {},
     "output_type": "display_data"
    }
   ],
   "source": [
    "from ipstartup import *\n",
    "croot = \"c:\" if os.name==\"nt\" else \"/mnt/c\"\n",
    "droot = \"d:\" if os.name==\"nt\" else \"/mnt/d\"\n",
    "data = f\"{droot}/data1\"\n",
    "os.chdir(data)\n",
    "\n",
    "os.environ[\"PIPEX\"] = \"prefect.cache\"\n",
    "from slab.flows import create_features\n",
    "from slab.utils import aggregate"
   ]
  },
  {
   "cell_type": "code",
   "execution_count": 3,
   "id": "a51d6547",
   "metadata": {},
   "outputs": [
    {
     "name": "stderr",
     "output_type": "stream",
     "text": [
      "17:07:06.829 | INFO    | cellevents - starting\n",
      "17:07:07.397 | INFO    | prefect.engine - Created flow run 'cerulean-turkey' for flow 'create-features'\n",
      "17:07:07.400 | INFO    | Flow run 'cerulean-turkey' - Using task runner 'SequentialTaskRunner'\n",
      "17:07:07.468 | WARNING | Flow run 'cerulean-turkey' - No default storage is configured on the server. Results from this flow run will be stored in a temporary directory in its runtime environment.\n",
      "17:07:07.632 | INFO    | slab.utils - 5 pdfs\n",
      "17:07:07.759 | INFO    | slab.utils - 6109 sentences\n",
      "17:07:07.764 | INFO    | slab.utils - 1000 sample sentences\n",
      "17:07:07.769 | INFO    | slab.utils - 239 accepted with number, verb, 2*nouns\n",
      "17:07:08.259 | INFO    | Flow run 'cerulean-turkey' - Created task run 'esg-98f9dace-0' for task 'esg'\n"
     ]
    },
    {
     "data": {
      "application/vnd.jupyter.widget-view+json": {
       "model_id": "88e648a54a6b4642b05c5ed8ebd8ca04",
       "version_major": 2,
       "version_minor": 0
      },
      "text/plain": [
       "Downloading:   0%|          | 0.00/1.94k [00:00<?, ?B/s]"
      ]
     },
     "metadata": {},
     "output_type": "display_data"
    },
    {
     "data": {
      "application/vnd.jupyter.widget-view+json": {
       "model_id": "65b8d72169b346a288b2b480066eed54",
       "version_major": 2,
       "version_minor": 0
      },
      "text/plain": [
       "esg:   0%|          | 0/239 [00:00<?, ?it/s]"
      ]
     },
     "metadata": {},
     "output_type": "display_data"
    },
    {
     "name": "stderr",
     "output_type": "stream",
     "text": [
      "17:09:50.901 | INFO    | Task run 'esg-98f9dace-0' - Finished in state Completed()\n",
      "17:09:52.097 | INFO    | Flow run 'cerulean-turkey' - Created task run 'sent_feats-202e00bf-0' for task 'sent_feats'\n"
     ]
    },
    {
     "data": {
      "application/vnd.jupyter.widget-view+json": {
       "model_id": "47a2702a284d4729aba5960ba08f29fa",
       "version_major": 2,
       "version_minor": 0
      },
      "text/plain": [
       "sent_features:   0%|          | 0/165 [00:00<?, ?it/s]"
      ]
     },
     "metadata": {},
     "output_type": "display_data"
    },
    {
     "name": "stderr",
     "output_type": "stream",
     "text": [
      "17:09:54.386 | INFO    | Task run 'sent_feats-202e00bf-0' - Finished in state Completed()\n",
      "17:09:54.550 | INFO    | Flow run 'cerulean-turkey' - Created task run 'ducks-af5f4962-0' for task 'ducks'\n",
      "17:10:04.076 | INFO    | Task run 'ducks-af5f4962-0' - Finished in state Completed()\n",
      "17:10:04.258 | INFO    | Flow run 'cerulean-turkey' - Finished in state Completed('All states completed.')\n"
     ]
    },
    {
     "data": {
      "text/plain": [
       "Completed(message='All states completed.', type=COMPLETED, result=[Completed(message=None, type=COMPLETED, result=Filestore(working/text1/esg), task_run_id=ae285a9d-9b16-46a1-b275-84599d6f56b7), Completed(message=None, type=COMPLETED, result=Filestore(working/text1/sent_feats), task_run_id=cd9d830e-91ed-4ae0-bdbf-d27103a817a9), Completed(message=None, type=COMPLETED, result=Filestore(working/text1/ducks), task_run_id=1e53b87c-d19e-4a90-bc39-91bca5090720)], flow_run_id=c43b8d54-ce4b-4051-b950-a7fc1a475c00)"
      ]
     },
     "execution_count": 3,
     "metadata": {},
     "output_type": "execute_result"
    },
    {
     "name": "stdout",
     "output_type": "stream",
     "text": [
      "time: 2min 57s\n"
     ]
    },
    {
     "data": {
      "text/html": [
       "\n",
       "                <audio  controls=\"controls\" autoplay=\"autoplay\">\n",
       "                    <source src=\"data:audio/wav;base64,UklGRl4RAABXQVZFZm10IBAAAAABAAEARKwAAIhYAQACABAAZGF0YToRAAAAAHgF7gpgEMkVKBt7IL4l8CoNMBQ1AjrVPotDIUiVTOZQEFUTWexcmmAaZGxnjWp8bThwv3IRdSx3D3m6eit8Yn1efh9/pX/uf/x/zn9lf79+333DfG173XkUeBN223Ntcclu8mvoaKxlQmKpXuRa9VbcUp1OOkqzRQxBRjxkN2kyVS0tKPEiph1MGOcSeQ0FCI0CFf2e9yryvOxY5//htdx711PSQc1HyGfDpL7/uXq1GbHcrMeo2qQYoYKdG5rjltyTCJFojv2LyYnLhwaGeoQogxGCNIGSgC2AA4AVgGOA7ICxgbGC7INhhQ+H9ogVi2qN9Y+1kqeVzJggnKSfVKMwpzWrY6+1syy4xLx8wVHGQctJ0GjVm9rg3zPlk+r972/15fpdANYFTAu8ECUWgxvVIBcmSCtkMGk1VjonP9pDbkjgTC5RVlVWWSxd12BUZKNnwGqsbWVw6XI3dU53LXnUekF8dH1tfip/q3/xf/t/yX9cf7J+zn2ufFR7wXn0d+91s3NBcZpuv2uyaHRlBmJqXqJasFaVUlRO7UllRbtA9DsQNxMy/izUJ5giSx3wF4sSHA2oBzACuPxA983xYOz95qXhW9wi1/zR7MzzxxXDU76xuS61z7CWrIOomaTaoEed4pmulquT2pA9jtaLpYmrh+qFYoQUgwCCJ4GKgCiAAoAYgGqA94DAgcWCA4R8hS6HGYk7i5SNIpDlktuVA5lbnOGflaNzp3yrq68BtHm4FL3OwaTGlsug0MHV9do64I/l7+pa8Mz1Qvu6ADMGqQsZEYEW3xsvIXAmnyu6ML41qTp4PypEu0grTXZRnFWZWWxdFGGOZNln9GrcbZFwEnNcdXB3S3nueld8h317fjR/sn/0f/p/xH9Sf6V+vH2ZfDt7pHnTd8t1i3MWcWtujWt8aDtlymErXmBaa1ZOUgpOoUkWRWtAoTu8Nr0xpix7Jz4i8ByVFy4SwAxLB9MBW/zj9nDxBOyh5krhAdzJ1qXRlsyfx8PCA75jueO0hrBPrD+oV6SboAydqpl5lnmTrJATjq+LgomMh86FSoQAg/CBG4GBgCSAAoAcgHGAA4HQgdiCG4SXhU2HO4lhi76NUJAWkxCWOpmVnB+g1aO3p8Kr9K9MtMe4ZL0fwvjG68v30BnWTtuV4OrlS+u38Cn2oPsYAZAGBgx1Ed0WOhyJIckm9ysQMRM2/DrJP3lECEl1Tb5R4VXcWaxdUWHIZBBoJ2sMbr5wOnOBdZF3aXkIe218mX2Jfj5/uH/2f/h/vn9If5d+q32DfCJ7hnmyd6Z1Y3PqcDxuWmtGaAFljWHsXR5aJlYGUsBNVUnHRBpATztnNmcxTywiJ+QhlRw5F9IRYwztBnUB/fuG9hPxqOtF5u/gqNtx1k7RQcxMx3HCs70VuZe0PbAIrPunFqRdoNCccplElkiTfpDojYiLXolsh7OFMoTsguCBD4F5gB+AAYAfgHmAD4HggeyCMoSzhWyHXomIi+iNfpBIk0SWcpnQnF2gFqT7pwisPbCXtBW5s71xwkzHQcxO0XHWqNvv4EXmqOsT8Yb2/ft1Ae0GYwzSETkXlRzkISInTyxnMWc2TzsaQMdEVUnATQZSJlYeWuxdjWEBZUZoWms8bupwY3OmdbJ3hnkie4N8q32Xfkh/vn/4f/Z/uH8+f4l+mX1tfAh7aXmRd4F1OnO+cAxuJ2sQaMhkUWGsXdxZ4VW+UXVNCEl5RMk//DoTNhAx9yvJJokhOhzdFnURBgyQBhgBoPsp9rfwS+vq5ZXgTtsZ1vfQ68v4xh/CZL3HuEy09K/Cq7en1aMfoJWcOpkQlhaTUJC+jWGLO4lNh5eFG4TYgtCBA4FxgByAAoAkgIGAG4HwgQCDSoTOhYyHgomvixOOrJB5k3mWqpkMnZugV6Q/qE+shrDjtGO5A77Dwp/Hlsyl0cnWAdxK4aHmBOxw8eP2W/zTAUsHwAwuEpUX8Bw+Insnpiy9Mbw2oTtrQBZFoUkKTk5Sa1ZgWiteymE7ZXxojWtrbhZxi3PLddN3pHk7e5l8vH2lflJ/xH/6f/R/sn80f3t+h31XfO56S3lwd1x1EnORcNxt9GrZZ45kFGFsXZlZnFV2UStNu0gqRHg/qTq+NbownytwJi8h3xuBFhkRqQszBroAQvvM9Vrw7+qP5Trg9drB1aDQlsukxs7BFL15uAG0q698q3OnlaPhn1ucA5nbleWSIpCUjTuLGYkuh3yFA4TFgsCB94BqgBiAAoAogIqAJ4EAghSDYoTqhauHpYnWiz2O2pCrk66W4plHndqgmaSDqJasz7AutbG5U74Vw/PH7Mz80SLXW9yl4f3mYOzN8UD3uPwwAqgHHA2LEvAXSx2YItQn/iwTMhA39Du7QGVF7UlUTpVSsFaiWmpeBmJ0ZbJov2uabkFxs3PvdfR3wXlUe658zn2yflx/yX/7f/F/q38qf21+dH1BfNR6LXlOdzd16XJlcKxtwGqjZ1Rk12AsXVZZVlUuUeBMbkjaQyc/VjppNWQwSCsXJtUggxslFrwQTAvWBV0A5fpv9f3vk+oz5eDfm9po1UnQQctRxnzBxLwsuLWzY681qzCnVKOknyCczJinlbWS9Y9qjRWL9ogPh2GF7IOxgrGB7IBjgBWAA4AtgJKANIERgiiDeoQGhsuHyYn9i2iOCJHck+OWG5qCnRih2qTHqNysGbF6tf+5pL5nw0fIQc1T0nvXtdz/4VjnvOwq8p73Ff2NAgUIeQ3nEkwYph3xIi0oVS1pMmQ3RjwMQbNFOkqdTtxS9VbkWqleQmKsZeho8mvJbm1x23MTdhR43Xlte8N8332/fmV/zn/8f+5/pX8ff15+Yn0rfLp6D3ksdxF1v3I4cHxtjWpsZxpkmmDsXBNZEFXmUJVMIUiLQ9U+AjoUNQ0w8Cq+JXsgKBvJFWAQ7gp4BQAAiPoS9aDvN+rY5IXfQtoQ1fPP7Mr+xSvBdbzft2uzGq/wqu2mFKNmn+ablJhzlYSSyI9Bje+K1IjxhkaF1YOegqKB4YBbgBKABIAygJuAQYEhgj2Dk4QjhuyH7YkljJOON5EOlBiXVJq+nVehHKULqSStY7HGtU269L66w5zIl82r0tPXD91a4rTnGe2H8vv3c/3rAmII1g1EE6gYAR5LI4UorS2/Mrk3mTxcQQFGhkrnTiRTOVcmW+hefmLlZR1pJGz4bphxA3Q3djV4+nmGe9h8733Mfm5/03/9f+t/nX8Uf09+T30UfJ968XgKd+t0lnILcEttWWo0Z+BjXGCsXNBYy1SdUEtM1Ec8Q4Q+rzm/NLcvmCplJSAgzRptFQMQkQobBaP/Kvq09ETv2+l95Cvf6dm41JzPl8qqxdnAJryStyCz0q6qqqqm1KIpn6ybXZhAlVSSm48XjcmKsojThiyFv4OMgpOB1oBVgA+ABYA3gKSAToEyglKDrIQ/hgyIEYpNjL+OZpFBlE6XjJr6nZahXqVQqWutrLETtpu6Rb8MxPDI7c0C0yzYaN214hDode3k8lj40P1IA8AIMw6gEwMZWx6lI94oBC4UMw046zytQU9G0koxT2pTfVdnWyZfuWIeZlJpVWwmb8NxKnRbdlV4Fnqee+x8AH7ZfnZ/2H/+f+h/ln8Jf0B+O339e4R60njndsV0bHLebxttJWr9ZqVjH2BrXI1YhFRVUP9Lh0fsQjI+XDlqNGAvPyoLJcYfcRoRFaYPNAq+BEb/zflX9Ofuf+kh5NHekNlh1EbPQspXxYjA1rtFt9Wyiq5kqmemlKLsnnKbJ5gMlSSSb4/ujKSKkIi1hhKFqYN5goWBzIBOgAyABoA8gK6AW4FEgmeDxYRchi2INYp1jOqOlZFzlISXxZo2ntWhoKWVqbKt9rFftuq6lb9fxETJQ85a04XYwt0Q42vo0u1A87X4Lf6lAx0JkA78E18Zth7/IzcpWy5qM2E4PT39QZ1GHUt6T7FTwVepW2Vf9GJWZodph2xUb+1xUXR+dnR4Mnq2ewB9EH7lfn9/3H/+f+R/j3/9fjB+KH3le2l6s3jFdp90QnKwb+ps8GnGZmtj4V8rXElYPlQMULRLOUecQuE9CDkVNAkv5ymyJGsfFhq1FEkP1wlgBOj+cPn684vuI+nG43feN9kJ1PDO7ckExTfAh7v4touyQq4fqiSmVKKvnjib8JfZlPSRQo/GjH+Kb4iXhviEk4NngneBwoBIgAqACIBCgLiAaYFVgn2D3oR6hk6IWoqdjBaPxJGmlLqX/5pznhSi4qXaqfqtQLKrtjm75r+xxJnJmc6x097YHN5r48foLu6d8xP5i/4DBHoJ7Q5YFLsZER9YJI8psi6/M7Q4jz1NQutGaUvDT/hTBVjqW6NfMGOOZrxpuGyCbxhyeHSidpR4TXrOexR9IH7xfod/4X//f+F/h3/xfiB+FH3Oe016lHiidnh0GHKCb7hsvGmOZjBjo1/qWwVY+FPDT2lL60ZNQo89tDi/M7IujylYJBEfuxlYFO0OegkDBIv+E/md8y7ux+hr4xze3tix05nOmcmxxOa/OburtkCy+q3aqeKlFKJznv+aupemlMSRFo+djFqKToh6ht6EfYNVgmmBuIBCgAiACoBIgMKAd4FngpOD+ISXhm+If4rGjEKP9JHZlPCXOJuvnlSiJKYfqkKui7L4toe7N8AExe3J8M4J1DfZd97G4yPpi+7683D56P5gBNcJSQ+1FBYaax+yJOcpCS8VNAg54T2cQjlHtEsMUD5USVgrXOFfa2PGZvBp6mywb0Jyn3TFdrN4aXrleyh9MH79fo9/5H/+f9x/f3/lfhB+AH22ezJ6dHh+dlF07XFUb4dsh2lWZvRiZV+pW8FXsVN6Tx1LnUb9QT09YThqM1suNyn/I7YeXxn8E5AOHQmlAy3+tfhA89Lta+gQ48Ldhdha00PORMlfxJW/6rpftvaxsq2VqaCl1aE2nsWahJdzlJWR6o51jDWKLYhchsWEZ4NEgluBroA8gAaADIBOgMyAhYF5gqmDEoW1hpCIpIrujG+PJJIMlSeYcpvsnpSiZ6Zkqoqu1bJFt9a7iMBXxULKRs9h1JDZ0d4h5H/p5+5X9M35Rv++BDQKpg8RFXEaxh8LJT8qYC9qNFw5Mj7sQodH/0tVUIRUjVhrXB9gpWP9ZiVqG23eb2xyxXTndtJ4hHr9ezt9QH4Jf5Z/6H/+f9h/dn/ZfgB+7HyeexZ6VXhbdip0w3Emb1VsUmkeZrliJl9nW31XalMxT9JKT0atQes8DTgUMwQu3iilI1seAxmgEzMOwAhIA9D9WPjk8nXtEOi14mjdLNgC0+3N8MgMxEW/m7oTtqyxa61QqV6llqH6nYyaTpdBlGaRv45NjBGKDIg/hqyEUoMygk6BpIA3gAWAD4BVgNaAk4GMgr+DLIXThrKIyYoXjZuPVJJAlV2YrJspn9SiqqaqqtKuILOStya82cCqxZfKnM+41OnZK9995NvpRO+09Cr6o/8bBZEKAxBtFc0aICBlJZgqty+/NK85hD48Q9RHS0ydUMtU0FisXFxg4GM0Z1lqS20LcJZy63QKd/F4n3oUfE99T34Uf51/63/9f9N/bn/Mfu992HyGe/p5NXg3dgN0mHH4biRsHWnlZX5i6F4mWzlXJFPnToZKAUZcQZk8uTe/Mq0thShLIwEeqBhEE9YNYgjrAnP9+/eH8hnttOda4g/d09er0pfNnMi6w/S+TbrGtWOxJK0LqRylV6G+nVSaGJcOlDeRk44ljO2J7IcjhpOEPYMhgkGBm4AygASAEoBbgOGAooGegtWDRoXxhtSI74pBjciPhJJzlZSY5ptmnxSj7abwqhqva7Pft3W8K8H+xezK888Q1ULahd/Y5DfqoO8S9Yj6AAA=\" type=\"audio/wav\" />\n",
       "                    Your browser does not support the audio element.\n",
       "                </audio>\n",
       "              "
      ],
      "text/plain": [
       "<IPython.lib.display.Audio object>"
      ]
     },
     "metadata": {},
     "output_type": "display_data"
    },
    {
     "data": {
      "text/html": [
       "<style>audio{display:none}</style>"
      ],
      "text/plain": [
       "<IPython.core.display.HTML object>"
      ]
     },
     "metadata": {},
     "output_type": "display_data"
    },
    {
     "name": "stderr",
     "output_type": "stream",
     "text": [
      "Traceback (most recent call last):\n",
      "  File \"/home/simon/anaconda3/lib/python3.9/site-packages/prefect/cli/_utilities.py\", line 44, in wrapper\n",
      "    return fn(*args, **kwargs)\n",
      "  File \"/home/simon/anaconda3/lib/python3.9/site-packages/prefect/utilities/asyncio.py\", line 121, in wrapper\n",
      "    return run_async_in_new_loop(async_fn, *args, **kwargs)\n",
      "  File \"/home/simon/anaconda3/lib/python3.9/site-packages/prefect/utilities/asyncio.py\", line 68, in run_async_in_new_loop\n",
      "    return anyio.run(partial(__fn, *args, **kwargs))\n",
      "  File \"/home/simon/anaconda3/lib/python3.9/site-packages/anyio/_core/_eventloop.py\", line 56, in run\n",
      "    return asynclib.run(func, *args, **backend_options)\n",
      "  File \"/home/simon/anaconda3/lib/python3.9/site-packages/anyio/_backends/_asyncio.py\", line 233, in run\n",
      "    return native_run(wrapper(), debug=debug)\n",
      "  File \"/home/simon/anaconda3/lib/python3.9/asyncio/runners.py\", line 44, in run\n",
      "    return loop.run_until_complete(main)\n",
      "  File \"/home/simon/anaconda3/lib/python3.9/asyncio/base_events.py\", line 647, in run_until_complete\n",
      "    return future.result()\n",
      "  File \"/home/simon/anaconda3/lib/python3.9/site-packages/anyio/_backends/_asyncio.py\", line 228, in wrapper\n",
      "    return await func(*args)\n",
      "  File \"/home/simon/anaconda3/lib/python3.9/site-packages/prefect/cli/storage.py\", line 192, in ls\n",
      "    block_documents = await client.read_block_documents(block_schema_type=\"STORAGE\")\n",
      "  File \"/home/simon/anaconda3/lib/python3.9/site-packages/prefect/client.py\", line 1146, in read_block_documents\n",
      "    response = await self._client.post(\n",
      "  File \"/home/simon/anaconda3/lib/python3.9/site-packages/httpx/_client.py\", line 1842, in post\n",
      "    return await self.request(\n",
      "  File \"/home/simon/anaconda3/lib/python3.9/site-packages/httpx/_client.py\", line 1527, in request\n",
      "    return await self.send(request, auth=auth, follow_redirects=follow_redirects)\n",
      "  File \"/home/simon/anaconda3/lib/python3.9/site-packages/prefect/client.py\", line 278, in send\n",
      "    response.raise_for_status()\n",
      "  File \"/home/simon/anaconda3/lib/python3.9/site-packages/prefect/client.py\", line 224, in raise_for_status\n",
      "    raise PrefectHTTPStatusError.from_httpx_error(exc) from exc.__cause__\n",
      "prefect.exceptions.PrefectHTTPStatusError: Server error '500 Internal Server Error' for url 'http://127.0.0.1:4200/api/block_documents/filter'\n",
      "Response: {'exception_message': 'Internal Server Error'}\n",
      "For more information check: https://httpstatuses.com/500\n"
     ]
    }
   ],
   "source": [
    "kpis = pd.read_excel(\n",
    "    \"SustainLab_Generic_Granular_KPI list.xlsx\", sheet_name=\"Granular KPI list\"\n",
    ").KPI.tolist()\n",
    "sent_path = \"text1\"\n",
    "kpi_path = \"granular\"\n",
    "create_features(sent_path, kpi_path, kpis)"
   ]
  },
  {
   "cell_type": "code",
   "execution_count": 7,
   "id": "2c5ebccf",
   "metadata": {},
   "outputs": [
    {
     "name": "stderr",
     "output_type": "stream",
     "text": [
      "23:08 | INFO    cellevents | starting [cellevents/43]\n"
     ]
    },
    {
     "data": {
      "text/plain": [
       "<dask.config.set at 0x7fe73a6449d0>"
      ]
     },
     "execution_count": 7,
     "metadata": {},
     "output_type": "execute_result"
    },
    {
     "name": "stdout",
     "output_type": "stream",
     "text": [
      "time: 10 ms\n"
     ]
    }
   ],
   "source": [
    "#11'35 cache 10'42 prefect.cache 7'59 dask 1 worker; 12'20 dask 2 workers; hung dask 4 workers; "
   ]
  },
  {
   "cell_type": "code",
   "execution_count": 12,
   "id": "4177e4ee",
   "metadata": {},
   "outputs": [
    {
     "name": "stderr",
     "output_type": "stream",
     "text": [
      "[cellevents:43:INFO]:starting (time=Jul-16 11:34 MainProcess)\n"
     ]
    },
    {
     "data": {
      "text/html": [
       "<div>\n",
       "<style scoped>\n",
       "    .dataframe tbody tr th:only-of-type {\n",
       "        vertical-align: middle;\n",
       "    }\n",
       "\n",
       "    .dataframe tbody tr th {\n",
       "        vertical-align: top;\n",
       "    }\n",
       "\n",
       "    .dataframe thead th {\n",
       "        text-align: right;\n",
       "    }\n",
       "</style>\n",
       "<table border=\"1\" class=\"dataframe\">\n",
       "  <thead>\n",
       "    <tr style=\"text-align: right;\">\n",
       "      <th></th>\n",
       "      <th>kpi_ngram</th>\n",
       "      <th>kpi_sent</th>\n",
       "      <th>kw_topic1</th>\n",
       "      <th>esg_topic</th>\n",
       "      <th>ducks</th>\n",
       "      <th>ngram</th>\n",
       "      <th>ntopics</th>\n",
       "      <th>keywords1</th>\n",
       "      <th>score_sent</th>\n",
       "      <th>score_ngram</th>\n",
       "      <th>esg_score</th>\n",
       "    </tr>\n",
       "    <tr>\n",
       "      <th>sent</th>\n",
       "      <th></th>\n",
       "      <th></th>\n",
       "      <th></th>\n",
       "      <th></th>\n",
       "      <th></th>\n",
       "      <th></th>\n",
       "      <th></th>\n",
       "      <th></th>\n",
       "      <th></th>\n",
       "      <th></th>\n",
       "      <th></th>\n",
       "    </tr>\n",
       "  </thead>\n",
       "  <tbody>\n",
       "    <tr>\n",
       "      <th>The result is comprised of the direct result per share of € 1.85 positive (2019: € 2.03 positive) and the indirect result per share of € 4.26 negative (2019: € 0.73 negative).Result attributable to Vastned Retail shareholders The result attributable to Vastned Retail shareholders, which comprises the direct and indirect results, was € 41.3 million negative in 2020 (2019: € 22.4 million positive).</th>\n",
       "      <td>number of legal actions on violation of anti-t...</td>\n",
       "      <td>number of legal actions on violation of anti-t...</td>\n",
       "      <td>outofscope</td>\n",
       "      <td>Competitive_Behavior</td>\n",
       "      <td>[{'body': '1.85', 'start': 60, 'value': {'valu...</td>\n",
       "      <td>and the indirect result per</td>\n",
       "      <td>0</td>\n",
       "      <td>NaN</td>\n",
       "      <td>0.532469</td>\n",
       "      <td>0.538321</td>\n",
       "      <td>0.528056</td>\n",
       "    </tr>\n",
       "    <tr>\n",
       "      <th>We agreed with the supervisory board that misstatements in excess of € 79,000 for accounts with direct result impact and in excess of € 375,000 for other accounts, which are identified during the audit, would be reported to them, as well as smaller misstatements that in our view must be reported on qualitative grounds.</th>\n",
       "      <td>total number/percentage of anti-corruption pol...</td>\n",
       "      <td>total number/percentage of anti-corruption pol...</td>\n",
       "      <td>Sustainable Economic Performance</td>\n",
       "      <td>Business_Ethics</td>\n",
       "      <td>[{'body': '79,000', 'start': 71, 'value': {'va...</td>\n",
       "      <td>##ments that</td>\n",
       "      <td>1</td>\n",
       "      <td>[audit]</td>\n",
       "      <td>0.754610</td>\n",
       "      <td>0.764254</td>\n",
       "      <td>0.905678</td>\n",
       "    </tr>\n",
       "    <tr>\n",
       "      <th>At year-end 2020, the Supervisory Board was 33% female, which is in accordance with the objectives.</th>\n",
       "      <td>percentage of female individuals within govern...</td>\n",
       "      <td>percentage of female individuals within govern...</td>\n",
       "      <td>Employee Engagement &amp; Diversity &amp; Inclusion</td>\n",
       "      <td>Director_Removal</td>\n",
       "      <td>[{'body': '2020', 'start': 12, 'value': {'valu...</td>\n",
       "      <td>board was 33 % female</td>\n",
       "      <td>1</td>\n",
       "      <td>[female]</td>\n",
       "      <td>0.643639</td>\n",
       "      <td>0.643537</td>\n",
       "      <td>0.588744</td>\n",
       "    </tr>\n",
       "    <tr>\n",
       "      <th>The average interest rate of the long-term interest-bearing loans in 2020 was 2.01% (2019: 2.24%).20.</th>\n",
       "      <td>Profit/loss before tax</td>\n",
       "      <td>Profit/loss before tax</td>\n",
       "      <td>outofscope</td>\n",
       "      <td>Systemic_Risk_Management</td>\n",
       "      <td>[{'body': 'in 2020', 'start': 66, 'value': {'v...</td>\n",
       "      <td>interest - bearing</td>\n",
       "      <td>0</td>\n",
       "      <td>NaN</td>\n",
       "      <td>0.625822</td>\n",
       "      <td>0.628487</td>\n",
       "      <td>0.508456</td>\n",
       "    </tr>\n",
       "    <tr>\n",
       "      <th>Each of the company’s more than 3,000 store employees has also been offered the opportunity to go to a neck and shoulder massage, paid for by the company.</th>\n",
       "      <td>rate of fatalities due to work-related injury</td>\n",
       "      <td>rate of fatalities due to work-related injury</td>\n",
       "      <td>outofscope</td>\n",
       "      <td>Employee_Health_And_Safety</td>\n",
       "      <td>[{'body': 'more than 3,000', 'start': 22, 'val...</td>\n",
       "      <td>employees</td>\n",
       "      <td>0</td>\n",
       "      <td>NaN</td>\n",
       "      <td>0.628544</td>\n",
       "      <td>0.668312</td>\n",
       "      <td>0.764227</td>\n",
       "    </tr>\n",
       "    <tr>\n",
       "      <th>...</th>\n",
       "      <td>...</td>\n",
       "      <td>...</td>\n",
       "      <td>...</td>\n",
       "      <td>...</td>\n",
       "      <td>...</td>\n",
       "      <td>...</td>\n",
       "      <td>...</td>\n",
       "      <td>...</td>\n",
       "      <td>...</td>\n",
       "      <td>...</td>\n",
       "      <td>...</td>\n",
       "    </tr>\n",
       "    <tr>\n",
       "      <th>With LED lighting contributing a saving of 11% of total store energy consumption, we’ve prioritised the multi‑year rollout of our LED installation program across Australia, completing over 1,000 supermarkets in F21.</th>\n",
       "      <td>amount of energy consumption reduced</td>\n",
       "      <td>energy consumption outside of the organization</td>\n",
       "      <td>Energy</td>\n",
       "      <td>Energy_Management</td>\n",
       "      <td>[{'body': '11', 'start': 43, 'value': {'value'...</td>\n",
       "      <td>consumption</td>\n",
       "      <td>1</td>\n",
       "      <td>[energy]</td>\n",
       "      <td>0.846859</td>\n",
       "      <td>0.895941</td>\n",
       "      <td>0.975289</td>\n",
       "    </tr>\n",
       "    <tr>\n",
       "      <th>Tokmanni reviewed or renewed the labelling of 3,061 private-label products in 2020 (2019: 2,501).</th>\n",
       "      <td>percentage of products purchased locally</td>\n",
       "      <td>percentage of products purchased locally</td>\n",
       "      <td>Materials</td>\n",
       "      <td>Selling_Practices_And_Product_Labeling</td>\n",
       "      <td>[{'body': '3,061', 'start': 46, 'value': {'val...</td>\n",
       "      <td>products</td>\n",
       "      <td>1</td>\n",
       "      <td>[product]</td>\n",
       "      <td>0.606628</td>\n",
       "      <td>0.635605</td>\n",
       "      <td>0.695999</td>\n",
       "    </tr>\n",
       "    <tr>\n",
       "      <th>52%48% Study leave 76%24% Total 88%12%Family and other leave in the group Focus areas for 2020–2021 • Development of occupational safety and health activities • Management of everyone’s own work •</th>\n",
       "      <td>rate of recordable work-related injuries</td>\n",
       "      <td>rate of recordable work-related injuries</td>\n",
       "      <td>Occupational health and safety</td>\n",
       "      <td>Employee_Health_And_Safety</td>\n",
       "      <td>[{'body': '52', 'start': 0, 'value': {'value':...</td>\n",
       "      <td>of occupational safety and</td>\n",
       "      <td>1</td>\n",
       "      <td>[occupational, health]</td>\n",
       "      <td>0.926438</td>\n",
       "      <td>0.939242</td>\n",
       "      <td>0.982194</td>\n",
       "    </tr>\n",
       "    <tr>\n",
       "      <th>In other words, specific consumption (kWh/m 2 gross floor area) has been calculated for the stores covered by consumption monitoring.</th>\n",
       "      <td>total cooling energy consumption</td>\n",
       "      <td>total cooling energy consumption</td>\n",
       "      <td>outofscope</td>\n",
       "      <td>Energy_Management</td>\n",
       "      <td>[{'body': '2', 'start': 44, 'value': {'value':...</td>\n",
       "      <td>consumption</td>\n",
       "      <td>0</td>\n",
       "      <td>NaN</td>\n",
       "      <td>0.838580</td>\n",
       "      <td>0.846597</td>\n",
       "      <td>0.960604</td>\n",
       "    </tr>\n",
       "    <tr>\n",
       "      <th>During the reporting year, € 4.7 million was recognised in salaries (2019: € 4.4 million), € 0.5 million in social insurance contributions (2019: € 0.6 million), and € 0.6 million in pension contributions (2019: € 0.2 million).</th>\n",
       "      <td>net revenues (for public sector)</td>\n",
       "      <td>net revenues (for public sector)</td>\n",
       "      <td>outofscope</td>\n",
       "      <td>Management_Of_Legal_And_Regulatory_Framework</td>\n",
       "      <td>[{'body': '4.7 million', 'start': 29, 'value':...</td>\n",
       "      <td>was recognised in salaries (</td>\n",
       "      <td>0</td>\n",
       "      <td>NaN</td>\n",
       "      <td>0.656749</td>\n",
       "      <td>0.682226</td>\n",
       "      <td>0.782898</td>\n",
       "    </tr>\n",
       "  </tbody>\n",
       "</table>\n",
       "<p>165 rows × 11 columns</p>\n",
       "</div>"
      ],
      "text/plain": [
       "                                                                                            kpi_ngram  \\\n",
       "sent                                                                                                    \n",
       "The result is comprised of the direct result pe...  number of legal actions on violation of anti-t...   \n",
       "We agreed with the supervisory board that misst...  total number/percentage of anti-corruption pol...   \n",
       "At year-end 2020, the Supervisory Board was 33%...  percentage of female individuals within govern...   \n",
       "The average interest rate of the long-term inte...                             Profit/loss before tax   \n",
       "Each of the company’s more than 3,000 store emp...      rate of fatalities due to work-related injury   \n",
       "...                                                                                               ...   \n",
       "With LED lighting contributing a saving of 11% ...               amount of energy consumption reduced   \n",
       "Tokmanni reviewed or renewed the labelling of 3...           percentage of products purchased locally   \n",
       "52%48% Study leave 76%24% Total 88%12%Family an...           rate of recordable work-related injuries   \n",
       "In other words, specific consumption (kWh/m 2 g...                   total cooling energy consumption   \n",
       "During the reporting year, € 4.7 million was re...                   net revenues (for public sector)   \n",
       "\n",
       "                                                                                             kpi_sent  \\\n",
       "sent                                                                                                    \n",
       "The result is comprised of the direct result pe...  number of legal actions on violation of anti-t...   \n",
       "We agreed with the supervisory board that misst...  total number/percentage of anti-corruption pol...   \n",
       "At year-end 2020, the Supervisory Board was 33%...  percentage of female individuals within govern...   \n",
       "The average interest rate of the long-term inte...                             Profit/loss before tax   \n",
       "Each of the company’s more than 3,000 store emp...      rate of fatalities due to work-related injury   \n",
       "...                                                                                               ...   \n",
       "With LED lighting contributing a saving of 11% ...     energy consumption outside of the organization   \n",
       "Tokmanni reviewed or renewed the labelling of 3...           percentage of products purchased locally   \n",
       "52%48% Study leave 76%24% Total 88%12%Family an...           rate of recordable work-related injuries   \n",
       "In other words, specific consumption (kWh/m 2 g...                   total cooling energy consumption   \n",
       "During the reporting year, € 4.7 million was re...                   net revenues (for public sector)   \n",
       "\n",
       "                                                                                      kw_topic1  \\\n",
       "sent                                                                                              \n",
       "The result is comprised of the direct result pe...                                   outofscope   \n",
       "We agreed with the supervisory board that misst...             Sustainable Economic Performance   \n",
       "At year-end 2020, the Supervisory Board was 33%...  Employee Engagement & Diversity & Inclusion   \n",
       "The average interest rate of the long-term inte...                                   outofscope   \n",
       "Each of the company’s more than 3,000 store emp...                                   outofscope   \n",
       "...                                                                                         ...   \n",
       "With LED lighting contributing a saving of 11% ...                                       Energy   \n",
       "Tokmanni reviewed or renewed the labelling of 3...                                    Materials   \n",
       "52%48% Study leave 76%24% Total 88%12%Family an...               Occupational health and safety   \n",
       "In other words, specific consumption (kWh/m 2 g...                                   outofscope   \n",
       "During the reporting year, € 4.7 million was re...                                   outofscope   \n",
       "\n",
       "                                                                                       esg_topic  \\\n",
       "sent                                                                                               \n",
       "The result is comprised of the direct result pe...                          Competitive_Behavior   \n",
       "We agreed with the supervisory board that misst...                               Business_Ethics   \n",
       "At year-end 2020, the Supervisory Board was 33%...                              Director_Removal   \n",
       "The average interest rate of the long-term inte...                      Systemic_Risk_Management   \n",
       "Each of the company’s more than 3,000 store emp...                    Employee_Health_And_Safety   \n",
       "...                                                                                          ...   \n",
       "With LED lighting contributing a saving of 11% ...                             Energy_Management   \n",
       "Tokmanni reviewed or renewed the labelling of 3...        Selling_Practices_And_Product_Labeling   \n",
       "52%48% Study leave 76%24% Total 88%12%Family an...                    Employee_Health_And_Safety   \n",
       "In other words, specific consumption (kWh/m 2 g...                             Energy_Management   \n",
       "During the reporting year, € 4.7 million was re...  Management_Of_Legal_And_Regulatory_Framework   \n",
       "\n",
       "                                                                                                ducks  \\\n",
       "sent                                                                                                    \n",
       "The result is comprised of the direct result pe...  [{'body': '1.85', 'start': 60, 'value': {'valu...   \n",
       "We agreed with the supervisory board that misst...  [{'body': '79,000', 'start': 71, 'value': {'va...   \n",
       "At year-end 2020, the Supervisory Board was 33%...  [{'body': '2020', 'start': 12, 'value': {'valu...   \n",
       "The average interest rate of the long-term inte...  [{'body': 'in 2020', 'start': 66, 'value': {'v...   \n",
       "Each of the company’s more than 3,000 store emp...  [{'body': 'more than 3,000', 'start': 22, 'val...   \n",
       "...                                                                                               ...   \n",
       "With LED lighting contributing a saving of 11% ...  [{'body': '11', 'start': 43, 'value': {'value'...   \n",
       "Tokmanni reviewed or renewed the labelling of 3...  [{'body': '3,061', 'start': 46, 'value': {'val...   \n",
       "52%48% Study leave 76%24% Total 88%12%Family an...  [{'body': '52', 'start': 0, 'value': {'value':...   \n",
       "In other words, specific consumption (kWh/m 2 g...  [{'body': '2', 'start': 44, 'value': {'value':...   \n",
       "During the reporting year, € 4.7 million was re...  [{'body': '4.7 million', 'start': 29, 'value':...   \n",
       "\n",
       "                                                                           ngram  \\\n",
       "sent                                                                               \n",
       "The result is comprised of the direct result pe...   and the indirect result per   \n",
       "We agreed with the supervisory board that misst...                  ##ments that   \n",
       "At year-end 2020, the Supervisory Board was 33%...         board was 33 % female   \n",
       "The average interest rate of the long-term inte...            interest - bearing   \n",
       "Each of the company’s more than 3,000 store emp...                     employees   \n",
       "...                                                                          ...   \n",
       "With LED lighting contributing a saving of 11% ...                   consumption   \n",
       "Tokmanni reviewed or renewed the labelling of 3...                      products   \n",
       "52%48% Study leave 76%24% Total 88%12%Family an...    of occupational safety and   \n",
       "In other words, specific consumption (kWh/m 2 g...                   consumption   \n",
       "During the reporting year, € 4.7 million was re...  was recognised in salaries (   \n",
       "\n",
       "                                                    ntopics  \\\n",
       "sent                                                          \n",
       "The result is comprised of the direct result pe...        0   \n",
       "We agreed with the supervisory board that misst...        1   \n",
       "At year-end 2020, the Supervisory Board was 33%...        1   \n",
       "The average interest rate of the long-term inte...        0   \n",
       "Each of the company’s more than 3,000 store emp...        0   \n",
       "...                                                     ...   \n",
       "With LED lighting contributing a saving of 11% ...        1   \n",
       "Tokmanni reviewed or renewed the labelling of 3...        1   \n",
       "52%48% Study leave 76%24% Total 88%12%Family an...        1   \n",
       "In other words, specific consumption (kWh/m 2 g...        0   \n",
       "During the reporting year, € 4.7 million was re...        0   \n",
       "\n",
       "                                                                 keywords1  \\\n",
       "sent                                                                         \n",
       "The result is comprised of the direct result pe...                     NaN   \n",
       "We agreed with the supervisory board that misst...                 [audit]   \n",
       "At year-end 2020, the Supervisory Board was 33%...                [female]   \n",
       "The average interest rate of the long-term inte...                     NaN   \n",
       "Each of the company’s more than 3,000 store emp...                     NaN   \n",
       "...                                                                    ...   \n",
       "With LED lighting contributing a saving of 11% ...                [energy]   \n",
       "Tokmanni reviewed or renewed the labelling of 3...               [product]   \n",
       "52%48% Study leave 76%24% Total 88%12%Family an...  [occupational, health]   \n",
       "In other words, specific consumption (kWh/m 2 g...                     NaN   \n",
       "During the reporting year, € 4.7 million was re...                     NaN   \n",
       "\n",
       "                                                    score_sent  score_ngram  \\\n",
       "sent                                                                          \n",
       "The result is comprised of the direct result pe...    0.532469     0.538321   \n",
       "We agreed with the supervisory board that misst...    0.754610     0.764254   \n",
       "At year-end 2020, the Supervisory Board was 33%...    0.643639     0.643537   \n",
       "The average interest rate of the long-term inte...    0.625822     0.628487   \n",
       "Each of the company’s more than 3,000 store emp...    0.628544     0.668312   \n",
       "...                                                        ...          ...   \n",
       "With LED lighting contributing a saving of 11% ...    0.846859     0.895941   \n",
       "Tokmanni reviewed or renewed the labelling of 3...    0.606628     0.635605   \n",
       "52%48% Study leave 76%24% Total 88%12%Family an...    0.926438     0.939242   \n",
       "In other words, specific consumption (kWh/m 2 g...    0.838580     0.846597   \n",
       "During the reporting year, € 4.7 million was re...    0.656749     0.682226   \n",
       "\n",
       "                                                    esg_score  \n",
       "sent                                                           \n",
       "The result is comprised of the direct result pe...   0.528056  \n",
       "We agreed with the supervisory board that misst...   0.905678  \n",
       "At year-end 2020, the Supervisory Board was 33%...   0.588744  \n",
       "The average interest rate of the long-term inte...   0.508456  \n",
       "Each of the company’s more than 3,000 store emp...   0.764227  \n",
       "...                                                       ...  \n",
       "With LED lighting contributing a saving of 11% ...   0.975289  \n",
       "Tokmanni reviewed or renewed the labelling of 3...   0.695999  \n",
       "52%48% Study leave 76%24% Total 88%12%Family an...   0.982194  \n",
       "In other words, specific consumption (kWh/m 2 g...   0.960604  \n",
       "During the reporting year, € 4.7 million was re...   0.782898  \n",
       "\n",
       "[165 rows x 11 columns]"
      ]
     },
     "execution_count": 12,
     "metadata": {},
     "output_type": "execute_result"
    },
    {
     "name": "stdout",
     "output_type": "stream",
     "text": [
      "time: 272 ms\n"
     ]
    }
   ],
   "source": [
    "df = aggregate(sent_path, kpi_path)\n",
    "df"
   ]
  },
  {
   "cell_type": "code",
   "execution_count": null,
   "id": "7011c248",
   "metadata": {},
   "outputs": [],
   "source": []
  }
 ],
 "metadata": {
  "kernelspec": {
   "display_name": "Python 3",
   "language": "python",
   "name": "python3"
  },
  "language_info": {
   "codemirror_mode": {
    "name": "ipython",
    "version": 3
   },
   "file_extension": ".py",
   "mimetype": "text/x-python",
   "name": "python",
   "nbconvert_exporter": "python",
   "pygments_lexer": "ipython3",
   "version": "3.9.12"
  }
 },
 "nbformat": 4,
 "nbformat_minor": 5
}
