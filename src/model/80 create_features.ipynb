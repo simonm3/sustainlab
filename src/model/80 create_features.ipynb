{
 "cells": [
  {
   "cell_type": "code",
   "execution_count": 1,
   "id": "0dea0eb0",
   "metadata": {
    "scrolled": true
   },
   "outputs": [
    {
     "name": "stderr",
     "output_type": "stream",
     "text": [
      "[defaultlog:22:INFO]:logging started from /mnt/c/users/simon/onedrive/documents/py/live/pyutils/defaultlog.py (time=Jul-14 23:12 MainProcess)\n"
     ]
    },
    {
     "data": {
      "text/html": [
       "<style>audio{display:none}</style>"
      ],
      "text/plain": [
       "<IPython.core.display.HTML object>"
      ]
     },
     "metadata": {},
     "output_type": "display_data"
    },
    {
     "name": "stderr",
     "output_type": "stream",
     "text": [
      "[__init__:40:INFO]:prefect.skip will be used to control task flows (time=Jul-14 23:12 MainProcess)\n"
     ]
    }
   ],
   "source": [
    "from ipstartup import *\n",
    "croot = \"c:\" if os.name==\"nt\" else \"/mnt/c\"\n",
    "droot = \"d:\" if os.name==\"nt\" else \"/mnt/d\"\n",
    "slab = f\"{croot}/Users/simon/OneDrive/Documents/py/live/slab\"\n",
    "data = f\"{droot}/data1\"\n",
    "sys.path.append(slab)\n",
    "os.chdir(data)\n",
    "\n",
    "os.environ[\"PREFECTX\"] = \"prefect.skip\"\n",
    "from slab.flows import *\n",
    "from glob import glob\n",
    "import pandas as pd\n",
    "from slab.utils import *\n",
    "import numpy as np\n",
    "np.random.seed(0)"
   ]
  },
  {
   "cell_type": "code",
   "execution_count": null,
   "id": "1fa28a41",
   "metadata": {},
   "outputs": [
    {
     "name": "stderr",
     "output_type": "stream",
     "text": [
      "[cellevents:43:INFO]:starting (time=Jul-14 23:12 MainProcess)\n",
      "23:12 | INFO    prefect.engine | Created flow run 'soft-skunk' for flow 'create-features' [engine/180]\n",
      "23:12 | INFO    Flow run | 'soft-skunk' - Using task runner 'SequentialTaskRunner'\n",
      "23:12 | WARNING Flow run | 'soft-skunk' - No default storage is configured on the server. Results from this flow run will be stored in a temporary directory in its runtime environment.\n",
      "23:12 | INFO    slab.utils | 5 pdfs [utils/44]\n",
      "23:12 | INFO    slab.utils | 6109 sentences [utils/50]\n",
      "23:12 | INFO    slab.utils | 1000 sample sentences [utils/52]\n",
      "23:12 | INFO    slab.utils | 239 accepted with number, verb, 2*nouns [utils/54]\n",
      "23:12 | INFO    Flow run | 'soft-skunk' - Created task run 'topic2kw-2263fa84-0' for task 'topic2kw'\n",
      "23:13 | INFO    Task run | 'topic2kw-2263fa84-0' - Finished in state Completed()\n",
      "23:13 | INFO    Flow run | 'soft-skunk' - Created task run 'kwtopics-62cfc259-0' for task 'kwtopics'\n"
     ]
    },
    {
     "data": {
      "application/vnd.jupyter.widget-view+json": {
       "model_id": "38705f700c274a67ad2f765fc3852af9",
       "version_major": 2,
       "version_minor": 0
      },
      "text/plain": [
       "kwtopics:   0%|          | 0/239 [00:00<?, ?it/s]"
      ]
     },
     "metadata": {},
     "output_type": "display_data"
    },
    {
     "name": "stderr",
     "output_type": "stream",
     "text": [
      "23:14 | INFO    Task run | 'kwtopics-62cfc259-0' - Finished in state Completed()\n",
      "23:14 | INFO    Flow run | 'soft-skunk' - Created task run 'esg-b8c27452-0' for task 'esg'\n"
     ]
    },
    {
     "data": {
      "application/vnd.jupyter.widget-view+json": {
       "model_id": "cddadffc02ce4180aaf0e3733e935ab3",
       "version_major": 2,
       "version_minor": 0
      },
      "text/plain": [
       "Downloading:   0%|          | 0.00/1.94k [00:00<?, ?B/s]"
      ]
     },
     "metadata": {},
     "output_type": "display_data"
    },
    {
     "data": {
      "application/vnd.jupyter.widget-view+json": {
       "model_id": "23c6ababad5b4a66afd0c3a8aea9659d",
       "version_major": 2,
       "version_minor": 0
      },
      "text/plain": [
       "esg:   0%|          | 0/239 [00:00<?, ?it/s]"
      ]
     },
     "metadata": {},
     "output_type": "display_data"
    },
    {
     "name": "stderr",
     "output_type": "stream",
     "text": [
      "23:16 | INFO    Task run | 'esg-b8c27452-0' - Finished in state Completed()\n",
      "23:16 | INFO    Flow run | 'soft-skunk' - Created task run 'inscope-bc52728c-0' for task 'inscope'\n",
      "23:16 | INFO    slab.roottasks | 165 inscope [roottasks/22]\n",
      "23:16 | INFO    Task run | 'inscope-bc52728c-0' - Finished in state Completed()\n",
      "23:16 | INFO    Flow run | 'soft-skunk' - Created task run 'token_feats-50ce0d36-0' for task 'token_feats'\n"
     ]
    },
    {
     "data": {
      "application/vnd.jupyter.widget-view+json": {
       "model_id": "7e648c1caa2044828d03b545d5fce48c",
       "version_major": 2,
       "version_minor": 0
      },
      "text/plain": [
       "token_features:   0%|          | 0/165 [00:00<?, ?it/s]"
      ]
     },
     "metadata": {},
     "output_type": "display_data"
    },
    {
     "name": "stderr",
     "output_type": "stream",
     "text": [
      "23:17 | INFO    Task run | 'token_feats-50ce0d36-0' - Finished in state Completed()\n",
      "23:17 | INFO    Flow run | 'soft-skunk' - Created task run 'sent_feats-9b8267b6-0' for task 'sent_feats'\n"
     ]
    },
    {
     "data": {
      "application/vnd.jupyter.widget-view+json": {
       "model_id": "118bb4a186dd4380a8058dcd2a521320",
       "version_major": 2,
       "version_minor": 0
      },
      "text/plain": [
       "sent_features:   0%|          | 0/165 [00:00<?, ?it/s]"
      ]
     },
     "metadata": {},
     "output_type": "display_data"
    },
    {
     "name": "stderr",
     "output_type": "stream",
     "text": [
      "23:17 | INFO    Task run | 'sent_feats-9b8267b6-0' - Finished in state Completed()\n",
      "23:17 | INFO    Flow run | 'soft-skunk' - Created task run 'token_feats-50ce0d36-1' for task 'token_feats'\n"
     ]
    },
    {
     "data": {
      "application/vnd.jupyter.widget-view+json": {
       "model_id": "d6194e846d83401297e21e9a8f187be9",
       "version_major": 2,
       "version_minor": 0
      },
      "text/plain": [
       "token_features:   0%|          | 0/162 [00:00<?, ?it/s]"
      ]
     },
     "metadata": {},
     "output_type": "display_data"
    },
    {
     "name": "stderr",
     "output_type": "stream",
     "text": [
      "23:17 | INFO    Task run | 'token_feats-50ce0d36-1' - Finished in state Completed()\n",
      "23:17 | INFO    Flow run | 'soft-skunk' - Created task run 'sent_feats-9b8267b6-1' for task 'sent_feats'\n"
     ]
    },
    {
     "data": {
      "application/vnd.jupyter.widget-view+json": {
       "model_id": "e8d80816c9ab4cfebe5b75d47cf0b08d",
       "version_major": 2,
       "version_minor": 0
      },
      "text/plain": [
       "sent_features:   0%|          | 0/162 [00:00<?, ?it/s]"
      ]
     },
     "metadata": {},
     "output_type": "display_data"
    },
    {
     "name": "stderr",
     "output_type": "stream",
     "text": [
      "23:17 | INFO    Task run | 'sent_feats-9b8267b6-1' - Finished in state Completed()\n",
      "23:17 | INFO    Flow run | 'soft-skunk' - Created task run 'compare_sents-ca6bacde-0' for task 'compare_sents'\n",
      "23:17 | INFO    Task run | 'compare_sents-ca6bacde-0' - Finished in state Completed()\n",
      "23:17 | INFO    Flow run | 'soft-skunk' - Created task run 'compare_ngrams-a21d9f83-0' for task 'compare_ngrams'\n"
     ]
    },
    {
     "data": {
      "application/vnd.jupyter.widget-view+json": {
       "model_id": "4089692a60df44a486769ad33da258cc",
       "version_major": 2,
       "version_minor": 0
      },
      "text/plain": [
       "compare ngrams:   0%|          | 0/165 [00:00<?, ?it/s]"
      ]
     },
     "metadata": {},
     "output_type": "display_data"
    }
   ],
   "source": [
    "create_features()"
   ]
  },
  {
   "cell_type": "code",
   "execution_count": 7,
   "id": "2c5ebccf",
   "metadata": {},
   "outputs": [
    {
     "name": "stderr",
     "output_type": "stream",
     "text": [
      "23:08 | INFO    cellevents | starting [cellevents/43]\n"
     ]
    },
    {
     "data": {
      "text/plain": [
       "<dask.config.set at 0x7fe73a6449d0>"
      ]
     },
     "execution_count": 7,
     "metadata": {},
     "output_type": "execute_result"
    },
    {
     "name": "stdout",
     "output_type": "stream",
     "text": [
      "time: 10 ms\n"
     ]
    }
   ],
   "source": [
    "#11'35 cache 10'42 prefect.skip 7'59 dask 1 worker; 12'20 dask 2 workers; hung dask 4 workers; "
   ]
  },
  {
   "cell_type": "code",
   "execution_count": 4,
   "id": "4177e4ee",
   "metadata": {},
   "outputs": [
    {
     "name": "stderr",
     "output_type": "stream",
     "text": [
      "23:01 | INFO    cellevents | starting [cellevents/43]\n"
     ]
    },
    {
     "ename": "FileNotFoundError",
     "evalue": "[Errno 2] No such file or directory: 'working/inscope'",
     "output_type": "error",
     "traceback": [
      "\u001b[0;31m---------------------------------------------------------------------------\u001b[0m",
      "\u001b[0;31mFileNotFoundError\u001b[0m                         Traceback (most recent call last)",
      "Input \u001b[0;32mIn [4]\u001b[0m, in \u001b[0;36m<cell line: 1>\u001b[0;34m()\u001b[0m\n\u001b[0;32m----> 1\u001b[0m df \u001b[38;5;241m=\u001b[39m \u001b[43maggregate\u001b[49m\u001b[43m(\u001b[49m\u001b[43m)\u001b[49m\n\u001b[1;32m      2\u001b[0m df\n",
      "File \u001b[0;32m/mnt/c/Users/simon/OneDrive/Documents/py/live/slab/slab/utils.py:60\u001b[0m, in \u001b[0;36maggregate\u001b[0;34m()\u001b[0m\n\u001b[1;32m     58\u001b[0m \u001b[38;5;28;01mdef\u001b[39;00m \u001b[38;5;21maggregate\u001b[39m():\n\u001b[1;32m     59\u001b[0m     \u001b[38;5;124;03m\"\"\"aggregate results\"\"\"\u001b[39;00m\n\u001b[0;32m---> 60\u001b[0m     out \u001b[38;5;241m=\u001b[39m [\n\u001b[1;32m     61\u001b[0m         pd\u001b[38;5;241m.\u001b[39mread_pickle(\u001b[38;5;124mf\u001b[39m\u001b[38;5;124m\"\u001b[39m\u001b[38;5;124mworking/\u001b[39m\u001b[38;5;132;01m{\u001b[39;00mx\u001b[38;5;132;01m}\u001b[39;00m\u001b[38;5;124m\"\u001b[39m)\n\u001b[1;32m     62\u001b[0m         \u001b[38;5;28;01mfor\u001b[39;00m x \u001b[38;5;129;01min\u001b[39;00m [\u001b[38;5;124m\"\u001b[39m\u001b[38;5;124minscope\u001b[39m\u001b[38;5;124m\"\u001b[39m, \u001b[38;5;124m\"\u001b[39m\u001b[38;5;124mcompare_sents\u001b[39m\u001b[38;5;124m\"\u001b[39m, \u001b[38;5;124m\"\u001b[39m\u001b[38;5;124mcompare_ngrams\u001b[39m\u001b[38;5;124m\"\u001b[39m, \u001b[38;5;124m\"\u001b[39m\u001b[38;5;124mducks\u001b[39m\u001b[38;5;124m\"\u001b[39m]\n\u001b[1;32m     63\u001b[0m     ]\n\u001b[1;32m     64\u001b[0m     df \u001b[38;5;241m=\u001b[39m pd\u001b[38;5;241m.\u001b[39mconcat(out, axis\u001b[38;5;241m=\u001b[39m\u001b[38;5;241m1\u001b[39m)\n\u001b[1;32m     65\u001b[0m     df \u001b[38;5;241m=\u001b[39m df[\n\u001b[1;32m     66\u001b[0m         [\n\u001b[1;32m     67\u001b[0m             \u001b[38;5;124m\"\u001b[39m\u001b[38;5;124mkpi_ngram\u001b[39m\u001b[38;5;124m\"\u001b[39m,\n\u001b[0;32m   (...)\u001b[0m\n\u001b[1;32m     78\u001b[0m         ]\n\u001b[1;32m     79\u001b[0m     ]\n",
      "File \u001b[0;32m/mnt/c/Users/simon/OneDrive/Documents/py/live/slab/slab/utils.py:61\u001b[0m, in \u001b[0;36m<listcomp>\u001b[0;34m(.0)\u001b[0m\n\u001b[1;32m     58\u001b[0m \u001b[38;5;28;01mdef\u001b[39;00m \u001b[38;5;21maggregate\u001b[39m():\n\u001b[1;32m     59\u001b[0m     \u001b[38;5;124;03m\"\"\"aggregate results\"\"\"\u001b[39;00m\n\u001b[1;32m     60\u001b[0m     out \u001b[38;5;241m=\u001b[39m [\n\u001b[0;32m---> 61\u001b[0m         \u001b[43mpd\u001b[49m\u001b[38;5;241;43m.\u001b[39;49m\u001b[43mread_pickle\u001b[49m\u001b[43m(\u001b[49m\u001b[38;5;124;43mf\u001b[39;49m\u001b[38;5;124;43m\"\u001b[39;49m\u001b[38;5;124;43mworking/\u001b[39;49m\u001b[38;5;132;43;01m{\u001b[39;49;00m\u001b[43mx\u001b[49m\u001b[38;5;132;43;01m}\u001b[39;49;00m\u001b[38;5;124;43m\"\u001b[39;49m\u001b[43m)\u001b[49m\n\u001b[1;32m     62\u001b[0m         \u001b[38;5;28;01mfor\u001b[39;00m x \u001b[38;5;129;01min\u001b[39;00m [\u001b[38;5;124m\"\u001b[39m\u001b[38;5;124minscope\u001b[39m\u001b[38;5;124m\"\u001b[39m, \u001b[38;5;124m\"\u001b[39m\u001b[38;5;124mcompare_sents\u001b[39m\u001b[38;5;124m\"\u001b[39m, \u001b[38;5;124m\"\u001b[39m\u001b[38;5;124mcompare_ngrams\u001b[39m\u001b[38;5;124m\"\u001b[39m, \u001b[38;5;124m\"\u001b[39m\u001b[38;5;124mducks\u001b[39m\u001b[38;5;124m\"\u001b[39m]\n\u001b[1;32m     63\u001b[0m     ]\n\u001b[1;32m     64\u001b[0m     df \u001b[38;5;241m=\u001b[39m pd\u001b[38;5;241m.\u001b[39mconcat(out, axis\u001b[38;5;241m=\u001b[39m\u001b[38;5;241m1\u001b[39m)\n\u001b[1;32m     65\u001b[0m     df \u001b[38;5;241m=\u001b[39m df[\n\u001b[1;32m     66\u001b[0m         [\n\u001b[1;32m     67\u001b[0m             \u001b[38;5;124m\"\u001b[39m\u001b[38;5;124mkpi_ngram\u001b[39m\u001b[38;5;124m\"\u001b[39m,\n\u001b[0;32m   (...)\u001b[0m\n\u001b[1;32m     78\u001b[0m         ]\n\u001b[1;32m     79\u001b[0m     ]\n",
      "File \u001b[0;32m~/anaconda3/lib/python3.9/site-packages/pandas/io/pickle.py:187\u001b[0m, in \u001b[0;36mread_pickle\u001b[0;34m(filepath_or_buffer, compression, storage_options)\u001b[0m\n\u001b[1;32m    124\u001b[0m \u001b[38;5;124;03m\"\"\"\u001b[39;00m\n\u001b[1;32m    125\u001b[0m \u001b[38;5;124;03mLoad pickled pandas object (or any object) from file.\u001b[39;00m\n\u001b[1;32m    126\u001b[0m \n\u001b[0;32m   (...)\u001b[0m\n\u001b[1;32m    184\u001b[0m \u001b[38;5;124;03m4    4    9\u001b[39;00m\n\u001b[1;32m    185\u001b[0m \u001b[38;5;124;03m\"\"\"\u001b[39;00m  \u001b[38;5;66;03m# noqa: E501\u001b[39;00m\n\u001b[1;32m    186\u001b[0m excs_to_catch \u001b[38;5;241m=\u001b[39m (\u001b[38;5;167;01mAttributeError\u001b[39;00m, \u001b[38;5;167;01mImportError\u001b[39;00m, \u001b[38;5;167;01mModuleNotFoundError\u001b[39;00m, \u001b[38;5;167;01mTypeError\u001b[39;00m)\n\u001b[0;32m--> 187\u001b[0m \u001b[38;5;28;01mwith\u001b[39;00m \u001b[43mget_handle\u001b[49m\u001b[43m(\u001b[49m\n\u001b[1;32m    188\u001b[0m \u001b[43m    \u001b[49m\u001b[43mfilepath_or_buffer\u001b[49m\u001b[43m,\u001b[49m\n\u001b[1;32m    189\u001b[0m \u001b[43m    \u001b[49m\u001b[38;5;124;43m\"\u001b[39;49m\u001b[38;5;124;43mrb\u001b[39;49m\u001b[38;5;124;43m\"\u001b[39;49m\u001b[43m,\u001b[49m\n\u001b[1;32m    190\u001b[0m \u001b[43m    \u001b[49m\u001b[43mcompression\u001b[49m\u001b[38;5;241;43m=\u001b[39;49m\u001b[43mcompression\u001b[49m\u001b[43m,\u001b[49m\n\u001b[1;32m    191\u001b[0m \u001b[43m    \u001b[49m\u001b[43mis_text\u001b[49m\u001b[38;5;241;43m=\u001b[39;49m\u001b[38;5;28;43;01mFalse\u001b[39;49;00m\u001b[43m,\u001b[49m\n\u001b[1;32m    192\u001b[0m \u001b[43m    \u001b[49m\u001b[43mstorage_options\u001b[49m\u001b[38;5;241;43m=\u001b[39;49m\u001b[43mstorage_options\u001b[49m\u001b[43m,\u001b[49m\n\u001b[1;32m    193\u001b[0m \u001b[43m\u001b[49m\u001b[43m)\u001b[49m \u001b[38;5;28;01mas\u001b[39;00m handles:\n\u001b[1;32m    194\u001b[0m \n\u001b[1;32m    195\u001b[0m     \u001b[38;5;66;03m# 1) try standard library Pickle\u001b[39;00m\n\u001b[1;32m    196\u001b[0m     \u001b[38;5;66;03m# 2) try pickle_compat (older pandas version) to handle subclass changes\u001b[39;00m\n\u001b[1;32m    197\u001b[0m     \u001b[38;5;66;03m# 3) try pickle_compat with latin-1 encoding upon a UnicodeDecodeError\u001b[39;00m\n\u001b[1;32m    199\u001b[0m     \u001b[38;5;28;01mtry\u001b[39;00m:\n\u001b[1;32m    200\u001b[0m         \u001b[38;5;66;03m# TypeError for Cython complaints about object.__new__ vs Tick.__new__\u001b[39;00m\n\u001b[1;32m    201\u001b[0m         \u001b[38;5;28;01mtry\u001b[39;00m:\n",
      "File \u001b[0;32m~/anaconda3/lib/python3.9/site-packages/pandas/io/common.py:795\u001b[0m, in \u001b[0;36mget_handle\u001b[0;34m(path_or_buf, mode, encoding, compression, memory_map, is_text, errors, storage_options)\u001b[0m\n\u001b[1;32m    786\u001b[0m         handle \u001b[38;5;241m=\u001b[39m \u001b[38;5;28mopen\u001b[39m(\n\u001b[1;32m    787\u001b[0m             handle,\n\u001b[1;32m    788\u001b[0m             ioargs\u001b[38;5;241m.\u001b[39mmode,\n\u001b[0;32m   (...)\u001b[0m\n\u001b[1;32m    791\u001b[0m             newline\u001b[38;5;241m=\u001b[39m\u001b[38;5;124m\"\u001b[39m\u001b[38;5;124m\"\u001b[39m,\n\u001b[1;32m    792\u001b[0m         )\n\u001b[1;32m    793\u001b[0m     \u001b[38;5;28;01melse\u001b[39;00m:\n\u001b[1;32m    794\u001b[0m         \u001b[38;5;66;03m# Binary mode\u001b[39;00m\n\u001b[0;32m--> 795\u001b[0m         handle \u001b[38;5;241m=\u001b[39m \u001b[38;5;28;43mopen\u001b[39;49m\u001b[43m(\u001b[49m\u001b[43mhandle\u001b[49m\u001b[43m,\u001b[49m\u001b[43m \u001b[49m\u001b[43mioargs\u001b[49m\u001b[38;5;241;43m.\u001b[39;49m\u001b[43mmode\u001b[49m\u001b[43m)\u001b[49m\n\u001b[1;32m    796\u001b[0m     handles\u001b[38;5;241m.\u001b[39mappend(handle)\n\u001b[1;32m    798\u001b[0m \u001b[38;5;66;03m# Convert BytesIO or file objects passed with an encoding\u001b[39;00m\n",
      "\u001b[0;31mFileNotFoundError\u001b[0m: [Errno 2] No such file or directory: 'working/inscope'"
     ]
    },
    {
     "name": "stdout",
     "output_type": "stream",
     "text": [
      "time: 1.91 s\n"
     ]
    }
   ],
   "source": [
    "df = aggregate()\n",
    "df"
   ]
  }
 ],
 "metadata": {
  "kernelspec": {
   "display_name": "Python 3",
   "language": "python",
   "name": "python3"
  },
  "language_info": {
   "codemirror_mode": {
    "name": "ipython",
    "version": 3
   },
   "file_extension": ".py",
   "mimetype": "text/x-python",
   "name": "python",
   "nbconvert_exporter": "python",
   "pygments_lexer": "ipython3",
   "version": "3.9.12"
  }
 },
 "nbformat": 4,
 "nbformat_minor": 5
}
