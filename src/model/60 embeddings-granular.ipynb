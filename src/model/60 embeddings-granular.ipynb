{
 "cells": [
  {
   "cell_type": "code",
   "execution_count": 1,
   "id": "266ae18e",
   "metadata": {},
   "outputs": [
    {
     "name": "stderr",
     "output_type": "stream",
     "text": [
      "[defaultlog:22:INFO]:logging started from /mnt/c/users/simon/onedrive/documents/py/live/pyutils/defaultlog.py (time=Jul-07 13:30 MainProcess)\n"
     ]
    },
    {
     "data": {
      "text/html": [
       "<style>audio{display:none}</style>"
      ],
      "text/plain": [
       "<IPython.core.display.HTML object>"
      ]
     },
     "metadata": {},
     "output_type": "display_data"
    },
    {
     "name": "stderr",
     "output_type": "stream",
     "text": [
      "Some weights of the model checkpoint at nbroad/ESG-BERT were not used when initializing BertModel: ['classifier.bias', 'classifier.weight']\n",
      "- This IS expected if you are initializing BertModel from the checkpoint of a model trained on another task or with another architecture (e.g. initializing a BertForSequenceClassification model from a BertForPreTraining model).\n",
      "- This IS NOT expected if you are initializing BertModel from the checkpoint of a model that you expect to be exactly identical (initializing a BertForSequenceClassification model from a BertForSequenceClassification model).\n"
     ]
    }
   ],
   "source": [
    "from ipstartup import *\n",
    "croot = \"c:\" if os.name==\"nt\" else \"/mnt/c\"\n",
    "droot = \"d:\" if os.name==\"nt\" else \"/mnt/d\"\n",
    "os.chdir(f\"{droot}/data1\")\n",
    "sys.path.append(f\"{croot}/Users/simon/OneDrive/Documents/py/live/slab/slab\")\n",
    "############################################################################\n",
    "from transformers import pipeline\n",
    "import numpy as np\n",
    "import pandas as pd\n",
    "from sklearn.metrics.pairwise import cosine_similarity\n",
    "model = \"nbroad/ESG-BERT\"\n",
    "feature_extraction = pipeline('feature-extraction', model=model)"
   ]
  },
  {
   "cell_type": "code",
   "execution_count": 2,
   "id": "b10e7994",
   "metadata": {},
   "outputs": [
    {
     "name": "stderr",
     "output_type": "stream",
     "text": [
      "[cellevents:43:INFO]:starting (time=Jul-07 13:30 MainProcess)\n"
     ]
    },
    {
     "name": "stdout",
     "output_type": "stream",
     "text": [
      "time: 590 ms\n"
     ]
    }
   ],
   "source": [
    "sents = pd.read_csv(\"Clean_sentences.csv\")\n",
    "sents = sents.Sentences.tolist()\n",
    "kpis = pd.read_excel(\"SustainLab_Generic_Granular_KPI list.xlsx\", sheet_name=\"Granular KPI list\").KPI.tolist()"
   ]
  },
  {
   "cell_type": "code",
   "execution_count": 3,
   "id": "2ea3dcdd",
   "metadata": {},
   "outputs": [
    {
     "name": "stderr",
     "output_type": "stream",
     "text": [
      "[cellevents:43:INFO]:starting (time=Jul-07 13:30 MainProcess)\n"
     ]
    },
    {
     "name": "stdout",
     "output_type": "stream",
     "text": [
      "time: 5.06 ms\n"
     ]
    }
   ],
   "source": [
    "import re\n",
    "\n",
    "def get_ngrams(s, maxn=999):\n",
    "    s = s.lower()\n",
    "    s = re.sub(r'[^a-zA-Z0-9\\s]', ' ', s)\n",
    "    tokens = [token for token in s.split(\" \") if token != \"\"]\n",
    "    ngrams = []\n",
    "    for start in range(len(tokens)):\n",
    "        for end in range(start, len(tokens)):\n",
    "            if end+1-start > maxn:\n",
    "                break\n",
    "            ngram = \" \".join(tokens[start:end+1])\n",
    "            ngrams.append(ngram)\n",
    "    return list(set(ngrams))\n",
    "\n",
    "def get_feat(sents):\n",
    "    \"\"\" return list of sent*features\"\"\"\n",
    "    word_features = feature_extraction(sents)\n",
    "    sent_features = [np.array(x).mean(axis=1) for x in word_features]\n",
    "    features = [x[0] for x in sent_features]\n",
    "    return features"
   ]
  },
  {
   "cell_type": "code",
   "execution_count": 4,
   "id": "3bba097c",
   "metadata": {},
   "outputs": [
    {
     "name": "stderr",
     "output_type": "stream",
     "text": [
      "[cellevents:43:INFO]:starting (time=Jul-07 13:30 MainProcess)\n"
     ]
    },
    {
     "name": "stdout",
     "output_type": "stream",
     "text": [
      "time: 13.2 s\n"
     ]
    }
   ],
   "source": [
    "kpi_feat = get_feat(kpis)"
   ]
  },
  {
   "cell_type": "markdown",
   "id": "c46b3404",
   "metadata": {},
   "source": [
    "# sentence embedding (mean)"
   ]
  },
  {
   "cell_type": "code",
   "execution_count": 6,
   "id": "95782450",
   "metadata": {},
   "outputs": [
    {
     "name": "stderr",
     "output_type": "stream",
     "text": [
      "[cellevents:43:INFO]:starting (time=Jul-06 17:36 MainProcess)\n"
     ]
    },
    {
     "data": {
      "application/vnd.jupyter.widget-view+json": {
       "model_id": "f201ef96f3d34cbe9454628b9ed77e68",
       "version_major": 2,
       "version_minor": 0
      },
      "text/plain": [
       "  0%|          | 0/126 [00:00<?, ?it/s]"
      ]
     },
     "metadata": {},
     "output_type": "display_data"
    },
    {
     "name": "stdout",
     "output_type": "stream",
     "text": [
      "time: 20.6 s\n"
     ]
    }
   ],
   "source": [
    "best = []\n",
    "for i, sent in enumerate(tqdm(sents)):\n",
    "    sent_feat = get_feat([sent])\n",
    "    res = cosine_similarity(sent_feat, kpi_feat)\n",
    "    ix = np.unravel_index(res.argmax(), res.shape)\n",
    "    best.append([kpis[ix[1]], res.max()])\n",
    "sentdf = pd.DataFrame(best, index=sents, columns=[\"kpi\", \"score\"])\n",
    "sentdf.to_pickle(\"sentdf_gran\")"
   ]
  },
  {
   "cell_type": "markdown",
   "id": "16cec6f0",
   "metadata": {},
   "source": [
    "# ngram embedding"
   ]
  },
  {
   "cell_type": "code",
   "execution_count": 7,
   "id": "3dded7e7",
   "metadata": {},
   "outputs": [
    {
     "name": "stderr",
     "output_type": "stream",
     "text": [
      "[cellevents:43:INFO]:starting (time=Jul-06 17:36 MainProcess)\n"
     ]
    },
    {
     "data": {
      "application/vnd.jupyter.widget-view+json": {
       "model_id": "4a690a5fb0264e9fb35b626e03f16a39",
       "version_major": 2,
       "version_minor": 0
      },
      "text/plain": [
       "  0%|          | 0/126 [00:00<?, ?it/s]"
      ]
     },
     "metadata": {},
     "output_type": "display_data"
    },
    {
     "name": "stdout",
     "output_type": "stream",
     "text": [
      "time: 26min 16s\n"
     ]
    },
    {
     "data": {
      "text/html": [
       "\n",
       "                <audio  controls=\"controls\" autoplay=\"autoplay\">\n",
       "                    <source src=\"data:audio/wav;base64,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\" type=\"audio/wav\" />\n",
       "                    Your browser does not support the audio element.\n",
       "                </audio>\n",
       "              "
      ],
      "text/plain": [
       "<IPython.lib.display.Audio object>"
      ]
     },
     "metadata": {},
     "output_type": "display_data"
    },
    {
     "data": {
      "text/html": [
       "<style>audio{display:none}</style>"
      ],
      "text/plain": [
       "<IPython.core.display.HTML object>"
      ]
     },
     "metadata": {},
     "output_type": "display_data"
    }
   ],
   "source": [
    "best = []\n",
    "for i, sent in enumerate(tqdm(sents)):\n",
    "    ngrams = get_ngrams(sent, 5)\n",
    "    ngram_feat = get_feat(ngrams)\n",
    "    res = cosine_similarity(ngram_feat, kpi_feat)\n",
    "    ix = np.unravel_index(res.argmax(), res.shape)\n",
    "    best.append([ngrams[ix[0]], kpis[ix[1]], res.max()])\n",
    "ngramdf = pd.DataFrame(best, index=sents, columns=[\"ngram\", \"kpi\", \"score\"])\n",
    "ngramdf.to_pickle(\"ngramdf_gran\")"
   ]
  },
  {
   "cell_type": "code",
   "execution_count": 8,
   "id": "0d9cfd86",
   "metadata": {},
   "outputs": [
    {
     "name": "stderr",
     "output_type": "stream",
     "text": [
      "[cellevents:43:INFO]:starting (time=Jul-06 18:34 MainProcess)\n"
     ]
    },
    {
     "data": {
      "text/plain": [
       "<AxesSubplot:>"
      ]
     },
     "execution_count": 8,
     "metadata": {},
     "output_type": "execute_result"
    },
    {
     "data": {
      "image/png": "[encoded data removed]",
      "text/plain": [
       "<Figure size 432x288 with 1 Axes>"
      ]
     },
     "metadata": {
      "needs_background": "light"
     },
     "output_type": "display_data"
    },
    {
     "name": "stdout",
     "output_type": "stream",
     "text": [
      "time: 1.59 s\n"
     ]
    }
   ],
   "source": [
    "ngramdf.score.hist()"
   ]
  },
  {
   "cell_type": "code",
   "execution_count": 9,
   "id": "beebaf2a",
   "metadata": {},
   "outputs": [
    {
     "name": "stderr",
     "output_type": "stream",
     "text": [
      "[cellevents:43:INFO]:starting (time=Jul-06 18:34 MainProcess)\n"
     ]
    },
    {
     "data": {
      "text/html": [
       "<div>\n",
       "<style scoped>\n",
       "    .dataframe tbody tr th:only-of-type {\n",
       "        vertical-align: middle;\n",
       "    }\n",
       "\n",
       "    .dataframe tbody tr th {\n",
       "        vertical-align: top;\n",
       "    }\n",
       "\n",
       "    .dataframe thead th {\n",
       "        text-align: right;\n",
       "    }\n",
       "</style>\n",
       "<table border=\"1\" class=\"dataframe\">\n",
       "  <thead>\n",
       "    <tr style=\"text-align: right;\">\n",
       "      <th></th>\n",
       "      <th>ngram</th>\n",
       "      <th>kpi</th>\n",
       "      <th>score</th>\n",
       "    </tr>\n",
       "  </thead>\n",
       "  <tbody>\n",
       "    <tr>\n",
       "      <th>to reduce our environmental footprint, we utilise 7d virtual design construction (vdc), system formwork and industrialised building system (ibs), all of which help to reduce construction waste**.</th>\n",
       "      <td>help to reduce construction waste</td>\n",
       "      <td>particulate matter</td>\n",
       "      <td>0.601175</td>\n",
       "    </tr>\n",
       "    <tr>\n",
       "      <th>instead of disposing of the oil after first use, we filter the used oil and use it for topping up, a:: transforming our portfolios to low-carbon sustainable cities which reduces the amount of new oil required.</th>\n",
       "      <td>and use it for topping</td>\n",
       "      <td>percentage of products purchased locally</td>\n",
       "      <td>0.645366</td>\n",
       "    </tr>\n",
       "    <tr>\n",
       "      <th>taken together, these measures help us reduce the carbon_footprint of our glazed balconies by 30 percent -from 5,000 kg co, to 3,500 kg co,e-while also reducing the repayment period on the climate debt.</th>\n",
       "      <td>repayment period on the</td>\n",
       "      <td>net revenues (for public sector)</td>\n",
       "      <td>0.705366</td>\n",
       "    </tr>\n",
       "    <tr>\n",
       "      <th>for the 2020-2024 period, the company has set itself the new challenge of increasing its installed capacity by nearly 50%, adding 5,000 renewable mw to its current figures.</th>\n",
       "      <td>000 renewable mw</td>\n",
       "      <td>ratio of energy intensity of the organization</td>\n",
       "      <td>0.789870</td>\n",
       "    </tr>\n",
       "    <tr>\n",
       "      <th>our strategic partnership with goodfuels/wartsila led to our boskalis on bio program, which delivered a world first for us when our willem van oranje became the first dredging vessel in the world to operate on 100% bio-fuel oil, allowing a 90% carbon reduction.</th>\n",
       "      <td>fuel oil allowing a 90</td>\n",
       "      <td>total fuel consumption from renewable sources</td>\n",
       "      <td>0.797047</td>\n",
       "    </tr>\n",
       "    <tr>\n",
       "      <th>taking the tolerance values of the measuring system as a reference, it is estimated that they have managed to reduce the emission between 50% and 60%, which would be equivalent to more than 4,000 tonnes of co2.</th>\n",
       "      <td>emission</td>\n",
       "      <td>hazardous air pollutants</td>\n",
       "      <td>0.809274</td>\n",
       "    </tr>\n",
       "    <tr>\n",
       "      <th>the initiative also demands footprint and yn sd th decentralises farming by ensuring every urban farm is within 5 km of the local_communities, reducing the food miles higher yield distance from farm to plate and eventually lowering consumers carbon_footprint.</th>\n",
       "      <td>the local communities</td>\n",
       "      <td>percentage of senior management from local com...</td>\n",
       "      <td>0.813576</td>\n",
       "    </tr>\n",
       "    <tr>\n",
       "      <th>saved 380k of fuel, which can be used by 8,640 dump trucks effectiveness reduced coz emission by 980t transporting earth dug out from the site and other materials resulted in significant decrease along with greater effective- ness in safety due to the decline in the number of rounds made by vehicles.</th>\n",
       "      <td>saved 380k of fuel</td>\n",
       "      <td>amount of energy consumption reduced</td>\n",
       "      <td>0.824406</td>\n",
       "    </tr>\n",
       "    <tr>\n",
       "      <th>tree planting can help cool down cities by as much as 15c depending on the latitude-a small tree of not more than four meters tall is able to provide about 6 kw of cooling.</th>\n",
       "      <td>about 6 kw of cooling</td>\n",
       "      <td>total cooling energy sold</td>\n",
       "      <td>0.827585</td>\n",
       "    </tr>\n",
       "    <tr>\n",
       "      <th>a forest plantation managed by new forests in australia our company-owned forests, mitsuis forests, absorb and fixate 160,000 tons of carbon dioxide annually it is estimated that the carbon dioxide absorbed and fixated by mitsuis forests amounts to approximately 160,000 tons per year, and co2 accumulation has reached approximately 10 million tons*'.</th>\n",
       "      <td>managed by new forests in</td>\n",
       "      <td>size of habitat areas protected</td>\n",
       "      <td>0.844047</td>\n",
       "    </tr>\n",
       "    <tr>\n",
       "      <th>the tools are used by 25% of our oem suppliers to set energy improvement targets.</th>\n",
       "      <td>to set energy</td>\n",
       "      <td>ratio of energy intensity of the organization</td>\n",
       "      <td>0.857205</td>\n",
       "    </tr>\n",
       "    <tr>\n",
       "      <th>we also converted to 100% renewable_energy at the lixil headquarters, kyoto showroom, and inax museums, achieving an annual carbon reduction of 2,000 metric tons.</th>\n",
       "      <td>renewable energy at the lixil</td>\n",
       "      <td>ratio of energy intensity of the organization</td>\n",
       "      <td>0.860087</td>\n",
       "    </tr>\n",
       "    <tr>\n",
       "      <th>our zero landfill program has the objective to reduce the amount of waste sent to landfll or incinerated without energy recovery.</th>\n",
       "      <td>without energy recovery</td>\n",
       "      <td>amount of energy consumption reduced</td>\n",
       "      <td>0.860988</td>\n",
       "    </tr>\n",
       "    <tr>\n",
       "      <th>the amount of fossil-based electricity has been reduced by 91 percent since 2015.</th>\n",
       "      <td>based electricity has</td>\n",
       "      <td>total electricity sold</td>\n",
       "      <td>0.864035</td>\n",
       "    </tr>\n",
       "    <tr>\n",
       "      <th>our performance to the end of 2019/20 as of 2019/20 absolute carbon_emissions were 8% lower than our 2010/11 baseline and despite significant growth in our business our carbon intensity/employee also reduced by 46%.</th>\n",
       "      <td>absolute carbon emissions were</td>\n",
       "      <td>emissions in base year</td>\n",
       "      <td>0.872666</td>\n",
       "    </tr>\n",
       "    <tr>\n",
       "      <th>progress on climate action acciona met its emissions reduction targets in 2020, reducing scope 1 and 2 by 38% compared to 2017 and scope 3 by 33% for suppliers.</th>\n",
       "      <td>emissions reduction targets in</td>\n",
       "      <td>emissions in base year</td>\n",
       "      <td>0.886184</td>\n",
       "    </tr>\n",
       "    <tr>\n",
       "      <th>waste_reduction: 71,670 tons/year sugar cane residue (bagasse) from a sugar manufacturing business operated jointly by mitsui and mitsui sugar co. in thailand is used as fuel for biomass power generation, and the electric power is used for the operation of its plants with surplus electric power being sold, contributing to an increase in the use of renewable_energy in thailand.</th>\n",
       "      <td>use of renewable energy in</td>\n",
       "      <td>amount of energy consumption reduced</td>\n",
       "      <td>0.887043</td>\n",
       "    </tr>\n",
       "    <tr>\n",
       "      <th>this includes materials such as autoclaved aerated concrete, which is a lightweight, precast, foam concrete building material that helps reduce at least 30% in industrial waste, 50% in greenhouse radiation and over 60% of integrated energy on the surface of bricks.</th>\n",
       "      <td>integrated energy on the surface</td>\n",
       "      <td>ratio of energy intensity of the organization</td>\n",
       "      <td>0.888046</td>\n",
       "    </tr>\n",
       "    <tr>\n",
       "      <th>in fye 2020, it reduced steam use by 44%, equivalent to 1,089 metric tons of co,.</th>\n",
       "      <td>reduced steam use</td>\n",
       "      <td>total steam consumption</td>\n",
       "      <td>0.892530</td>\n",
       "    </tr>\n",
       "    <tr>\n",
       "      <th>e increase the proportion of renewable_energy for our operations to 65% by 2025.</th>\n",
       "      <td>proportion of renewable energy</td>\n",
       "      <td>amount of energy consumption reduced</td>\n",
       "      <td>0.892539</td>\n",
       "    </tr>\n",
       "    <tr>\n",
       "      <th>in stages, we intend to lower coal-fired thermal power as a percentage of our equity share of power generation capacity and increase the percentage of renewable_energy, including hydropower, to 30% by 2030.</th>\n",
       "      <td>thermal power as a percentage</td>\n",
       "      <td>amount of energy consumption reduced</td>\n",
       "      <td>0.892715</td>\n",
       "    </tr>\n",
       "    <tr>\n",
       "      <th>340 locomotives hydroelectric power, accounted for approximately 14% of mitsuis total power generating capacity of locomotive leasing busirress europe 11.1gw, and we are aiming to increase the share held by renewable_energy to 30% by 2030. freight wagon transportation business brazil operating a railway network of approx.</th>\n",
       "      <td>total power generating</td>\n",
       "      <td>total electricity sold</td>\n",
       "      <td>0.897179</td>\n",
       "    </tr>\n",
       "    <tr>\n",
       "      <th>key priorities and progress 2020 in 2020, electrolux launched the 'for the better 2030' sustainability framework, including the objective to make our business circular and climate neutral by 2030. this new target complements our science-based target to reduce our scope land 2_emissions by 80% between 2015 and 2025. read more about our climate targets.</th>\n",
       "      <td>emissions by</td>\n",
       "      <td>emissions in base year</td>\n",
       "      <td>0.897627</td>\n",
       "    </tr>\n",
       "    <tr>\n",
       "      <th>we also trialed selective catalytic reduction (scr); in 2021, partly as a result of this trial, we expect to be able to reduce nitrogen_emissions by nearly 90% by installing scr technology on two of our trailing suction hopper dredgers.</th>\n",
       "      <td>emissions by nearly</td>\n",
       "      <td>emissions in base year</td>\n",
       "      <td>0.898212</td>\n",
       "    </tr>\n",
       "    <tr>\n",
       "      <th>our two shorter-term company targets act as stepping stones to our long-term ambitions: e our science-based target-aims to reduce our scope_1 and 2_emissions by 80% between 2015 and 2025, and the absolute scope 5_emissions from the use of our sold products by 25% during the same time period.</th>\n",
       "      <td>scope 5 emissions from the</td>\n",
       "      <td>Scope 2 GHG emissions of CO2 equivalent</td>\n",
       "      <td>0.898481</td>\n",
       "    </tr>\n",
       "  </tbody>\n",
       "</table>\n",
       "</div>"
      ],
      "text/plain": [
       "                                                                                ngram  \\\n",
       "to reduce our environmental footprint, we utili...  help to reduce construction waste   \n",
       "instead of disposing of the oil after first use...             and use it for topping   \n",
       "taken together, these measures help us reduce t...            repayment period on the   \n",
       "for the 2020-2024 period, the company has set i...                   000 renewable mw   \n",
       "our strategic partnership with goodfuels/wartsi...             fuel oil allowing a 90   \n",
       "taking the tolerance values of the measuring sy...                           emission   \n",
       "the initiative also demands footprint and yn sd...              the local communities   \n",
       "saved 380k of fuel, which can be used by 8,640 ...                 saved 380k of fuel   \n",
       "tree planting can help cool down cities by as m...              about 6 kw of cooling   \n",
       "a forest plantation managed by new forests in a...          managed by new forests in   \n",
       "the tools are used by 25% of our oem suppliers ...                      to set energy   \n",
       "we also converted to 100% renewable_energy at t...      renewable energy at the lixil   \n",
       "our zero landfill program has the objective to ...            without energy recovery   \n",
       "the amount of fossil-based electricity has been...              based electricity has   \n",
       "our performance to the end of 2019/20 as of 201...     absolute carbon emissions were   \n",
       "progress on climate action acciona met its emis...     emissions reduction targets in   \n",
       "waste_reduction: 71,670 tons/year sugar cane re...         use of renewable energy in   \n",
       "this includes materials such as autoclaved aera...   integrated energy on the surface   \n",
       "in fye 2020, it reduced steam use by 44%, equiv...                  reduced steam use   \n",
       "e increase the proportion of renewable_energy f...     proportion of renewable energy   \n",
       "in stages, we intend to lower coal-fired therma...      thermal power as a percentage   \n",
       "340 locomotives hydroelectric power, accounted ...             total power generating   \n",
       "key priorities and progress 2020 in 2020, elect...                       emissions by   \n",
       "we also trialed selective catalytic reduction (...                emissions by nearly   \n",
       "our two shorter-term company targets act as ste...         scope 5 emissions from the   \n",
       "\n",
       "                                                                                                  kpi  \\\n",
       "to reduce our environmental footprint, we utili...                                 particulate matter   \n",
       "instead of disposing of the oil after first use...           percentage of products purchased locally   \n",
       "taken together, these measures help us reduce t...                   net revenues (for public sector)   \n",
       "for the 2020-2024 period, the company has set i...      ratio of energy intensity of the organization   \n",
       "our strategic partnership with goodfuels/wartsi...      total fuel consumption from renewable sources   \n",
       "taking the tolerance values of the measuring sy...                           hazardous air pollutants   \n",
       "the initiative also demands footprint and yn sd...  percentage of senior management from local com...   \n",
       "saved 380k of fuel, which can be used by 8,640 ...               amount of energy consumption reduced   \n",
       "tree planting can help cool down cities by as m...                          total cooling energy sold   \n",
       "a forest plantation managed by new forests in a...                    size of habitat areas protected   \n",
       "the tools are used by 25% of our oem suppliers ...      ratio of energy intensity of the organization   \n",
       "we also converted to 100% renewable_energy at t...      ratio of energy intensity of the organization   \n",
       "our zero landfill program has the objective to ...               amount of energy consumption reduced   \n",
       "the amount of fossil-based electricity has been...                             total electricity sold   \n",
       "our performance to the end of 2019/20 as of 201...                             emissions in base year   \n",
       "progress on climate action acciona met its emis...                             emissions in base year   \n",
       "waste_reduction: 71,670 tons/year sugar cane re...               amount of energy consumption reduced   \n",
       "this includes materials such as autoclaved aera...      ratio of energy intensity of the organization   \n",
       "in fye 2020, it reduced steam use by 44%, equiv...                            total steam consumption   \n",
       "e increase the proportion of renewable_energy f...               amount of energy consumption reduced   \n",
       "in stages, we intend to lower coal-fired therma...               amount of energy consumption reduced   \n",
       "340 locomotives hydroelectric power, accounted ...                             total electricity sold   \n",
       "key priorities and progress 2020 in 2020, elect...                             emissions in base year   \n",
       "we also trialed selective catalytic reduction (...                             emissions in base year   \n",
       "our two shorter-term company targets act as ste...            Scope 2 GHG emissions of CO2 equivalent   \n",
       "\n",
       "                                                       score  \n",
       "to reduce our environmental footprint, we utili...  0.601175  \n",
       "instead of disposing of the oil after first use...  0.645366  \n",
       "taken together, these measures help us reduce t...  0.705366  \n",
       "for the 2020-2024 period, the company has set i...  0.789870  \n",
       "our strategic partnership with goodfuels/wartsi...  0.797047  \n",
       "taking the tolerance values of the measuring sy...  0.809274  \n",
       "the initiative also demands footprint and yn sd...  0.813576  \n",
       "saved 380k of fuel, which can be used by 8,640 ...  0.824406  \n",
       "tree planting can help cool down cities by as m...  0.827585  \n",
       "a forest plantation managed by new forests in a...  0.844047  \n",
       "the tools are used by 25% of our oem suppliers ...  0.857205  \n",
       "we also converted to 100% renewable_energy at t...  0.860087  \n",
       "our zero landfill program has the objective to ...  0.860988  \n",
       "the amount of fossil-based electricity has been...  0.864035  \n",
       "our performance to the end of 2019/20 as of 201...  0.872666  \n",
       "progress on climate action acciona met its emis...  0.886184  \n",
       "waste_reduction: 71,670 tons/year sugar cane re...  0.887043  \n",
       "this includes materials such as autoclaved aera...  0.888046  \n",
       "in fye 2020, it reduced steam use by 44%, equiv...  0.892530  \n",
       "e increase the proportion of renewable_energy f...  0.892539  \n",
       "in stages, we intend to lower coal-fired therma...  0.892715  \n",
       "340 locomotives hydroelectric power, accounted ...  0.897179  \n",
       "key priorities and progress 2020 in 2020, elect...  0.897627  \n",
       "we also trialed selective catalytic reduction (...  0.898212  \n",
       "our two shorter-term company targets act as ste...  0.898481  "
      ]
     },
     "execution_count": 9,
     "metadata": {},
     "output_type": "execute_result"
    },
    {
     "name": "stdout",
     "output_type": "stream",
     "text": [
      "time: 140 ms\n"
     ]
    }
   ],
   "source": [
    "ngramdf.sort_values(\"score\")[:25]"
   ]
  },
  {
   "cell_type": "code",
   "execution_count": 10,
   "id": "525a16d3",
   "metadata": {},
   "outputs": [
    {
     "name": "stderr",
     "output_type": "stream",
     "text": [
      "[cellevents:43:INFO]:starting (time=Jul-06 18:35 MainProcess)\n"
     ]
    },
    {
     "data": {
      "text/html": [
       "<div>\n",
       "<style scoped>\n",
       "    .dataframe tbody tr th:only-of-type {\n",
       "        vertical-align: middle;\n",
       "    }\n",
       "\n",
       "    .dataframe tbody tr th {\n",
       "        vertical-align: top;\n",
       "    }\n",
       "\n",
       "    .dataframe thead th {\n",
       "        text-align: right;\n",
       "    }\n",
       "</style>\n",
       "<table border=\"1\" class=\"dataframe\">\n",
       "  <thead>\n",
       "    <tr style=\"text-align: right;\">\n",
       "      <th></th>\n",
       "      <th>ngram</th>\n",
       "      <th>kpi</th>\n",
       "      <th>kpi_sent</th>\n",
       "      <th>score</th>\n",
       "      <th>score_sent</th>\n",
       "    </tr>\n",
       "  </thead>\n",
       "  <tbody>\n",
       "    <tr>\n",
       "      <th>62.2% use of electricity from renewable_sources achieved and total energy consumption from fossil fuel sources reduced by 86% compared to 2017.</th>\n",
       "      <td>total energy consumption from</td>\n",
       "      <td>amount of energy consumption reduced</td>\n",
       "      <td>total fuel consumption from renewable sources</td>\n",
       "      <td>0.978319</td>\n",
       "      <td>0.939723</td>\n",
       "    </tr>\n",
       "    <tr>\n",
       "      <th>at present, the energy expenditure has been reduced by 15%.</th>\n",
       "      <td>at present the energy expenditure</td>\n",
       "      <td>ratio of energy intensity of the organization</td>\n",
       "      <td>ratio of energy intensity of the organization</td>\n",
       "      <td>0.911764</td>\n",
       "      <td>0.873416</td>\n",
       "    </tr>\n",
       "    <tr>\n",
       "      <th>170 business leaders call on eu decision-makers to support a greenhouse gas (ghg) emissions reduction target of at least 55% by 2030.</th>\n",
       "      <td>ghg emissions reduction</td>\n",
       "      <td>co2 equivalent of GHG emissions reduced</td>\n",
       "      <td>Scope 2 GHG emissions of CO2 equivalent</td>\n",
       "      <td>0.975801</td>\n",
       "      <td>0.932535</td>\n",
       "    </tr>\n",
       "    <tr>\n",
       "      <th>taking the tolerance values of the measuring system as a reference, it is estimated that they have managed to reduce the emission between 50% and 60%, which would be equivalent to more than 4,000 tonnes of co2.</th>\n",
       "      <td>emission</td>\n",
       "      <td>hazardous air pollutants</td>\n",
       "      <td>hazardous air pollutants</td>\n",
       "      <td>0.809274</td>\n",
       "      <td>0.701077</td>\n",
       "    </tr>\n",
       "    <tr>\n",
       "      <th>with the help of energy management, the division aims to reduce energy consumption by 1000 mwh compared to the 2020 financial year.</th>\n",
       "      <td>aims to reduce energy consumption</td>\n",
       "      <td>amount of energy consumption reduced</td>\n",
       "      <td>amount of energy consumption reduced</td>\n",
       "      <td>0.978834</td>\n",
       "      <td>0.929263</td>\n",
       "    </tr>\n",
       "    <tr>\n",
       "      <th>...</th>\n",
       "      <td>...</td>\n",
       "      <td>...</td>\n",
       "      <td>...</td>\n",
       "      <td>...</td>\n",
       "      <td>...</td>\n",
       "    </tr>\n",
       "    <tr>\n",
       "      <th>a forest plantation managed by new forests in australia our company-owned forests, mitsuis forests, absorb and fixate 160,000 tons of carbon dioxide annually it is estimated that the carbon dioxide absorbed and fixated by mitsuis forests amounts to approximately 160,000 tons per year, and co2 accumulation has reached approximately 10 million tons*'.</th>\n",
       "      <td>managed by new forests in</td>\n",
       "      <td>size of habitat areas protected</td>\n",
       "      <td>co2 equivalent of GHG emissions reduced</td>\n",
       "      <td>0.844047</td>\n",
       "      <td>0.678101</td>\n",
       "    </tr>\n",
       "    <tr>\n",
       "      <th>waste_reduction, recycling business initiatives relating to a circular economy 3r design, reduce our partner gestamp automocidn s.a. contributes to energy_efficiency improvement of vehicles on a global basis by designing and supplying light weight parts that are 100% recyclable.</th>\n",
       "      <td>contributes to energy efficiency</td>\n",
       "      <td>amount of energy consumption reduced</td>\n",
       "      <td>percentage of recycled materials used in manuf...</td>\n",
       "      <td>0.937109</td>\n",
       "      <td>0.771686</td>\n",
       "    </tr>\n",
       "    <tr>\n",
       "      <th>waste_reduction: 71,670 tons/year sugar cane residue (bagasse) from a sugar manufacturing business operated jointly by mitsui and mitsui sugar co. in thailand is used as fuel for biomass power generation, and the electric power is used for the operation of its plants with surplus electric power being sold, contributing to an increase in the use of renewable_energy in thailand.</th>\n",
       "      <td>use of renewable energy in</td>\n",
       "      <td>amount of energy consumption reduced</td>\n",
       "      <td>total heating energy sold</td>\n",
       "      <td>0.887043</td>\n",
       "      <td>0.732388</td>\n",
       "    </tr>\n",
       "    <tr>\n",
       "      <th>the amount of fossil-based electricity has been reduced by 91 percent since 2015.</th>\n",
       "      <td>based electricity has</td>\n",
       "      <td>total electricity sold</td>\n",
       "      <td>total electricity sold</td>\n",
       "      <td>0.864035</td>\n",
       "      <td>0.865381</td>\n",
       "    </tr>\n",
       "    <tr>\n",
       "      <th>since 2015, use has been reduced by 26 percent, due largely to the continued conversion to biofuels in th ghg_emissions from nccs operations e swedish asphalt plants.</th>\n",
       "      <td>ghg emissions from nccs</td>\n",
       "      <td>co2 equivalent of GHG emissions reduced</td>\n",
       "      <td>Scope 2 GHG emissions of CO2 equivalent</td>\n",
       "      <td>0.980631</td>\n",
       "      <td>0.928353</td>\n",
       "    </tr>\n",
       "  </tbody>\n",
       "</table>\n",
       "<p>126 rows × 5 columns</p>\n",
       "</div>"
      ],
      "text/plain": [
       "                                                                                ngram  \\\n",
       "62.2% use of electricity from renewable_sources...      total energy consumption from   \n",
       "at present, the energy expenditure has been red...  at present the energy expenditure   \n",
       "170 business leaders call on eu decision-makers...            ghg emissions reduction   \n",
       "taking the tolerance values of the measuring sy...                           emission   \n",
       "with the help of energy management, the divisio...  aims to reduce energy consumption   \n",
       "...                                                                               ...   \n",
       "a forest plantation managed by new forests in a...          managed by new forests in   \n",
       "waste_reduction, recycling business initiatives...   contributes to energy efficiency   \n",
       "waste_reduction: 71,670 tons/year sugar cane re...         use of renewable energy in   \n",
       "the amount of fossil-based electricity has been...              based electricity has   \n",
       "since 2015, use has been reduced by 26 percent,...            ghg emissions from nccs   \n",
       "\n",
       "                                                                                              kpi  \\\n",
       "62.2% use of electricity from renewable_sources...           amount of energy consumption reduced   \n",
       "at present, the energy expenditure has been red...  ratio of energy intensity of the organization   \n",
       "170 business leaders call on eu decision-makers...        co2 equivalent of GHG emissions reduced   \n",
       "taking the tolerance values of the measuring sy...                       hazardous air pollutants   \n",
       "with the help of energy management, the divisio...           amount of energy consumption reduced   \n",
       "...                                                                                           ...   \n",
       "a forest plantation managed by new forests in a...                size of habitat areas protected   \n",
       "waste_reduction, recycling business initiatives...           amount of energy consumption reduced   \n",
       "waste_reduction: 71,670 tons/year sugar cane re...           amount of energy consumption reduced   \n",
       "the amount of fossil-based electricity has been...                         total electricity sold   \n",
       "since 2015, use has been reduced by 26 percent,...        co2 equivalent of GHG emissions reduced   \n",
       "\n",
       "                                                                                             kpi_sent  \\\n",
       "62.2% use of electricity from renewable_sources...      total fuel consumption from renewable sources   \n",
       "at present, the energy expenditure has been red...      ratio of energy intensity of the organization   \n",
       "170 business leaders call on eu decision-makers...            Scope 2 GHG emissions of CO2 equivalent   \n",
       "taking the tolerance values of the measuring sy...                           hazardous air pollutants   \n",
       "with the help of energy management, the divisio...               amount of energy consumption reduced   \n",
       "...                                                                                               ...   \n",
       "a forest plantation managed by new forests in a...            co2 equivalent of GHG emissions reduced   \n",
       "waste_reduction, recycling business initiatives...  percentage of recycled materials used in manuf...   \n",
       "waste_reduction: 71,670 tons/year sugar cane re...                          total heating energy sold   \n",
       "the amount of fossil-based electricity has been...                             total electricity sold   \n",
       "since 2015, use has been reduced by 26 percent,...            Scope 2 GHG emissions of CO2 equivalent   \n",
       "\n",
       "                                                       score  score_sent  \n",
       "62.2% use of electricity from renewable_sources...  0.978319    0.939723  \n",
       "at present, the energy expenditure has been red...  0.911764    0.873416  \n",
       "170 business leaders call on eu decision-makers...  0.975801    0.932535  \n",
       "taking the tolerance values of the measuring sy...  0.809274    0.701077  \n",
       "with the help of energy management, the divisio...  0.978834    0.929263  \n",
       "...                                                      ...         ...  \n",
       "a forest plantation managed by new forests in a...  0.844047    0.678101  \n",
       "waste_reduction, recycling business initiatives...  0.937109    0.771686  \n",
       "waste_reduction: 71,670 tons/year sugar cane re...  0.887043    0.732388  \n",
       "the amount of fossil-based electricity has been...  0.864035    0.865381  \n",
       "since 2015, use has been reduced by 26 percent,...  0.980631    0.928353  \n",
       "\n",
       "[126 rows x 5 columns]"
      ]
     },
     "execution_count": 10,
     "metadata": {},
     "output_type": "execute_result"
    },
    {
     "name": "stdout",
     "output_type": "stream",
     "text": [
      "time: 472 ms\n"
     ]
    }
   ],
   "source": [
    "out = ngramdf.join(sentdf, rsuffix=\"_sent\")[[\"ngram\", \"kpi\", \"kpi_sent\", \"score\", \"score_sent\"]]\n",
    "out.to_excel(\"sent_ngram_gran.xlsx\")\n",
    "out"
   ]
  },
  {
   "cell_type": "markdown",
   "id": "8e3df60e",
   "metadata": {},
   "source": [
    "# ngrams with granular kpis"
   ]
  },
  {
   "cell_type": "markdown",
   "id": "8db806f4",
   "metadata": {},
   "source": [
    "# multi-kpi per sentence"
   ]
  },
  {
   "cell_type": "code",
   "execution_count": 147,
   "id": "6cb93c1c",
   "metadata": {},
   "outputs": [
    {
     "name": "stderr",
     "output_type": "stream",
     "text": [
      "[cellevents:43:INFO]:starting (time=Jul-06 15:52 MainProcess)\n"
     ]
    },
    {
     "name": "stdout",
     "output_type": "stream",
     "text": [
      "time: 30.7 s\n"
     ]
    },
    {
     "data": {
      "text/html": [
       "\n",
       "                <audio  controls=\"controls\" autoplay=\"autoplay\">\n",
       "                    <source src=\"data:audio/wav;base64,UklGRl4RAABXQVZFZm10IBAAAAABAAEARKwAAIhYAQACABAAZGF0YToRAAAAAHgF7gpgEMkVKBt7IL4l8CoNMBQ1AjrVPotDIUiVTOZQEFUTWexcmmAaZGxnjWp8bThwv3IRdSx3D3m6eit8Yn1efh9/pX/uf/x/zn9lf79+333DfG173XkUeBN223Ntcclu8mvoaKxlQmKpXuRa9VbcUp1OOkqzRQxBRjxkN2kyVS0tKPEiph1MGOcSeQ0FCI0CFf2e9yryvOxY5//htdx711PSQc1HyGfDpL7/uXq1GbHcrMeo2qQYoYKdG5rjltyTCJFojv2LyYnLhwaGeoQogxGCNIGSgC2AA4AVgGOA7ICxgbGC7INhhQ+H9ogVi2qN9Y+1kqeVzJggnKSfVKMwpzWrY6+1syy4xLx8wVHGQctJ0GjVm9rg3zPlk+r972/15fpdANYFTAu8ECUWgxvVIBcmSCtkMGk1VjonP9pDbkjgTC5RVlVWWSxd12BUZKNnwGqsbWVw6XI3dU53LXnUekF8dH1tfip/q3/xf/t/yX9cf7J+zn2ufFR7wXn0d+91s3NBcZpuv2uyaHRlBmJqXqJasFaVUlRO7UllRbtA9DsQNxMy/izUJ5giSx3wF4sSHA2oBzACuPxA983xYOz95qXhW9wi1/zR7MzzxxXDU76xuS61z7CWrIOomaTaoEed4pmulquT2pA9jtaLpYmrh+qFYoQUgwCCJ4GKgCiAAoAYgGqA94DAgcWCA4R8hS6HGYk7i5SNIpDlktuVA5lbnOGflaNzp3yrq68BtHm4FL3OwaTGlsug0MHV9do64I/l7+pa8Mz1Qvu6ADMGqQsZEYEW3xsvIXAmnyu6ML41qTp4PypEu0grTXZRnFWZWWxdFGGOZNln9GrcbZFwEnNcdXB3S3nueld8h317fjR/sn/0f/p/xH9Sf6V+vH2ZfDt7pHnTd8t1i3MWcWtujWt8aDtlymErXmBaa1ZOUgpOoUkWRWtAoTu8Nr0xpix7Jz4i8ByVFy4SwAxLB9MBW/zj9nDxBOyh5krhAdzJ1qXRlsyfx8PCA75jueO0hrBPrD+oV6SboAydqpl5lnmTrJATjq+LgomMh86FSoQAg/CBG4GBgCSAAoAcgHGAA4HQgdiCG4SXhU2HO4lhi76NUJAWkxCWOpmVnB+g1aO3p8Kr9K9MtMe4ZL0fwvjG68v30BnWTtuV4OrlS+u38Cn2oPsYAZAGBgx1Ed0WOhyJIckm9ysQMRM2/DrJP3lECEl1Tb5R4VXcWaxdUWHIZBBoJ2sMbr5wOnOBdZF3aXkIe218mX2Jfj5/uH/2f/h/vn9If5d+q32DfCJ7hnmyd6Z1Y3PqcDxuWmtGaAFljWHsXR5aJlYGUsBNVUnHRBpATztnNmcxTywiJ+QhlRw5F9IRYwztBnUB/fuG9hPxqOtF5u/gqNtx1k7RQcxMx3HCs70VuZe0PbAIrPunFqRdoNCccplElkiTfpDojYiLXolsh7OFMoTsguCBD4F5gB+AAYAfgHmAD4HggeyCMoSzhWyHXomIi+iNfpBIk0SWcpnQnF2gFqT7pwisPbCXtBW5s71xwkzHQcxO0XHWqNvv4EXmqOsT8Yb2/ft1Ae0GYwzSETkXlRzkISInTyxnMWc2TzsaQMdEVUnATQZSJlYeWuxdjWEBZUZoWms8bupwY3OmdbJ3hnkie4N8q32Xfkh/vn/4f/Z/uH8+f4l+mX1tfAh7aXmRd4F1OnO+cAxuJ2sQaMhkUWGsXdxZ4VW+UXVNCEl5RMk//DoTNhAx9yvJJokhOhzdFnURBgyQBhgBoPsp9rfwS+vq5ZXgTtsZ1vfQ68v4xh/CZL3HuEy09K/Cq7en1aMfoJWcOpkQlhaTUJC+jWGLO4lNh5eFG4TYgtCBA4FxgByAAoAkgIGAG4HwgQCDSoTOhYyHgomvixOOrJB5k3mWqpkMnZugV6Q/qE+shrDjtGO5A77Dwp/Hlsyl0cnWAdxK4aHmBOxw8eP2W/zTAUsHwAwuEpUX8Bw+Insnpiy9Mbw2oTtrQBZFoUkKTk5Sa1ZgWiteymE7ZXxojWtrbhZxi3PLddN3pHk7e5l8vH2lflJ/xH/6f/R/sn80f3t+h31XfO56S3lwd1x1EnORcNxt9GrZZ45kFGFsXZlZnFV2UStNu0gqRHg/qTq+NbownytwJi8h3xuBFhkRqQszBroAQvvM9Vrw7+qP5Trg9drB1aDQlsukxs7BFL15uAG0q698q3OnlaPhn1ucA5nbleWSIpCUjTuLGYkuh3yFA4TFgsCB94BqgBiAAoAogIqAJ4EAghSDYoTqhauHpYnWiz2O2pCrk66W4plHndqgmaSDqJasz7AutbG5U74Vw/PH7Mz80SLXW9yl4f3mYOzN8UD3uPwwAqgHHA2LEvAXSx2YItQn/iwTMhA39Du7QGVF7UlUTpVSsFaiWmpeBmJ0ZbJov2uabkFxs3PvdfR3wXlUe658zn2yflx/yX/7f/F/q38qf21+dH1BfNR6LXlOdzd16XJlcKxtwGqjZ1Rk12AsXVZZVlUuUeBMbkjaQyc/VjppNWQwSCsXJtUggxslFrwQTAvWBV0A5fpv9f3vk+oz5eDfm9po1UnQQctRxnzBxLwsuLWzY681qzCnVKOknyCczJinlbWS9Y9qjRWL9ogPh2GF7IOxgrGB7IBjgBWAA4AtgJKANIERgiiDeoQGhsuHyYn9i2iOCJHck+OWG5qCnRih2qTHqNysGbF6tf+5pL5nw0fIQc1T0nvXtdz/4VjnvOwq8p73Ff2NAgUIeQ3nEkwYph3xIi0oVS1pMmQ3RjwMQbNFOkqdTtxS9VbkWqleQmKsZeho8mvJbm1x23MTdhR43Xlte8N8332/fmV/zn/8f+5/pX8ff15+Yn0rfLp6D3ksdxF1v3I4cHxtjWpsZxpkmmDsXBNZEFXmUJVMIUiLQ9U+AjoUNQ0w8Cq+JXsgKBvJFWAQ7gp4BQAAiPoS9aDvN+rY5IXfQtoQ1fPP7Mr+xSvBdbzft2uzGq/wqu2mFKNmn+ablJhzlYSSyI9Bje+K1IjxhkaF1YOegqKB4YBbgBKABIAygJuAQYEhgj2Dk4QjhuyH7YkljJOON5EOlBiXVJq+nVehHKULqSStY7HGtU269L66w5zIl82r0tPXD91a4rTnGe2H8vv3c/3rAmII1g1EE6gYAR5LI4UorS2/Mrk3mTxcQQFGhkrnTiRTOVcmW+hefmLlZR1pJGz4bphxA3Q3djV4+nmGe9h8733Mfm5/03/9f+t/nX8Uf09+T30UfJ968XgKd+t0lnILcEttWWo0Z+BjXGCsXNBYy1SdUEtM1Ec8Q4Q+rzm/NLcvmCplJSAgzRptFQMQkQobBaP/Kvq09ETv2+l95Cvf6dm41JzPl8qqxdnAJryStyCz0q6qqqqm1KIpn6ybXZhAlVSSm48XjcmKsojThiyFv4OMgpOB1oBVgA+ABYA3gKSAToEyglKDrIQ/hgyIEYpNjL+OZpFBlE6XjJr6nZahXqVQqWutrLETtpu6Rb8MxPDI7c0C0yzYaN214hDode3k8lj40P1IA8AIMw6gEwMZWx6lI94oBC4UMw046zytQU9G0koxT2pTfVdnWyZfuWIeZlJpVWwmb8NxKnRbdlV4Fnqee+x8AH7ZfnZ/2H/+f+h/ln8Jf0B+O339e4R60njndsV0bHLebxttJWr9ZqVjH2BrXI1YhFRVUP9Lh0fsQjI+XDlqNGAvPyoLJcYfcRoRFaYPNAq+BEb/zflX9Ofuf+kh5NHekNlh1EbPQspXxYjA1rtFt9Wyiq5kqmemlKLsnnKbJ5gMlSSSb4/ujKSKkIi1hhKFqYN5goWBzIBOgAyABoA8gK6AW4FEgmeDxYRchi2INYp1jOqOlZFzlISXxZo2ntWhoKWVqbKt9rFftuq6lb9fxETJQ85a04XYwt0Q42vo0u1A87X4Lf6lAx0JkA78E18Zth7/IzcpWy5qM2E4PT39QZ1GHUt6T7FTwVepW2Vf9GJWZodph2xUb+1xUXR+dnR4Mnq2ewB9EH7lfn9/3H/+f+R/j3/9fjB+KH3le2l6s3jFdp90QnKwb+ps8GnGZmtj4V8rXElYPlQMULRLOUecQuE9CDkVNAkv5ymyJGsfFhq1FEkP1wlgBOj+cPn684vuI+nG43feN9kJ1PDO7ckExTfAh7v4touyQq4fqiSmVKKvnjib8JfZlPSRQo/GjH+Kb4iXhviEk4NngneBwoBIgAqACIBCgLiAaYFVgn2D3oR6hk6IWoqdjBaPxJGmlLqX/5pznhSi4qXaqfqtQLKrtjm75r+xxJnJmc6x097YHN5r48foLu6d8xP5i/4DBHoJ7Q5YFLsZER9YJI8psi6/M7Q4jz1NQutGaUvDT/hTBVjqW6NfMGOOZrxpuGyCbxhyeHSidpR4TXrOexR9IH7xfod/4X//f+F/h3/xfiB+FH3Oe016lHiidnh0GHKCb7hsvGmOZjBjo1/qWwVY+FPDT2lL60ZNQo89tDi/M7IujylYJBEfuxlYFO0OegkDBIv+E/md8y7ux+hr4xze3tix05nOmcmxxOa/OburtkCy+q3aqeKlFKJznv+aupemlMSRFo+djFqKToh6ht6EfYNVgmmBuIBCgAiACoBIgMKAd4FngpOD+ISXhm+If4rGjEKP9JHZlPCXOJuvnlSiJKYfqkKui7L4toe7N8AExe3J8M4J1DfZd97G4yPpi+7683D56P5gBNcJSQ+1FBYaax+yJOcpCS8VNAg54T2cQjlHtEsMUD5USVgrXOFfa2PGZvBp6mywb0Jyn3TFdrN4aXrleyh9MH79fo9/5H/+f9x/f3/lfhB+AH22ezJ6dHh+dlF07XFUb4dsh2lWZvRiZV+pW8FXsVN6Tx1LnUb9QT09YThqM1suNyn/I7YeXxn8E5AOHQmlAy3+tfhA89Lta+gQ48Ldhdha00PORMlfxJW/6rpftvaxsq2VqaCl1aE2nsWahJdzlJWR6o51jDWKLYhchsWEZ4NEgluBroA8gAaADIBOgMyAhYF5gqmDEoW1hpCIpIrujG+PJJIMlSeYcpvsnpSiZ6Zkqoqu1bJFt9a7iMBXxULKRs9h1JDZ0d4h5H/p5+5X9M35Rv++BDQKpg8RFXEaxh8LJT8qYC9qNFw5Mj7sQodH/0tVUIRUjVhrXB9gpWP9ZiVqG23eb2xyxXTndtJ4hHr9ezt9QH4Jf5Z/6H/+f9h/dn/ZfgB+7HyeexZ6VXhbdip0w3Emb1VsUmkeZrliJl9nW31XalMxT9JKT0atQes8DTgUMwQu3iilI1seAxmgEzMOwAhIA9D9WPjk8nXtEOi14mjdLNgC0+3N8MgMxEW/m7oTtqyxa61QqV6llqH6nYyaTpdBlGaRv45NjBGKDIg/hqyEUoMygk6BpIA3gAWAD4BVgNaAk4GMgr+DLIXThrKIyYoXjZuPVJJAlV2YrJspn9SiqqaqqtKuILOStya82cCqxZfKnM+41OnZK9995NvpRO+09Cr6o/8bBZEKAxBtFc0aICBlJZgqty+/NK85hD48Q9RHS0ydUMtU0FisXFxg4GM0Z1lqS20LcJZy63QKd/F4n3oUfE99T34Uf51/63/9f9N/bn/Mfu992HyGe/p5NXg3dgN0mHH4biRsHWnlZX5i6F4mWzlXJFPnToZKAUZcQZk8uTe/Mq0thShLIwEeqBhEE9YNYgjrAnP9+/eH8hnttOda4g/d09er0pfNnMi6w/S+TbrGtWOxJK0LqRylV6G+nVSaGJcOlDeRk44ljO2J7IcjhpOEPYMhgkGBm4AygASAEoBbgOGAooGegtWDRoXxhtSI74pBjciPhJJzlZSY5ptmnxSj7abwqhqva7Pft3W8K8H+xezK888Q1ULahd/Y5DfqoO8S9Yj6AAA=\" type=\"audio/wav\" />\n",
       "                    Your browser does not support the audio element.\n",
       "                </audio>\n",
       "              "
      ],
      "text/plain": [
       "<IPython.lib.display.Audio object>"
      ]
     },
     "metadata": {},
     "output_type": "display_data"
    },
    {
     "data": {
      "text/html": [
       "<style>audio{display:none}</style>"
      ],
      "text/plain": [
       "<IPython.core.display.HTML object>"
      ]
     },
     "metadata": {},
     "output_type": "display_data"
    }
   ],
   "source": [
    "res = cosine_similarity(get_feat(sents), get_feat(kpis))\n",
    "df = pd.DataFrame(res, index=sents, columns=kpis)"
   ]
  },
  {
   "cell_type": "code",
   "execution_count": null,
   "id": "bb935334",
   "metadata": {},
   "outputs": [],
   "source": [
    "df.index.name = \"sent\"\n",
    "df2 = sentdf.melt(ignore_index=False).reset_index()\n",
    "df2 = df2.sort_values(\"value\", ascending=False)\n",
    "df2 = df2.groupby(\"sent\").head(1)\n",
    "df2 = df2[df2.value>.5]\n",
    "df2 = df2.sort_values([\"sent\", \"value\"], ascending=False)\n",
    "df2 = df2.set_index(\"sent\")\n",
    "df2.columns = [\"kpi\", \"score\"]\n",
    "df2"
   ]
  },
  {
   "cell_type": "markdown",
   "id": "855f6f6a",
   "metadata": {},
   "source": [
    "# speed check"
   ]
  },
  {
   "cell_type": "code",
   "execution_count": null,
   "id": "4848f08f",
   "metadata": {},
   "outputs": [],
   "source": [
    "### batching makes little difference to time. maybe does on gpu?"
   ]
  },
  {
   "cell_type": "code",
   "execution_count": 116,
   "id": "ea7b91e3",
   "metadata": {},
   "outputs": [
    {
     "name": "stderr",
     "output_type": "stream",
     "text": [
      "[cellevents:43:INFO]:starting (time=Jul-06 12:02 MainProcess)\n"
     ]
    },
    {
     "name": "stdout",
     "output_type": "stream",
     "text": [
      "time: 20.7 s\n"
     ]
    }
   ],
   "source": [
    "sent_feats = get_feat(sents)"
   ]
  },
  {
   "cell_type": "code",
   "execution_count": 118,
   "id": "ce526d9f",
   "metadata": {},
   "outputs": [
    {
     "name": "stderr",
     "output_type": "stream",
     "text": [
      "[cellevents:43:INFO]:starting (time=Jul-06 12:03 MainProcess)\n"
     ]
    },
    {
     "name": "stdout",
     "output_type": "stream",
     "text": [
      "time: 18.4 s\n"
     ]
    }
   ],
   "source": [
    "sent_feats = []\n",
    "for sent in sents:\n",
    "    sent_feat = get_feat(sent)\n",
    "    sent_feats.append(sent_feat)"
   ]
  }
 ],
 "metadata": {
  "kernelspec": {
   "display_name": "Python 3",
   "language": "python",
   "name": "python3"
  },
  "language_info": {
   "codemirror_mode": {
    "name": "ipython",
    "version": 3
   },
   "file_extension": ".py",
   "mimetype": "text/x-python",
   "name": "python",
   "nbconvert_exporter": "python",
   "pygments_lexer": "ipython3",
   "version": "3.9.12"
  }
 },
 "nbformat": 4,
 "nbformat_minor": 5
}
