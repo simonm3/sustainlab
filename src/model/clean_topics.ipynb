{
 "cells": [
  {
   "cell_type": "code",
   "execution_count": 2,
   "id": "148c37b2",
   "metadata": {},
   "outputs": [
    {
     "name": "stderr",
     "output_type": "stream",
     "text": [
      "[defaultlog:22:INFO]:logging started from /mnt/c/users/simon/onedrive/documents/py/live/pyutils/defaultlog.py (time=Jul-08 10:16 MainProcess)\n"
     ]
    },
    {
     "data": {
      "text/html": [
       "<style>audio{display:none}</style>"
      ],
      "text/plain": [
       "<IPython.core.display.HTML object>"
      ]
     },
     "metadata": {},
     "output_type": "display_data"
    }
   ],
   "source": [
    "from ipstartup import *\n",
    "croot = \"c:\" if os.name==\"nt\" else \"/mnt/c\"\n",
    "droot = \"d:\" if os.name==\"nt\" else \"/mnt/d\"\n",
    "os.chdir(f\"{droot}/data1\")\n",
    "sys.path.append(f\"{croot}/Users/simon/OneDrive/Documents/py/live/slab/src\")\n",
    "#####################################\n",
    "import pandas as pd"
   ]
  },
  {
   "cell_type": "code",
   "execution_count": 24,
   "id": "5d21b744",
   "metadata": {},
   "outputs": [
    {
     "name": "stderr",
     "output_type": "stream",
     "text": [
      "[cellevents:43:INFO]:starting (time=Jul-08 10:26 MainProcess)\n"
     ]
    },
    {
     "name": "stdout",
     "output_type": "stream",
     "text": [
      "time: 26.4 ms\n"
     ]
    }
   ],
   "source": [
    "sents = pd.read_csv(\"Clean_sentences.csv\").Sentences.tolist()\n",
    "df = pd.DataFrame(dict(sents=sents))"
   ]
  },
  {
   "cell_type": "code",
   "execution_count": 26,
   "id": "d32d3ce4",
   "metadata": {},
   "outputs": [
    {
     "name": "stderr",
     "output_type": "stream",
     "text": [
      "[cellevents:43:INFO]:starting (time=Jul-08 10:26 MainProcess)\n"
     ]
    },
    {
     "data": {
      "application/vnd.jupyter.widget-view+json": {
       "model_id": "eddf1aca2acc46c5b559ff5b9f17bd1a",
       "version_major": 2,
       "version_minor": 0
      },
      "text/plain": [
       "Downloading:   0%|          | 0.00/1.94k [00:00<?, ?B/s]"
      ]
     },
     "metadata": {},
     "output_type": "display_data"
    },
    {
     "data": {
      "application/vnd.jupyter.widget-view+json": {
       "model_id": "c1222c65e488421b96a970953a195452",
       "version_major": 2,
       "version_minor": 0
      },
      "text/plain": [
       "  0%|          | 0/126 [00:00<?, ?it/s]"
      ]
     },
     "metadata": {},
     "output_type": "display_data"
    },
    {
     "name": "stdout",
     "output_type": "stream",
     "text": [
      "time: 25.1 s\n"
     ]
    }
   ],
   "source": [
    "from transformers import pipeline\n",
    "\n",
    "classifier = pipeline(model=\"nbroad/ESG-BERT\")\n",
    "results = []\n",
    "for sent in tqdm(df.sents):\n",
    "    # truncate as bert has 512 token limit\n",
    "    result = classifier(sent[:512])\n",
    "    results.append(result)\n",
    "df[\"esg\"] = [res[0][\"label\"] for res in results]\n",
    "df[\"score\"] = [res[0][\"score\"] for res in results]\n",
    "\n",
    "# df[\"esg2\"] = df.esg\n",
    "# df.loc[(df.score < 0.5) & (df.ntopics == 0), \"esg2\"] = \"outofscope\"\n",
    "# df.topic1 = df.topic1.fillna(\"outofscope\")"
   ]
  },
  {
   "cell_type": "code",
   "execution_count": 27,
   "id": "ab2d9a04",
   "metadata": {},
   "outputs": [
    {
     "name": "stderr",
     "output_type": "stream",
     "text": [
      "[cellevents:43:INFO]:starting (time=Jul-08 10:27 MainProcess)\n"
     ]
    },
    {
     "data": {
      "text/html": [
       "<div>\n",
       "<style scoped>\n",
       "    .dataframe tbody tr th:only-of-type {\n",
       "        vertical-align: middle;\n",
       "    }\n",
       "\n",
       "    .dataframe tbody tr th {\n",
       "        vertical-align: top;\n",
       "    }\n",
       "\n",
       "    .dataframe thead th {\n",
       "        text-align: right;\n",
       "    }\n",
       "</style>\n",
       "<table border=\"1\" class=\"dataframe\">\n",
       "  <thead>\n",
       "    <tr style=\"text-align: right;\">\n",
       "      <th></th>\n",
       "      <th>sents</th>\n",
       "      <th>esg</th>\n",
       "      <th>score</th>\n",
       "    </tr>\n",
       "  </thead>\n",
       "  <tbody>\n",
       "    <tr>\n",
       "      <th>0</th>\n",
       "      <td>62.2% use of electricity from renewable_source...</td>\n",
       "      <td>Energy_Management</td>\n",
       "      <td>0.979578</td>\n",
       "    </tr>\n",
       "    <tr>\n",
       "      <th>1</th>\n",
       "      <td>at present, the energy expenditure has been re...</td>\n",
       "      <td>Energy_Management</td>\n",
       "      <td>0.972554</td>\n",
       "    </tr>\n",
       "    <tr>\n",
       "      <th>2</th>\n",
       "      <td>170 business leaders call on eu decision-maker...</td>\n",
       "      <td>GHG_Emissions</td>\n",
       "      <td>0.970147</td>\n",
       "    </tr>\n",
       "    <tr>\n",
       "      <th>3</th>\n",
       "      <td>taking the tolerance values of the measuring s...</td>\n",
       "      <td>Air_Quality</td>\n",
       "      <td>0.765561</td>\n",
       "    </tr>\n",
       "    <tr>\n",
       "      <th>4</th>\n",
       "      <td>with the help of energy management, the divisi...</td>\n",
       "      <td>Energy_Management</td>\n",
       "      <td>0.980451</td>\n",
       "    </tr>\n",
       "    <tr>\n",
       "      <th>...</th>\n",
       "      <td>...</td>\n",
       "      <td>...</td>\n",
       "      <td>...</td>\n",
       "    </tr>\n",
       "    <tr>\n",
       "      <th>121</th>\n",
       "      <td>a forest plantation managed by new forests in ...</td>\n",
       "      <td>GHG_Emissions</td>\n",
       "      <td>0.879035</td>\n",
       "    </tr>\n",
       "    <tr>\n",
       "      <th>122</th>\n",
       "      <td>waste_reduction, recycling business initiative...</td>\n",
       "      <td>Waste_And_Hazardous_Materials_Management</td>\n",
       "      <td>0.800289</td>\n",
       "    </tr>\n",
       "    <tr>\n",
       "      <th>123</th>\n",
       "      <td>waste_reduction: 71,670 tons/year sugar cane r...</td>\n",
       "      <td>Waste_And_Hazardous_Materials_Management</td>\n",
       "      <td>0.615252</td>\n",
       "    </tr>\n",
       "    <tr>\n",
       "      <th>124</th>\n",
       "      <td>the amount of fossil-based electricity has bee...</td>\n",
       "      <td>Energy_Management</td>\n",
       "      <td>0.954529</td>\n",
       "    </tr>\n",
       "    <tr>\n",
       "      <th>125</th>\n",
       "      <td>since 2015, use has been reduced by 26 percent...</td>\n",
       "      <td>GHG_Emissions</td>\n",
       "      <td>0.968374</td>\n",
       "    </tr>\n",
       "  </tbody>\n",
       "</table>\n",
       "<p>126 rows × 3 columns</p>\n",
       "</div>"
      ],
      "text/plain": [
       "                                                 sents  \\\n",
       "0    62.2% use of electricity from renewable_source...   \n",
       "1    at present, the energy expenditure has been re...   \n",
       "2    170 business leaders call on eu decision-maker...   \n",
       "3    taking the tolerance values of the measuring s...   \n",
       "4    with the help of energy management, the divisi...   \n",
       "..                                                 ...   \n",
       "121  a forest plantation managed by new forests in ...   \n",
       "122  waste_reduction, recycling business initiative...   \n",
       "123  waste_reduction: 71,670 tons/year sugar cane r...   \n",
       "124  the amount of fossil-based electricity has bee...   \n",
       "125  since 2015, use has been reduced by 26 percent...   \n",
       "\n",
       "                                          esg     score  \n",
       "0                           Energy_Management  0.979578  \n",
       "1                           Energy_Management  0.972554  \n",
       "2                               GHG_Emissions  0.970147  \n",
       "3                                 Air_Quality  0.765561  \n",
       "4                           Energy_Management  0.980451  \n",
       "..                                        ...       ...  \n",
       "121                             GHG_Emissions  0.879035  \n",
       "122  Waste_And_Hazardous_Materials_Management  0.800289  \n",
       "123  Waste_And_Hazardous_Materials_Management  0.615252  \n",
       "124                         Energy_Management  0.954529  \n",
       "125                             GHG_Emissions  0.968374  \n",
       "\n",
       "[126 rows x 3 columns]"
      ]
     },
     "execution_count": 27,
     "metadata": {},
     "output_type": "execute_result"
    },
    {
     "name": "stdout",
     "output_type": "stream",
     "text": [
      "time: 21.5 ms\n"
     ]
    }
   ],
   "source": [
    "df"
   ]
  },
  {
   "cell_type": "code",
   "execution_count": null,
   "id": "5d09492d",
   "metadata": {},
   "outputs": [],
   "source": []
  },
  {
   "cell_type": "code",
   "execution_count": 33,
   "id": "2615df00",
   "metadata": {},
   "outputs": [
    {
     "name": "stderr",
     "output_type": "stream",
     "text": [
      "[cellevents:43:INFO]:starting (time=Jul-08 10:31 MainProcess)\n"
     ]
    },
    {
     "data": {
      "text/plain": [
       "Energy_Management                           57\n",
       "GHG_Emissions                               40\n",
       "Waste_And_Hazardous_Materials_Management     8\n",
       "Air_Quality                                  6\n",
       "Water_And_Wastewater_Management              5\n",
       "Product_Design_And_Lifecycle_Management      4\n",
       "Physical_Impacts_Of_Climate_Change           3\n",
       "Customer_Welfare                             1\n",
       "Supply_Chain_Management                      1\n",
       "Employee_Health_And_Safety                   1\n",
       "Name: esg, dtype: int64"
      ]
     },
     "execution_count": 33,
     "metadata": {},
     "output_type": "execute_result"
    },
    {
     "name": "stdout",
     "output_type": "stream",
     "text": [
      "time: 10.5 ms\n"
     ]
    }
   ],
   "source": [
    "df.esg.value_counts()"
   ]
  }
 ],
 "metadata": {
  "kernelspec": {
   "display_name": "Python 3",
   "language": "python",
   "name": "python3"
  },
  "language_info": {
   "codemirror_mode": {
    "name": "ipython",
    "version": 3
   },
   "file_extension": ".py",
   "mimetype": "text/x-python",
   "name": "python",
   "nbconvert_exporter": "python",
   "pygments_lexer": "ipython3",
   "version": "3.9.12"
  }
 },
 "nbformat": 4,
 "nbformat_minor": 5
}
