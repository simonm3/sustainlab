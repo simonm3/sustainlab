{
 "cells": [
  {
   "cell_type": "code",
   "execution_count": 1,
   "id": "1d58e6d6",
   "metadata": {},
   "outputs": [
    {
     "name": "stderr",
     "output_type": "stream",
     "text": [
      "[defaultlog:22:INFO]:logging started from /mnt/c/users/simon/onedrive/documents/py/live/pyutils/defaultlog.py (time=Jul-09 09:40 MainProcess)\n"
     ]
    },
    {
     "data": {
      "text/html": [
       "<style>audio{display:none}</style>"
      ],
      "text/plain": [
       "<IPython.core.display.HTML object>"
      ]
     },
     "metadata": {},
     "output_type": "display_data"
    },
    {
     "name": "stderr",
     "output_type": "stream",
     "text": [
      "Some weights of the model checkpoint at nbroad/ESG-BERT were not used when initializing BertModel: ['classifier.bias', 'classifier.weight']\n",
      "- This IS expected if you are initializing BertModel from the checkpoint of a model trained on another task or with another architecture (e.g. initializing a BertForSequenceClassification model from a BertForPreTraining model).\n",
      "- This IS NOT expected if you are initializing BertModel from the checkpoint of a model that you expect to be exactly identical (initializing a BertForSequenceClassification model from a BertForSequenceClassification model).\n"
     ]
    }
   ],
   "source": [
    "from ipstartup import *\n",
    "croot = \"c:\" if os.name==\"nt\" else \"/mnt/c\"\n",
    "droot = \"d:\" if os.name==\"nt\" else \"/mnt/d\"\n",
    "os.chdir(f\"{droot}/data1\")\n",
    "sys.path.append(f\"{croot}/Users/simon/OneDrive/Documents/py/live/slab/src\")\n",
    "############################################################################\n",
    "from transformers import pipeline\n",
    "import numpy as np\n",
    "import pandas as pd\n",
    "from model.utils import *\n",
    "\n",
    "# feature_extraction => sents,bs=1,tokens,features=768\n",
    "model = \"nbroad/ESG-BERT\"\n",
    "pipe = pipeline('feature-extraction', model=model)"
   ]
  },
  {
   "cell_type": "code",
   "execution_count": 2,
   "id": "b10e7994",
   "metadata": {},
   "outputs": [
    {
     "name": "stderr",
     "output_type": "stream",
     "text": [
      "[cellevents:43:INFO]:starting (time=Jul-09 09:41 MainProcess)\n"
     ]
    },
    {
     "name": "stdout",
     "output_type": "stream",
     "text": [
      "time: 637 ms\n"
     ]
    }
   ],
   "source": [
    "sents = pd.read_csv(\"Clean_sentences.csv\").Sentences.tolist()\n",
    "sents = [s.replace(\"_\",\" \") for s in sents]\n",
    "sents = Document(sents, pipe)\n",
    "kpis = pd.read_excel(\"KPI levels list.xlsx\")[\"Level 3 KPI\"].tolist()\n",
    "kpis = Document(kpis, pipe)"
   ]
  },
  {
   "cell_type": "code",
   "execution_count": 3,
   "id": "24a2ed45",
   "metadata": {},
   "outputs": [
    {
     "name": "stderr",
     "output_type": "stream",
     "text": [
      "[cellevents:43:INFO]:starting (time=Jul-09 09:41 MainProcess)\n"
     ]
    },
    {
     "data": {
      "application/vnd.jupyter.widget-view+json": {
       "model_id": "2f3188d52d164c7485fb1da46df6e361",
       "version_major": 2,
       "version_minor": 0
      },
      "text/plain": [
       "  0%|          | 0/126 [00:00<?, ?it/s]"
      ]
     },
     "metadata": {},
     "output_type": "display_data"
    },
    {
     "data": {
      "application/vnd.jupyter.widget-view+json": {
       "model_id": "d1715ff314b64ffe82b40ea246a1301c",
       "version_major": 2,
       "version_minor": 0
      },
      "text/plain": [
       "  0%|          | 0/7 [00:00<?, ?it/s]"
      ]
     },
     "metadata": {},
     "output_type": "display_data"
    },
    {
     "name": "stdout",
     "output_type": "stream",
     "text": [
      "time: 22.6 s\n"
     ]
    }
   ],
   "source": [
    "# get features\n",
    "sents.get_feats()\n",
    "kpis.get_feats()"
   ]
  },
  {
   "cell_type": "code",
   "execution_count": 52,
   "id": "31873e52",
   "metadata": {},
   "outputs": [
    {
     "name": "stderr",
     "output_type": "stream",
     "text": [
      "[cellevents:43:INFO]:starting (time=Jul-09 10:20 MainProcess)\n"
     ]
    },
    {
     "data": {
      "text/html": [
       "<div>\n",
       "<style scoped>\n",
       "    .dataframe tbody tr th:only-of-type {\n",
       "        vertical-align: middle;\n",
       "    }\n",
       "\n",
       "    .dataframe tbody tr th {\n",
       "        vertical-align: top;\n",
       "    }\n",
       "\n",
       "    .dataframe thead th {\n",
       "        text-align: right;\n",
       "    }\n",
       "</style>\n",
       "<table border=\"1\" class=\"dataframe\">\n",
       "  <thead>\n",
       "    <tr style=\"text-align: right;\">\n",
       "      <th></th>\n",
       "      <th>kpi</th>\n",
       "      <th>score</th>\n",
       "    </tr>\n",
       "    <tr>\n",
       "      <th>sent</th>\n",
       "      <th></th>\n",
       "      <th></th>\n",
       "    </tr>\n",
       "  </thead>\n",
       "  <tbody>\n",
       "    <tr>\n",
       "      <th>our benchmark to achieve greater energy efficiency and establish our carbon emission reduction targets is the home 75 average hers scores reflect energy-efficient kb homes energy rating system (hers) index.</th>\n",
       "      <td>Amount of reductions in [renewable, non-renewa...</td>\n",
       "      <td>0.862102</td>\n",
       "    </tr>\n",
       "    <tr>\n",
       "      <th>our two shorter-term company targets act as stepping stones to our long-term ambitions: e our science-based target-aims to reduce our scope 1 and 2 emissions by 80% between 2015 and 2025, and the absolute scope 5 emissions from the use of our sold products by 25% during the same time period.</th>\n",
       "      <td>Amount of reductions in [renewable,non-renewab...</td>\n",
       "      <td>0.648771</td>\n",
       "    </tr>\n",
       "    <tr>\n",
       "      <th>the initiative also demands footprint and yn sd th decentralises farming by ensuring every urban farm is within 5 km of the local communities, reducing the food miles higher yield distance from farm to plate and eventually lowering consumers carbon footprint.</th>\n",
       "      <td>Amount of reductions in [renewable,non-renewab...</td>\n",
       "      <td>0.277055</td>\n",
       "    </tr>\n",
       "  </tbody>\n",
       "</table>\n",
       "</div>"
      ],
      "text/plain": [
       "                                                                                                  kpi  \\\n",
       "sent                                                                                                    \n",
       "our benchmark to achieve greater energy efficie...  Amount of reductions in [renewable, non-renewa...   \n",
       "our two shorter-term company targets act as ste...  Amount of reductions in [renewable,non-renewab...   \n",
       "the initiative also demands footprint and yn sd...  Amount of reductions in [renewable,non-renewab...   \n",
       "\n",
       "                                                       score  \n",
       "sent                                                          \n",
       "our benchmark to achieve greater energy efficie...  0.862102  \n",
       "our two shorter-term company targets act as ste...  0.648771  \n",
       "the initiative also demands footprint and yn sd...  0.277055  "
      ]
     },
     "execution_count": 52,
     "metadata": {},
     "output_type": "execute_result"
    },
    {
     "name": "stdout",
     "output_type": "stream",
     "text": [
      "time: 79.5 ms\n"
     ]
    }
   ],
   "source": [
    "sentdf = sents.compare_sents(kpis)\n",
    "sentdf.sample(3)"
   ]
  },
  {
   "cell_type": "code",
   "execution_count": 4,
   "id": "33af3ad3",
   "metadata": {},
   "outputs": [
    {
     "name": "stderr",
     "output_type": "stream",
     "text": [
      "[cellevents:43:INFO]:starting (time=Jul-09 09:41 MainProcess)\n"
     ]
    },
    {
     "name": "stdout",
     "output_type": "stream",
     "text": [
      "106 [CLS] we have built over 150, 000 energy star certified homes since 2000, cumulatively reducing ghg emissions by an estimated 5. 6 billion pounds ( 2. 5 million metric tons ), the equivalent of removing nearly 557, 000 cars from the road for one year, and helping homeowners to save a cumulative estimated $ 800 million on utility bills. [SEP]\n"
     ]
    },
    {
     "data": {
      "text/html": [
       "<div>\n",
       "<style scoped>\n",
       "    .dataframe tbody tr th:only-of-type {\n",
       "        vertical-align: middle;\n",
       "    }\n",
       "\n",
       "    .dataframe tbody tr th {\n",
       "        vertical-align: top;\n",
       "    }\n",
       "\n",
       "    .dataframe thead th {\n",
       "        text-align: right;\n",
       "    }\n",
       "</style>\n",
       "<table border=\"1\" class=\"dataframe\">\n",
       "  <thead>\n",
       "    <tr style=\"text-align: right;\">\n",
       "      <th></th>\n",
       "      <th>best</th>\n",
       "      <th>score</th>\n",
       "    </tr>\n",
       "    <tr>\n",
       "      <th>ngram</th>\n",
       "      <th></th>\n",
       "      <th></th>\n",
       "    </tr>\n",
       "  </thead>\n",
       "  <tbody>\n",
       "  </tbody>\n",
       "</table>\n",
       "</div>"
      ],
      "text/plain": [
       "Empty DataFrame\n",
       "Columns: [best, score]\n",
       "Index: []"
      ]
     },
     "execution_count": 4,
     "metadata": {},
     "output_type": "execute_result"
    },
    {
     "name": "stdout",
     "output_type": "stream",
     "text": [
      "time: 106 ms\n"
     ]
    }
   ],
   "source": [
    "# inspect ngram embedding dataframe on a sentence\n",
    "# note ngrams are within the context of the sentence. \"energy\" has different embeddings in different sentences.\n",
    "i = np.random.randint(len(sents.sents))\n",
    "ngram, kpi, score, ngramdf1 = sents.compare_ngrams(i, kpis, 5)\n",
    "sent = pipe.tokenizer.decode(pipe.tokenizer.encode(sents.sents[i]))\n",
    "print(i, sent)\n",
    "ngramdf1[:10]"
   ]
  },
  {
   "cell_type": "code",
   "execution_count": 16,
   "id": "1252d333",
   "metadata": {},
   "outputs": [
    {
     "name": "stderr",
     "output_type": "stream",
     "text": [
      "[cellevents:43:INFO]:starting (time=Jul-09 09:48 MainProcess)\n"
     ]
    },
    {
     "data": {
      "application/vnd.jupyter.widget-view+json": {
       "model_id": "69f813dfc3f54cdb857861ccd42a4866",
       "version_major": 2,
       "version_minor": 0
      },
      "text/plain": [
       "  0%|          | 0/126 [00:00<?, ?it/s]"
      ]
     },
     "metadata": {},
     "output_type": "display_data"
    },
    {
     "name": "stdout",
     "output_type": "stream",
     "text": [
      "time: 22.4 s\n"
     ]
    }
   ],
   "source": [
    "# ngrams for all sentences\n",
    "res = []\n",
    "for i, sent in enumerate(tqdm(sents.sents)):\n",
    "    ngram, kpi, score, _ = sents.compare_ngrams(i, kpis)\n",
    "    res.append([sent, ngram, kpi, score])\n",
    "ngramdf = pd.DataFrame(res, columns=[\"sent\", \"ngram\", \"kpi\", \"score\"])\n",
    "ngramdf = ngramdf.set_index(\"sent\")"
   ]
  },
  {
   "cell_type": "code",
   "execution_count": 17,
   "id": "5f062a91",
   "metadata": {},
   "outputs": [
    {
     "name": "stderr",
     "output_type": "stream",
     "text": [
      "[cellevents:43:INFO]:starting (time=Jul-09 09:49 MainProcess)\n"
     ]
    },
    {
     "data": {
      "text/plain": [
       "<AxesSubplot:>"
      ]
     },
     "execution_count": 17,
     "metadata": {},
     "output_type": "execute_result"
    },
    {
     "data": {
      "image/png": "[encoded data removed]",
      "text/plain": [
       "<Figure size 432x288 with 1 Axes>"
      ]
     },
     "metadata": {
      "needs_background": "light"
     },
     "output_type": "display_data"
    },
    {
     "name": "stdout",
     "output_type": "stream",
     "text": [
      "time: 339 ms\n"
     ]
    }
   ],
   "source": [
    "ngramdf.score.hist()"
   ]
  },
  {
   "cell_type": "code",
   "execution_count": null,
   "id": "3d0e211e",
   "metadata": {},
   "outputs": [],
   "source": [
    "# merge sent and ngram\n",
    "out = ngramdf.join(sentdf, rsuffix=\"_sent\")[[\"ngram\", \"kpi\", \"score\", \"kpi_sent\", \"score_sent\"]]\n"
   ]
  },
  {
   "cell_type": "code",
   "execution_count": 55,
   "id": "a59e2299",
   "metadata": {},
   "outputs": [
    {
     "name": "stderr",
     "output_type": "stream",
     "text": [
      "[cellevents:43:INFO]:starting (time=Jul-09 10:23 MainProcess)\n"
     ]
    },
    {
     "data": {
      "text/html": [
       "<div>\n",
       "<style scoped>\n",
       "    .dataframe tbody tr th:only-of-type {\n",
       "        vertical-align: middle;\n",
       "    }\n",
       "\n",
       "    .dataframe tbody tr th {\n",
       "        vertical-align: top;\n",
       "    }\n",
       "\n",
       "    .dataframe thead th {\n",
       "        text-align: right;\n",
       "    }\n",
       "</style>\n",
       "<table border=\"1\" class=\"dataframe\">\n",
       "  <thead>\n",
       "    <tr style=\"text-align: right;\">\n",
       "      <th></th>\n",
       "      <th>ngram</th>\n",
       "      <th>kpi</th>\n",
       "      <th>score</th>\n",
       "      <th>kpi_sent</th>\n",
       "      <th>score_sent</th>\n",
       "      <th>true1</th>\n",
       "      <th>true3</th>\n",
       "      <th>correct</th>\n",
       "      <th>correct_sent</th>\n",
       "    </tr>\n",
       "    <tr>\n",
       "      <th>sent</th>\n",
       "      <th></th>\n",
       "      <th></th>\n",
       "      <th></th>\n",
       "      <th></th>\n",
       "      <th></th>\n",
       "      <th></th>\n",
       "      <th></th>\n",
       "      <th></th>\n",
       "      <th></th>\n",
       "    </tr>\n",
       "  </thead>\n",
       "  <tbody>\n",
       "    <tr>\n",
       "      <th>170 business leaders call on eu decision-makers to support a greenhouse gas (ghg) emissions reduction target of at least 55% by 2030.</th>\n",
       "      <td>-</td>\n",
       "      <td>Amount of [solar, wind, hydropower, renewable,...</td>\n",
       "      <td>0.257927</td>\n",
       "      <td>Amount of [solar, wind, hydropower, renewable,...</td>\n",
       "      <td>0.225446</td>\n",
       "      <td>NaN</td>\n",
       "      <td>NaN</td>\n",
       "      <td>False</td>\n",
       "      <td>False</td>\n",
       "    </tr>\n",
       "    <tr>\n",
       "      <th>2020 index 2015 = 100 in europe, electrolux continued to improve its energy efficiency across three product categories in 2020. the energy index is set at 100% for 2016.</th>\n",
       "      <td>energy efficiency across</td>\n",
       "      <td>Amount of reductions in [electricity,heating,c...</td>\n",
       "      <td>0.839030</td>\n",
       "      <td>Amount of reductions in [electricity,heating,c...</td>\n",
       "      <td>0.809627</td>\n",
       "      <td>NaN</td>\n",
       "      <td>NaN</td>\n",
       "      <td>False</td>\n",
       "      <td>False</td>\n",
       "    </tr>\n",
       "    <tr>\n",
       "      <th>340 locomotives hydroelectric power, accounted for approximately 14% of mitsuis total power generating capacity of locomotive leasing busirress europe 11.1gw, and we are aiming to increase the share held by renewable energy to 30% by 2030. freight wagon transportation business brazil operating a railway network of approx.</th>\n",
       "      <td>held by renewable energy</td>\n",
       "      <td>Amount of [solar, wind, hydropower, renewable,...</td>\n",
       "      <td>0.917723</td>\n",
       "      <td>Amount of [solar, wind, hydropower, renewable,...</td>\n",
       "      <td>0.884295</td>\n",
       "      <td>NaN</td>\n",
       "      <td>NaN</td>\n",
       "      <td>False</td>\n",
       "      <td>False</td>\n",
       "    </tr>\n",
       "    <tr>\n",
       "      <th>45 progress on our climate targets our science-based climate target by the end of 2020, we reduced our absolute scope | and 2 greenhouse gas emissions by 70% compared to 2015-toward our 80% reduction target by 2025 and our 100% reduction by 2030. read more about our scope 1 &amp; 2 emissions in our promise be climate neutral and drive clean and resource-efficient operations.</th>\n",
       "      <td>and resource -</td>\n",
       "      <td>Amount of [solar, wind, hydropower, renewable,...</td>\n",
       "      <td>0.399272</td>\n",
       "      <td>Amount of [solar, wind, hydropower, renewable,...</td>\n",
       "      <td>0.307314</td>\n",
       "      <td>NaN</td>\n",
       "      <td>NaN</td>\n",
       "      <td>False</td>\n",
       "      <td>False</td>\n",
       "    </tr>\n",
       "    <tr>\n",
       "      <th>62.2% use of electricity from renewable sources achieved and total energy consumption from fossil fuel sources reduced by 86% compared to 2017.</th>\n",
       "      <td>% use of electricity from renewable sources ac...</td>\n",
       "      <td>Amount of [electricity, heating, cooling, stea...</td>\n",
       "      <td>0.967180</td>\n",
       "      <td>Amount of [electricity, heating, cooling, stea...</td>\n",
       "      <td>0.964406</td>\n",
       "      <td>Consumption of energy in owned operations, ass...</td>\n",
       "      <td>Amount of electricity consumption within the o...</td>\n",
       "      <td>False</td>\n",
       "      <td>False</td>\n",
       "    </tr>\n",
       "    <tr>\n",
       "      <th>...</th>\n",
       "      <td>...</td>\n",
       "      <td>...</td>\n",
       "      <td>...</td>\n",
       "      <td>...</td>\n",
       "      <td>...</td>\n",
       "      <td>...</td>\n",
       "      <td>...</td>\n",
       "      <td>...</td>\n",
       "      <td>...</td>\n",
       "    </tr>\n",
       "    <tr>\n",
       "      <th>we expect renewable energy usage rate to reach approximately 7% in fiscal 2020.</th>\n",
       "      <td>usage</td>\n",
       "      <td>Amount of [electricity, heating, cooling, stea...</td>\n",
       "      <td>0.932550</td>\n",
       "      <td>Amount of [electricity, heating, cooling, stea...</td>\n",
       "      <td>0.916122</td>\n",
       "      <td>Consumption of energy in owned operations, ass...</td>\n",
       "      <td>Amount of energy consumption within the organi...</td>\n",
       "      <td>False</td>\n",
       "      <td>False</td>\n",
       "    </tr>\n",
       "    <tr>\n",
       "      <th>we have built over 150,000 energy star certified homes since 2000, cumulatively reducing ghg emissions by an estimated 5.6 billion pounds (2.5 million metric tons), the equivalent of removing nearly 557,000 cars from the road for one year, and helping homeowners to save a cumulative estimated $800 million on utility bills.</th>\n",
       "      <td>on</td>\n",
       "      <td>Amount of [solar, wind, hydropower, renewable,...</td>\n",
       "      <td>0.494552</td>\n",
       "      <td>Amount of [solar, wind, hydropower, renewable,...</td>\n",
       "      <td>0.416669</td>\n",
       "      <td>NaN</td>\n",
       "      <td>NaN</td>\n",
       "      <td>False</td>\n",
       "      <td>False</td>\n",
       "    </tr>\n",
       "    <tr>\n",
       "      <th>what we achieved electrolux improved its energy efficiency per product by 11.5% compared to 2015. the energy management program has contributed to over sek 700m annually in reduced energy costs.</th>\n",
       "      <td>energy efficiency per product by</td>\n",
       "      <td>Amount of reductions in [electricity,heating,c...</td>\n",
       "      <td>0.938416</td>\n",
       "      <td>Amount of reductions in [electricity,heating,c...</td>\n",
       "      <td>0.923484</td>\n",
       "      <td>NaN</td>\n",
       "      <td>NaN</td>\n",
       "      <td>False</td>\n",
       "      <td>False</td>\n",
       "    </tr>\n",
       "    <tr>\n",
       "      <th>while ghg emissions from our operations only represent 1% of our footprint, we work to demonstrate leadership in emissions management, reduction, and disclosure.</th>\n",
       "      <td>, reduction,</td>\n",
       "      <td>Amount of [solar, wind, hydropower, renewable,...</td>\n",
       "      <td>0.260381</td>\n",
       "      <td>Amount of [solar, wind, hydropower, renewable,...</td>\n",
       "      <td>0.243070</td>\n",
       "      <td>NaN</td>\n",
       "      <td>NaN</td>\n",
       "      <td>False</td>\n",
       "      <td>False</td>\n",
       "    </tr>\n",
       "    <tr>\n",
       "      <th>with the help of energy management, the division aims to reduce energy consumption by 1000 mwh compared to the 2020 financial year.</th>\n",
       "      <td>[CLS] with the help of energy management, the ...</td>\n",
       "      <td>Amount of reductions in [electricity,heating,c...</td>\n",
       "      <td>0.949878</td>\n",
       "      <td>Amount of reductions in [electricity,heating,c...</td>\n",
       "      <td>0.949243</td>\n",
       "      <td>Consumption of energy in owned operations, ass...</td>\n",
       "      <td>Amount of energy consumed in owned operations,...</td>\n",
       "      <td>False</td>\n",
       "      <td>False</td>\n",
       "    </tr>\n",
       "  </tbody>\n",
       "</table>\n",
       "<p>128 rows × 9 columns</p>\n",
       "</div>"
      ],
      "text/plain": [
       "                                                                                                ngram  \\\n",
       "sent                                                                                                    \n",
       "170 business leaders call on eu decision-makers...                                                  -   \n",
       "2020 index 2015 = 100 in europe, electrolux con...                           energy efficiency across   \n",
       "340 locomotives hydroelectric power, accounted ...                           held by renewable energy   \n",
       "45 progress on our climate targets our science-...                                     and resource -   \n",
       "62.2% use of electricity from renewable sources...  % use of electricity from renewable sources ac...   \n",
       "...                                                                                               ...   \n",
       "we expect renewable energy usage rate to reach ...                                              usage   \n",
       "we have built over 150,000 energy star certifie...                                                 on   \n",
       "what we achieved electrolux improved its energy...                   energy efficiency per product by   \n",
       "while ghg emissions from our operations only re...                                       , reduction,   \n",
       "with the help of energy management, the divisio...  [CLS] with the help of energy management, the ...   \n",
       "\n",
       "                                                                                                  kpi  \\\n",
       "sent                                                                                                    \n",
       "170 business leaders call on eu decision-makers...  Amount of [solar, wind, hydropower, renewable,...   \n",
       "2020 index 2015 = 100 in europe, electrolux con...  Amount of reductions in [electricity,heating,c...   \n",
       "340 locomotives hydroelectric power, accounted ...  Amount of [solar, wind, hydropower, renewable,...   \n",
       "45 progress on our climate targets our science-...  Amount of [solar, wind, hydropower, renewable,...   \n",
       "62.2% use of electricity from renewable sources...  Amount of [electricity, heating, cooling, stea...   \n",
       "...                                                                                               ...   \n",
       "we expect renewable energy usage rate to reach ...  Amount of [electricity, heating, cooling, stea...   \n",
       "we have built over 150,000 energy star certifie...  Amount of [solar, wind, hydropower, renewable,...   \n",
       "what we achieved electrolux improved its energy...  Amount of reductions in [electricity,heating,c...   \n",
       "while ghg emissions from our operations only re...  Amount of [solar, wind, hydropower, renewable,...   \n",
       "with the help of energy management, the divisio...  Amount of reductions in [electricity,heating,c...   \n",
       "\n",
       "                                                       score  \\\n",
       "sent                                                           \n",
       "170 business leaders call on eu decision-makers...  0.257927   \n",
       "2020 index 2015 = 100 in europe, electrolux con...  0.839030   \n",
       "340 locomotives hydroelectric power, accounted ...  0.917723   \n",
       "45 progress on our climate targets our science-...  0.399272   \n",
       "62.2% use of electricity from renewable sources...  0.967180   \n",
       "...                                                      ...   \n",
       "we expect renewable energy usage rate to reach ...  0.932550   \n",
       "we have built over 150,000 energy star certifie...  0.494552   \n",
       "what we achieved electrolux improved its energy...  0.938416   \n",
       "while ghg emissions from our operations only re...  0.260381   \n",
       "with the help of energy management, the divisio...  0.949878   \n",
       "\n",
       "                                                                                             kpi_sent  \\\n",
       "sent                                                                                                    \n",
       "170 business leaders call on eu decision-makers...  Amount of [solar, wind, hydropower, renewable,...   \n",
       "2020 index 2015 = 100 in europe, electrolux con...  Amount of reductions in [electricity,heating,c...   \n",
       "340 locomotives hydroelectric power, accounted ...  Amount of [solar, wind, hydropower, renewable,...   \n",
       "45 progress on our climate targets our science-...  Amount of [solar, wind, hydropower, renewable,...   \n",
       "62.2% use of electricity from renewable sources...  Amount of [electricity, heating, cooling, stea...   \n",
       "...                                                                                               ...   \n",
       "we expect renewable energy usage rate to reach ...  Amount of [electricity, heating, cooling, stea...   \n",
       "we have built over 150,000 energy star certifie...  Amount of [solar, wind, hydropower, renewable,...   \n",
       "what we achieved electrolux improved its energy...  Amount of reductions in [electricity,heating,c...   \n",
       "while ghg emissions from our operations only re...  Amount of [solar, wind, hydropower, renewable,...   \n",
       "with the help of energy management, the divisio...  Amount of reductions in [electricity,heating,c...   \n",
       "\n",
       "                                                    score_sent  \\\n",
       "sent                                                             \n",
       "170 business leaders call on eu decision-makers...    0.225446   \n",
       "2020 index 2015 = 100 in europe, electrolux con...    0.809627   \n",
       "340 locomotives hydroelectric power, accounted ...    0.884295   \n",
       "45 progress on our climate targets our science-...    0.307314   \n",
       "62.2% use of electricity from renewable sources...    0.964406   \n",
       "...                                                        ...   \n",
       "we expect renewable energy usage rate to reach ...    0.916122   \n",
       "we have built over 150,000 energy star certifie...    0.416669   \n",
       "what we achieved electrolux improved its energy...    0.923484   \n",
       "while ghg emissions from our operations only re...    0.243070   \n",
       "with the help of energy management, the divisio...    0.949243   \n",
       "\n",
       "                                                                                                true1  \\\n",
       "sent                                                                                                    \n",
       "170 business leaders call on eu decision-makers...                                                NaN   \n",
       "2020 index 2015 = 100 in europe, electrolux con...                                                NaN   \n",
       "340 locomotives hydroelectric power, accounted ...                                                NaN   \n",
       "45 progress on our climate targets our science-...                                                NaN   \n",
       "62.2% use of electricity from renewable sources...  Consumption of energy in owned operations, ass...   \n",
       "...                                                                                               ...   \n",
       "we expect renewable energy usage rate to reach ...  Consumption of energy in owned operations, ass...   \n",
       "we have built over 150,000 energy star certifie...                                                NaN   \n",
       "what we achieved electrolux improved its energy...                                                NaN   \n",
       "while ghg emissions from our operations only re...                                                NaN   \n",
       "with the help of energy management, the divisio...  Consumption of energy in owned operations, ass...   \n",
       "\n",
       "                                                                                                true3  \\\n",
       "sent                                                                                                    \n",
       "170 business leaders call on eu decision-makers...                                                NaN   \n",
       "2020 index 2015 = 100 in europe, electrolux con...                                                NaN   \n",
       "340 locomotives hydroelectric power, accounted ...                                                NaN   \n",
       "45 progress on our climate targets our science-...                                                NaN   \n",
       "62.2% use of electricity from renewable sources...  Amount of electricity consumption within the o...   \n",
       "...                                                                                               ...   \n",
       "we expect renewable energy usage rate to reach ...  Amount of energy consumption within the organi...   \n",
       "we have built over 150,000 energy star certifie...                                                NaN   \n",
       "what we achieved electrolux improved its energy...                                                NaN   \n",
       "while ghg emissions from our operations only re...                                                NaN   \n",
       "with the help of energy management, the divisio...  Amount of energy consumed in owned operations,...   \n",
       "\n",
       "                                                    correct  correct_sent  \n",
       "sent                                                                       \n",
       "170 business leaders call on eu decision-makers...    False         False  \n",
       "2020 index 2015 = 100 in europe, electrolux con...    False         False  \n",
       "340 locomotives hydroelectric power, accounted ...    False         False  \n",
       "45 progress on our climate targets our science-...    False         False  \n",
       "62.2% use of electricity from renewable sources...    False         False  \n",
       "...                                                     ...           ...  \n",
       "we expect renewable energy usage rate to reach ...    False         False  \n",
       "we have built over 150,000 energy star certifie...    False         False  \n",
       "what we achieved electrolux improved its energy...    False         False  \n",
       "while ghg emissions from our operations only re...    False         False  \n",
       "with the help of energy management, the divisio...    False         False  \n",
       "\n",
       "[128 rows x 9 columns]"
      ]
     },
     "execution_count": 55,
     "metadata": {},
     "output_type": "execute_result"
    },
    {
     "name": "stdout",
     "output_type": "stream",
     "text": [
      "time: 83.1 ms\n"
     ]
    }
   ],
   "source": [
    "# merge sent and ngram\n",
    "out = ngramdf.join(sentdf, rsuffix=\"_sent\")[[\"ngram\", \"kpi\", \"score\", \"kpi_sent\", \"score_sent\"]]\n",
    "\n",
    "# add labels\n",
    "labeldf = pd.read_excel(\"Sentences_KPI_mapping.xlsx\")\n",
    "labeldf.columns = [\"sent\", \"true1\", \"true3\"]\n",
    "labeldf = labeldf.set_index(\"sent\")\n",
    "out = out.join(labeldf)\n",
    "out[\"correct\"] = out.kpi==out.true3\n",
    "out[\"correct_sent\"] = out.kpi_sent==out.true3\n",
    "\n",
    "# merge original\n",
    "# ngramdf1 = pd.read_excel(\"output/sent_ngram.xlsx\").set_index(\"sent\")\n",
    "# out = out.join(ngramdf1, lsuffix=\"_kpi3\")[[\"ngram\", \"kpi_kpi3\", \"true3\", \"correct\", \"kpi\", \"kpi_sent\", \"score_kpi3\", \"score\", \"score_sent\"]]\n",
    "# out.to_excel(\"output/sent_ngram3.xlsx\")\n",
    "out"
   ]
  }
 ],
 "metadata": {
  "kernelspec": {
   "display_name": "Python 3",
   "language": "python",
   "name": "python3"
  },
  "language_info": {
   "codemirror_mode": {
    "name": "ipython",
    "version": 3
   },
   "file_extension": ".py",
   "mimetype": "text/x-python",
   "name": "python",
   "nbconvert_exporter": "python",
   "pygments_lexer": "ipython3",
   "version": "3.9.12"
  }
 },
 "nbformat": 4,
 "nbformat_minor": 5
}
