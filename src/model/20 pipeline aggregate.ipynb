{
    "cells": [
        {
            "cell_type": "code",
            "execution_count": 1,
            "id": "2b3b0b21",
            "metadata": {},
            "outputs": [
                {
                    "name": "stderr",
                    "output_type": "stream",
                    "text": [
                        "[defaultlog:22:INFO]:logging started from c:\\users\\simon\\onedrive\\documents\\py\\live\\pyutils\\defaultlog.py (time=Jun-30 09:58 MainProcess)\n"
                    ]
                },
                {
                    "data": {
                        "text/html": [
                            "<style>audio{display:none}</style>"
                        ],
                        "text/plain": [
                            "<IPython.core.display.HTML object>"
                        ]
                    },
                    "metadata": {},
                    "output_type": "display_data"
                },
                {
                    "name": "stderr",
                    "output_type": "stream",
                    "text": [
                        "[__init__:19:WARNING]:prefect is disabled as PREFECT_DISABLED environment variable exists (time=Jun-30 09:58 MainProcess)\n"
                    ]
                }
            ],
            "source": [
                "from ipstartup import *\n",
                "croot = \"c:\" if os.name==\"nt\" else \"/mnt/c\"\n",
                "droot = \"d:\" if os.name==\"nt\" else \"/mnt/d\"\n",
                "slab = f\"{croot}/Users/simon/OneDrive/Documents/py/live/slab/slab\"\n",
                "data = f\"{droot}/data1\"\n",
                "sys.path.append(slab)\n",
                "os.makedirs(data, exist_ok=True)\n",
                "os.chdir(data)\n",
                "\n",
                "os.environ[\"PREFECT_DISABLED\"] = \"1\"\n",
                "from preprocess.tasks import *\n",
                "from preprocess.utils import *\n",
                "import spacy\n",
                "from spacy import displacy\n",
                "#log.setLevel(logging.DEBUG)"
            ]
        },
        {
            "cell_type": "code",
            "execution_count": 2,
            "id": "0fb28f16",
            "metadata": {},
            "outputs": [
                {
                    "name": "stderr",
                    "output_type": "stream",
                    "text": [
                        "[cellevents:43:INFO]:starting (time=Jun-29 16:53 MainProcess)\n"
                    ]
                },
                {
                    "name": "stdout",
                    "output_type": "stream",
                    "text": [
                        "time: 1.94 s\n"
                    ]
                }
            ],
            "source": [
                "# aggregate. save to hdf as colab won't read pickle\n",
                "files = glob(\"working/get_topics/*\")\n",
                "kwtopics = pd.concat([pd.read_pickle(f) for f in files])\n",
                "pickle.HIGHEST_PROTOCOL = 4\n",
                "kwtopics.to_hdf('working/kwtopics', 'df')"
            ]
        },
        {
            "cell_type": "code",
            "execution_count": 3,
            "id": "77618cc3",
            "metadata": {},
            "outputs": [
                {
                    "name": "stderr",
                    "output_type": "stream",
                    "text": [
                        "[cellevents:43:INFO]:starting (time=Jun-29 16:53 MainProcess)\n"
                    ]
                },
                {
                    "name": "stdout",
                    "output_type": "stream",
                    "text": [
                        "time: 61.3 ms\n"
                    ]
                }
            ],
            "source": [
                "# esg bert predictions\n",
                "df = pd.read_hdf('working/kwtopics')\n",
                "res = esg(df)"
            ]
        },
        {
            "cell_type": "code",
            "execution_count": 17,
            "id": "effade0e",
            "metadata": {},
            "outputs": [
                {
                    "name": "stderr",
                    "output_type": "stream",
                    "text": [
                        "[cellevents:43:INFO]:starting (time=Jun-30 12:57 MainProcess)\n"
                    ]
                },
                {
                    "name": "stdout",
                    "output_type": "stream",
                    "text": [
                        "time: 181 ms\n"
                    ]
                }
            ],
            "source": [
                "# save outputs to file per category\n",
                "df = pd.read_pickle('working/esg')\n",
                "os.makedirs(\"working/tolabel\", exist_ok=True)\n",
                "for esg2, sents in df.groupby(\"esg2\"):\n",
                "    sents.sent.to_csv(f\"working/tolabel/esg_{esg2}.csv\", index=False)"
            ]
        },
        {
            "cell_type": "code",
            "execution_count": 38,
            "id": "2ba93c4c",
            "metadata": {},
            "outputs": [
                {
                    "name": "stderr",
                    "output_type": "stream",
                    "text": [
                        "[cellevents:43:INFO]:starting (time=Jun-30 18:15 MainProcess)\n"
                    ]
                },
                {
                    "name": "stdout",
                    "output_type": "stream",
                    "text": [
                        "time: 67.2 ms\n"
                    ]
                }
            ],
            "source": [
                "df = pd.read_pickle('working/esg')\n",
                "pickle.HIGHEST_PROTOCOL = 4\n",
                "df.to_hdf(\"working/esg.hdf\", key=\"key\")"
            ]
        },
        {
            "cell_type": "markdown",
            "id": "e6d50981",
            "metadata": {},
            "source": [
                "# checks"
            ]
        },
        {
            "cell_type": "code",
            "execution_count": 20,
            "id": "fadd473c",
            "metadata": {},
            "outputs": [
                {
                    "name": "stderr",
                    "output_type": "stream",
                    "text": [
                        "[cellevents:43:INFO]:starting (time=Jun-30 13:15 MainProcess)\n"
                    ]
                },
                {
                    "name": "stdout",
                    "output_type": "stream",
                    "text": [
                        "Business_Model_Resilience\n",
                        "The material topics are divided into three pillars: the liveability of city centres; minimising the footprint of its property; and improving the satisfaction of investors and tenants.\n",
                        "*******************\n",
                        "Labor_Practices\n",
                        "2 Data represents all the contract transformations that took place during the year, including those that concerned employees subsequently departed during the year..\n",
                        "*******************\n",
                        "Supply_Chain_Management\n",
                        "In 2020 we refocused our training to meet the needs of our suppliers handling the impact of Covid-19 (see page 45).\n",
                        "*******************\n",
                        "Energy_Management\n",
                        "Power consumption (total): -3% compared to 2019.\n",
                        "*******************\n",
                        "Waste_And_Hazardous_Materials_Management\n",
                        "This is considered to be Scope 3. 3) Waste-abs: 'Other' refers to hazardous waste diverted from landfill (grease trap and electrical waste at Belgrad Office Park).\n",
                        "*******************\n",
                        "Management_Of_Legal_And_Regulatory_Framework\n",
                        "2020 2019 ground rentsrenttotalground rentsrenttotal Within one year126 166 292 126 219 345 One to five years450 194 644 498 386 884 More than five years 1) 6,913 - 6,913 6,887 34 6,921 7,489 360 7,849 7,511 639 8,150 1) The ground rent agreements include an agreement for a parcel of land in Amsterdam whose term, taking the contractual renewal options into account, is infinite.\n",
                        "*******************\n",
                        "Supply_Chain_Management\n",
                        "We’re co-funding two long-term projects through the FCDO Vulnerable Supply Chains Facility to build the long-term response of workers in East Africa to the impact of Covid-19: • Building resilience in the flower supply chain in Kenya, to reach over 6,000 workers.\n",
                        "*******************\n",
                        "GHG_Emissions\n",
                        "TABLE OF GHG EMISSIONS INTENSITY (Scope 1 and 2) Calculation method Total emissions does not include Scope 3 emissions (305-3) and include Scope 1 emissions (305-1) and the emissions of the Scope 2 (305-2) location based and market based.\n",
                        "*******************\n",
                        "Access_And_Affordability\n",
                        "This network of local consortia based throughout Italy coordinates the activities of cooperatives and social enterprises; 14 The Bank also supported the youth sector and financial education projects as part of sports sponsorships not included in the report as they refer to professional sports associations (Basket Brescia Leonessa - basketball, Atalanta Bergamasca Calcio - football and Club Scherma Iesi-fencing).\n",
                        "*******************\n",
                        "Ecological_Impacts\n",
                        "99% comes from Forest Stewardship Council (FSC) or recycled sources (2019: 97%).\n",
                        "*******************\n",
                        "time: 35.4 ms\n"
                    ]
                }
            ],
            "source": [
                "# random\n",
                "df = pd.read_pickle('working/esg')\n",
                "for i, x in df[df.esg2!=\"outofscope\"].sample(10).iterrows():\n",
                "    print(x.esg2)\n",
                "    print(x.sent)\n",
                "    print(\"*******************\")"
            ]
        },
        {
            "cell_type": "code",
            "execution_count": 24,
            "id": "6749a0cd",
            "metadata": {},
            "outputs": [
                {
                    "name": "stderr",
                    "output_type": "stream",
                    "text": [
                        "[cellevents:43:INFO]:starting (time=Jun-30 13:23 MainProcess)\n"
                    ]
                },
                {
                    "name": "stdout",
                    "output_type": "stream",
                    "text": [
                        "Access_And_Affordability\n",
                        "The Co-op Academies Trust provides an education based on co-operative Values and Principles for over 17,000 young people.\n",
                        "*******************\n",
                        "Access_And_Affordability\n",
                        "Issue 2020 TargetPerformance against targetKPIs2017201820192020Commentary 2021 TargetSDGs Fund and Co-op Foundation together will provide funding of at least £17m in 2020 to community spaces, skills and wellbeing projects.\n",
                        "*******************\n",
                        "Access_And_Affordability\n",
                        "Delivery of 4 tablets to help hospitalised patients communicate with their families.\n",
                        "*******************\n",
                        "Air_Quality\n",
                        "The International Air Transport Association (IATA) is a trade association to which airlines from all over the world belong and it represents approximately 290 airlines (82% of total air traffic).\n",
                        "*******************\n",
                        "Air_Quality\n",
                        "The International Air Transport Association (IATA) is a trade association to which airlines from all over the world belong and it represents approximately 290 airlines, i.e. 82% of total air traffic.\n",
                        "*******************\n",
                        "Air_Quality\n",
                        "The Climate Calculator’s emission factors were used in the calculations (petrol 2,184 g CO₂/l and diesel 2,339 g CO₂/l).\n",
                        "*******************\n",
                        "Business_Ethics\n",
                        "Compliance at Realia 17 Reporting any suspected misuse 18 Training related to anti-corruption measures 18 Information security and cybersecurity 19.\n",
                        "*******************\n",
                        "Business_Ethics\n",
                        "95% of Ibercaja Banco’s current workforce . has received training in criminal risk preven. .\n",
                        "*******************\n",
                        "Business_Ethics\n",
                        "Business integrity Products and sourcing 102-14Statement from senior decision-maker 10Commitment to UN Global compact 102-15Key impacts, risks, and opportunities Ethics and integrity 102-16Values, principles, standards, and norms of behaviour 11, 23–24, Ethical Guidelinesprinciples 1, 4, 5, 1016 102-17Mechanisms for advice and concerns about ethics Governance structure 102-18Governance structure.\n",
                        "*******************\n",
                        "Business_Model_Resilience\n",
                        "We undertook the following activities: ▪Review of the current responsible business / issues that could affect the Co-op and are of interest to stakeholders; ▪Review of the Co-op’s approach to stakeholder engagement and recent outputs; ▪Review of information provided to us by the Co-op on its reporting and management processes relating to the Principles; ▪Interviews with ten selected Directors and senior managers responsible for management of responsible business issues and review of selected evidence to support issues discussed.\n",
                        "*******************\n",
                        "Business_Model_Resilience\n",
                        "By 2022, we will support 10,000 people to improve their resilience and mental wellbeing through our charity partnership services.\n",
                        "*******************\n",
                        "Business_Model_Resilience\n",
                        "2.2 Business model The investment and real estate management process begins at the level, where investment decisions are made and financing obtained through: • Financial Markets (IPO and share capital increases).\n",
                        "*******************\n",
                        "Competitive_Behavior\n",
                        "Other documentsGlobal compact 102-39Percentage increase in annual total compensation ratio26RR6 102-40List of stakeholder groups 17 102-41Collective bargaining agreements 591,3 102-42Identifying and selecting stakeholders 17 102-43Approach to stakeholder engagement 17, 27:28, 59 102-44Key topics and concerns raised 27:28, 59 102-45Entities included in the consolidated financial statements 101:102 102-46Defining report content and topic Boundaries101:102 102-47List of material topics 101:1021-10 102-48Restatements of information101:102 102-49Changes in reporting 101:102 102-50Reporting period 101 102-51Date of most recent report 101 102-52Reporting cycle 101 102-53Contact point for questions regarding the report 115 102-54Claims of reporting in accordance with the GRI Standards 101 102-55GRI content index 107:113 102-56External assurance 104:106 103 - Management approachCMR 103-1Explanation of the material topic and its Boundary15, 17:21, 38, 66, 102 103-2The management approach and its components22:24, 38 103-3Evaluation of the management approach38 201-1Direct economic value generated and distributed 38:40,73:83 201-2Financial implications and other risks and opportunities due to climate change17:227 201-3Defined benefit plan obligations and other retirement plans 38:39 201-4Financial assistance received from government 38, 40 103 - Management approach 103-1Explanation of the material topic and its Boundary17:21, 38, 42, 102 103-2The management approach and its components22:24, 38 103-3Evaluation of the management approach38 202-1Ratios of standard entry level wage by gender compared to local minimum wage38:391 202-2Proportion of senior management hired from the local community42 103 - Management approach 103-1Explanation of the material topic and its Boundary17:21, 66, 85, 102 103-2The management approach and its components15:16, 22:24, 66, 85 103-3Evaluation of the management approach66, 85 203-1Infrastructure investments and services supported 66:717,8 203-2Significant indirect economic impacts66:70 109 Methodological note GRI standards 2016DescriptionPage or reason of omissionRef.\n",
                        "*******************\n",
                        "Competitive_Behavior\n",
                        "thy in a zero-interest environment like the one we are experiencing today..\n",
                        "*******************\n",
                        "Competitive_Behavior\n",
                        "The customers are divided into three key markets: • Retail, which comprises 98.3% of customers, consisting of individuals (“mass market” and “affluent market” segments on the basis of the financial wealth owned, up to €100 thousand and €1 million respectively), all the small economic operators with turnover of up to €300 thousand (“small economic operator” segment), small to medium-size enterprises with turnover of less than €10 million (Small Business/SME segment) and third sector organisations; • Top Private, which includes the private individual customers with financial wealth of over €1 million; • Corporate, which includes businesses with a turnover/ authorised credit at sector level (with reference to the Group of Companies) of over €10 million.\n",
                        "*******************\n",
                        "Critical_Incident_Risk_Management\n",
                        "In addition to this, $50,000 worth of stock was donated to Foodbank to support their emergency relief hampers.\n",
                        "*******************\n",
                        "Critical_Incident_Risk_Management\n",
                        "Funding provided emergency relief food parcels, essential personal protective equipment and medicines, directly supporting 7,706 people.\n",
                        "*******************\n",
                        "Critical_Incident_Risk_Management\n",
                        "In 2019, work continued to install physical security assets, emergency exits and medical emergency alarm systems in accordance with Legislative Decree 81/08.\n",
                        "*******************\n",
                        "Customer_Privacy\n",
                        "7 Information on shareholders relates to the latest data held by the Bank.\n",
                        "*******************\n",
                        "Customer_Privacy\n",
                        "GRI 417-1 1 The policy incorporated criteria to implement the obligation to act in the best interests of the customer and ensure that commercial information is correct and transparent.\n",
                        "*******************\n",
                        "Customer_Privacy\n",
                        "The General Data Protection Regulation (EU) 2016/679 applicable since 25 th May 2018 establishes the new rules for processing personal data in the European Union and their transfer outside of the Union.\n",
                        "*******************\n",
                        "Customer_Welfare\n",
                        "The food & beverage and health sectors account more than 20% of the retail offering in Lar España’s assets.\n",
                        "*******************\n",
                        "Customer_Welfare\n",
                        "We’ve also expanded our ‘free from’ offer by launching two own-brand gluten-free breads.\n",
                        "*******************\n",
                        "Customer_Welfare\n",
                        "With over a thousand stores across Australia, in urban, rural, regional and remote locations, we have developed a significant array of partnerships to give every store the ability to donate surplus edible food, free of charge, to people in the local community who may be experiencing food insecurity.\n",
                        "*******************\n",
                        "Data_Security\n",
                        "GRI 418: Customer privacy 418-1Substantiated complaints concerning breaches of customer privacy and losses of customer data 3016.\n",
                        "*******************\n",
                        "Data_Security\n",
                        "It is communicated to staff through the corporate intranet GRI 102-16:17 and in hardcopy form for companies that do not have access to that portal.\n",
                        "*******************\n",
                        "Data_Security\n",
                        "A smart monitoring and feedback system (one of the largest such systems ever created in a cloud system) was installed.\n",
                        "*******************\n",
                        "Director_Removal\n",
                        "In addition to the regular meetings of the Supervisory Board, there were also frequent ad hoc meetings (21 in 2020, with or without the Executive Board present) and frequent consultations between individual members of the Supervisory Board and the members of the Executive Board.\n",
                        "*******************\n",
                        "Director_Removal\n",
                        "The statements regarding the composition and functioning of the Supervisory Board and its committees, as included in the chapter ‘Report of the Supervisory Board’ and the section ‘Composition of the Supervisory Board’, on page 74 and page 210 of the annual report respectively; • The statements regarding (the objectives of) the diversity policy and the manner in which this policy has been implemented, as included in the section ‘Corporate Governance’ on page 59 of the annual report; and • The statements pursuant to Article 10 of the EU Takeover Directive, as included in the section ‘Corporate Governance’ on page 59 of the annual report.. Risk management\n",
                        "*******************\n",
                        "Director_Removal\n",
                        "The board has two delegated committees endowed with supervisory and control powers: the Audit and Control Committee and the Appointments and The Board of Directors’ Regulations set down all the powers of the board and its committees.\n",
                        "*******************\n",
                        "Ecological_Impacts\n",
                        "pers./ yearEmissions intensity per 1,000 visitors in the retail segment and per employee in office segment 9.510.78.99.56.8%9.510.78.99.56.8%62.00.0Number of assets within boundary15 out of 1514 out of 1415 out of 1514 out of 14-14 out of 1414 out of 1414 out of 1414 out of 141 out of 1Proportion of disclosed data estimated0%0%0%0%-0%0%0%0%0%0%Verified by the external auditor as per Appendix 6.3 3 | 180 Protection of biodiversity Lar España is aware of the importance of biodiversity within its commitments to the environment, and in line with its business strategy, so actions are being carried out such as, for example, a study of the biodiversity of Lagoh, through an agreement between Lagoh and the University of Seville (Research Foundation)..\n",
                        "*******************\n",
                        "Ecological_Impacts\n",
                        "Our valuable land reserves are the foundation of a jam-packed project pipeline with significant potential: over the years ahead, we plan to develop new buildings with an approximate value of € bn.\n",
                        "*******************\n",
                        "Ecological_Impacts\n",
                        "During the year, UBI Banca took part in the Festival of Creative Culture and Invitation to the Palazzo in seven different cities, events organised by the Italian Banking Association ABI, and in the Spring and Autumn Days of the Italian Environmental Fund FAI.\n",
                        "*******************\n",
                        "Employee_Engagement_Inclusion_And_Diversity\n",
                        "Future: employment opportunities for victimsNGOsBright Future registered as a new co-operative in May 2020 marking the culmination of more than 3 years of work – moving from the formal announcement of Bright Future as a Co-op Group / City Hearts initiative in March 2017 to a new co-operative, bringing together more than 50 businesses and charities.\n",
                        "*******************\n",
                        "Employee_Engagement_Inclusion_And_Diversity\n",
                        "The Group acts fully in line with the regulations governing the strategic employment GRI Senior managers18854.0%18851.5%23262.2% of which: women 1952.8%1950.0%2362.6% men16954.2%16951.7%20959.0% Middle managers8,24298.5%8,19297.7%8,46598.2% of which: women2,44498.3%2,34796.9%2,36797.5% men5,79898.6%5,84598.0%6,09898.4% Professional areas10,78296.8%11,02195.0%11,74495.0% of which: women5,88596.6%5,84893.6%6,17193.9% men4,89796.9%5,17396.6%5,57396.2% of which: women8,34896.8%8,21494.3%8,56194.4% men10,86496.6%11,18796.1%11,88096.2% 1 Were excluded from the professional assessment perimeter: newly - recruited personnel, those on parental leave, staff of minor companies in the Group and personnel on external contracts and Most Relevant Personnel which is affected by specific assessment tools for managerial services.\n",
                        "*******************\n",
                        "Employee_Engagement_Inclusion_And_Diversity\n",
                        "Issue 2020 TargetPerformance against targetKPIs2017201820192020Commentary 2021 TargetSDGs numbers 35% of new members will be aged 35 and under at the point of recruitment.\n",
                        "*******************\n",
                        "Employee_Health_And_Safety\n",
                        "We carried out Direct Worker Reporting at 4 sites in the UK, South Africa, Thailand and Egypt, while in Africa we worked collaboratively to understand how the pandemic impacted over 7,000 workers.\n",
                        "*******************\n",
                        "Employee_Health_And_Safety\n",
                        "In 2020, the injury rate at Tokmanni was 26.7 (situation as of 19th of Jan 2021), including pain induced by work-related motion, while the corresponding 2019 injury rate was 31.8.\n",
                        "*******************\n",
                        "Employee_Health_And_Safety\n",
                        "2 Injuries involving absence from work longer than 6 months.\n",
                        "*******************\n",
                        "Energy_Management\n",
                        "3 |ESG185 3 | 186 Area of ImpactEPRA Sustainability Performance Measures INFORMATION BY ASSET TYPE EPRA codeUnit of measurementIndicator20192020Like for like change (%) EnergyElec-Abs, Elec-LfLkWhElectricityLandlord-obtained electricity from nonrenewable sources (A)1,901,8001,386,377-27.1% Landlord-obtained electricity from renewable sources (B)19,373,94916,238,552-16.2% Consumption submetered to tenants (C)1,004,534699,667-30.3% Electricity generated from renewable sources and dispatched to the grid237,327363,80853.3% Total landlord electricity consumption EPRA-DH&C-AbskWhEnergy Total district heating & cooling consumptionNo data Fuels-LfLkWhFuelTotal landlord-obtained fuel (E)1,995,0311,472,879-26.2% Fuel consumption submetered to tenants (F)53,20355,3964.1% Total landlord fuel consumption (G = E-F)1,941,8281,417,484-27.0% Energy-IntkWh / sqm / yearIntensity of energy used in common areas per sqm H = (D+E)/Sm241.434.2-17.4% kWh / visitor / yearBuilding energy intensity per visitor\n",
                        "*******************\n",
                        "Energy_Management\n",
                        "The Plan provides 25% green power for electricity customers, meaning that for 25% of the electricity consumed by the customer, the equivalent amount of renewable energy gets added to the grid.\n",
                        "*******************\n",
                        "Energy_Management\n",
                        "The co-branded products are helping thousands of Australian families switch their electricity and gas supply to a plan that supports green energy, being the more rewarding choice..\n",
                        "*******************\n",
                        "GHG_Emissions\n",
                        "62 retailers have joined us and signed up to a joint plan to reach net zero GHG emissions by 2040, across our businesses as well as our supply chains, 10 years ahead of international agreements.\n",
                        "*******************\n",
                        "GHG_Emissions\n",
                        "Long-term goal: We will reach net zero GHG emissions from both operations and products by 2040 at the latest.\n",
                        "*******************\n",
                        "GHG_Emissions\n",
                        "The average specific emissions of carbon dioxide from power production are 249.29 g/kWh, and the amount of nuclear fuel used is 1.42 mg/kWh. >\n",
                        "*******************\n",
                        "Human_Rights_And_Community_Relations\n",
                        "Tokmanni scored 48.1 points in the Status of Human Rights Performance of Finnish Companies (SIHTI) project run by the Finnish Prime Minister’s Office.\n",
                        "*******************\n",
                        "Human_Rights_And_Community_Relations\n",
                        "• 17 Partnerships for the goals: Lar España is working with its stakeholders towards delivery of shared objectives.\n",
                        "*******************\n",
                        "Human_Rights_And_Community_Relations\n",
                        "Giving 6,400 young people the platform, skills and support to be heard and make a difference on the issues that matter to them.\n",
                        "*******************\n",
                        "Labor_Practices\n",
                        "An unconditional indexation of a maximum of 2% per year applied, and still applies, to a small group of employees.\n",
                        "*******************\n",
                        "Labor_Practices\n",
                        "Donations and subscriptions, 2019 (£)2017201820192020 Colleague wages and pension benefits1,3531,3321,3621,425 Payments to Government (mainly business rates, employers’ National Insurance and irrecoverable VAT)201195207150 Distribution to members61 (members’ 5% reward) 60 (members’ 5% reward) 54 (members’ 5% reward) 45* Community investment30323547 Payments to providers of capital (interest paid to bankers or bondholders for loans)64646463 Payments to providers of capital (interest paid on leases) 2 7472 Set aside for capital maintenance and future growth (ie after accounting for other payments, including payments to Government, members and community investment) 39594 266 . .\n",
                        "*******************\n",
                        "Labor_Practices\n",
                        "Each employee may contribute a sum of six euros per year deducted directly from their salary, to ProSolidar, a national fund in the credit sector for solidarity and charitable initiatives (a bilateral entity managed by the Italian Banking Association and the national banking trade unions secretary’s offices).\n",
                        "*******************\n",
                        "Management_Of_Legal_And_Regulatory_Framework\n",
                        "In the defined peer group Vastned came third based on the figures at year-end 2020, so 72% is awarded based on the RTSR test.\n",
                        "*******************\n",
                        "Management_Of_Legal_And_Regulatory_Framework\n",
                        "102-53Contact point for questions regarding the report Reporting principles, p. 40\n",
                        "*******************\n",
                        "Management_Of_Legal_And_Regulatory_Framework\n",
                        "Gross loans and advances to customers 32,563 (3.44).\n",
                        "*******************\n",
                        "Physical_Impacts_Of_Climate_Change\n",
                        "Supporting community climate change resilience – leading by example supporting natural disaster‑affected communities (see S.T.A.N.D on page 18)..\n",
                        "*******************\n",
                        "Physical_Impacts_Of_Climate_Change\n",
                        "160 NSI ANNUAL REPORT 2020 This past year NSI opted for a new system that controls our climate installations.\n",
                        "*******************\n",
                        "Physical_Impacts_Of_Climate_Change\n",
                        "NSI’s climate risk analysis in 2019 focused on the four most apparent climate-related physical risks in the Netherlands: waterlogging, flooding, drought and heat.\n",
                        "*******************\n",
                        "Product_Design_And_Lifecycle_Management\n",
                        "The rest of the reporting in this chapter (from page 20f: information on sustainability certification, sustainable project development and health and safety in building operation and project development) relates to key date 31 December 2019.\n",
                        "*******************\n",
                        "Product_Design_And_Lifecycle_Management\n",
                        "Co-op branded product sales accounted for 44.7% of total Co-op Food turnover in 2020 (2019: 46.9%).\n",
                        "*******************\n",
                        "Product_Design_And_Lifecycle_Management\n",
                        "For every Pisara product sold between May 1 and August 30 2020, we donated 5 cents to the John Nurminen Foundation to support the protection of the to protect the .\n",
                        "*******************\n",
                        "Product_Quality_And_Safety\n",
                        "and safety, or as a result of labelling.. 417-3: Cases of breaches related with .\n",
                        "*******************\n",
                        "Product_Quality_And_Safety\n",
                        "F21 highlights Over the past year, our Animal Welfare team in Australia has: • Progressed to 32% of all own brand products containing egg from cage free sources • Created independent animal welfare training in collaboration with AusMeat and provided it to all Woolworths livestock, processing and sustainable sourcing teams • Initiated a partnership with FAI Farms Limited, global independent animal welfare and sustainability consultants, to review our animal welfare‑metrics.\n",
                        "*******************\n",
                        "Product_Quality_And_Safety\n",
                        "57 416-2Incidents of non-compliance concerning the health and safety impacts of products and services 48, 5716 GRI 417: Marketing and labelling 417-1Requirements for product and service information and labelling 5712, 16 417-2Incidents of non-compliance concerning product and service information and labelling 417-3Incidents of non-compliance concerning marketing communications.\n",
                        "*******************\n",
                        "Selling_Practices_And_Product_Labeling\n",
                        "2021 targets We will source all our 30 key ingredients sustainably: • 100% of palm oil in Co-op products will be segregated RSPO certified, with the vast majority of this being achieved by the end of 2021.\n",
                        "*******************\n",
                        "Selling_Practices_And_Product_Labeling\n",
                        "In F21, we calculated our footprint of high‑volume soy product ingredients (for example, soy in tofu, soy milk, edamame beans).\n",
                        "*******************\n",
                        "Selling_Practices_And_Product_Labeling\n",
                        "As part of our commitment to responsible sourcing we’ve worked with stakeholders to identify our 30 key ingredients (see page 105 for full list), allowing us to focus actions on those areas with the greatest sourcing risk.\n",
                        "*******************\n",
                        "Supply_Chain_Management\n",
                        "More information on our response to Covid-19 in our supply chains, is detailed on pages 45-46.\n",
                        "*******************\n",
                        "Supply_Chain_Management\n",
                        "Our approach is based on, and endorses, the Five Freedoms, proposed by the Farm In F21, we’ve continued to progress and influence best practice, consulting with a number of industry representatives such as veterinarians, academics, government representatives, training providers such as RSPCA Australia, Compassion in World Farming (CIWF), World Animal Protection and many other stakeholders to ensure that animal welfare in our supply chain is not compromised.\n",
                        "*******************\n",
                        "Supply_Chain_Management\n",
                        "Negotiations with suppliers are essential in reaching the scope 3 supplier engagement target of 80% by 2025.\n",
                        "*******************\n",
                        "Systemic_Risk_Management\n",
                        "In that case, the loan-to-value would rise by 989 basis points from 43.0% to 52.8%, and the solvency ratio would fall by 1,015 basis points from 55.2% to 45.0%.\n",
                        "*******************\n",
                        "Systemic_Risk_Management\n",
                        "CET1, phase-in (%) 12.27 11.67 0.60 p.p.. Solvency ratio, phase-in (%) 13.99 13.31 0.68 p.p.. Leverage ratio, phase-in (%) 5.85 6.04 (0.19) p.p.. CET1 - fully loaded (%) 11.35 10.53 0.82 p.p.. Total capital, fully loaded (%) 15.45 14.50 0.95 p.p.. Leverage ratio, fully loaded (%) 5.48 5.48 0.00 p.p.. .\n",
                        "*******************\n",
                        "Systemic_Risk_Management\n",
                        "Vastned has careful acquisition and divestment procedures in place to mitigate the risks listed above, which consist of: • Performance of an extensive due diligence investigation to assess commercial, financial, legal, construction and tax aspects using a standard checklist; • Involvement of various disciplines in acquisitions and divestments; • Standard format for investment or divestment proposals; and, • Internal authorisation procedures that state that investments and divestments above an amount to be determined annually by the Supervisory Board (in 2020: 25 million) require the approval of the Supervisory Board.\n",
                        "*******************\n",
                        "Waste_And_Hazardous_Materials_Management\n",
                        "Recycling measures In light of the new methodology 41.5% of the total waste generated was recycled, compared to 35.3% in 2019 (calculated under the new system).\n",
                        "*******************\n",
                        "Waste_And_Hazardous_Materials_Management\n",
                        "of which sent for recovery 4.0 8.8 6.2 Non hazardous (Ton) 1,928.0 2,188.8 2,074.5 of which: sent for recycling 666.9 1,512.6 1,908.1 sent for recovery 1,261.1 676.3 166.5 TOTAL WASTE sent for recycling and recovery 1,932.0 2,197.7 2,080.7 per employee (Kg) 96.4 107.4 96.9 by floor area (Kg/Sq.m.)\n",
                        "*******************\n",
                        "Waste_And_Hazardous_Materials_Management\n",
                        "Calculation method Waste by employee and by surface area was calculated by dividing total separated waste by the number of employees and other workers -temporary workers and interns- (20,036 amounting to 100% of the total Group) and by the net internal floor area of the properties (1,173,881 sq.m) of the Group companies in perimeter.\n",
                        "*******************\n",
                        "Water_And_Wastewater_Management\n",
                        "Building water consumption intensity Water-Int m3 /m² 0.17 0.18 5% .\n",
                        "*******************\n",
                        "Water_And_Wastewater_Management\n",
                        "There are no assets in NSI 2020 portfolio that are deemed to have a high probability of experiencing a significant river flooding event (i.e. more than 50cm of water depth) more than once every 30 years.\n",
                        "*******************\n",
                        "Water_And_Wastewater_Management\n",
                        "in office segment Water-IntLitres/ person/ yearWater consumption intensity per visitor (N x Number of assets within boundary15 out of 1514 out of 1415 out of 1514 out of 14-14 out of 1414 out of 1414 out of 1414 out of 141 out of 1Proportion of disclosed data estimated0%0%0%0%-0%0%0%0%0%0%-\n",
                        "*******************\n",
                        "time: 123 ms\n"
                    ]
                }
            ],
            "source": [
                "# random from each category\n",
                "np.random.seed(0)\n",
                "df = pd.read_pickle('working/esg')\n",
                "for g, df1 in df[df.esg2!=\"outofscope\"].groupby(\"esg2\"):\n",
                "    for i, x in df1.sample(3).iterrows():\n",
                "        print(x.esg2)\n",
                "        print(x.sent)\n",
                "        print(\"*******************\")"
            ]
        },
        {
            "cell_type": "code",
            "execution_count": 35,
            "id": "d71a3ae7",
            "metadata": {},
            "outputs": [
                {
                    "name": "stderr",
                    "output_type": "stream",
                    "text": [
                        "[cellevents:43:INFO]:starting (time=Jun-30 13:52 MainProcess)\n"
                    ]
                },
                {
                    "name": "stdout",
                    "output_type": "stream",
                    "text": [
                        "Energy_Management\n",
                        "Business travel: energy consumption by the company car fleet already reported under disclosure 302-1 is excluded.\n",
                        "*******************\n",
                        "Energy_Management\n",
                        "At the end of 2020, in terms of the total surface area, 76% (2019: 76%) of the active stores were covered by electricity consumption monitoring, and 46% (2019: 44%) were covered by heating consumption monitoring (district heating, gas and oil).\n",
                        "*******************\n",
                        "Energy_Management\n",
                        "Scope 1 emissions include fuel consumption and Scope 2 emissions include electricity consumption.\n",
                        "*******************\n",
                        "Energy_Management\n",
                        "Today, it’s the biggest energy buying co-operative in the UK, helping some of Britain’s biggest brands to save money and source 100% green energy in an ethical, sustainable way.\n",
                        "*******************\n",
                        "Energy_Management\n",
                        "We distinguish between the following ownership regimes: Properties 100%-owned by Lar Lar España reports on the absolute consumption (Abs) of energy and water in its capacity as the owner of 7 shopping centres and 2 retail parks, fully operational and fully owned.\n",
                        "*******************\n",
                        "Energy_Management\n",
                        "Amount disbursed Renewable energies - Forza Sole (Sun Strength) 70.10.970.11.180.11.5 Home refurbishment and energy upgrades -\n",
                        "*******************\n",
                        "Energy_Management\n",
                        "Approx imately 28% of these come from the lifecycle phase of buildings when they are in use (heating, cooling and energy).\n",
                        "*******************\n",
                        "Energy_Management\n",
                        "100% of the data provided stems from documented metering and has been verified.\n",
                        "*******************\n",
                        "Energy_Management\n",
                        "With an occupancy rate of 96.1%, CA Immo is above market average.\n",
                        "*******************\n",
                        "Energy_Management\n",
                        "In 2019, the target of purchasing 100% of electricity from renewable sources was achieved, as demonstrated by the certificates of origin produced by leading supplier CVA Trading.\n",
                        "*******************\n",
                        "time: 30.8 ms\n"
                    ]
                }
            ],
            "source": [
                "# energy focused\n",
                "#np.random.seed(0)\n",
                "df = pd.read_pickle('working/esg')\n",
                "for g, df1 in df[df.esg2.isin([\"GHG_emissions\", \"Energy_Management\"])].groupby(\"esg2\"):\n",
                "    for i, x in df1.sample(10).iterrows():\n",
                "        print(x.esg2)\n",
                "        print(x.sent)\n",
                "        print(\"*******************\")"
            ]
        },
        {
            "cell_type": "code",
            "execution_count": null,
            "id": "0b01d45e",
            "metadata": {},
            "outputs": [],
            "source": []
        }
    ],
    "metadata": {
        "kernelspec": {
            "display_name": "Python 3",
            "language": "python",
            "name": "python3"
        },
        "language_info": {
            "codemirror_mode": {
                "name": "ipython",
                "version": 3
            },
            "file_extension": ".py",
            "mimetype": "text/x-python",
            "name": "python",
            "nbconvert_exporter": "python",
            "pygments_lexer": "ipython3",
            "version": "3.9.12"
        }
    },
    "nbformat": 4,
    "nbformat_minor": 5
}